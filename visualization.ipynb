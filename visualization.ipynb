{
 "cells": [
  {
   "cell_type": "code",
   "execution_count": 1,
   "metadata": {},
   "outputs": [],
   "source": [
    "import argparse\n",
    "from pathlib import Path\n",
    "import numpy as np\n",
    "from rdkit import Chem\n",
    "from rdkit.Chem.Draw import IPythonConsole\n"
   ]
  },
  {
   "cell_type": "code",
   "execution_count": 2,
   "metadata": {},
   "outputs": [],
   "source": [
    "import pandas as pd\n",
    "from tqdm import tqdm\n",
    "import prolif as plf\n",
    "import MDAnalysis as mda\n",
    "from MDAnalysis.topology.guessers import guess_types\n",
    "from pathlib import Path"
   ]
  },
  {
   "cell_type": "code",
   "execution_count": 3,
   "metadata": {},
   "outputs": [],
   "source": [
    "IPythonConsole.ipython_useSVG = True\n",
    "\n",
    "# Initialize progress bar for pandas\n",
    "tqdm.pandas()"
   ]
  },
  {
   "cell_type": "code",
   "execution_count": 4,
   "metadata": {},
   "outputs": [
    {
     "data": {
      "text/plain": [
       "(34107, 13)"
      ]
     },
     "execution_count": 4,
     "metadata": {},
     "output_type": "execute_result"
    }
   ],
   "source": [
    "final_results_df = pd.read_csv('processed.csv')\n",
    "final_results_df.shape"
   ]
  },
  {
   "cell_type": "code",
   "execution_count": 5,
   "metadata": {},
   "outputs": [
    {
     "data": {
      "text/html": [
       "<div>\n",
       "<style scoped>\n",
       "    .dataframe tbody tr th:only-of-type {\n",
       "        vertical-align: middle;\n",
       "    }\n",
       "\n",
       "    .dataframe tbody tr th {\n",
       "        vertical-align: top;\n",
       "    }\n",
       "\n",
       "    .dataframe thead th {\n",
       "        text-align: right;\n",
       "    }\n",
       "</style>\n",
       "<table border=\"1\" class=\"dataframe\">\n",
       "  <thead>\n",
       "    <tr style=\"text-align: right;\">\n",
       "      <th></th>\n",
       "      <th>Residue</th>\n",
       "      <th>Hydrophobic.distance</th>\n",
       "      <th>VdWContact.distance</th>\n",
       "      <th>HBDonor.distance</th>\n",
       "      <th>HBDonor.DHA_angle</th>\n",
       "      <th>Cationic.distance</th>\n",
       "      <th>HBAcceptor.distance</th>\n",
       "      <th>HBAcceptor.DHA_angle</th>\n",
       "      <th>PiStacking.distance</th>\n",
       "      <th>PiStacking.plane_angle</th>\n",
       "      <th>PiStacking.normal_to_centroid_angle</th>\n",
       "      <th>PiStacking.intersect_distance</th>\n",
       "      <th>PDB_File</th>\n",
       "    </tr>\n",
       "  </thead>\n",
       "  <tbody>\n",
       "    <tr>\n",
       "      <th>0</th>\n",
       "      <td>VAL60.A</td>\n",
       "      <td>4.475821</td>\n",
       "      <td>NaN</td>\n",
       "      <td>NaN</td>\n",
       "      <td>NaN</td>\n",
       "      <td>NaN</td>\n",
       "      <td>NaN</td>\n",
       "      <td>NaN</td>\n",
       "      <td>NaN</td>\n",
       "      <td>NaN</td>\n",
       "      <td>NaN</td>\n",
       "      <td>NaN</td>\n",
       "      <td>0</td>\n",
       "    </tr>\n",
       "    <tr>\n",
       "      <th>1</th>\n",
       "      <td>ASP61.A</td>\n",
       "      <td>NaN</td>\n",
       "      <td>3.103711</td>\n",
       "      <td>NaN</td>\n",
       "      <td>NaN</td>\n",
       "      <td>NaN</td>\n",
       "      <td>NaN</td>\n",
       "      <td>NaN</td>\n",
       "      <td>NaN</td>\n",
       "      <td>NaN</td>\n",
       "      <td>NaN</td>\n",
       "      <td>NaN</td>\n",
       "      <td>0</td>\n",
       "    </tr>\n",
       "    <tr>\n",
       "      <th>2</th>\n",
       "      <td>PHE64.A</td>\n",
       "      <td>4.006420</td>\n",
       "      <td>NaN</td>\n",
       "      <td>NaN</td>\n",
       "      <td>NaN</td>\n",
       "      <td>NaN</td>\n",
       "      <td>NaN</td>\n",
       "      <td>NaN</td>\n",
       "      <td>NaN</td>\n",
       "      <td>NaN</td>\n",
       "      <td>NaN</td>\n",
       "      <td>NaN</td>\n",
       "      <td>0</td>\n",
       "    </tr>\n",
       "    <tr>\n",
       "      <th>3</th>\n",
       "      <td>PHE64.A</td>\n",
       "      <td>NaN</td>\n",
       "      <td>3.348581</td>\n",
       "      <td>NaN</td>\n",
       "      <td>NaN</td>\n",
       "      <td>NaN</td>\n",
       "      <td>NaN</td>\n",
       "      <td>NaN</td>\n",
       "      <td>NaN</td>\n",
       "      <td>NaN</td>\n",
       "      <td>NaN</td>\n",
       "      <td>NaN</td>\n",
       "      <td>0</td>\n",
       "    </tr>\n",
       "    <tr>\n",
       "      <th>4</th>\n",
       "      <td>PHE64.A</td>\n",
       "      <td>4.006420</td>\n",
       "      <td>NaN</td>\n",
       "      <td>NaN</td>\n",
       "      <td>NaN</td>\n",
       "      <td>NaN</td>\n",
       "      <td>NaN</td>\n",
       "      <td>NaN</td>\n",
       "      <td>NaN</td>\n",
       "      <td>NaN</td>\n",
       "      <td>NaN</td>\n",
       "      <td>NaN</td>\n",
       "      <td>0</td>\n",
       "    </tr>\n",
       "  </tbody>\n",
       "</table>\n",
       "</div>"
      ],
      "text/plain": [
       "   Residue  Hydrophobic.distance  VdWContact.distance  HBDonor.distance  \\\n",
       "0  VAL60.A              4.475821                  NaN               NaN   \n",
       "1  ASP61.A                   NaN             3.103711               NaN   \n",
       "2  PHE64.A              4.006420                  NaN               NaN   \n",
       "3  PHE64.A                   NaN             3.348581               NaN   \n",
       "4  PHE64.A              4.006420                  NaN               NaN   \n",
       "\n",
       "   HBDonor.DHA_angle  Cationic.distance  HBAcceptor.distance  \\\n",
       "0                NaN                NaN                  NaN   \n",
       "1                NaN                NaN                  NaN   \n",
       "2                NaN                NaN                  NaN   \n",
       "3                NaN                NaN                  NaN   \n",
       "4                NaN                NaN                  NaN   \n",
       "\n",
       "   HBAcceptor.DHA_angle  PiStacking.distance  PiStacking.plane_angle  \\\n",
       "0                   NaN                  NaN                     NaN   \n",
       "1                   NaN                  NaN                     NaN   \n",
       "2                   NaN                  NaN                     NaN   \n",
       "3                   NaN                  NaN                     NaN   \n",
       "4                   NaN                  NaN                     NaN   \n",
       "\n",
       "   PiStacking.normal_to_centroid_angle  PiStacking.intersect_distance  \\\n",
       "0                                  NaN                            NaN   \n",
       "1                                  NaN                            NaN   \n",
       "2                                  NaN                            NaN   \n",
       "3                                  NaN                            NaN   \n",
       "4                                  NaN                            NaN   \n",
       "\n",
       "   PDB_File  \n",
       "0         0  \n",
       "1         0  \n",
       "2         0  \n",
       "3         0  \n",
       "4         0  "
      ]
     },
     "execution_count": 5,
     "metadata": {},
     "output_type": "execute_result"
    }
   ],
   "source": [
    "final_results_df.head()"
   ]
  },
  {
   "cell_type": "code",
   "execution_count": 28,
   "metadata": {},
   "outputs": [
    {
     "data": {
      "text/html": [
       "<div>\n",
       "<style scoped>\n",
       "    .dataframe tbody tr th:only-of-type {\n",
       "        vertical-align: middle;\n",
       "    }\n",
       "\n",
       "    .dataframe tbody tr th {\n",
       "        vertical-align: top;\n",
       "    }\n",
       "\n",
       "    .dataframe thead th {\n",
       "        text-align: right;\n",
       "    }\n",
       "</style>\n",
       "<table border=\"1\" class=\"dataframe\">\n",
       "  <thead>\n",
       "    <tr style=\"text-align: right;\">\n",
       "      <th></th>\n",
       "      <th>Residue</th>\n",
       "      <th>Hydrophobic.distance</th>\n",
       "      <th>VdWContact.distance</th>\n",
       "      <th>HBDonor.distance</th>\n",
       "      <th>HBDonor.DHA_angle</th>\n",
       "      <th>Cationic.distance</th>\n",
       "      <th>HBAcceptor.distance</th>\n",
       "      <th>HBAcceptor.DHA_angle</th>\n",
       "      <th>PiStacking.distance</th>\n",
       "      <th>PiStacking.plane_angle</th>\n",
       "      <th>PiStacking.normal_to_centroid_angle</th>\n",
       "      <th>PiStacking.intersect_distance</th>\n",
       "      <th>PDB_File</th>\n",
       "      <th>normalized</th>\n",
       "    </tr>\n",
       "  </thead>\n",
       "  <tbody>\n",
       "    <tr>\n",
       "      <th>0</th>\n",
       "      <td>VAL60.A</td>\n",
       "      <td>4.475821</td>\n",
       "      <td>NaN</td>\n",
       "      <td>NaN</td>\n",
       "      <td>NaN</td>\n",
       "      <td>NaN</td>\n",
       "      <td>NaN</td>\n",
       "      <td>NaN</td>\n",
       "      <td>NaN</td>\n",
       "      <td>NaN</td>\n",
       "      <td>NaN</td>\n",
       "      <td>NaN</td>\n",
       "      <td>0</td>\n",
       "      <td>NaN</td>\n",
       "    </tr>\n",
       "    <tr>\n",
       "      <th>1</th>\n",
       "      <td>ASP61.A</td>\n",
       "      <td>NaN</td>\n",
       "      <td>3.103711</td>\n",
       "      <td>NaN</td>\n",
       "      <td>NaN</td>\n",
       "      <td>NaN</td>\n",
       "      <td>NaN</td>\n",
       "      <td>NaN</td>\n",
       "      <td>NaN</td>\n",
       "      <td>NaN</td>\n",
       "      <td>NaN</td>\n",
       "      <td>NaN</td>\n",
       "      <td>0</td>\n",
       "      <td>0.000091</td>\n",
       "    </tr>\n",
       "    <tr>\n",
       "      <th>2</th>\n",
       "      <td>PHE64.A</td>\n",
       "      <td>4.006420</td>\n",
       "      <td>NaN</td>\n",
       "      <td>NaN</td>\n",
       "      <td>NaN</td>\n",
       "      <td>NaN</td>\n",
       "      <td>NaN</td>\n",
       "      <td>NaN</td>\n",
       "      <td>NaN</td>\n",
       "      <td>NaN</td>\n",
       "      <td>NaN</td>\n",
       "      <td>NaN</td>\n",
       "      <td>0</td>\n",
       "      <td>NaN</td>\n",
       "    </tr>\n",
       "    <tr>\n",
       "      <th>3</th>\n",
       "      <td>PHE64.A</td>\n",
       "      <td>NaN</td>\n",
       "      <td>3.348581</td>\n",
       "      <td>NaN</td>\n",
       "      <td>NaN</td>\n",
       "      <td>NaN</td>\n",
       "      <td>NaN</td>\n",
       "      <td>NaN</td>\n",
       "      <td>NaN</td>\n",
       "      <td>NaN</td>\n",
       "      <td>NaN</td>\n",
       "      <td>NaN</td>\n",
       "      <td>0</td>\n",
       "      <td>0.000098</td>\n",
       "    </tr>\n",
       "    <tr>\n",
       "      <th>4</th>\n",
       "      <td>PHE64.A</td>\n",
       "      <td>4.006420</td>\n",
       "      <td>NaN</td>\n",
       "      <td>NaN</td>\n",
       "      <td>NaN</td>\n",
       "      <td>NaN</td>\n",
       "      <td>NaN</td>\n",
       "      <td>NaN</td>\n",
       "      <td>NaN</td>\n",
       "      <td>NaN</td>\n",
       "      <td>NaN</td>\n",
       "      <td>NaN</td>\n",
       "      <td>0</td>\n",
       "      <td>NaN</td>\n",
       "    </tr>\n",
       "    <tr>\n",
       "      <th>5</th>\n",
       "      <td>PHE64.A</td>\n",
       "      <td>NaN</td>\n",
       "      <td>3.348581</td>\n",
       "      <td>NaN</td>\n",
       "      <td>NaN</td>\n",
       "      <td>NaN</td>\n",
       "      <td>NaN</td>\n",
       "      <td>NaN</td>\n",
       "      <td>NaN</td>\n",
       "      <td>NaN</td>\n",
       "      <td>NaN</td>\n",
       "      <td>NaN</td>\n",
       "      <td>0</td>\n",
       "      <td>0.000098</td>\n",
       "    </tr>\n",
       "    <tr>\n",
       "      <th>6</th>\n",
       "      <td>MET71.A</td>\n",
       "      <td>4.233320</td>\n",
       "      <td>NaN</td>\n",
       "      <td>NaN</td>\n",
       "      <td>NaN</td>\n",
       "      <td>NaN</td>\n",
       "      <td>NaN</td>\n",
       "      <td>NaN</td>\n",
       "      <td>NaN</td>\n",
       "      <td>NaN</td>\n",
       "      <td>NaN</td>\n",
       "      <td>NaN</td>\n",
       "      <td>0</td>\n",
       "      <td>NaN</td>\n",
       "    </tr>\n",
       "    <tr>\n",
       "      <th>7</th>\n",
       "      <td>GLN74.A</td>\n",
       "      <td>4.269494</td>\n",
       "      <td>NaN</td>\n",
       "      <td>NaN</td>\n",
       "      <td>NaN</td>\n",
       "      <td>NaN</td>\n",
       "      <td>NaN</td>\n",
       "      <td>NaN</td>\n",
       "      <td>NaN</td>\n",
       "      <td>NaN</td>\n",
       "      <td>NaN</td>\n",
       "      <td>NaN</td>\n",
       "      <td>0</td>\n",
       "      <td>NaN</td>\n",
       "    </tr>\n",
       "    <tr>\n",
       "      <th>8</th>\n",
       "      <td>LEU75.A</td>\n",
       "      <td>4.473456</td>\n",
       "      <td>NaN</td>\n",
       "      <td>NaN</td>\n",
       "      <td>NaN</td>\n",
       "      <td>NaN</td>\n",
       "      <td>NaN</td>\n",
       "      <td>NaN</td>\n",
       "      <td>NaN</td>\n",
       "      <td>NaN</td>\n",
       "      <td>NaN</td>\n",
       "      <td>NaN</td>\n",
       "      <td>0</td>\n",
       "      <td>NaN</td>\n",
       "    </tr>\n",
       "    <tr>\n",
       "      <th>9</th>\n",
       "      <td>THR92.A</td>\n",
       "      <td>4.377967</td>\n",
       "      <td>NaN</td>\n",
       "      <td>NaN</td>\n",
       "      <td>NaN</td>\n",
       "      <td>NaN</td>\n",
       "      <td>NaN</td>\n",
       "      <td>NaN</td>\n",
       "      <td>NaN</td>\n",
       "      <td>NaN</td>\n",
       "      <td>NaN</td>\n",
       "      <td>NaN</td>\n",
       "      <td>0</td>\n",
       "      <td>NaN</td>\n",
       "    </tr>\n",
       "    <tr>\n",
       "      <th>10</th>\n",
       "      <td>ASP95.A</td>\n",
       "      <td>4.498769</td>\n",
       "      <td>NaN</td>\n",
       "      <td>NaN</td>\n",
       "      <td>NaN</td>\n",
       "      <td>NaN</td>\n",
       "      <td>NaN</td>\n",
       "      <td>NaN</td>\n",
       "      <td>NaN</td>\n",
       "      <td>NaN</td>\n",
       "      <td>NaN</td>\n",
       "      <td>NaN</td>\n",
       "      <td>0</td>\n",
       "      <td>NaN</td>\n",
       "    </tr>\n",
       "    <tr>\n",
       "      <th>11</th>\n",
       "      <td>ASP95.A</td>\n",
       "      <td>NaN</td>\n",
       "      <td>NaN</td>\n",
       "      <td>2.687845</td>\n",
       "      <td>165.849765</td>\n",
       "      <td>NaN</td>\n",
       "      <td>NaN</td>\n",
       "      <td>NaN</td>\n",
       "      <td>NaN</td>\n",
       "      <td>NaN</td>\n",
       "      <td>NaN</td>\n",
       "      <td>NaN</td>\n",
       "      <td>0</td>\n",
       "      <td>NaN</td>\n",
       "    </tr>\n",
       "    <tr>\n",
       "      <th>12</th>\n",
       "      <td>ASP95.A</td>\n",
       "      <td>NaN</td>\n",
       "      <td>NaN</td>\n",
       "      <td>NaN</td>\n",
       "      <td>NaN</td>\n",
       "      <td>2.687845</td>\n",
       "      <td>NaN</td>\n",
       "      <td>NaN</td>\n",
       "      <td>NaN</td>\n",
       "      <td>NaN</td>\n",
       "      <td>NaN</td>\n",
       "      <td>NaN</td>\n",
       "      <td>0</td>\n",
       "      <td>NaN</td>\n",
       "    </tr>\n",
       "    <tr>\n",
       "      <th>13</th>\n",
       "      <td>ASP95.A</td>\n",
       "      <td>NaN</td>\n",
       "      <td>3.069498</td>\n",
       "      <td>NaN</td>\n",
       "      <td>NaN</td>\n",
       "      <td>NaN</td>\n",
       "      <td>NaN</td>\n",
       "      <td>NaN</td>\n",
       "      <td>NaN</td>\n",
       "      <td>NaN</td>\n",
       "      <td>NaN</td>\n",
       "      <td>NaN</td>\n",
       "      <td>0</td>\n",
       "      <td>0.000090</td>\n",
       "    </tr>\n",
       "    <tr>\n",
       "      <th>14</th>\n",
       "      <td>ASP95.A</td>\n",
       "      <td>4.498769</td>\n",
       "      <td>NaN</td>\n",
       "      <td>NaN</td>\n",
       "      <td>NaN</td>\n",
       "      <td>NaN</td>\n",
       "      <td>NaN</td>\n",
       "      <td>NaN</td>\n",
       "      <td>NaN</td>\n",
       "      <td>NaN</td>\n",
       "      <td>NaN</td>\n",
       "      <td>NaN</td>\n",
       "      <td>0</td>\n",
       "      <td>NaN</td>\n",
       "    </tr>\n",
       "    <tr>\n",
       "      <th>15</th>\n",
       "      <td>ASP95.A</td>\n",
       "      <td>NaN</td>\n",
       "      <td>NaN</td>\n",
       "      <td>2.687845</td>\n",
       "      <td>165.849765</td>\n",
       "      <td>NaN</td>\n",
       "      <td>NaN</td>\n",
       "      <td>NaN</td>\n",
       "      <td>NaN</td>\n",
       "      <td>NaN</td>\n",
       "      <td>NaN</td>\n",
       "      <td>NaN</td>\n",
       "      <td>0</td>\n",
       "      <td>NaN</td>\n",
       "    </tr>\n",
       "    <tr>\n",
       "      <th>16</th>\n",
       "      <td>ASP95.A</td>\n",
       "      <td>NaN</td>\n",
       "      <td>NaN</td>\n",
       "      <td>NaN</td>\n",
       "      <td>NaN</td>\n",
       "      <td>2.687845</td>\n",
       "      <td>NaN</td>\n",
       "      <td>NaN</td>\n",
       "      <td>NaN</td>\n",
       "      <td>NaN</td>\n",
       "      <td>NaN</td>\n",
       "      <td>NaN</td>\n",
       "      <td>0</td>\n",
       "      <td>NaN</td>\n",
       "    </tr>\n",
       "    <tr>\n",
       "      <th>17</th>\n",
       "      <td>ASP95.A</td>\n",
       "      <td>NaN</td>\n",
       "      <td>3.069498</td>\n",
       "      <td>NaN</td>\n",
       "      <td>NaN</td>\n",
       "      <td>NaN</td>\n",
       "      <td>NaN</td>\n",
       "      <td>NaN</td>\n",
       "      <td>NaN</td>\n",
       "      <td>NaN</td>\n",
       "      <td>NaN</td>\n",
       "      <td>NaN</td>\n",
       "      <td>0</td>\n",
       "      <td>0.000090</td>\n",
       "    </tr>\n",
       "    <tr>\n",
       "      <th>18</th>\n",
       "      <td>ASP95.A</td>\n",
       "      <td>4.498769</td>\n",
       "      <td>NaN</td>\n",
       "      <td>NaN</td>\n",
       "      <td>NaN</td>\n",
       "      <td>NaN</td>\n",
       "      <td>NaN</td>\n",
       "      <td>NaN</td>\n",
       "      <td>NaN</td>\n",
       "      <td>NaN</td>\n",
       "      <td>NaN</td>\n",
       "      <td>NaN</td>\n",
       "      <td>0</td>\n",
       "      <td>NaN</td>\n",
       "    </tr>\n",
       "    <tr>\n",
       "      <th>19</th>\n",
       "      <td>ASP95.A</td>\n",
       "      <td>NaN</td>\n",
       "      <td>NaN</td>\n",
       "      <td>2.687845</td>\n",
       "      <td>165.849765</td>\n",
       "      <td>NaN</td>\n",
       "      <td>NaN</td>\n",
       "      <td>NaN</td>\n",
       "      <td>NaN</td>\n",
       "      <td>NaN</td>\n",
       "      <td>NaN</td>\n",
       "      <td>NaN</td>\n",
       "      <td>0</td>\n",
       "      <td>NaN</td>\n",
       "    </tr>\n",
       "    <tr>\n",
       "      <th>20</th>\n",
       "      <td>ASP95.A</td>\n",
       "      <td>NaN</td>\n",
       "      <td>NaN</td>\n",
       "      <td>NaN</td>\n",
       "      <td>NaN</td>\n",
       "      <td>2.687845</td>\n",
       "      <td>NaN</td>\n",
       "      <td>NaN</td>\n",
       "      <td>NaN</td>\n",
       "      <td>NaN</td>\n",
       "      <td>NaN</td>\n",
       "      <td>NaN</td>\n",
       "      <td>0</td>\n",
       "      <td>NaN</td>\n",
       "    </tr>\n",
       "    <tr>\n",
       "      <th>21</th>\n",
       "      <td>ASP95.A</td>\n",
       "      <td>NaN</td>\n",
       "      <td>3.069498</td>\n",
       "      <td>NaN</td>\n",
       "      <td>NaN</td>\n",
       "      <td>NaN</td>\n",
       "      <td>NaN</td>\n",
       "      <td>NaN</td>\n",
       "      <td>NaN</td>\n",
       "      <td>NaN</td>\n",
       "      <td>NaN</td>\n",
       "      <td>NaN</td>\n",
       "      <td>0</td>\n",
       "      <td>0.000090</td>\n",
       "    </tr>\n",
       "    <tr>\n",
       "      <th>22</th>\n",
       "      <td>ASP95.A</td>\n",
       "      <td>4.498769</td>\n",
       "      <td>NaN</td>\n",
       "      <td>NaN</td>\n",
       "      <td>NaN</td>\n",
       "      <td>NaN</td>\n",
       "      <td>NaN</td>\n",
       "      <td>NaN</td>\n",
       "      <td>NaN</td>\n",
       "      <td>NaN</td>\n",
       "      <td>NaN</td>\n",
       "      <td>NaN</td>\n",
       "      <td>0</td>\n",
       "      <td>NaN</td>\n",
       "    </tr>\n",
       "    <tr>\n",
       "      <th>23</th>\n",
       "      <td>ASP95.A</td>\n",
       "      <td>NaN</td>\n",
       "      <td>NaN</td>\n",
       "      <td>2.687845</td>\n",
       "      <td>165.849765</td>\n",
       "      <td>NaN</td>\n",
       "      <td>NaN</td>\n",
       "      <td>NaN</td>\n",
       "      <td>NaN</td>\n",
       "      <td>NaN</td>\n",
       "      <td>NaN</td>\n",
       "      <td>NaN</td>\n",
       "      <td>0</td>\n",
       "      <td>NaN</td>\n",
       "    </tr>\n",
       "    <tr>\n",
       "      <th>24</th>\n",
       "      <td>ASP95.A</td>\n",
       "      <td>NaN</td>\n",
       "      <td>NaN</td>\n",
       "      <td>NaN</td>\n",
       "      <td>NaN</td>\n",
       "      <td>2.687845</td>\n",
       "      <td>NaN</td>\n",
       "      <td>NaN</td>\n",
       "      <td>NaN</td>\n",
       "      <td>NaN</td>\n",
       "      <td>NaN</td>\n",
       "      <td>NaN</td>\n",
       "      <td>0</td>\n",
       "      <td>NaN</td>\n",
       "    </tr>\n",
       "    <tr>\n",
       "      <th>25</th>\n",
       "      <td>ASP95.A</td>\n",
       "      <td>NaN</td>\n",
       "      <td>3.069498</td>\n",
       "      <td>NaN</td>\n",
       "      <td>NaN</td>\n",
       "      <td>NaN</td>\n",
       "      <td>NaN</td>\n",
       "      <td>NaN</td>\n",
       "      <td>NaN</td>\n",
       "      <td>NaN</td>\n",
       "      <td>NaN</td>\n",
       "      <td>NaN</td>\n",
       "      <td>0</td>\n",
       "      <td>0.000090</td>\n",
       "    </tr>\n",
       "    <tr>\n",
       "      <th>26</th>\n",
       "      <td>SER98.A</td>\n",
       "      <td>NaN</td>\n",
       "      <td>NaN</td>\n",
       "      <td>3.173125</td>\n",
       "      <td>162.466010</td>\n",
       "      <td>NaN</td>\n",
       "      <td>NaN</td>\n",
       "      <td>NaN</td>\n",
       "      <td>NaN</td>\n",
       "      <td>NaN</td>\n",
       "      <td>NaN</td>\n",
       "      <td>NaN</td>\n",
       "      <td>0</td>\n",
       "      <td>NaN</td>\n",
       "    </tr>\n",
       "    <tr>\n",
       "      <th>27</th>\n",
       "      <td>SER98.A</td>\n",
       "      <td>NaN</td>\n",
       "      <td>2.198103</td>\n",
       "      <td>NaN</td>\n",
       "      <td>NaN</td>\n",
       "      <td>NaN</td>\n",
       "      <td>NaN</td>\n",
       "      <td>NaN</td>\n",
       "      <td>NaN</td>\n",
       "      <td>NaN</td>\n",
       "      <td>NaN</td>\n",
       "      <td>NaN</td>\n",
       "      <td>0</td>\n",
       "      <td>0.000064</td>\n",
       "    </tr>\n",
       "    <tr>\n",
       "      <th>28</th>\n",
       "      <td>SER98.A</td>\n",
       "      <td>NaN</td>\n",
       "      <td>NaN</td>\n",
       "      <td>3.173125</td>\n",
       "      <td>162.466010</td>\n",
       "      <td>NaN</td>\n",
       "      <td>NaN</td>\n",
       "      <td>NaN</td>\n",
       "      <td>NaN</td>\n",
       "      <td>NaN</td>\n",
       "      <td>NaN</td>\n",
       "      <td>NaN</td>\n",
       "      <td>0</td>\n",
       "      <td>NaN</td>\n",
       "    </tr>\n",
       "    <tr>\n",
       "      <th>29</th>\n",
       "      <td>SER98.A</td>\n",
       "      <td>NaN</td>\n",
       "      <td>2.198103</td>\n",
       "      <td>NaN</td>\n",
       "      <td>NaN</td>\n",
       "      <td>NaN</td>\n",
       "      <td>NaN</td>\n",
       "      <td>NaN</td>\n",
       "      <td>NaN</td>\n",
       "      <td>NaN</td>\n",
       "      <td>NaN</td>\n",
       "      <td>NaN</td>\n",
       "      <td>0</td>\n",
       "      <td>0.000064</td>\n",
       "    </tr>\n",
       "    <tr>\n",
       "      <th>30</th>\n",
       "      <td>GLN99.A</td>\n",
       "      <td>4.190118</td>\n",
       "      <td>NaN</td>\n",
       "      <td>NaN</td>\n",
       "      <td>NaN</td>\n",
       "      <td>NaN</td>\n",
       "      <td>NaN</td>\n",
       "      <td>NaN</td>\n",
       "      <td>NaN</td>\n",
       "      <td>NaN</td>\n",
       "      <td>NaN</td>\n",
       "      <td>NaN</td>\n",
       "      <td>0</td>\n",
       "      <td>NaN</td>\n",
       "    </tr>\n",
       "    <tr>\n",
       "      <th>31</th>\n",
       "      <td>GLN99.A</td>\n",
       "      <td>NaN</td>\n",
       "      <td>2.736952</td>\n",
       "      <td>NaN</td>\n",
       "      <td>NaN</td>\n",
       "      <td>NaN</td>\n",
       "      <td>NaN</td>\n",
       "      <td>NaN</td>\n",
       "      <td>NaN</td>\n",
       "      <td>NaN</td>\n",
       "      <td>NaN</td>\n",
       "      <td>NaN</td>\n",
       "      <td>0</td>\n",
       "      <td>0.000080</td>\n",
       "    </tr>\n",
       "    <tr>\n",
       "      <th>32</th>\n",
       "      <td>GLN99.A</td>\n",
       "      <td>4.190118</td>\n",
       "      <td>NaN</td>\n",
       "      <td>NaN</td>\n",
       "      <td>NaN</td>\n",
       "      <td>NaN</td>\n",
       "      <td>NaN</td>\n",
       "      <td>NaN</td>\n",
       "      <td>NaN</td>\n",
       "      <td>NaN</td>\n",
       "      <td>NaN</td>\n",
       "      <td>NaN</td>\n",
       "      <td>0</td>\n",
       "      <td>NaN</td>\n",
       "    </tr>\n",
       "    <tr>\n",
       "      <th>33</th>\n",
       "      <td>GLN99.A</td>\n",
       "      <td>NaN</td>\n",
       "      <td>2.736952</td>\n",
       "      <td>NaN</td>\n",
       "      <td>NaN</td>\n",
       "      <td>NaN</td>\n",
       "      <td>NaN</td>\n",
       "      <td>NaN</td>\n",
       "      <td>NaN</td>\n",
       "      <td>NaN</td>\n",
       "      <td>NaN</td>\n",
       "      <td>NaN</td>\n",
       "      <td>0</td>\n",
       "      <td>0.000080</td>\n",
       "    </tr>\n",
       "    <tr>\n",
       "      <th>34</th>\n",
       "      <td>SER102.A</td>\n",
       "      <td>NaN</td>\n",
       "      <td>2.153014</td>\n",
       "      <td>NaN</td>\n",
       "      <td>NaN</td>\n",
       "      <td>NaN</td>\n",
       "      <td>NaN</td>\n",
       "      <td>NaN</td>\n",
       "      <td>NaN</td>\n",
       "      <td>NaN</td>\n",
       "      <td>NaN</td>\n",
       "      <td>NaN</td>\n",
       "      <td>0</td>\n",
       "      <td>0.000063</td>\n",
       "    </tr>\n",
       "    <tr>\n",
       "      <th>35</th>\n",
       "      <td>PHE237.A</td>\n",
       "      <td>4.258988</td>\n",
       "      <td>NaN</td>\n",
       "      <td>NaN</td>\n",
       "      <td>NaN</td>\n",
       "      <td>NaN</td>\n",
       "      <td>NaN</td>\n",
       "      <td>NaN</td>\n",
       "      <td>NaN</td>\n",
       "      <td>NaN</td>\n",
       "      <td>NaN</td>\n",
       "      <td>NaN</td>\n",
       "      <td>0</td>\n",
       "      <td>NaN</td>\n",
       "    </tr>\n",
       "    <tr>\n",
       "      <th>36</th>\n",
       "      <td>PHE237.A</td>\n",
       "      <td>NaN</td>\n",
       "      <td>2.532867</td>\n",
       "      <td>NaN</td>\n",
       "      <td>NaN</td>\n",
       "      <td>NaN</td>\n",
       "      <td>NaN</td>\n",
       "      <td>NaN</td>\n",
       "      <td>NaN</td>\n",
       "      <td>NaN</td>\n",
       "      <td>NaN</td>\n",
       "      <td>NaN</td>\n",
       "      <td>0</td>\n",
       "      <td>0.000074</td>\n",
       "    </tr>\n",
       "    <tr>\n",
       "      <th>37</th>\n",
       "      <td>PHE237.A</td>\n",
       "      <td>4.258988</td>\n",
       "      <td>NaN</td>\n",
       "      <td>NaN</td>\n",
       "      <td>NaN</td>\n",
       "      <td>NaN</td>\n",
       "      <td>NaN</td>\n",
       "      <td>NaN</td>\n",
       "      <td>NaN</td>\n",
       "      <td>NaN</td>\n",
       "      <td>NaN</td>\n",
       "      <td>NaN</td>\n",
       "      <td>0</td>\n",
       "      <td>NaN</td>\n",
       "    </tr>\n",
       "    <tr>\n",
       "      <th>38</th>\n",
       "      <td>PHE237.A</td>\n",
       "      <td>NaN</td>\n",
       "      <td>2.532867</td>\n",
       "      <td>NaN</td>\n",
       "      <td>NaN</td>\n",
       "      <td>NaN</td>\n",
       "      <td>NaN</td>\n",
       "      <td>NaN</td>\n",
       "      <td>NaN</td>\n",
       "      <td>NaN</td>\n",
       "      <td>NaN</td>\n",
       "      <td>NaN</td>\n",
       "      <td>0</td>\n",
       "      <td>0.000074</td>\n",
       "    </tr>\n",
       "    <tr>\n",
       "      <th>39</th>\n",
       "      <td>TRP241.A</td>\n",
       "      <td>4.015923</td>\n",
       "      <td>NaN</td>\n",
       "      <td>NaN</td>\n",
       "      <td>NaN</td>\n",
       "      <td>NaN</td>\n",
       "      <td>NaN</td>\n",
       "      <td>NaN</td>\n",
       "      <td>NaN</td>\n",
       "      <td>NaN</td>\n",
       "      <td>NaN</td>\n",
       "      <td>NaN</td>\n",
       "      <td>0</td>\n",
       "      <td>NaN</td>\n",
       "    </tr>\n",
       "  </tbody>\n",
       "</table>\n",
       "</div>"
      ],
      "text/plain": [
       "     Residue  Hydrophobic.distance  VdWContact.distance  HBDonor.distance  \\\n",
       "0    VAL60.A              4.475821                  NaN               NaN   \n",
       "1    ASP61.A                   NaN             3.103711               NaN   \n",
       "2    PHE64.A              4.006420                  NaN               NaN   \n",
       "3    PHE64.A                   NaN             3.348581               NaN   \n",
       "4    PHE64.A              4.006420                  NaN               NaN   \n",
       "5    PHE64.A                   NaN             3.348581               NaN   \n",
       "6    MET71.A              4.233320                  NaN               NaN   \n",
       "7    GLN74.A              4.269494                  NaN               NaN   \n",
       "8    LEU75.A              4.473456                  NaN               NaN   \n",
       "9    THR92.A              4.377967                  NaN               NaN   \n",
       "10   ASP95.A              4.498769                  NaN               NaN   \n",
       "11   ASP95.A                   NaN                  NaN          2.687845   \n",
       "12   ASP95.A                   NaN                  NaN               NaN   \n",
       "13   ASP95.A                   NaN             3.069498               NaN   \n",
       "14   ASP95.A              4.498769                  NaN               NaN   \n",
       "15   ASP95.A                   NaN                  NaN          2.687845   \n",
       "16   ASP95.A                   NaN                  NaN               NaN   \n",
       "17   ASP95.A                   NaN             3.069498               NaN   \n",
       "18   ASP95.A              4.498769                  NaN               NaN   \n",
       "19   ASP95.A                   NaN                  NaN          2.687845   \n",
       "20   ASP95.A                   NaN                  NaN               NaN   \n",
       "21   ASP95.A                   NaN             3.069498               NaN   \n",
       "22   ASP95.A              4.498769                  NaN               NaN   \n",
       "23   ASP95.A                   NaN                  NaN          2.687845   \n",
       "24   ASP95.A                   NaN                  NaN               NaN   \n",
       "25   ASP95.A                   NaN             3.069498               NaN   \n",
       "26   SER98.A                   NaN                  NaN          3.173125   \n",
       "27   SER98.A                   NaN             2.198103               NaN   \n",
       "28   SER98.A                   NaN                  NaN          3.173125   \n",
       "29   SER98.A                   NaN             2.198103               NaN   \n",
       "30   GLN99.A              4.190118                  NaN               NaN   \n",
       "31   GLN99.A                   NaN             2.736952               NaN   \n",
       "32   GLN99.A              4.190118                  NaN               NaN   \n",
       "33   GLN99.A                   NaN             2.736952               NaN   \n",
       "34  SER102.A                   NaN             2.153014               NaN   \n",
       "35  PHE237.A              4.258988                  NaN               NaN   \n",
       "36  PHE237.A                   NaN             2.532867               NaN   \n",
       "37  PHE237.A              4.258988                  NaN               NaN   \n",
       "38  PHE237.A                   NaN             2.532867               NaN   \n",
       "39  TRP241.A              4.015923                  NaN               NaN   \n",
       "\n",
       "    HBDonor.DHA_angle  Cationic.distance  HBAcceptor.distance  \\\n",
       "0                 NaN                NaN                  NaN   \n",
       "1                 NaN                NaN                  NaN   \n",
       "2                 NaN                NaN                  NaN   \n",
       "3                 NaN                NaN                  NaN   \n",
       "4                 NaN                NaN                  NaN   \n",
       "5                 NaN                NaN                  NaN   \n",
       "6                 NaN                NaN                  NaN   \n",
       "7                 NaN                NaN                  NaN   \n",
       "8                 NaN                NaN                  NaN   \n",
       "9                 NaN                NaN                  NaN   \n",
       "10                NaN                NaN                  NaN   \n",
       "11         165.849765                NaN                  NaN   \n",
       "12                NaN           2.687845                  NaN   \n",
       "13                NaN                NaN                  NaN   \n",
       "14                NaN                NaN                  NaN   \n",
       "15         165.849765                NaN                  NaN   \n",
       "16                NaN           2.687845                  NaN   \n",
       "17                NaN                NaN                  NaN   \n",
       "18                NaN                NaN                  NaN   \n",
       "19         165.849765                NaN                  NaN   \n",
       "20                NaN           2.687845                  NaN   \n",
       "21                NaN                NaN                  NaN   \n",
       "22                NaN                NaN                  NaN   \n",
       "23         165.849765                NaN                  NaN   \n",
       "24                NaN           2.687845                  NaN   \n",
       "25                NaN                NaN                  NaN   \n",
       "26         162.466010                NaN                  NaN   \n",
       "27                NaN                NaN                  NaN   \n",
       "28         162.466010                NaN                  NaN   \n",
       "29                NaN                NaN                  NaN   \n",
       "30                NaN                NaN                  NaN   \n",
       "31                NaN                NaN                  NaN   \n",
       "32                NaN                NaN                  NaN   \n",
       "33                NaN                NaN                  NaN   \n",
       "34                NaN                NaN                  NaN   \n",
       "35                NaN                NaN                  NaN   \n",
       "36                NaN                NaN                  NaN   \n",
       "37                NaN                NaN                  NaN   \n",
       "38                NaN                NaN                  NaN   \n",
       "39                NaN                NaN                  NaN   \n",
       "\n",
       "    HBAcceptor.DHA_angle  PiStacking.distance  PiStacking.plane_angle  \\\n",
       "0                    NaN                  NaN                     NaN   \n",
       "1                    NaN                  NaN                     NaN   \n",
       "2                    NaN                  NaN                     NaN   \n",
       "3                    NaN                  NaN                     NaN   \n",
       "4                    NaN                  NaN                     NaN   \n",
       "5                    NaN                  NaN                     NaN   \n",
       "6                    NaN                  NaN                     NaN   \n",
       "7                    NaN                  NaN                     NaN   \n",
       "8                    NaN                  NaN                     NaN   \n",
       "9                    NaN                  NaN                     NaN   \n",
       "10                   NaN                  NaN                     NaN   \n",
       "11                   NaN                  NaN                     NaN   \n",
       "12                   NaN                  NaN                     NaN   \n",
       "13                   NaN                  NaN                     NaN   \n",
       "14                   NaN                  NaN                     NaN   \n",
       "15                   NaN                  NaN                     NaN   \n",
       "16                   NaN                  NaN                     NaN   \n",
       "17                   NaN                  NaN                     NaN   \n",
       "18                   NaN                  NaN                     NaN   \n",
       "19                   NaN                  NaN                     NaN   \n",
       "20                   NaN                  NaN                     NaN   \n",
       "21                   NaN                  NaN                     NaN   \n",
       "22                   NaN                  NaN                     NaN   \n",
       "23                   NaN                  NaN                     NaN   \n",
       "24                   NaN                  NaN                     NaN   \n",
       "25                   NaN                  NaN                     NaN   \n",
       "26                   NaN                  NaN                     NaN   \n",
       "27                   NaN                  NaN                     NaN   \n",
       "28                   NaN                  NaN                     NaN   \n",
       "29                   NaN                  NaN                     NaN   \n",
       "30                   NaN                  NaN                     NaN   \n",
       "31                   NaN                  NaN                     NaN   \n",
       "32                   NaN                  NaN                     NaN   \n",
       "33                   NaN                  NaN                     NaN   \n",
       "34                   NaN                  NaN                     NaN   \n",
       "35                   NaN                  NaN                     NaN   \n",
       "36                   NaN                  NaN                     NaN   \n",
       "37                   NaN                  NaN                     NaN   \n",
       "38                   NaN                  NaN                     NaN   \n",
       "39                   NaN                  NaN                     NaN   \n",
       "\n",
       "    PiStacking.normal_to_centroid_angle  PiStacking.intersect_distance  \\\n",
       "0                                   NaN                            NaN   \n",
       "1                                   NaN                            NaN   \n",
       "2                                   NaN                            NaN   \n",
       "3                                   NaN                            NaN   \n",
       "4                                   NaN                            NaN   \n",
       "5                                   NaN                            NaN   \n",
       "6                                   NaN                            NaN   \n",
       "7                                   NaN                            NaN   \n",
       "8                                   NaN                            NaN   \n",
       "9                                   NaN                            NaN   \n",
       "10                                  NaN                            NaN   \n",
       "11                                  NaN                            NaN   \n",
       "12                                  NaN                            NaN   \n",
       "13                                  NaN                            NaN   \n",
       "14                                  NaN                            NaN   \n",
       "15                                  NaN                            NaN   \n",
       "16                                  NaN                            NaN   \n",
       "17                                  NaN                            NaN   \n",
       "18                                  NaN                            NaN   \n",
       "19                                  NaN                            NaN   \n",
       "20                                  NaN                            NaN   \n",
       "21                                  NaN                            NaN   \n",
       "22                                  NaN                            NaN   \n",
       "23                                  NaN                            NaN   \n",
       "24                                  NaN                            NaN   \n",
       "25                                  NaN                            NaN   \n",
       "26                                  NaN                            NaN   \n",
       "27                                  NaN                            NaN   \n",
       "28                                  NaN                            NaN   \n",
       "29                                  NaN                            NaN   \n",
       "30                                  NaN                            NaN   \n",
       "31                                  NaN                            NaN   \n",
       "32                                  NaN                            NaN   \n",
       "33                                  NaN                            NaN   \n",
       "34                                  NaN                            NaN   \n",
       "35                                  NaN                            NaN   \n",
       "36                                  NaN                            NaN   \n",
       "37                                  NaN                            NaN   \n",
       "38                                  NaN                            NaN   \n",
       "39                                  NaN                            NaN   \n",
       "\n",
       "    PDB_File  normalized  \n",
       "0          0         NaN  \n",
       "1          0    0.000091  \n",
       "2          0         NaN  \n",
       "3          0    0.000098  \n",
       "4          0         NaN  \n",
       "5          0    0.000098  \n",
       "6          0         NaN  \n",
       "7          0         NaN  \n",
       "8          0         NaN  \n",
       "9          0         NaN  \n",
       "10         0         NaN  \n",
       "11         0         NaN  \n",
       "12         0         NaN  \n",
       "13         0    0.000090  \n",
       "14         0         NaN  \n",
       "15         0         NaN  \n",
       "16         0         NaN  \n",
       "17         0    0.000090  \n",
       "18         0         NaN  \n",
       "19         0         NaN  \n",
       "20         0         NaN  \n",
       "21         0    0.000090  \n",
       "22         0         NaN  \n",
       "23         0         NaN  \n",
       "24         0         NaN  \n",
       "25         0    0.000090  \n",
       "26         0         NaN  \n",
       "27         0    0.000064  \n",
       "28         0         NaN  \n",
       "29         0    0.000064  \n",
       "30         0         NaN  \n",
       "31         0    0.000080  \n",
       "32         0         NaN  \n",
       "33         0    0.000080  \n",
       "34         0    0.000063  \n",
       "35         0         NaN  \n",
       "36         0    0.000074  \n",
       "37         0         NaN  \n",
       "38         0    0.000074  \n",
       "39         0         NaN  "
      ]
     },
     "execution_count": 28,
     "metadata": {},
     "output_type": "execute_result"
    }
   ],
   "source": [
    "final_results_df.head(40)"
   ]
  },
  {
   "cell_type": "code",
   "execution_count": 6,
   "metadata": {},
   "outputs": [],
   "source": [
    "import plotly.express as px\n",
    "import plotly.graph_objects as go\n",
    "from ipywidgets import interact, widgets\n"
   ]
  },
  {
   "cell_type": "markdown",
   "metadata": {},
   "source": [
    "### Viewing scaled distributions for 501 pdb files\n",
    "\n",
    "##### Select from dropdown to view each of the metric in the output"
   ]
  },
  {
   "cell_type": "code",
   "execution_count": 18,
   "metadata": {},
   "outputs": [],
   "source": [
    "def plot_normalized_distributions(df, columns):\n",
    "    @interact(column=columns)\n",
    "    def make_plot(column):\n",
    "        # Aggregate data across all PDB files\n",
    "        all_data = df[column].dropna()\n",
    "        \n",
    "        # Ensure there is data to plot\n",
    "        if all_data.empty:\n",
    "            print(f\"No data available for column {column}\")\n",
    "            return\n",
    "        \n",
    "        # Calculate histogram for aggregated data\n",
    "        counts, bins = np.histogram(all_data, bins=50, density=True)\n",
    "        \n",
    "        # Normalize the counts by dividing by the number of data points\n",
    "        total_count = len(all_data)\n",
    "        normalized_counts = counts / total_count\n",
    "        \n",
    "        # Plotting\n",
    "        fig = go.Figure()\n",
    "        \n",
    "        fig.add_trace(go.Bar(\n",
    "            x=bins[:-1],  # Bin edges\n",
    "            y=normalized_counts,\n",
    "            name='All PDB Files',\n",
    "            opacity=0.75,\n",
    "            marker_color='blue'\n",
    "        ))\n",
    "        \n",
    "        fig.update_layout(\n",
    "            title=f'Normalized Distribution of {column} across All PDB Files',\n",
    "            xaxis_title=column,\n",
    "            yaxis_title='Normalized Count',\n",
    "            barmode='overlay'\n",
    "        )\n",
    "        \n",
    "        fig.show()"
   ]
  },
  {
   "cell_type": "code",
   "execution_count": 19,
   "metadata": {},
   "outputs": [
    {
     "data": {
      "application/vnd.plotly.v1+json": {
       "config": {
        "plotlyServerURL": "https://plot.ly"
       },
       "data": [
        {
         "marker": {
          "color": "blue"
         },
         "name": "All PDB Files",
         "opacity": 0.75,
         "type": "bar",
         "x": [
          3.2147944198072005,
          3.240498281797278,
          3.266202143787356,
          3.2919060057774336,
          3.317609867767511,
          3.343313729757589,
          3.369017591747667,
          3.3947214537377444,
          3.420425315727822,
          3.4461291777178995,
          3.4718330397079775,
          3.497536901698055,
          3.5232407636881327,
          3.5489446256782102,
          3.5746484876682882,
          3.600352349658366,
          3.6260562116484434,
          3.651760073638521,
          3.677463935628599,
          3.7031677976186765,
          3.728871659608754,
          3.7545755215988317,
          3.7802793835889097,
          3.8059832455789873,
          3.831687107569065,
          3.857390969559143,
          3.8830948315492204,
          3.908798693539298,
          3.9345025555293756,
          3.960206417519453,
          3.985910279509531,
          4.011614141499608,
          4.037318003489687,
          4.063021865479764,
          4.088725727469842,
          4.114429589459919,
          4.140133451449997,
          4.165837313440075,
          4.191541175430152,
          4.217245037420231,
          4.242948899410308,
          4.268652761400386,
          4.294356623390463,
          4.320060485380541,
          4.3457643473706185,
          4.371468209360696,
          4.397172071350774,
          4.422875933340851,
          4.44857979533093,
          4.474283657321007
         ],
         "y": [
          0.0000010012388475158287,
          0,
          5.006194237579144e-7,
          0,
          5.006194237579144e-7,
          5.006194237579058e-7,
          0.0000010012388475158287,
          0.0000010012388475158287,
          0.0000015018582712737434,
          0.0000012515485593947644,
          0.0000030037165425474867,
          0.000007759601068247674,
          0.000006508052508852888,
          0.0000065080525088527755,
          0.000008760839915763504,
          0.00001251548559394786,
          0.000012265175882068906,
          0.00001727137011964775,
          0.000026783139171048425,
          0.000024029732340379894,
          0.00003254026254426444,
          0.00002903592657795853,
          0.00003779676649372254,
          0.00003354150139178026,
          0.00003429243052741655,
          0.00004730853554512291,
          0.00004380419957881752,
          0.000049811632663912485,
          0.0000620768085459814,
          0.00006307804739349613,
          0.00007058733874986715,
          0.00006883517076671084,
          0.00008961087685266668,
          0.00008735808944575606,
          0.00010262698187037246,
          0.00009336552253085102,
          0.00010437914985352516,
          0.00013666910268591063,
          0.00012390330738007953,
          0.00011914742285438363,
          0.00014893427856797954,
          0.00014718211058482685,
          0.0001556926407887114,
          0.00015143737568676914,
          0.0001484336591442216,
          0.00017071122350144883,
          0.00016745719724702238,
          0.0001531895436699165,
          0.00015644356992434825,
          0.00015869635733125887
         ]
        }
       ],
       "layout": {
        "barmode": "overlay",
        "template": {
         "data": {
          "bar": [
           {
            "error_x": {
             "color": "#2a3f5f"
            },
            "error_y": {
             "color": "#2a3f5f"
            },
            "marker": {
             "line": {
              "color": "#E5ECF6",
              "width": 0.5
             },
             "pattern": {
              "fillmode": "overlay",
              "size": 10,
              "solidity": 0.2
             }
            },
            "type": "bar"
           }
          ],
          "barpolar": [
           {
            "marker": {
             "line": {
              "color": "#E5ECF6",
              "width": 0.5
             },
             "pattern": {
              "fillmode": "overlay",
              "size": 10,
              "solidity": 0.2
             }
            },
            "type": "barpolar"
           }
          ],
          "carpet": [
           {
            "aaxis": {
             "endlinecolor": "#2a3f5f",
             "gridcolor": "white",
             "linecolor": "white",
             "minorgridcolor": "white",
             "startlinecolor": "#2a3f5f"
            },
            "baxis": {
             "endlinecolor": "#2a3f5f",
             "gridcolor": "white",
             "linecolor": "white",
             "minorgridcolor": "white",
             "startlinecolor": "#2a3f5f"
            },
            "type": "carpet"
           }
          ],
          "choropleth": [
           {
            "colorbar": {
             "outlinewidth": 0,
             "ticks": ""
            },
            "type": "choropleth"
           }
          ],
          "contour": [
           {
            "colorbar": {
             "outlinewidth": 0,
             "ticks": ""
            },
            "colorscale": [
             [
              0,
              "#0d0887"
             ],
             [
              0.1111111111111111,
              "#46039f"
             ],
             [
              0.2222222222222222,
              "#7201a8"
             ],
             [
              0.3333333333333333,
              "#9c179e"
             ],
             [
              0.4444444444444444,
              "#bd3786"
             ],
             [
              0.5555555555555556,
              "#d8576b"
             ],
             [
              0.6666666666666666,
              "#ed7953"
             ],
             [
              0.7777777777777778,
              "#fb9f3a"
             ],
             [
              0.8888888888888888,
              "#fdca26"
             ],
             [
              1,
              "#f0f921"
             ]
            ],
            "type": "contour"
           }
          ],
          "contourcarpet": [
           {
            "colorbar": {
             "outlinewidth": 0,
             "ticks": ""
            },
            "type": "contourcarpet"
           }
          ],
          "heatmap": [
           {
            "colorbar": {
             "outlinewidth": 0,
             "ticks": ""
            },
            "colorscale": [
             [
              0,
              "#0d0887"
             ],
             [
              0.1111111111111111,
              "#46039f"
             ],
             [
              0.2222222222222222,
              "#7201a8"
             ],
             [
              0.3333333333333333,
              "#9c179e"
             ],
             [
              0.4444444444444444,
              "#bd3786"
             ],
             [
              0.5555555555555556,
              "#d8576b"
             ],
             [
              0.6666666666666666,
              "#ed7953"
             ],
             [
              0.7777777777777778,
              "#fb9f3a"
             ],
             [
              0.8888888888888888,
              "#fdca26"
             ],
             [
              1,
              "#f0f921"
             ]
            ],
            "type": "heatmap"
           }
          ],
          "heatmapgl": [
           {
            "colorbar": {
             "outlinewidth": 0,
             "ticks": ""
            },
            "colorscale": [
             [
              0,
              "#0d0887"
             ],
             [
              0.1111111111111111,
              "#46039f"
             ],
             [
              0.2222222222222222,
              "#7201a8"
             ],
             [
              0.3333333333333333,
              "#9c179e"
             ],
             [
              0.4444444444444444,
              "#bd3786"
             ],
             [
              0.5555555555555556,
              "#d8576b"
             ],
             [
              0.6666666666666666,
              "#ed7953"
             ],
             [
              0.7777777777777778,
              "#fb9f3a"
             ],
             [
              0.8888888888888888,
              "#fdca26"
             ],
             [
              1,
              "#f0f921"
             ]
            ],
            "type": "heatmapgl"
           }
          ],
          "histogram": [
           {
            "marker": {
             "pattern": {
              "fillmode": "overlay",
              "size": 10,
              "solidity": 0.2
             }
            },
            "type": "histogram"
           }
          ],
          "histogram2d": [
           {
            "colorbar": {
             "outlinewidth": 0,
             "ticks": ""
            },
            "colorscale": [
             [
              0,
              "#0d0887"
             ],
             [
              0.1111111111111111,
              "#46039f"
             ],
             [
              0.2222222222222222,
              "#7201a8"
             ],
             [
              0.3333333333333333,
              "#9c179e"
             ],
             [
              0.4444444444444444,
              "#bd3786"
             ],
             [
              0.5555555555555556,
              "#d8576b"
             ],
             [
              0.6666666666666666,
              "#ed7953"
             ],
             [
              0.7777777777777778,
              "#fb9f3a"
             ],
             [
              0.8888888888888888,
              "#fdca26"
             ],
             [
              1,
              "#f0f921"
             ]
            ],
            "type": "histogram2d"
           }
          ],
          "histogram2dcontour": [
           {
            "colorbar": {
             "outlinewidth": 0,
             "ticks": ""
            },
            "colorscale": [
             [
              0,
              "#0d0887"
             ],
             [
              0.1111111111111111,
              "#46039f"
             ],
             [
              0.2222222222222222,
              "#7201a8"
             ],
             [
              0.3333333333333333,
              "#9c179e"
             ],
             [
              0.4444444444444444,
              "#bd3786"
             ],
             [
              0.5555555555555556,
              "#d8576b"
             ],
             [
              0.6666666666666666,
              "#ed7953"
             ],
             [
              0.7777777777777778,
              "#fb9f3a"
             ],
             [
              0.8888888888888888,
              "#fdca26"
             ],
             [
              1,
              "#f0f921"
             ]
            ],
            "type": "histogram2dcontour"
           }
          ],
          "mesh3d": [
           {
            "colorbar": {
             "outlinewidth": 0,
             "ticks": ""
            },
            "type": "mesh3d"
           }
          ],
          "parcoords": [
           {
            "line": {
             "colorbar": {
              "outlinewidth": 0,
              "ticks": ""
             }
            },
            "type": "parcoords"
           }
          ],
          "pie": [
           {
            "automargin": true,
            "type": "pie"
           }
          ],
          "scatter": [
           {
            "fillpattern": {
             "fillmode": "overlay",
             "size": 10,
             "solidity": 0.2
            },
            "type": "scatter"
           }
          ],
          "scatter3d": [
           {
            "line": {
             "colorbar": {
              "outlinewidth": 0,
              "ticks": ""
             }
            },
            "marker": {
             "colorbar": {
              "outlinewidth": 0,
              "ticks": ""
             }
            },
            "type": "scatter3d"
           }
          ],
          "scattercarpet": [
           {
            "marker": {
             "colorbar": {
              "outlinewidth": 0,
              "ticks": ""
             }
            },
            "type": "scattercarpet"
           }
          ],
          "scattergeo": [
           {
            "marker": {
             "colorbar": {
              "outlinewidth": 0,
              "ticks": ""
             }
            },
            "type": "scattergeo"
           }
          ],
          "scattergl": [
           {
            "marker": {
             "colorbar": {
              "outlinewidth": 0,
              "ticks": ""
             }
            },
            "type": "scattergl"
           }
          ],
          "scattermapbox": [
           {
            "marker": {
             "colorbar": {
              "outlinewidth": 0,
              "ticks": ""
             }
            },
            "type": "scattermapbox"
           }
          ],
          "scatterpolar": [
           {
            "marker": {
             "colorbar": {
              "outlinewidth": 0,
              "ticks": ""
             }
            },
            "type": "scatterpolar"
           }
          ],
          "scatterpolargl": [
           {
            "marker": {
             "colorbar": {
              "outlinewidth": 0,
              "ticks": ""
             }
            },
            "type": "scatterpolargl"
           }
          ],
          "scatterternary": [
           {
            "marker": {
             "colorbar": {
              "outlinewidth": 0,
              "ticks": ""
             }
            },
            "type": "scatterternary"
           }
          ],
          "surface": [
           {
            "colorbar": {
             "outlinewidth": 0,
             "ticks": ""
            },
            "colorscale": [
             [
              0,
              "#0d0887"
             ],
             [
              0.1111111111111111,
              "#46039f"
             ],
             [
              0.2222222222222222,
              "#7201a8"
             ],
             [
              0.3333333333333333,
              "#9c179e"
             ],
             [
              0.4444444444444444,
              "#bd3786"
             ],
             [
              0.5555555555555556,
              "#d8576b"
             ],
             [
              0.6666666666666666,
              "#ed7953"
             ],
             [
              0.7777777777777778,
              "#fb9f3a"
             ],
             [
              0.8888888888888888,
              "#fdca26"
             ],
             [
              1,
              "#f0f921"
             ]
            ],
            "type": "surface"
           }
          ],
          "table": [
           {
            "cells": {
             "fill": {
              "color": "#EBF0F8"
             },
             "line": {
              "color": "white"
             }
            },
            "header": {
             "fill": {
              "color": "#C8D4E3"
             },
             "line": {
              "color": "white"
             }
            },
            "type": "table"
           }
          ]
         },
         "layout": {
          "annotationdefaults": {
           "arrowcolor": "#2a3f5f",
           "arrowhead": 0,
           "arrowwidth": 1
          },
          "autotypenumbers": "strict",
          "coloraxis": {
           "colorbar": {
            "outlinewidth": 0,
            "ticks": ""
           }
          },
          "colorscale": {
           "diverging": [
            [
             0,
             "#8e0152"
            ],
            [
             0.1,
             "#c51b7d"
            ],
            [
             0.2,
             "#de77ae"
            ],
            [
             0.3,
             "#f1b6da"
            ],
            [
             0.4,
             "#fde0ef"
            ],
            [
             0.5,
             "#f7f7f7"
            ],
            [
             0.6,
             "#e6f5d0"
            ],
            [
             0.7,
             "#b8e186"
            ],
            [
             0.8,
             "#7fbc41"
            ],
            [
             0.9,
             "#4d9221"
            ],
            [
             1,
             "#276419"
            ]
           ],
           "sequential": [
            [
             0,
             "#0d0887"
            ],
            [
             0.1111111111111111,
             "#46039f"
            ],
            [
             0.2222222222222222,
             "#7201a8"
            ],
            [
             0.3333333333333333,
             "#9c179e"
            ],
            [
             0.4444444444444444,
             "#bd3786"
            ],
            [
             0.5555555555555556,
             "#d8576b"
            ],
            [
             0.6666666666666666,
             "#ed7953"
            ],
            [
             0.7777777777777778,
             "#fb9f3a"
            ],
            [
             0.8888888888888888,
             "#fdca26"
            ],
            [
             1,
             "#f0f921"
            ]
           ],
           "sequentialminus": [
            [
             0,
             "#0d0887"
            ],
            [
             0.1111111111111111,
             "#46039f"
            ],
            [
             0.2222222222222222,
             "#7201a8"
            ],
            [
             0.3333333333333333,
             "#9c179e"
            ],
            [
             0.4444444444444444,
             "#bd3786"
            ],
            [
             0.5555555555555556,
             "#d8576b"
            ],
            [
             0.6666666666666666,
             "#ed7953"
            ],
            [
             0.7777777777777778,
             "#fb9f3a"
            ],
            [
             0.8888888888888888,
             "#fdca26"
            ],
            [
             1,
             "#f0f921"
            ]
           ]
          },
          "colorway": [
           "#636efa",
           "#EF553B",
           "#00cc96",
           "#ab63fa",
           "#FFA15A",
           "#19d3f3",
           "#FF6692",
           "#B6E880",
           "#FF97FF",
           "#FECB52"
          ],
          "font": {
           "color": "#2a3f5f"
          },
          "geo": {
           "bgcolor": "white",
           "lakecolor": "white",
           "landcolor": "#E5ECF6",
           "showlakes": true,
           "showland": true,
           "subunitcolor": "white"
          },
          "hoverlabel": {
           "align": "left"
          },
          "hovermode": "closest",
          "mapbox": {
           "style": "light"
          },
          "paper_bgcolor": "white",
          "plot_bgcolor": "#E5ECF6",
          "polar": {
           "angularaxis": {
            "gridcolor": "white",
            "linecolor": "white",
            "ticks": ""
           },
           "bgcolor": "#E5ECF6",
           "radialaxis": {
            "gridcolor": "white",
            "linecolor": "white",
            "ticks": ""
           }
          },
          "scene": {
           "xaxis": {
            "backgroundcolor": "#E5ECF6",
            "gridcolor": "white",
            "gridwidth": 2,
            "linecolor": "white",
            "showbackground": true,
            "ticks": "",
            "zerolinecolor": "white"
           },
           "yaxis": {
            "backgroundcolor": "#E5ECF6",
            "gridcolor": "white",
            "gridwidth": 2,
            "linecolor": "white",
            "showbackground": true,
            "ticks": "",
            "zerolinecolor": "white"
           },
           "zaxis": {
            "backgroundcolor": "#E5ECF6",
            "gridcolor": "white",
            "gridwidth": 2,
            "linecolor": "white",
            "showbackground": true,
            "ticks": "",
            "zerolinecolor": "white"
           }
          },
          "shapedefaults": {
           "line": {
            "color": "#2a3f5f"
           }
          },
          "ternary": {
           "aaxis": {
            "gridcolor": "white",
            "linecolor": "white",
            "ticks": ""
           },
           "baxis": {
            "gridcolor": "white",
            "linecolor": "white",
            "ticks": ""
           },
           "bgcolor": "#E5ECF6",
           "caxis": {
            "gridcolor": "white",
            "linecolor": "white",
            "ticks": ""
           }
          },
          "title": {
           "x": 0.05
          },
          "xaxis": {
           "automargin": true,
           "gridcolor": "white",
           "linecolor": "white",
           "ticks": "",
           "title": {
            "standoff": 15
           },
           "zerolinecolor": "white",
           "zerolinewidth": 2
          },
          "yaxis": {
           "automargin": true,
           "gridcolor": "white",
           "linecolor": "white",
           "ticks": "",
           "title": {
            "standoff": 15
           },
           "zerolinecolor": "white",
           "zerolinewidth": 2
          }
         }
        },
        "title": {
         "text": "Normalized Distribution of Hydrophobic.distance across All PDB Files"
        },
        "xaxis": {
         "title": {
          "text": "Hydrophobic.distance"
         }
        },
        "yaxis": {
         "title": {
          "text": "Normalized Count"
         }
        }
       }
      }
     },
     "metadata": {},
     "output_type": "display_data"
    },
    {
     "data": {
      "application/vnd.jupyter.widget-view+json": {
       "model_id": "5b22233b4d934bc5a1391f7998dfcdc2",
       "version_major": 2,
       "version_minor": 0
      },
      "text/plain": [
       "interactive(children=(Dropdown(description='column', options=('Hydrophobic.distance', 'VdWContact.distance', '…"
      ]
     },
     "metadata": {},
     "output_type": "display_data"
    },
    {
     "data": {
      "application/vnd.plotly.v1+json": {
       "config": {
        "plotlyServerURL": "https://plot.ly"
       },
       "data": [
        {
         "marker": {
          "color": "blue"
         },
         "name": "All PDB Files",
         "opacity": 0.75,
         "type": "bar",
         "x": [
          2.540629165702914,
          2.559336345309371,
          2.5780435249158273,
          2.596750704522284,
          2.6154578841287406,
          2.6341650637351974,
          2.652872243341654,
          2.6715794229481107,
          2.690286602554567,
          2.708993782161024,
          2.7277009617674803,
          2.746408141373937,
          2.765115320980394,
          2.7838225005868504,
          2.802529680193307,
          2.8212368597997637,
          2.8399440394062205,
          2.858651219012677,
          2.877358398619134,
          2.89606557822559,
          2.914772757832047,
          2.9334799374385034,
          2.9521871170449603,
          2.9708942966514167,
          2.9896014762578735,
          3.0083086558643304,
          3.027015835470787,
          3.045723015077243,
          3.0644301946837,
          3.083137374290157,
          3.1018445538966133,
          3.12055173350307,
          3.1392589131095265,
          3.1579660927159834,
          3.17667327232244,
          3.1953804519288966,
          3.214087631535353,
          3.23279481114181,
          3.2515019907482667,
          3.270209170354723,
          3.2889163499611795,
          3.3076235295676364,
          3.3263307091740932,
          3.3450378887805496,
          3.3637450683870065,
          3.382452247993463,
          3.4011594275999197,
          3.419866607206376,
          3.438573786812833,
          3.4572809664192894
         ],
         "y": [
          0.000025823604569469634,
          0.000025823604569470248,
          0.000025823604569469634,
          0.00034431472759293666,
          0.0008263553462230283,
          0.0006628058506164031,
          0.001127630732866841,
          0.0013858667785615702,
          0.0013083959648531281,
          0.0013944746467513935,
          0.0006628058506163873,
          0.001050159919158432,
          0.0010243363145889866,
          0.0009296497645009289,
          0.000611158641477448,
          0.0008005317416535587,
          0.000783316005273931,
          0.0007316687961349731,
          0.0004562170140606411,
          0.0006369822460469177,
          0.0004303934094911708,
          0.0004648248822504534,
          0.0005939429050978157,
          0.0003701383321623981,
          0.000525079959579216,
          0.0002840596502641727,
          0.0004217855413013473,
          0.0001721573637964642,
          0.000284059650264166,
          0.00029266751845399613,
          0.00027545178207434275,
          0.00013772589103717465,
          0.00024102030931504994,
          0.00014633375922699807,
          0.00016354949560664102,
          0.00020658883655576198,
          0.00013772589103717137,
          0.00012051015465752497,
          0.00019798096836593857,
          0.00020658883655576198,
          0.00006886294551858569,
          0.00012051015465752497,
          0.000051647209138940495,
          0.0001721573637964642,
          0.00006025507732876391,
          0.00005164720913893927,
          0.00007747081370841075,
          0,
          0.00012051015465752782,
          0.00024102030931504994
         ]
        }
       ],
       "layout": {
        "barmode": "overlay",
        "template": {
         "data": {
          "bar": [
           {
            "error_x": {
             "color": "#2a3f5f"
            },
            "error_y": {
             "color": "#2a3f5f"
            },
            "marker": {
             "line": {
              "color": "#E5ECF6",
              "width": 0.5
             },
             "pattern": {
              "fillmode": "overlay",
              "size": 10,
              "solidity": 0.2
             }
            },
            "type": "bar"
           }
          ],
          "barpolar": [
           {
            "marker": {
             "line": {
              "color": "#E5ECF6",
              "width": 0.5
             },
             "pattern": {
              "fillmode": "overlay",
              "size": 10,
              "solidity": 0.2
             }
            },
            "type": "barpolar"
           }
          ],
          "carpet": [
           {
            "aaxis": {
             "endlinecolor": "#2a3f5f",
             "gridcolor": "white",
             "linecolor": "white",
             "minorgridcolor": "white",
             "startlinecolor": "#2a3f5f"
            },
            "baxis": {
             "endlinecolor": "#2a3f5f",
             "gridcolor": "white",
             "linecolor": "white",
             "minorgridcolor": "white",
             "startlinecolor": "#2a3f5f"
            },
            "type": "carpet"
           }
          ],
          "choropleth": [
           {
            "colorbar": {
             "outlinewidth": 0,
             "ticks": ""
            },
            "type": "choropleth"
           }
          ],
          "contour": [
           {
            "colorbar": {
             "outlinewidth": 0,
             "ticks": ""
            },
            "colorscale": [
             [
              0,
              "#0d0887"
             ],
             [
              0.1111111111111111,
              "#46039f"
             ],
             [
              0.2222222222222222,
              "#7201a8"
             ],
             [
              0.3333333333333333,
              "#9c179e"
             ],
             [
              0.4444444444444444,
              "#bd3786"
             ],
             [
              0.5555555555555556,
              "#d8576b"
             ],
             [
              0.6666666666666666,
              "#ed7953"
             ],
             [
              0.7777777777777778,
              "#fb9f3a"
             ],
             [
              0.8888888888888888,
              "#fdca26"
             ],
             [
              1,
              "#f0f921"
             ]
            ],
            "type": "contour"
           }
          ],
          "contourcarpet": [
           {
            "colorbar": {
             "outlinewidth": 0,
             "ticks": ""
            },
            "type": "contourcarpet"
           }
          ],
          "heatmap": [
           {
            "colorbar": {
             "outlinewidth": 0,
             "ticks": ""
            },
            "colorscale": [
             [
              0,
              "#0d0887"
             ],
             [
              0.1111111111111111,
              "#46039f"
             ],
             [
              0.2222222222222222,
              "#7201a8"
             ],
             [
              0.3333333333333333,
              "#9c179e"
             ],
             [
              0.4444444444444444,
              "#bd3786"
             ],
             [
              0.5555555555555556,
              "#d8576b"
             ],
             [
              0.6666666666666666,
              "#ed7953"
             ],
             [
              0.7777777777777778,
              "#fb9f3a"
             ],
             [
              0.8888888888888888,
              "#fdca26"
             ],
             [
              1,
              "#f0f921"
             ]
            ],
            "type": "heatmap"
           }
          ],
          "heatmapgl": [
           {
            "colorbar": {
             "outlinewidth": 0,
             "ticks": ""
            },
            "colorscale": [
             [
              0,
              "#0d0887"
             ],
             [
              0.1111111111111111,
              "#46039f"
             ],
             [
              0.2222222222222222,
              "#7201a8"
             ],
             [
              0.3333333333333333,
              "#9c179e"
             ],
             [
              0.4444444444444444,
              "#bd3786"
             ],
             [
              0.5555555555555556,
              "#d8576b"
             ],
             [
              0.6666666666666666,
              "#ed7953"
             ],
             [
              0.7777777777777778,
              "#fb9f3a"
             ],
             [
              0.8888888888888888,
              "#fdca26"
             ],
             [
              1,
              "#f0f921"
             ]
            ],
            "type": "heatmapgl"
           }
          ],
          "histogram": [
           {
            "marker": {
             "pattern": {
              "fillmode": "overlay",
              "size": 10,
              "solidity": 0.2
             }
            },
            "type": "histogram"
           }
          ],
          "histogram2d": [
           {
            "colorbar": {
             "outlinewidth": 0,
             "ticks": ""
            },
            "colorscale": [
             [
              0,
              "#0d0887"
             ],
             [
              0.1111111111111111,
              "#46039f"
             ],
             [
              0.2222222222222222,
              "#7201a8"
             ],
             [
              0.3333333333333333,
              "#9c179e"
             ],
             [
              0.4444444444444444,
              "#bd3786"
             ],
             [
              0.5555555555555556,
              "#d8576b"
             ],
             [
              0.6666666666666666,
              "#ed7953"
             ],
             [
              0.7777777777777778,
              "#fb9f3a"
             ],
             [
              0.8888888888888888,
              "#fdca26"
             ],
             [
              1,
              "#f0f921"
             ]
            ],
            "type": "histogram2d"
           }
          ],
          "histogram2dcontour": [
           {
            "colorbar": {
             "outlinewidth": 0,
             "ticks": ""
            },
            "colorscale": [
             [
              0,
              "#0d0887"
             ],
             [
              0.1111111111111111,
              "#46039f"
             ],
             [
              0.2222222222222222,
              "#7201a8"
             ],
             [
              0.3333333333333333,
              "#9c179e"
             ],
             [
              0.4444444444444444,
              "#bd3786"
             ],
             [
              0.5555555555555556,
              "#d8576b"
             ],
             [
              0.6666666666666666,
              "#ed7953"
             ],
             [
              0.7777777777777778,
              "#fb9f3a"
             ],
             [
              0.8888888888888888,
              "#fdca26"
             ],
             [
              1,
              "#f0f921"
             ]
            ],
            "type": "histogram2dcontour"
           }
          ],
          "mesh3d": [
           {
            "colorbar": {
             "outlinewidth": 0,
             "ticks": ""
            },
            "type": "mesh3d"
           }
          ],
          "parcoords": [
           {
            "line": {
             "colorbar": {
              "outlinewidth": 0,
              "ticks": ""
             }
            },
            "type": "parcoords"
           }
          ],
          "pie": [
           {
            "automargin": true,
            "type": "pie"
           }
          ],
          "scatter": [
           {
            "fillpattern": {
             "fillmode": "overlay",
             "size": 10,
             "solidity": 0.2
            },
            "type": "scatter"
           }
          ],
          "scatter3d": [
           {
            "line": {
             "colorbar": {
              "outlinewidth": 0,
              "ticks": ""
             }
            },
            "marker": {
             "colorbar": {
              "outlinewidth": 0,
              "ticks": ""
             }
            },
            "type": "scatter3d"
           }
          ],
          "scattercarpet": [
           {
            "marker": {
             "colorbar": {
              "outlinewidth": 0,
              "ticks": ""
             }
            },
            "type": "scattercarpet"
           }
          ],
          "scattergeo": [
           {
            "marker": {
             "colorbar": {
              "outlinewidth": 0,
              "ticks": ""
             }
            },
            "type": "scattergeo"
           }
          ],
          "scattergl": [
           {
            "marker": {
             "colorbar": {
              "outlinewidth": 0,
              "ticks": ""
             }
            },
            "type": "scattergl"
           }
          ],
          "scattermapbox": [
           {
            "marker": {
             "colorbar": {
              "outlinewidth": 0,
              "ticks": ""
             }
            },
            "type": "scattermapbox"
           }
          ],
          "scatterpolar": [
           {
            "marker": {
             "colorbar": {
              "outlinewidth": 0,
              "ticks": ""
             }
            },
            "type": "scatterpolar"
           }
          ],
          "scatterpolargl": [
           {
            "marker": {
             "colorbar": {
              "outlinewidth": 0,
              "ticks": ""
             }
            },
            "type": "scatterpolargl"
           }
          ],
          "scatterternary": [
           {
            "marker": {
             "colorbar": {
              "outlinewidth": 0,
              "ticks": ""
             }
            },
            "type": "scatterternary"
           }
          ],
          "surface": [
           {
            "colorbar": {
             "outlinewidth": 0,
             "ticks": ""
            },
            "colorscale": [
             [
              0,
              "#0d0887"
             ],
             [
              0.1111111111111111,
              "#46039f"
             ],
             [
              0.2222222222222222,
              "#7201a8"
             ],
             [
              0.3333333333333333,
              "#9c179e"
             ],
             [
              0.4444444444444444,
              "#bd3786"
             ],
             [
              0.5555555555555556,
              "#d8576b"
             ],
             [
              0.6666666666666666,
              "#ed7953"
             ],
             [
              0.7777777777777778,
              "#fb9f3a"
             ],
             [
              0.8888888888888888,
              "#fdca26"
             ],
             [
              1,
              "#f0f921"
             ]
            ],
            "type": "surface"
           }
          ],
          "table": [
           {
            "cells": {
             "fill": {
              "color": "#EBF0F8"
             },
             "line": {
              "color": "white"
             }
            },
            "header": {
             "fill": {
              "color": "#C8D4E3"
             },
             "line": {
              "color": "white"
             }
            },
            "type": "table"
           }
          ]
         },
         "layout": {
          "annotationdefaults": {
           "arrowcolor": "#2a3f5f",
           "arrowhead": 0,
           "arrowwidth": 1
          },
          "autotypenumbers": "strict",
          "coloraxis": {
           "colorbar": {
            "outlinewidth": 0,
            "ticks": ""
           }
          },
          "colorscale": {
           "diverging": [
            [
             0,
             "#8e0152"
            ],
            [
             0.1,
             "#c51b7d"
            ],
            [
             0.2,
             "#de77ae"
            ],
            [
             0.3,
             "#f1b6da"
            ],
            [
             0.4,
             "#fde0ef"
            ],
            [
             0.5,
             "#f7f7f7"
            ],
            [
             0.6,
             "#e6f5d0"
            ],
            [
             0.7,
             "#b8e186"
            ],
            [
             0.8,
             "#7fbc41"
            ],
            [
             0.9,
             "#4d9221"
            ],
            [
             1,
             "#276419"
            ]
           ],
           "sequential": [
            [
             0,
             "#0d0887"
            ],
            [
             0.1111111111111111,
             "#46039f"
            ],
            [
             0.2222222222222222,
             "#7201a8"
            ],
            [
             0.3333333333333333,
             "#9c179e"
            ],
            [
             0.4444444444444444,
             "#bd3786"
            ],
            [
             0.5555555555555556,
             "#d8576b"
            ],
            [
             0.6666666666666666,
             "#ed7953"
            ],
            [
             0.7777777777777778,
             "#fb9f3a"
            ],
            [
             0.8888888888888888,
             "#fdca26"
            ],
            [
             1,
             "#f0f921"
            ]
           ],
           "sequentialminus": [
            [
             0,
             "#0d0887"
            ],
            [
             0.1111111111111111,
             "#46039f"
            ],
            [
             0.2222222222222222,
             "#7201a8"
            ],
            [
             0.3333333333333333,
             "#9c179e"
            ],
            [
             0.4444444444444444,
             "#bd3786"
            ],
            [
             0.5555555555555556,
             "#d8576b"
            ],
            [
             0.6666666666666666,
             "#ed7953"
            ],
            [
             0.7777777777777778,
             "#fb9f3a"
            ],
            [
             0.8888888888888888,
             "#fdca26"
            ],
            [
             1,
             "#f0f921"
            ]
           ]
          },
          "colorway": [
           "#636efa",
           "#EF553B",
           "#00cc96",
           "#ab63fa",
           "#FFA15A",
           "#19d3f3",
           "#FF6692",
           "#B6E880",
           "#FF97FF",
           "#FECB52"
          ],
          "font": {
           "color": "#2a3f5f"
          },
          "geo": {
           "bgcolor": "white",
           "lakecolor": "white",
           "landcolor": "#E5ECF6",
           "showlakes": true,
           "showland": true,
           "subunitcolor": "white"
          },
          "hoverlabel": {
           "align": "left"
          },
          "hovermode": "closest",
          "mapbox": {
           "style": "light"
          },
          "paper_bgcolor": "white",
          "plot_bgcolor": "#E5ECF6",
          "polar": {
           "angularaxis": {
            "gridcolor": "white",
            "linecolor": "white",
            "ticks": ""
           },
           "bgcolor": "#E5ECF6",
           "radialaxis": {
            "gridcolor": "white",
            "linecolor": "white",
            "ticks": ""
           }
          },
          "scene": {
           "xaxis": {
            "backgroundcolor": "#E5ECF6",
            "gridcolor": "white",
            "gridwidth": 2,
            "linecolor": "white",
            "showbackground": true,
            "ticks": "",
            "zerolinecolor": "white"
           },
           "yaxis": {
            "backgroundcolor": "#E5ECF6",
            "gridcolor": "white",
            "gridwidth": 2,
            "linecolor": "white",
            "showbackground": true,
            "ticks": "",
            "zerolinecolor": "white"
           },
           "zaxis": {
            "backgroundcolor": "#E5ECF6",
            "gridcolor": "white",
            "gridwidth": 2,
            "linecolor": "white",
            "showbackground": true,
            "ticks": "",
            "zerolinecolor": "white"
           }
          },
          "shapedefaults": {
           "line": {
            "color": "#2a3f5f"
           }
          },
          "ternary": {
           "aaxis": {
            "gridcolor": "white",
            "linecolor": "white",
            "ticks": ""
           },
           "baxis": {
            "gridcolor": "white",
            "linecolor": "white",
            "ticks": ""
           },
           "bgcolor": "#E5ECF6",
           "caxis": {
            "gridcolor": "white",
            "linecolor": "white",
            "ticks": ""
           }
          },
          "title": {
           "x": 0.05
          },
          "xaxis": {
           "automargin": true,
           "gridcolor": "white",
           "linecolor": "white",
           "ticks": "",
           "title": {
            "standoff": 15
           },
           "zerolinecolor": "white",
           "zerolinewidth": 2
          },
          "yaxis": {
           "automargin": true,
           "gridcolor": "white",
           "linecolor": "white",
           "ticks": "",
           "title": {
            "standoff": 15
           },
           "zerolinecolor": "white",
           "zerolinewidth": 2
          }
         }
        },
        "title": {
         "text": "Normalized Distribution of HBDonor.distance across All PDB Files"
        },
        "xaxis": {
         "title": {
          "text": "HBDonor.distance"
         }
        },
        "yaxis": {
         "title": {
          "text": "Normalized Count"
         }
        }
       }
      }
     },
     "metadata": {},
     "output_type": "display_data"
    },
    {
     "data": {
      "application/vnd.plotly.v1+json": {
       "config": {
        "plotlyServerURL": "https://plot.ly"
       },
       "data": [
        {
         "marker": {
          "color": "blue"
         },
         "name": "All PDB Files",
         "opacity": 0.75,
         "type": "bar",
         "x": [
          2.6592850600571594,
          2.69600125334288,
          2.7327174466286,
          2.7694336399143205,
          2.806149833200041,
          2.842866026485761,
          2.8795822197714815,
          2.9162984130572016,
          2.953014606342922,
          2.9897307996286426,
          3.0264469929143627,
          3.063163186200083,
          3.0998793794858033,
          3.136595572771524,
          3.1733117660572443,
          3.2100279593429644,
          3.246744152628685,
          3.2834603459144054,
          3.3201765392001255,
          3.356892732485846,
          3.3936089257715665,
          3.4303251190572865,
          3.467041312343007,
          3.5037575056287276,
          3.5404736989144476,
          3.5771898922001677,
          3.613906085485888,
          3.6506222787716087,
          3.687338472057329,
          3.7240546653430493,
          3.76077085862877,
          3.79748705191449,
          3.8342032452002104,
          3.870919438485931,
          3.907635631771651,
          3.9443518250573715,
          3.981068018343092,
          4.017784211628812,
          4.054500404914533,
          4.091216598200253,
          4.127932791485973,
          4.164648984771693,
          4.201365178057413,
          4.238081371343134,
          4.274797564628854,
          4.311513757914575,
          4.348229951200295,
          4.384946144486015,
          4.4216623377717355,
          4.458378531057456
         ],
         "y": [
          0.00017473714473075186,
          0.00003883047660683422,
          0.00012619904897220969,
          0.00015532190642733498,
          0.00011649142982050264,
          0.00015532190642733498,
          0.00011649142982050264,
          0.0002426904787927109,
          0.00006795333406195906,
          0.00002912285745512566,
          0.00006795333406195906,
          0.00009707619151708555,
          0,
          0.00006795333406195906,
          0.0001067838106687941,
          0,
          0.00002912285745512531,
          0,
          0.00007766095321366749,
          0.00009707619151708437,
          0.00002912285745512566,
          0.00017473714473075186,
          0.00013590666812391813,
          0.00007766095321366844,
          0.00013590666812391975,
          0.00005824571491025062,
          0.00013590666812391813,
          0.0003009361937029652,
          0.00032035143200637845,
          0.00015532190642733498,
          0.00044655048097859347,
          0.00033005905115808683,
          0.0003494742894615037,
          0.0003591819086132165,
          0.0006018723874059231,
          0.0006407028640127569,
          0.00034947428946150794,
          0.0008251476278952071,
          0.0007086561980747244,
          0.0010290076300811066,
          0.0008931009619571869,
          0.0006892409597713073,
          0.0007086561980747072,
          0.0009901771534742726,
          0.0008445628661986238,
          0.0008639781045020614,
          0.0006892409597713073,
          0.0005824571491025132,
          0.0006407028640127491,
          0.0004271352426751764
         ]
        }
       ],
       "layout": {
        "barmode": "overlay",
        "template": {
         "data": {
          "bar": [
           {
            "error_x": {
             "color": "#2a3f5f"
            },
            "error_y": {
             "color": "#2a3f5f"
            },
            "marker": {
             "line": {
              "color": "#E5ECF6",
              "width": 0.5
             },
             "pattern": {
              "fillmode": "overlay",
              "size": 10,
              "solidity": 0.2
             }
            },
            "type": "bar"
           }
          ],
          "barpolar": [
           {
            "marker": {
             "line": {
              "color": "#E5ECF6",
              "width": 0.5
             },
             "pattern": {
              "fillmode": "overlay",
              "size": 10,
              "solidity": 0.2
             }
            },
            "type": "barpolar"
           }
          ],
          "carpet": [
           {
            "aaxis": {
             "endlinecolor": "#2a3f5f",
             "gridcolor": "white",
             "linecolor": "white",
             "minorgridcolor": "white",
             "startlinecolor": "#2a3f5f"
            },
            "baxis": {
             "endlinecolor": "#2a3f5f",
             "gridcolor": "white",
             "linecolor": "white",
             "minorgridcolor": "white",
             "startlinecolor": "#2a3f5f"
            },
            "type": "carpet"
           }
          ],
          "choropleth": [
           {
            "colorbar": {
             "outlinewidth": 0,
             "ticks": ""
            },
            "type": "choropleth"
           }
          ],
          "contour": [
           {
            "colorbar": {
             "outlinewidth": 0,
             "ticks": ""
            },
            "colorscale": [
             [
              0,
              "#0d0887"
             ],
             [
              0.1111111111111111,
              "#46039f"
             ],
             [
              0.2222222222222222,
              "#7201a8"
             ],
             [
              0.3333333333333333,
              "#9c179e"
             ],
             [
              0.4444444444444444,
              "#bd3786"
             ],
             [
              0.5555555555555556,
              "#d8576b"
             ],
             [
              0.6666666666666666,
              "#ed7953"
             ],
             [
              0.7777777777777778,
              "#fb9f3a"
             ],
             [
              0.8888888888888888,
              "#fdca26"
             ],
             [
              1,
              "#f0f921"
             ]
            ],
            "type": "contour"
           }
          ],
          "contourcarpet": [
           {
            "colorbar": {
             "outlinewidth": 0,
             "ticks": ""
            },
            "type": "contourcarpet"
           }
          ],
          "heatmap": [
           {
            "colorbar": {
             "outlinewidth": 0,
             "ticks": ""
            },
            "colorscale": [
             [
              0,
              "#0d0887"
             ],
             [
              0.1111111111111111,
              "#46039f"
             ],
             [
              0.2222222222222222,
              "#7201a8"
             ],
             [
              0.3333333333333333,
              "#9c179e"
             ],
             [
              0.4444444444444444,
              "#bd3786"
             ],
             [
              0.5555555555555556,
              "#d8576b"
             ],
             [
              0.6666666666666666,
              "#ed7953"
             ],
             [
              0.7777777777777778,
              "#fb9f3a"
             ],
             [
              0.8888888888888888,
              "#fdca26"
             ],
             [
              1,
              "#f0f921"
             ]
            ],
            "type": "heatmap"
           }
          ],
          "heatmapgl": [
           {
            "colorbar": {
             "outlinewidth": 0,
             "ticks": ""
            },
            "colorscale": [
             [
              0,
              "#0d0887"
             ],
             [
              0.1111111111111111,
              "#46039f"
             ],
             [
              0.2222222222222222,
              "#7201a8"
             ],
             [
              0.3333333333333333,
              "#9c179e"
             ],
             [
              0.4444444444444444,
              "#bd3786"
             ],
             [
              0.5555555555555556,
              "#d8576b"
             ],
             [
              0.6666666666666666,
              "#ed7953"
             ],
             [
              0.7777777777777778,
              "#fb9f3a"
             ],
             [
              0.8888888888888888,
              "#fdca26"
             ],
             [
              1,
              "#f0f921"
             ]
            ],
            "type": "heatmapgl"
           }
          ],
          "histogram": [
           {
            "marker": {
             "pattern": {
              "fillmode": "overlay",
              "size": 10,
              "solidity": 0.2
             }
            },
            "type": "histogram"
           }
          ],
          "histogram2d": [
           {
            "colorbar": {
             "outlinewidth": 0,
             "ticks": ""
            },
            "colorscale": [
             [
              0,
              "#0d0887"
             ],
             [
              0.1111111111111111,
              "#46039f"
             ],
             [
              0.2222222222222222,
              "#7201a8"
             ],
             [
              0.3333333333333333,
              "#9c179e"
             ],
             [
              0.4444444444444444,
              "#bd3786"
             ],
             [
              0.5555555555555556,
              "#d8576b"
             ],
             [
              0.6666666666666666,
              "#ed7953"
             ],
             [
              0.7777777777777778,
              "#fb9f3a"
             ],
             [
              0.8888888888888888,
              "#fdca26"
             ],
             [
              1,
              "#f0f921"
             ]
            ],
            "type": "histogram2d"
           }
          ],
          "histogram2dcontour": [
           {
            "colorbar": {
             "outlinewidth": 0,
             "ticks": ""
            },
            "colorscale": [
             [
              0,
              "#0d0887"
             ],
             [
              0.1111111111111111,
              "#46039f"
             ],
             [
              0.2222222222222222,
              "#7201a8"
             ],
             [
              0.3333333333333333,
              "#9c179e"
             ],
             [
              0.4444444444444444,
              "#bd3786"
             ],
             [
              0.5555555555555556,
              "#d8576b"
             ],
             [
              0.6666666666666666,
              "#ed7953"
             ],
             [
              0.7777777777777778,
              "#fb9f3a"
             ],
             [
              0.8888888888888888,
              "#fdca26"
             ],
             [
              1,
              "#f0f921"
             ]
            ],
            "type": "histogram2dcontour"
           }
          ],
          "mesh3d": [
           {
            "colorbar": {
             "outlinewidth": 0,
             "ticks": ""
            },
            "type": "mesh3d"
           }
          ],
          "parcoords": [
           {
            "line": {
             "colorbar": {
              "outlinewidth": 0,
              "ticks": ""
             }
            },
            "type": "parcoords"
           }
          ],
          "pie": [
           {
            "automargin": true,
            "type": "pie"
           }
          ],
          "scatter": [
           {
            "fillpattern": {
             "fillmode": "overlay",
             "size": 10,
             "solidity": 0.2
            },
            "type": "scatter"
           }
          ],
          "scatter3d": [
           {
            "line": {
             "colorbar": {
              "outlinewidth": 0,
              "ticks": ""
             }
            },
            "marker": {
             "colorbar": {
              "outlinewidth": 0,
              "ticks": ""
             }
            },
            "type": "scatter3d"
           }
          ],
          "scattercarpet": [
           {
            "marker": {
             "colorbar": {
              "outlinewidth": 0,
              "ticks": ""
             }
            },
            "type": "scattercarpet"
           }
          ],
          "scattergeo": [
           {
            "marker": {
             "colorbar": {
              "outlinewidth": 0,
              "ticks": ""
             }
            },
            "type": "scattergeo"
           }
          ],
          "scattergl": [
           {
            "marker": {
             "colorbar": {
              "outlinewidth": 0,
              "ticks": ""
             }
            },
            "type": "scattergl"
           }
          ],
          "scattermapbox": [
           {
            "marker": {
             "colorbar": {
              "outlinewidth": 0,
              "ticks": ""
             }
            },
            "type": "scattermapbox"
           }
          ],
          "scatterpolar": [
           {
            "marker": {
             "colorbar": {
              "outlinewidth": 0,
              "ticks": ""
             }
            },
            "type": "scatterpolar"
           }
          ],
          "scatterpolargl": [
           {
            "marker": {
             "colorbar": {
              "outlinewidth": 0,
              "ticks": ""
             }
            },
            "type": "scatterpolargl"
           }
          ],
          "scatterternary": [
           {
            "marker": {
             "colorbar": {
              "outlinewidth": 0,
              "ticks": ""
             }
            },
            "type": "scatterternary"
           }
          ],
          "surface": [
           {
            "colorbar": {
             "outlinewidth": 0,
             "ticks": ""
            },
            "colorscale": [
             [
              0,
              "#0d0887"
             ],
             [
              0.1111111111111111,
              "#46039f"
             ],
             [
              0.2222222222222222,
              "#7201a8"
             ],
             [
              0.3333333333333333,
              "#9c179e"
             ],
             [
              0.4444444444444444,
              "#bd3786"
             ],
             [
              0.5555555555555556,
              "#d8576b"
             ],
             [
              0.6666666666666666,
              "#ed7953"
             ],
             [
              0.7777777777777778,
              "#fb9f3a"
             ],
             [
              0.8888888888888888,
              "#fdca26"
             ],
             [
              1,
              "#f0f921"
             ]
            ],
            "type": "surface"
           }
          ],
          "table": [
           {
            "cells": {
             "fill": {
              "color": "#EBF0F8"
             },
             "line": {
              "color": "white"
             }
            },
            "header": {
             "fill": {
              "color": "#C8D4E3"
             },
             "line": {
              "color": "white"
             }
            },
            "type": "table"
           }
          ]
         },
         "layout": {
          "annotationdefaults": {
           "arrowcolor": "#2a3f5f",
           "arrowhead": 0,
           "arrowwidth": 1
          },
          "autotypenumbers": "strict",
          "coloraxis": {
           "colorbar": {
            "outlinewidth": 0,
            "ticks": ""
           }
          },
          "colorscale": {
           "diverging": [
            [
             0,
             "#8e0152"
            ],
            [
             0.1,
             "#c51b7d"
            ],
            [
             0.2,
             "#de77ae"
            ],
            [
             0.3,
             "#f1b6da"
            ],
            [
             0.4,
             "#fde0ef"
            ],
            [
             0.5,
             "#f7f7f7"
            ],
            [
             0.6,
             "#e6f5d0"
            ],
            [
             0.7,
             "#b8e186"
            ],
            [
             0.8,
             "#7fbc41"
            ],
            [
             0.9,
             "#4d9221"
            ],
            [
             1,
             "#276419"
            ]
           ],
           "sequential": [
            [
             0,
             "#0d0887"
            ],
            [
             0.1111111111111111,
             "#46039f"
            ],
            [
             0.2222222222222222,
             "#7201a8"
            ],
            [
             0.3333333333333333,
             "#9c179e"
            ],
            [
             0.4444444444444444,
             "#bd3786"
            ],
            [
             0.5555555555555556,
             "#d8576b"
            ],
            [
             0.6666666666666666,
             "#ed7953"
            ],
            [
             0.7777777777777778,
             "#fb9f3a"
            ],
            [
             0.8888888888888888,
             "#fdca26"
            ],
            [
             1,
             "#f0f921"
            ]
           ],
           "sequentialminus": [
            [
             0,
             "#0d0887"
            ],
            [
             0.1111111111111111,
             "#46039f"
            ],
            [
             0.2222222222222222,
             "#7201a8"
            ],
            [
             0.3333333333333333,
             "#9c179e"
            ],
            [
             0.4444444444444444,
             "#bd3786"
            ],
            [
             0.5555555555555556,
             "#d8576b"
            ],
            [
             0.6666666666666666,
             "#ed7953"
            ],
            [
             0.7777777777777778,
             "#fb9f3a"
            ],
            [
             0.8888888888888888,
             "#fdca26"
            ],
            [
             1,
             "#f0f921"
            ]
           ]
          },
          "colorway": [
           "#636efa",
           "#EF553B",
           "#00cc96",
           "#ab63fa",
           "#FFA15A",
           "#19d3f3",
           "#FF6692",
           "#B6E880",
           "#FF97FF",
           "#FECB52"
          ],
          "font": {
           "color": "#2a3f5f"
          },
          "geo": {
           "bgcolor": "white",
           "lakecolor": "white",
           "landcolor": "#E5ECF6",
           "showlakes": true,
           "showland": true,
           "subunitcolor": "white"
          },
          "hoverlabel": {
           "align": "left"
          },
          "hovermode": "closest",
          "mapbox": {
           "style": "light"
          },
          "paper_bgcolor": "white",
          "plot_bgcolor": "#E5ECF6",
          "polar": {
           "angularaxis": {
            "gridcolor": "white",
            "linecolor": "white",
            "ticks": ""
           },
           "bgcolor": "#E5ECF6",
           "radialaxis": {
            "gridcolor": "white",
            "linecolor": "white",
            "ticks": ""
           }
          },
          "scene": {
           "xaxis": {
            "backgroundcolor": "#E5ECF6",
            "gridcolor": "white",
            "gridwidth": 2,
            "linecolor": "white",
            "showbackground": true,
            "ticks": "",
            "zerolinecolor": "white"
           },
           "yaxis": {
            "backgroundcolor": "#E5ECF6",
            "gridcolor": "white",
            "gridwidth": 2,
            "linecolor": "white",
            "showbackground": true,
            "ticks": "",
            "zerolinecolor": "white"
           },
           "zaxis": {
            "backgroundcolor": "#E5ECF6",
            "gridcolor": "white",
            "gridwidth": 2,
            "linecolor": "white",
            "showbackground": true,
            "ticks": "",
            "zerolinecolor": "white"
           }
          },
          "shapedefaults": {
           "line": {
            "color": "#2a3f5f"
           }
          },
          "ternary": {
           "aaxis": {
            "gridcolor": "white",
            "linecolor": "white",
            "ticks": ""
           },
           "baxis": {
            "gridcolor": "white",
            "linecolor": "white",
            "ticks": ""
           },
           "bgcolor": "#E5ECF6",
           "caxis": {
            "gridcolor": "white",
            "linecolor": "white",
            "ticks": ""
           }
          },
          "title": {
           "x": 0.05
          },
          "xaxis": {
           "automargin": true,
           "gridcolor": "white",
           "linecolor": "white",
           "ticks": "",
           "title": {
            "standoff": 15
           },
           "zerolinecolor": "white",
           "zerolinewidth": 2
          },
          "yaxis": {
           "automargin": true,
           "gridcolor": "white",
           "linecolor": "white",
           "ticks": "",
           "title": {
            "standoff": 15
           },
           "zerolinecolor": "white",
           "zerolinewidth": 2
          }
         }
        },
        "title": {
         "text": "Normalized Distribution of Cationic.distance across All PDB Files"
        },
        "xaxis": {
         "title": {
          "text": "Cationic.distance"
         }
        },
        "yaxis": {
         "title": {
          "text": "Normalized Count"
         }
        }
       }
      }
     },
     "metadata": {},
     "output_type": "display_data"
    },
    {
     "data": {
      "application/vnd.plotly.v1+json": {
       "config": {
        "plotlyServerURL": "https://plot.ly"
       },
       "data": [
        {
         "marker": {
          "color": "blue"
         },
         "name": "All PDB Files",
         "opacity": 0.75,
         "type": "bar",
         "x": [
          1.845622103877706,
          1.8786985743394062,
          1.9117750448011066,
          1.9448515152628068,
          1.9779279857245071,
          2.0110044561862073,
          2.0440809266479074,
          2.0771573971096076,
          2.110233867571308,
          2.1433103380330083,
          2.1763868084947084,
          2.2094632789564086,
          2.2425397494181087,
          2.2756162198798093,
          2.3086926903415095,
          2.3417691608032096,
          2.3748456312649098,
          2.4079221017266104,
          2.4409985721883105,
          2.4740750426500107,
          2.507151513111711,
          2.540227983573411,
          2.573304454035111,
          2.6063809244968117,
          2.639457394958512,
          2.672533865420212,
          2.705610335881912,
          2.7386868063436127,
          2.771763276805313,
          2.804839747267013,
          2.837916217728713,
          2.8709926881904133,
          2.9040691586521135,
          2.9371456291138136,
          2.970222099575514,
          3.0032985700372143,
          3.036375040498915,
          3.069451510960615,
          3.1025279814223152,
          3.1356044518840154,
          3.1686809223457155,
          3.2017573928074157,
          3.234833863269116,
          3.267910333730816,
          3.3009868041925166,
          3.3340632746542167,
          3.3671397451159173,
          3.4002162155776174,
          3.4332926860393176,
          3.4663691565010177
         ],
         "y": [
          3.6386276749956437e-7,
          0.0000018193138374978093,
          7.277255349991287e-7,
          9.096569187489047e-7,
          0.0000025470393724969504,
          0.000004002490442495208,
          0.000006003735663742812,
          0.000015100304851231718,
          0.000024924599573720158,
          0.000026380050643718414,
          0.00002510653095746994,
          0.000011461677176236277,
          0.000013644853781233478,
          0.000017101550072479524,
          0.000018193138374978217,
          0.00003092833523746297,
          0.000028927090016214978,
          0.000033839237377459485,
          0.00004275387518119881,
          0.00005330589543868617,
          0.00005257816990368706,
          0.00008259684822240111,
          0.00007568345563990836,
          0.00008423423067614914,
          0.00008532581897864785,
          0.00012189402711235405,
          0.00012717003724109602,
          0.00014627283253482485,
          0.00016082734323480746,
          0.000047302159774943366,
          0.00005421555235743509,
          0.00004257194379744903,
          0.00004148035549495034,
          0.00004584670870494449,
          0.00004293580656494859,
          0.00004802988530994185,
          0.00004566477732119533,
          0.00003602241398245687,
          0.000058763836951179646,
          0.00008077753438490329,
          0.00007313641626741243,
          0.00006877006305741767,
          0.00005185044436868792,
          0.00007277255349991189,
          0.000058581905567429854,
          0.00007149903381366345,
          0.00009715135892238368,
          0.0000014554510699982575,
          0.000004730215977494337,
          0.000007095323966241504
         ]
        }
       ],
       "layout": {
        "barmode": "overlay",
        "template": {
         "data": {
          "bar": [
           {
            "error_x": {
             "color": "#2a3f5f"
            },
            "error_y": {
             "color": "#2a3f5f"
            },
            "marker": {
             "line": {
              "color": "#E5ECF6",
              "width": 0.5
             },
             "pattern": {
              "fillmode": "overlay",
              "size": 10,
              "solidity": 0.2
             }
            },
            "type": "bar"
           }
          ],
          "barpolar": [
           {
            "marker": {
             "line": {
              "color": "#E5ECF6",
              "width": 0.5
             },
             "pattern": {
              "fillmode": "overlay",
              "size": 10,
              "solidity": 0.2
             }
            },
            "type": "barpolar"
           }
          ],
          "carpet": [
           {
            "aaxis": {
             "endlinecolor": "#2a3f5f",
             "gridcolor": "white",
             "linecolor": "white",
             "minorgridcolor": "white",
             "startlinecolor": "#2a3f5f"
            },
            "baxis": {
             "endlinecolor": "#2a3f5f",
             "gridcolor": "white",
             "linecolor": "white",
             "minorgridcolor": "white",
             "startlinecolor": "#2a3f5f"
            },
            "type": "carpet"
           }
          ],
          "choropleth": [
           {
            "colorbar": {
             "outlinewidth": 0,
             "ticks": ""
            },
            "type": "choropleth"
           }
          ],
          "contour": [
           {
            "colorbar": {
             "outlinewidth": 0,
             "ticks": ""
            },
            "colorscale": [
             [
              0,
              "#0d0887"
             ],
             [
              0.1111111111111111,
              "#46039f"
             ],
             [
              0.2222222222222222,
              "#7201a8"
             ],
             [
              0.3333333333333333,
              "#9c179e"
             ],
             [
              0.4444444444444444,
              "#bd3786"
             ],
             [
              0.5555555555555556,
              "#d8576b"
             ],
             [
              0.6666666666666666,
              "#ed7953"
             ],
             [
              0.7777777777777778,
              "#fb9f3a"
             ],
             [
              0.8888888888888888,
              "#fdca26"
             ],
             [
              1,
              "#f0f921"
             ]
            ],
            "type": "contour"
           }
          ],
          "contourcarpet": [
           {
            "colorbar": {
             "outlinewidth": 0,
             "ticks": ""
            },
            "type": "contourcarpet"
           }
          ],
          "heatmap": [
           {
            "colorbar": {
             "outlinewidth": 0,
             "ticks": ""
            },
            "colorscale": [
             [
              0,
              "#0d0887"
             ],
             [
              0.1111111111111111,
              "#46039f"
             ],
             [
              0.2222222222222222,
              "#7201a8"
             ],
             [
              0.3333333333333333,
              "#9c179e"
             ],
             [
              0.4444444444444444,
              "#bd3786"
             ],
             [
              0.5555555555555556,
              "#d8576b"
             ],
             [
              0.6666666666666666,
              "#ed7953"
             ],
             [
              0.7777777777777778,
              "#fb9f3a"
             ],
             [
              0.8888888888888888,
              "#fdca26"
             ],
             [
              1,
              "#f0f921"
             ]
            ],
            "type": "heatmap"
           }
          ],
          "heatmapgl": [
           {
            "colorbar": {
             "outlinewidth": 0,
             "ticks": ""
            },
            "colorscale": [
             [
              0,
              "#0d0887"
             ],
             [
              0.1111111111111111,
              "#46039f"
             ],
             [
              0.2222222222222222,
              "#7201a8"
             ],
             [
              0.3333333333333333,
              "#9c179e"
             ],
             [
              0.4444444444444444,
              "#bd3786"
             ],
             [
              0.5555555555555556,
              "#d8576b"
             ],
             [
              0.6666666666666666,
              "#ed7953"
             ],
             [
              0.7777777777777778,
              "#fb9f3a"
             ],
             [
              0.8888888888888888,
              "#fdca26"
             ],
             [
              1,
              "#f0f921"
             ]
            ],
            "type": "heatmapgl"
           }
          ],
          "histogram": [
           {
            "marker": {
             "pattern": {
              "fillmode": "overlay",
              "size": 10,
              "solidity": 0.2
             }
            },
            "type": "histogram"
           }
          ],
          "histogram2d": [
           {
            "colorbar": {
             "outlinewidth": 0,
             "ticks": ""
            },
            "colorscale": [
             [
              0,
              "#0d0887"
             ],
             [
              0.1111111111111111,
              "#46039f"
             ],
             [
              0.2222222222222222,
              "#7201a8"
             ],
             [
              0.3333333333333333,
              "#9c179e"
             ],
             [
              0.4444444444444444,
              "#bd3786"
             ],
             [
              0.5555555555555556,
              "#d8576b"
             ],
             [
              0.6666666666666666,
              "#ed7953"
             ],
             [
              0.7777777777777778,
              "#fb9f3a"
             ],
             [
              0.8888888888888888,
              "#fdca26"
             ],
             [
              1,
              "#f0f921"
             ]
            ],
            "type": "histogram2d"
           }
          ],
          "histogram2dcontour": [
           {
            "colorbar": {
             "outlinewidth": 0,
             "ticks": ""
            },
            "colorscale": [
             [
              0,
              "#0d0887"
             ],
             [
              0.1111111111111111,
              "#46039f"
             ],
             [
              0.2222222222222222,
              "#7201a8"
             ],
             [
              0.3333333333333333,
              "#9c179e"
             ],
             [
              0.4444444444444444,
              "#bd3786"
             ],
             [
              0.5555555555555556,
              "#d8576b"
             ],
             [
              0.6666666666666666,
              "#ed7953"
             ],
             [
              0.7777777777777778,
              "#fb9f3a"
             ],
             [
              0.8888888888888888,
              "#fdca26"
             ],
             [
              1,
              "#f0f921"
             ]
            ],
            "type": "histogram2dcontour"
           }
          ],
          "mesh3d": [
           {
            "colorbar": {
             "outlinewidth": 0,
             "ticks": ""
            },
            "type": "mesh3d"
           }
          ],
          "parcoords": [
           {
            "line": {
             "colorbar": {
              "outlinewidth": 0,
              "ticks": ""
             }
            },
            "type": "parcoords"
           }
          ],
          "pie": [
           {
            "automargin": true,
            "type": "pie"
           }
          ],
          "scatter": [
           {
            "fillpattern": {
             "fillmode": "overlay",
             "size": 10,
             "solidity": 0.2
            },
            "type": "scatter"
           }
          ],
          "scatter3d": [
           {
            "line": {
             "colorbar": {
              "outlinewidth": 0,
              "ticks": ""
             }
            },
            "marker": {
             "colorbar": {
              "outlinewidth": 0,
              "ticks": ""
             }
            },
            "type": "scatter3d"
           }
          ],
          "scattercarpet": [
           {
            "marker": {
             "colorbar": {
              "outlinewidth": 0,
              "ticks": ""
             }
            },
            "type": "scattercarpet"
           }
          ],
          "scattergeo": [
           {
            "marker": {
             "colorbar": {
              "outlinewidth": 0,
              "ticks": ""
             }
            },
            "type": "scattergeo"
           }
          ],
          "scattergl": [
           {
            "marker": {
             "colorbar": {
              "outlinewidth": 0,
              "ticks": ""
             }
            },
            "type": "scattergl"
           }
          ],
          "scattermapbox": [
           {
            "marker": {
             "colorbar": {
              "outlinewidth": 0,
              "ticks": ""
             }
            },
            "type": "scattermapbox"
           }
          ],
          "scatterpolar": [
           {
            "marker": {
             "colorbar": {
              "outlinewidth": 0,
              "ticks": ""
             }
            },
            "type": "scatterpolar"
           }
          ],
          "scatterpolargl": [
           {
            "marker": {
             "colorbar": {
              "outlinewidth": 0,
              "ticks": ""
             }
            },
            "type": "scatterpolargl"
           }
          ],
          "scatterternary": [
           {
            "marker": {
             "colorbar": {
              "outlinewidth": 0,
              "ticks": ""
             }
            },
            "type": "scatterternary"
           }
          ],
          "surface": [
           {
            "colorbar": {
             "outlinewidth": 0,
             "ticks": ""
            },
            "colorscale": [
             [
              0,
              "#0d0887"
             ],
             [
              0.1111111111111111,
              "#46039f"
             ],
             [
              0.2222222222222222,
              "#7201a8"
             ],
             [
              0.3333333333333333,
              "#9c179e"
             ],
             [
              0.4444444444444444,
              "#bd3786"
             ],
             [
              0.5555555555555556,
              "#d8576b"
             ],
             [
              0.6666666666666666,
              "#ed7953"
             ],
             [
              0.7777777777777778,
              "#fb9f3a"
             ],
             [
              0.8888888888888888,
              "#fdca26"
             ],
             [
              1,
              "#f0f921"
             ]
            ],
            "type": "surface"
           }
          ],
          "table": [
           {
            "cells": {
             "fill": {
              "color": "#EBF0F8"
             },
             "line": {
              "color": "white"
             }
            },
            "header": {
             "fill": {
              "color": "#C8D4E3"
             },
             "line": {
              "color": "white"
             }
            },
            "type": "table"
           }
          ]
         },
         "layout": {
          "annotationdefaults": {
           "arrowcolor": "#2a3f5f",
           "arrowhead": 0,
           "arrowwidth": 1
          },
          "autotypenumbers": "strict",
          "coloraxis": {
           "colorbar": {
            "outlinewidth": 0,
            "ticks": ""
           }
          },
          "colorscale": {
           "diverging": [
            [
             0,
             "#8e0152"
            ],
            [
             0.1,
             "#c51b7d"
            ],
            [
             0.2,
             "#de77ae"
            ],
            [
             0.3,
             "#f1b6da"
            ],
            [
             0.4,
             "#fde0ef"
            ],
            [
             0.5,
             "#f7f7f7"
            ],
            [
             0.6,
             "#e6f5d0"
            ],
            [
             0.7,
             "#b8e186"
            ],
            [
             0.8,
             "#7fbc41"
            ],
            [
             0.9,
             "#4d9221"
            ],
            [
             1,
             "#276419"
            ]
           ],
           "sequential": [
            [
             0,
             "#0d0887"
            ],
            [
             0.1111111111111111,
             "#46039f"
            ],
            [
             0.2222222222222222,
             "#7201a8"
            ],
            [
             0.3333333333333333,
             "#9c179e"
            ],
            [
             0.4444444444444444,
             "#bd3786"
            ],
            [
             0.5555555555555556,
             "#d8576b"
            ],
            [
             0.6666666666666666,
             "#ed7953"
            ],
            [
             0.7777777777777778,
             "#fb9f3a"
            ],
            [
             0.8888888888888888,
             "#fdca26"
            ],
            [
             1,
             "#f0f921"
            ]
           ],
           "sequentialminus": [
            [
             0,
             "#0d0887"
            ],
            [
             0.1111111111111111,
             "#46039f"
            ],
            [
             0.2222222222222222,
             "#7201a8"
            ],
            [
             0.3333333333333333,
             "#9c179e"
            ],
            [
             0.4444444444444444,
             "#bd3786"
            ],
            [
             0.5555555555555556,
             "#d8576b"
            ],
            [
             0.6666666666666666,
             "#ed7953"
            ],
            [
             0.7777777777777778,
             "#fb9f3a"
            ],
            [
             0.8888888888888888,
             "#fdca26"
            ],
            [
             1,
             "#f0f921"
            ]
           ]
          },
          "colorway": [
           "#636efa",
           "#EF553B",
           "#00cc96",
           "#ab63fa",
           "#FFA15A",
           "#19d3f3",
           "#FF6692",
           "#B6E880",
           "#FF97FF",
           "#FECB52"
          ],
          "font": {
           "color": "#2a3f5f"
          },
          "geo": {
           "bgcolor": "white",
           "lakecolor": "white",
           "landcolor": "#E5ECF6",
           "showlakes": true,
           "showland": true,
           "subunitcolor": "white"
          },
          "hoverlabel": {
           "align": "left"
          },
          "hovermode": "closest",
          "mapbox": {
           "style": "light"
          },
          "paper_bgcolor": "white",
          "plot_bgcolor": "#E5ECF6",
          "polar": {
           "angularaxis": {
            "gridcolor": "white",
            "linecolor": "white",
            "ticks": ""
           },
           "bgcolor": "#E5ECF6",
           "radialaxis": {
            "gridcolor": "white",
            "linecolor": "white",
            "ticks": ""
           }
          },
          "scene": {
           "xaxis": {
            "backgroundcolor": "#E5ECF6",
            "gridcolor": "white",
            "gridwidth": 2,
            "linecolor": "white",
            "showbackground": true,
            "ticks": "",
            "zerolinecolor": "white"
           },
           "yaxis": {
            "backgroundcolor": "#E5ECF6",
            "gridcolor": "white",
            "gridwidth": 2,
            "linecolor": "white",
            "showbackground": true,
            "ticks": "",
            "zerolinecolor": "white"
           },
           "zaxis": {
            "backgroundcolor": "#E5ECF6",
            "gridcolor": "white",
            "gridwidth": 2,
            "linecolor": "white",
            "showbackground": true,
            "ticks": "",
            "zerolinecolor": "white"
           }
          },
          "shapedefaults": {
           "line": {
            "color": "#2a3f5f"
           }
          },
          "ternary": {
           "aaxis": {
            "gridcolor": "white",
            "linecolor": "white",
            "ticks": ""
           },
           "baxis": {
            "gridcolor": "white",
            "linecolor": "white",
            "ticks": ""
           },
           "bgcolor": "#E5ECF6",
           "caxis": {
            "gridcolor": "white",
            "linecolor": "white",
            "ticks": ""
           }
          },
          "title": {
           "x": 0.05
          },
          "xaxis": {
           "automargin": true,
           "gridcolor": "white",
           "linecolor": "white",
           "ticks": "",
           "title": {
            "standoff": 15
           },
           "zerolinecolor": "white",
           "zerolinewidth": 2
          },
          "yaxis": {
           "automargin": true,
           "gridcolor": "white",
           "linecolor": "white",
           "ticks": "",
           "title": {
            "standoff": 15
           },
           "zerolinecolor": "white",
           "zerolinewidth": 2
          }
         }
        },
        "title": {
         "text": "Normalized Distribution of VdWContact.distance across All PDB Files"
        },
        "xaxis": {
         "title": {
          "text": "VdWContact.distance"
         }
        },
        "yaxis": {
         "title": {
          "text": "Normalized Count"
         }
        }
       }
      }
     },
     "metadata": {},
     "output_type": "display_data"
    }
   ],
   "source": [
    "columns = [col for col in final_results_df.columns if col not in ['PDB_File', 'Residue']]\n",
    "plot_normalized_distributions(final_results_df, columns)\n"
   ]
  },
  {
   "cell_type": "code",
   "execution_count": null,
   "metadata": {},
   "outputs": [],
   "source": []
  },
  {
   "cell_type": "markdown",
   "metadata": {},
   "source": [
    "#### Mean and confidence interval \n",
    "##### Smoothed with a rolling window of 25 "
   ]
  },
  {
   "cell_type": "code",
   "execution_count": 23,
   "metadata": {},
   "outputs": [],
   "source": [
    "def plot_mean_with_confidence_intervals(df, numeric_columns, window_size=5):\n",
    "    @interact(column=numeric_columns)\n",
    "    def make_plot(column):\n",
    "        grouped = df.groupby('PDB_File')[column]\n",
    "        means = grouped.mean()\n",
    "        sems = grouped.sem()  # Standard error of the mean\n",
    "\n",
    "        # Apply moving average to smooth the mean and confidence intervals\n",
    "        smoothed_means = means.rolling(window=window_size, center=True).mean()\n",
    "        smoothed_upper = (means + sems).rolling(window=window_size, center=True).mean()\n",
    "        smoothed_lower = (means - sems).rolling(window=window_size, center=True).mean()\n",
    "\n",
    "        fig = go.Figure()\n",
    "\n",
    "        # Add smoothed mean line\n",
    "        fig.add_trace(go.Scatter(\n",
    "            x=smoothed_means.index,\n",
    "            y=smoothed_means.values,\n",
    "            mode='lines+markers',\n",
    "            name='Mean (Smoothed)',\n",
    "            line=dict(color='blue')\n",
    "        ))\n",
    "\n",
    "        # Add smoothed confidence interval\n",
    "        fig.add_trace(go.Scatter(\n",
    "            x=smoothed_upper.index,\n",
    "            y=smoothed_upper.values,\n",
    "            fill=None,\n",
    "            mode='lines',\n",
    "            line=dict(color='lightblue'),\n",
    "            showlegend=True,\n",
    "            name='Confidence Interval Upper (Smoothed)'\n",
    "        ))\n",
    "\n",
    "        fig.add_trace(go.Scatter(\n",
    "            x=smoothed_lower.index,\n",
    "            y=smoothed_lower.values,\n",
    "            fill='tonexty',  # Fill the area between this trace and the previous one\n",
    "            mode='lines',\n",
    "            line=dict(color='lightblue'),\n",
    "            name='Confidence Interval Lower (Smoothed)'\n",
    "        ))\n",
    "\n",
    "        fig.update_layout(\n",
    "            title=f'Mean and Confidence Interval of {column} across PDB Files (Smoothed)',\n",
    "            xaxis_title='PDB File',\n",
    "            yaxis_title=column,\n",
    "            legend_title='Legend'\n",
    "        )\n",
    "\n",
    "        fig.show()"
   ]
  },
  {
   "cell_type": "code",
   "execution_count": 26,
   "metadata": {},
   "outputs": [
    {
     "data": {
      "application/vnd.plotly.v1+json": {
       "config": {
        "plotlyServerURL": "https://plot.ly"
       },
       "data": [
        {
         "line": {
          "color": "blue"
         },
         "mode": "lines+markers",
         "name": "Mean (Smoothed)",
         "type": "scatter",
         "x": [
          0,
          1,
          2,
          3,
          4,
          5,
          6,
          7,
          8,
          9,
          10,
          11,
          12,
          13,
          14,
          15,
          16,
          17,
          18,
          19,
          20,
          21,
          22,
          23,
          24,
          25,
          26,
          27,
          28,
          29,
          30,
          31,
          32,
          33,
          34,
          35,
          36,
          37,
          38,
          39,
          40,
          41,
          42,
          43,
          44,
          45,
          46,
          47,
          48,
          49,
          50,
          51,
          52,
          53,
          54,
          55,
          56,
          57,
          58,
          59,
          60,
          61,
          62,
          63,
          64,
          65,
          66,
          67,
          68,
          69,
          70,
          71,
          72,
          73,
          74,
          75,
          76,
          77,
          78,
          79,
          80,
          81,
          82,
          83,
          84,
          85,
          86,
          87,
          88,
          89,
          90,
          91,
          92,
          93,
          94,
          95,
          96,
          97,
          98,
          99,
          100,
          101,
          102,
          103,
          104,
          105,
          106,
          107,
          108,
          109,
          110,
          111,
          112,
          113,
          114,
          115,
          116,
          117,
          118,
          119,
          120,
          121,
          122,
          123,
          124,
          125,
          126,
          127,
          128,
          129,
          130,
          131,
          132,
          133,
          134,
          135,
          136,
          137,
          138,
          139,
          140,
          141,
          142,
          143,
          144,
          145,
          146,
          147,
          148,
          149,
          150,
          151,
          152,
          153,
          154,
          155,
          156,
          157,
          158,
          159,
          160,
          161,
          162,
          163,
          164,
          165,
          166,
          167,
          168,
          169,
          170,
          171,
          172,
          173,
          174,
          175,
          176,
          177,
          178,
          179,
          180,
          181,
          182,
          183,
          184,
          185,
          186,
          187,
          188,
          189,
          190,
          191,
          192,
          193,
          194,
          195,
          196,
          197,
          198,
          199,
          200,
          201,
          202,
          203,
          204,
          205,
          206,
          207,
          208,
          209,
          210,
          211,
          212,
          213,
          214,
          215,
          216,
          217,
          218,
          219,
          220,
          221,
          222,
          223,
          224,
          225,
          226,
          227,
          228,
          229,
          230,
          231,
          232,
          233,
          234,
          235,
          236,
          237,
          238,
          239,
          240,
          241,
          242,
          243,
          244,
          245,
          246,
          247,
          248,
          249,
          250,
          251,
          252,
          253,
          254,
          255,
          256,
          257,
          258,
          259,
          260,
          261,
          263,
          264,
          265,
          266,
          267,
          268,
          269,
          270,
          271,
          272,
          273,
          274,
          275,
          276,
          277,
          278,
          279,
          280,
          281,
          282,
          283,
          284,
          285,
          286,
          287,
          288,
          289,
          290,
          291,
          292,
          293,
          294,
          295,
          296,
          297,
          298,
          299,
          300,
          301,
          302,
          303,
          304,
          305,
          306,
          307,
          308,
          309,
          310,
          311,
          312,
          313,
          314,
          315,
          316,
          317,
          318,
          319,
          320,
          321,
          322,
          323,
          324,
          325,
          326,
          327,
          328,
          329,
          330,
          331,
          332,
          333,
          334,
          335,
          336,
          337,
          338,
          339,
          340,
          341,
          342,
          343,
          344,
          345,
          346,
          347,
          348,
          349,
          350,
          351,
          352,
          353,
          354,
          355,
          356,
          357,
          358,
          359,
          360,
          361,
          362,
          363,
          364,
          365,
          366,
          367,
          368,
          369,
          370,
          371,
          372,
          373,
          374,
          375,
          376,
          377,
          378,
          379,
          380,
          381,
          382,
          383,
          384,
          385,
          386,
          387,
          388,
          389,
          390,
          391,
          392,
          393,
          394,
          395,
          396,
          397,
          398,
          399,
          400,
          401,
          402,
          403,
          404,
          405,
          406,
          407,
          408,
          409,
          410,
          411,
          412,
          413,
          414,
          415,
          416,
          417,
          418,
          419,
          420,
          421,
          422,
          423,
          424,
          425,
          426,
          427,
          428,
          429,
          430,
          431,
          432,
          433,
          434,
          435,
          436,
          437,
          438,
          439,
          440,
          441,
          442,
          443,
          444,
          445,
          446,
          447,
          448,
          449,
          450,
          451,
          452,
          453,
          454,
          455,
          456,
          457,
          458,
          459,
          460,
          461,
          462,
          463,
          464,
          465,
          466,
          467,
          468,
          469,
          470,
          471,
          472,
          473,
          474,
          475,
          476,
          477,
          478,
          479,
          480,
          481,
          482,
          483,
          484,
          485,
          486,
          487,
          488,
          489,
          490,
          491,
          492,
          493,
          494,
          495,
          496,
          497,
          498,
          499,
          500
         ],
         "y": [
          null,
          null,
          null,
          null,
          null,
          null,
          null,
          null,
          null,
          null,
          null,
          null,
          4.217519779513884,
          4.218695904775702,
          4.220439663154779,
          4.2202928027974504,
          4.222962257922277,
          4.219671040968226,
          4.21558100492015,
          4.214427046560862,
          4.211389578614963,
          4.210149932140527,
          4.2099475878652255,
          4.205534065576702,
          4.207927637967334,
          4.201426490417232,
          4.207611480567142,
          4.210678244456941,
          4.210427135137813,
          4.214675213035021,
          4.217486658866752,
          4.22218110409284,
          4.223164937564569,
          4.222477495317722,
          4.2217599703796385,
          4.230662257153135,
          4.22543203665378,
          4.222871118713426,
          4.2239555788120935,
          4.220520387450892,
          4.2200949824921965,
          4.216448211727343,
          4.215725029319304,
          4.211982890757363,
          4.2114484627538475,
          4.212278382993255,
          4.218446103220007,
          4.218177666819841,
          4.219816720946757,
          4.219117504811244,
          4.222805187995564,
          4.219522114544848,
          4.217488068180868,
          4.213208894318805,
          4.216979411998502,
          4.211496338373753,
          4.208391459675684,
          4.202850360874047,
          4.197954873259695,
          4.19610200333255,
          4.186394692470762,
          4.186329645677685,
          4.190799136683739,
          4.19500175498871,
          4.1982701437308085,
          4.19547202113576,
          4.195116494206045,
          4.1973576766917375,
          4.20104644525584,
          4.202596186816399,
          4.205577105117826,
          4.202852601053295,
          4.203601803527342,
          4.202804333182738,
          4.200767902610762,
          4.202386827040914,
          4.202976369659541,
          4.2028074920567455,
          4.202188787461443,
          4.196637757205192,
          4.196168410640313,
          4.196861812543088,
          4.195130653626433,
          4.195643657250695,
          4.1893794452074555,
          4.1890019416621005,
          4.1896204386175775,
          4.1856427435318135,
          4.180247533133767,
          4.184866951519718,
          4.1896413396936545,
          4.185135309197372,
          4.1863495652093015,
          4.184249239110405,
          4.1833884889106425,
          4.181837250182162,
          4.1839810967932545,
          4.185649649796614,
          4.182332497099638,
          4.186302885756827,
          4.184507630620825,
          4.185983385193494,
          4.183091005696283,
          4.185911239859854,
          4.1864482598696515,
          4.188252828594202,
          4.181233862361494,
          4.181414477006962,
          4.18504092209393,
          4.1929982454654,
          4.195936275239452,
          4.196101155619962,
          4.192858589819064,
          4.193342427729421,
          4.191424194317746,
          4.189723687918599,
          4.198106636136034,
          4.1963743454877225,
          4.1964943827675585,
          4.199496695137927,
          4.200516788844485,
          4.196641714233135,
          4.193747418369312,
          4.196825502677696,
          4.197577539929096,
          4.1981210979036465,
          4.198563643381067,
          4.204769937933104,
          4.203762995053731,
          4.206059500085487,
          4.206992594566446,
          4.21202749645038,
          4.21804489452259,
          4.214541065009788,
          4.216242516025861,
          4.217587148526093,
          4.216330903130974,
          4.222420440650259,
          4.2225189342878195,
          4.2235790639746345,
          4.223919993959704,
          4.223016971595528,
          4.220344153640419,
          4.222146759782067,
          4.218436160447871,
          4.214942562503803,
          4.218793797493737,
          4.223280363744064,
          4.2265020429203455,
          4.223954153290613,
          4.228475075148227,
          4.2261183248110115,
          4.223824251302483,
          4.2268876638895625,
          4.227276968702614,
          4.230648051527196,
          4.230031787589609,
          4.228227157222754,
          4.2297712327052155,
          4.228380238672255,
          4.231578962061336,
          4.230060080564539,
          4.232478847650587,
          4.2297833201545725,
          4.231514583224058,
          4.229131373086377,
          4.227284246492116,
          4.228428519891676,
          4.230539272630247,
          4.225217650766636,
          4.230102221190016,
          4.232290998605514,
          4.2298611143450024,
          4.226123929302486,
          4.225144832594605,
          4.222391719952962,
          4.22578728975669,
          4.221770781734374,
          4.21681969787156,
          4.210278710434688,
          4.20408903160457,
          4.20439976334461,
          4.203483800630662,
          4.2063176739499815,
          4.204841027520539,
          4.205416403796673,
          4.200695830912761,
          4.195408897019227,
          4.199963376700975,
          4.197274588131998,
          4.195321643097963,
          4.195625537169982,
          4.199269495793834,
          4.194511132494522,
          4.200544317404465,
          4.198392170981189,
          4.192328621463704,
          4.187551523126504,
          4.186259253206539,
          4.18766780929954,
          4.18404230760061,
          4.181044450968063,
          4.184674380875759,
          4.182818742614624,
          4.187891065170869,
          4.1914229142470285,
          4.18806612362482,
          4.190427985194732,
          4.18730692230554,
          4.189126046142445,
          4.181448250301031,
          4.186034526398554,
          4.18791394271911,
          4.186793078294636,
          4.181747418945322,
          4.188492382508574,
          4.187228129416382,
          4.187969898850252,
          4.197569335351268,
          4.201171608404191,
          4.1949793122761205,
          4.197137852773505,
          4.200715947239874,
          4.201775178075089,
          4.202979209669438,
          4.207165827759764,
          4.203936022390547,
          4.19975072565465,
          4.205067092399053,
          4.207431311776586,
          4.207097811608493,
          4.213291712036953,
          4.214746437924987,
          4.219504212487564,
          4.219383113331637,
          4.214884207443908,
          4.217822078908506,
          4.215064443737472,
          4.216462794001185,
          4.218723440944995,
          4.215134507568086,
          4.213709876613919,
          4.2119077612557625,
          4.209569120848509,
          4.211053062911422,
          4.2190094095109885,
          4.219887608398566,
          4.22268170664,
          4.228300238937873,
          4.227165460650319,
          4.225784645084795,
          4.232315363156145,
          4.236896475147107,
          4.232170622533365,
          4.233618114667942,
          4.225156423171239,
          4.223543567951479,
          4.223475112052354,
          4.222928798813483,
          4.222868523137364,
          4.232978618521457,
          4.231829156192127,
          4.23663493446704,
          4.237277281651553,
          4.232317592473546,
          4.231232179472815,
          4.236165060273782,
          4.235054642305042,
          4.2348748057263395,
          4.228446881044997,
          4.224690382509407,
          4.226315687334128,
          4.224865533015198,
          4.220949795921337,
          4.225481462638404,
          4.2248429286543185,
          4.2197410575306655,
          4.2179971660082005,
          4.221349353423228,
          4.217376229559109,
          4.22476504125818,
          4.222116947012056,
          4.218081186167417,
          4.217609373542416,
          4.21524896800506,
          4.214231875778325,
          4.21276243868477,
          4.2129216713806885,
          4.206983809968798,
          4.212915247181029,
          4.206673266573924,
          4.204597203697894,
          4.203128459969841,
          4.199427026987751,
          4.197062525332744,
          4.198878731168006,
          4.195382091138557,
          4.192112941434475,
          4.188335646179913,
          4.18060811909254,
          4.1773684775525,
          4.181411365489012,
          4.182191962355752,
          4.180269021118943,
          4.180722228650389,
          4.184280142765381,
          4.186891418940668,
          4.186386921822894,
          4.1811829960924705,
          4.177914682003156,
          4.174809100235126,
          4.173118643953185,
          4.171093637589938,
          4.1731921931968206,
          4.173939068283804,
          4.180866481930147,
          4.1793003035179614,
          4.175717007552126,
          4.174328116731608,
          4.171603300019842,
          4.1667528981850985,
          4.165762320889429,
          4.163462786859566,
          4.169923665416902,
          4.1711741152576876,
          4.174496670282586,
          4.176220934648598,
          4.173179669827913,
          4.1740314213147025,
          4.1735721344037575,
          4.168956567256051,
          4.170538550861223,
          4.165245697629543,
          4.172528122064502,
          4.180098066367044,
          4.17966829962169,
          4.179604233578013,
          4.178184485409813,
          4.1818147684816145,
          4.176342651994136,
          4.179421873114319,
          4.178058056752628,
          4.182464205321473,
          4.185605065848454,
          4.190141720217003,
          4.193722957456756,
          4.195630382624441,
          4.199303802294377,
          4.197601385089731,
          4.199706545569047,
          4.197317480141737,
          4.192490670015142,
          4.1967612971395765,
          4.198417123252092,
          4.195579666291249,
          4.19685420781493,
          4.190174890431172,
          4.196661986181664,
          4.194516129850936,
          4.191495160811012,
          4.191710591678255,
          4.191231649426926,
          4.1919516601073346,
          4.18264622784512,
          4.189919041325997,
          4.18985465271959,
          4.188163031666051,
          4.189039458659044,
          4.186218609341838,
          4.184819303154924,
          4.180030793760201,
          4.179584776663598,
          4.17813151979986,
          4.17691068513343,
          4.176566104640616,
          4.180233714299855,
          4.180371325665142,
          4.174482902231348,
          4.171645942302033,
          4.168260780500532,
          4.162731768453145,
          4.170583874949305,
          4.169831046584104,
          4.17107853554632,
          4.172948934416385,
          4.171309149212716,
          4.172869693230115,
          4.174599523326324,
          4.182335503355157,
          4.178193571325084,
          4.172953838859612,
          4.176492419075234,
          4.176995158905841,
          4.180697380324532,
          4.182804896527517,
          4.189906098051805,
          4.195488400673392,
          4.194335952174049,
          4.194947539736398,
          4.197898461658999,
          4.193826603403492,
          4.191332311443864,
          4.19163292190879,
          4.192490059412581,
          4.19785841307877,
          4.198515168078181,
          4.19212538467316,
          4.1872603618956346,
          4.179734082509287,
          4.177032992807508,
          4.174658559120035,
          4.1708895171232445,
          4.171999179065591,
          4.170578756818465,
          4.167682357470041,
          4.170482644193758,
          4.167341507316646,
          4.159931473932784,
          4.153638952424523,
          4.154103327710297,
          4.153001183545588,
          4.1466877302349925,
          4.149618191512241,
          4.148518650263525,
          4.143658690362141,
          4.144549137461798,
          4.144206904726617,
          4.148401338258035,
          4.147474551489254,
          4.143019612517197,
          4.1438149181825725,
          4.145342932590683,
          4.145493901317296,
          4.148163889876474,
          4.144357610596874,
          4.147511640370398,
          4.153878828463354,
          4.148831682914164,
          4.146224357620926,
          4.144865779759007,
          4.14730206042731,
          4.150120314699797,
          4.150904358526171,
          4.152835725806044,
          4.149680344811752,
          4.144368456968864,
          4.1425035155305645,
          4.134787593579635,
          4.136798119707903,
          4.1353770447197915,
          4.138018685883124,
          4.140840089145931,
          4.138798842271722,
          4.140494283388251,
          4.146174128660436,
          4.14560250036813,
          4.143587579748303,
          4.147675227919928,
          4.144996024736159,
          4.146247162531404,
          4.148929301890923,
          4.146879371185074,
          4.151157815567054,
          4.154900326205453,
          4.161530655926123,
          4.163863004666429,
          4.165287666765423,
          4.169746341938122,
          4.1721616555121726,
          4.173207452102293,
          4.173999949826563,
          4.176349442451105,
          4.180885837204947,
          4.181520904549416,
          4.1844047989384645,
          4.183682934255725,
          4.1889176244680595,
          4.190868944072941,
          4.1896039218654355,
          4.190840407292694,
          4.193923050596002,
          4.194410586914928,
          4.189228940297964,
          4.19507229321244,
          4.201876127611451,
          4.207086092670755,
          4.211097592379565,
          4.210433519611926,
          null,
          null,
          null,
          null,
          null,
          null,
          null,
          null,
          null,
          null,
          null,
          null
         ]
        },
        {
         "line": {
          "color": "lightblue"
         },
         "mode": "lines",
         "name": "Confidence Interval Upper (Smoothed)",
         "showlegend": true,
         "type": "scatter",
         "x": [
          0,
          1,
          2,
          3,
          4,
          5,
          6,
          7,
          8,
          9,
          10,
          11,
          12,
          13,
          14,
          15,
          16,
          17,
          18,
          19,
          20,
          21,
          22,
          23,
          24,
          25,
          26,
          27,
          28,
          29,
          30,
          31,
          32,
          33,
          34,
          35,
          36,
          37,
          38,
          39,
          40,
          41,
          42,
          43,
          44,
          45,
          46,
          47,
          48,
          49,
          50,
          51,
          52,
          53,
          54,
          55,
          56,
          57,
          58,
          59,
          60,
          61,
          62,
          63,
          64,
          65,
          66,
          67,
          68,
          69,
          70,
          71,
          72,
          73,
          74,
          75,
          76,
          77,
          78,
          79,
          80,
          81,
          82,
          83,
          84,
          85,
          86,
          87,
          88,
          89,
          90,
          91,
          92,
          93,
          94,
          95,
          96,
          97,
          98,
          99,
          100,
          101,
          102,
          103,
          104,
          105,
          106,
          107,
          108,
          109,
          110,
          111,
          112,
          113,
          114,
          115,
          116,
          117,
          118,
          119,
          120,
          121,
          122,
          123,
          124,
          125,
          126,
          127,
          128,
          129,
          130,
          131,
          132,
          133,
          134,
          135,
          136,
          137,
          138,
          139,
          140,
          141,
          142,
          143,
          144,
          145,
          146,
          147,
          148,
          149,
          150,
          151,
          152,
          153,
          154,
          155,
          156,
          157,
          158,
          159,
          160,
          161,
          162,
          163,
          164,
          165,
          166,
          167,
          168,
          169,
          170,
          171,
          172,
          173,
          174,
          175,
          176,
          177,
          178,
          179,
          180,
          181,
          182,
          183,
          184,
          185,
          186,
          187,
          188,
          189,
          190,
          191,
          192,
          193,
          194,
          195,
          196,
          197,
          198,
          199,
          200,
          201,
          202,
          203,
          204,
          205,
          206,
          207,
          208,
          209,
          210,
          211,
          212,
          213,
          214,
          215,
          216,
          217,
          218,
          219,
          220,
          221,
          222,
          223,
          224,
          225,
          226,
          227,
          228,
          229,
          230,
          231,
          232,
          233,
          234,
          235,
          236,
          237,
          238,
          239,
          240,
          241,
          242,
          243,
          244,
          245,
          246,
          247,
          248,
          249,
          250,
          251,
          252,
          253,
          254,
          255,
          256,
          257,
          258,
          259,
          260,
          261,
          263,
          264,
          265,
          266,
          267,
          268,
          269,
          270,
          271,
          272,
          273,
          274,
          275,
          276,
          277,
          278,
          279,
          280,
          281,
          282,
          283,
          284,
          285,
          286,
          287,
          288,
          289,
          290,
          291,
          292,
          293,
          294,
          295,
          296,
          297,
          298,
          299,
          300,
          301,
          302,
          303,
          304,
          305,
          306,
          307,
          308,
          309,
          310,
          311,
          312,
          313,
          314,
          315,
          316,
          317,
          318,
          319,
          320,
          321,
          322,
          323,
          324,
          325,
          326,
          327,
          328,
          329,
          330,
          331,
          332,
          333,
          334,
          335,
          336,
          337,
          338,
          339,
          340,
          341,
          342,
          343,
          344,
          345,
          346,
          347,
          348,
          349,
          350,
          351,
          352,
          353,
          354,
          355,
          356,
          357,
          358,
          359,
          360,
          361,
          362,
          363,
          364,
          365,
          366,
          367,
          368,
          369,
          370,
          371,
          372,
          373,
          374,
          375,
          376,
          377,
          378,
          379,
          380,
          381,
          382,
          383,
          384,
          385,
          386,
          387,
          388,
          389,
          390,
          391,
          392,
          393,
          394,
          395,
          396,
          397,
          398,
          399,
          400,
          401,
          402,
          403,
          404,
          405,
          406,
          407,
          408,
          409,
          410,
          411,
          412,
          413,
          414,
          415,
          416,
          417,
          418,
          419,
          420,
          421,
          422,
          423,
          424,
          425,
          426,
          427,
          428,
          429,
          430,
          431,
          432,
          433,
          434,
          435,
          436,
          437,
          438,
          439,
          440,
          441,
          442,
          443,
          444,
          445,
          446,
          447,
          448,
          449,
          450,
          451,
          452,
          453,
          454,
          455,
          456,
          457,
          458,
          459,
          460,
          461,
          462,
          463,
          464,
          465,
          466,
          467,
          468,
          469,
          470,
          471,
          472,
          473,
          474,
          475,
          476,
          477,
          478,
          479,
          480,
          481,
          482,
          483,
          484,
          485,
          486,
          487,
          488,
          489,
          490,
          491,
          492,
          493,
          494,
          495,
          496,
          497,
          498,
          499,
          500
         ],
         "y": [
          null,
          null,
          null,
          null,
          null,
          null,
          null,
          null,
          null,
          null,
          null,
          null,
          4.259489527193989,
          4.259854351067236,
          4.260914655336806,
          4.2603378324253836,
          4.263454413179107,
          4.260124720189683,
          4.255634637059938,
          4.254687252879673,
          4.25228211925745,
          4.251174332966172,
          4.251018713722847,
          4.247523845206085,
          4.24977301197122,
          4.2437389557247585,
          4.249693590529194,
          4.2530052311744715,
          4.252623332660388,
          4.256853893773671,
          4.259732143636944,
          4.263526037785276,
          4.264374467729842,
          4.263719162532294,
          4.2631032506741855,
          4.271345417955632,
          4.2667379623060055,
          4.2645317528471205,
          4.266037933793229,
          4.263412187997477,
          4.262860763623192,
          4.259348472488868,
          4.258832435027164,
          4.255969582531915,
          4.255613991822257,
          4.25671295821564,
          4.2626089298356264,
          4.262418427915133,
          4.264103712901616,
          4.263765086150986,
          4.267611206706425,
          4.263908084171675,
          4.261175159853367,
          4.25745316160831,
          4.260286515365974,
          4.2551899784733,
          4.25306628884207,
          4.2480096918262245,
          4.243080324331322,
          4.2413417691170885,
          4.232157616631602,
          4.231350121759859,
          4.23538387064186,
          4.239439631713889,
          4.242280096039905,
          4.239497875151188,
          4.238815745382525,
          4.240693584287882,
          4.243911528081302,
          4.245034071574129,
          4.248137637882331,
          4.245951379078042,
          4.247377966720676,
          4.245777471249386,
          4.244472979632515,
          4.2454365931100195,
          4.246473138357768,
          4.246520361174193,
          4.245851864724694,
          4.2407184672510105,
          4.240588400618787,
          4.240786858133899,
          4.239946193015564,
          4.240378893647454,
          4.234369267367153,
          4.234143029222477,
          4.235136255197581,
          4.2321330602011225,
          4.226998554089457,
          4.231421104966368,
          4.236701791650996,
          4.2326863466894995,
          4.233744952424965,
          4.231946161075981,
          4.231159457511842,
          4.2293466971079665,
          4.230797320991813,
          4.231980338723707,
          4.229229069754296,
          4.232080664915274,
          4.230673762067195,
          4.231742103920588,
          4.228921337703219,
          4.231313648371156,
          4.2322108150815545,
          4.233560030977243,
          4.227135197697246,
          4.227389346105665,
          4.231433773029898,
          4.238725331222124,
          4.24134032378558,
          4.24099172158951,
          4.237284069755079,
          4.23802425395158,
          4.236074268395176,
          4.234488213438413,
          4.24266515081071,
          4.241511750014218,
          4.241334922006099,
          4.244000135501193,
          4.244421990986738,
          4.241002652241304,
          4.23830190631808,
          4.240792258455909,
          4.24136076492134,
          4.2413150702829965,
          4.241543369164216,
          4.247601560242004,
          4.246991969619924,
          4.24857135353217,
          4.248812038576701,
          4.253643881548305,
          4.259144989468541,
          4.255310868921118,
          4.257461489055598,
          4.259325264428072,
          4.257971344524306,
          4.263560425255422,
          4.263074119092687,
          4.2638774549844936,
          4.263929841187773,
          4.262726030290196,
          4.259859731029528,
          4.262379133373457,
          4.258472405566748,
          4.255310795289639,
          4.258886471227988,
          4.262789674542939,
          4.26652679730861,
          4.264444111729957,
          4.2685640071028965,
          4.267114849110558,
          4.264554871566237,
          4.266941610643353,
          4.267842913048748,
          4.271872276015005,
          4.270999486806739,
          4.26876355364452,
          4.27021131170816,
          4.268080066676061,
          4.270605554334387,
          4.269629150519243,
          4.271946473964765,
          4.269489247944453,
          4.2711777581980375,
          4.268322634940285,
          4.266845972911771,
          4.268220993504521,
          4.269884808021709,
          4.265674140029851,
          4.269985378548935,
          4.271905043668056,
          4.269200317573253,
          4.265323881442182,
          4.264766744329146,
          4.262534984658936,
          4.265621689157929,
          4.261714678920976,
          4.257160746267756,
          4.250613620825153,
          4.244610359621203,
          4.245033430534656,
          4.244195858461385,
          4.247953259743337,
          4.246748768534201,
          4.247355300743597,
          4.242399462982027,
          4.23715191202397,
          4.241524477895052,
          4.23968290544497,
          4.238335964811623,
          4.238545481280198,
          4.242273639685315,
          4.237283190146703,
          4.242874468347951,
          4.241691772193204,
          4.236452042848497,
          4.232206516019234,
          4.23047991290386,
          4.231747362644216,
          4.228530547247805,
          4.225218405089061,
          4.228930022340233,
          4.2275081166139445,
          4.231932905778941,
          4.235896261976135,
          4.232481192603042,
          4.234656040837194,
          4.231056310816409,
          4.232707090303474,
          4.224868315350413,
          4.228857911621231,
          4.2305094620206685,
          4.22958885049721,
          4.224882038540162,
          4.231321621747213,
          4.230481870658557,
          4.230902161688374,
          4.239519103719348,
          4.24247722343942,
          4.236205609145388,
          4.2374322135395595,
          4.2410670384193905,
          4.2423197226362115,
          4.243470431665301,
          4.247382815201922,
          4.243659450988038,
          4.239150008004336,
          4.243843998400479,
          4.246469530367592,
          4.245383021130726,
          4.25103322446975,
          4.2525883199192895,
          4.256412500690035,
          4.2568660356922825,
          4.252954171151202,
          4.256490084613273,
          4.255372992428855,
          4.25678124490951,
          4.2580484668289476,
          4.253927226569981,
          4.251295922399773,
          4.249233410501778,
          4.247526887902346,
          4.24926806609451,
          4.256604130727588,
          4.257586747967951,
          4.260074262871773,
          4.265127799963631,
          4.264026800815826,
          4.26267663356622,
          4.269708095717624,
          4.274642707434063,
          4.270602196104859,
          4.271125372140987,
          4.263084493573305,
          4.262041001899461,
          4.262153492400692,
          4.2614675420741515,
          4.260362190546017,
          4.270539222897458,
          4.269833774539375,
          4.272940356540947,
          4.273487623726791,
          4.269396587356244,
          4.269374708894383,
          4.274983679989417,
          4.27441131893732,
          4.274560587894673,
          4.268795374077297,
          4.26598312544825,
          4.267708846260919,
          4.265953982738384,
          4.262804115431245,
          4.266726234315525,
          4.2659980449039985,
          4.261487648412075,
          4.259743944778266,
          4.262913103033597,
          4.259869325763673,
          4.266994678248442,
          4.264141347079356,
          4.2598241741239535,
          4.259928120671033,
          4.258213350683645,
          4.256372042803379,
          4.25455836418709,
          4.2545182669685975,
          4.248472571032923,
          4.2540373104479885,
          4.2479138658177,
          4.245536899581734,
          4.2438637708993125,
          4.240405656946017,
          4.2382333824836245,
          4.239390699717003,
          4.236447871788262,
          4.234519355252466,
          4.231074964463403,
          4.223813072809065,
          4.221055221585155,
          4.224633664809291,
          4.225168166528392,
          4.223172361472934,
          4.223294261202373,
          4.226708269412031,
          4.229684580158047,
          4.229187437858963,
          4.224043800101568,
          4.22118533680378,
          4.219169910795318,
          4.217505985828518,
          4.216766193649057,
          4.219287137793316,
          4.220202899178688,
          4.226855170103898,
          4.225693887653767,
          4.222658562166571,
          4.220403505985789,
          4.217430466132537,
          4.213286268980183,
          4.212084804031844,
          4.210018782156808,
          4.216168083398636,
          4.2172728476046295,
          4.220389669224359,
          4.22187474239256,
          4.219290963395732,
          4.220046036046646,
          4.219828645458166,
          4.215791218081036,
          4.216357682977371,
          4.211979040720963,
          4.218921128608188,
          4.226518242708404,
          4.225589271467585,
          4.225632844163425,
          4.223299691872256,
          4.226070193293803,
          4.220451923578262,
          4.2226078492472805,
          4.221498938972522,
          4.224675355166903,
          4.228209137683855,
          4.232881334470608,
          4.235817705193473,
          4.237404556389201,
          4.240567131307574,
          4.238531820081008,
          4.241017228971341,
          4.239155147824888,
          4.234375222881508,
          4.238067094196872,
          4.239142035435199,
          4.2364236503103125,
          4.23748317113814,
          4.232292798117832,
          4.238098685843125,
          4.236193073056531,
          4.232770585694748,
          4.2329104437564435,
          4.232643938424028,
          4.233674143425375,
          4.226158326623231,
          4.2333826301280775,
          4.23377958996934,
          4.231961526050267,
          4.233216453191359,
          4.230790090828819,
          4.229642252905049,
          4.2248167426174685,
          4.224473121409485,
          4.222581233459747,
          4.221837828518695,
          4.221608629647371,
          4.224233522978804,
          4.224169936169851,
          4.218757756770359,
          4.216523448623029,
          4.21354443407682,
          4.208113469054103,
          4.215089758945876,
          4.214220353685594,
          4.215402902733473,
          4.217777712265365,
          4.216823393701644,
          4.217936470616078,
          4.219167792095884,
          4.2259087717623744,
          4.222081594674177,
          4.216924252047142,
          4.220269548094514,
          4.2205467153795295,
          4.224017336865895,
          4.226338418420366,
          4.233359551858515,
          4.238370516874023,
          4.237626573543427,
          4.237999673253253,
          4.240198647991251,
          4.23615316088086,
          4.2333909380437555,
          4.233830642677559,
          4.234753931734953,
          4.239737342219686,
          4.240707927578773,
          4.23486369115313,
          4.2306708023457995,
          4.223532040868608,
          4.220505438346518,
          4.217751605801921,
          4.214707834949436,
          4.216676973510883,
          4.215063121479902,
          4.211531952798713,
          4.214328067259047,
          4.2109872490050595,
          4.204053132345271,
          4.1975890647225125,
          4.197694387480024,
          4.196574415881436,
          4.190348995949298,
          4.192532849465022,
          4.19123717344913,
          4.186515860785429,
          4.187791198010579,
          4.187972054078529,
          4.191593062270696,
          4.190576570292317,
          4.186024796606374,
          4.186117576711361,
          4.187824830407767,
          4.188044081262634,
          4.191118064955,
          4.1879402931291105,
          4.191020437333731,
          4.196560661044924,
          4.19133482219835,
          4.189250093139954,
          4.188261572011134,
          4.190594882537406,
          4.193626328447881,
          4.194937314601207,
          4.1971812487583495,
          4.193587571710005,
          4.188965623711876,
          4.18761643393794,
          4.18071248297663,
          4.1830149302039565,
          4.181935401877271,
          4.184243502101739,
          4.187566837009347,
          4.185796549218052,
          4.187550067521485,
          4.193926428398672,
          4.1943664276209285,
          4.192265025331789,
          4.195913889118051,
          4.193023970803159,
          4.193572694147445,
          4.196158338164265,
          4.194475251009874,
          4.199112044119292,
          4.202386788544125,
          4.209447242986639,
          4.211950727598339,
          4.213403916441959,
          4.217495332646084,
          4.219669407874628,
          4.220502616466344,
          4.2202385361017045,
          4.223252335626421,
          4.227484159668378,
          4.227724728409441,
          4.230141483197393,
          4.229488455911486,
          4.233975907539508,
          4.236400735079532,
          4.23549292972693,
          4.23576740518772,
          4.238245148253916,
          4.238566261665212,
          4.23336403197475,
          4.238152774582163,
          4.244338578008703,
          4.24909385360719,
          4.252391820403027,
          4.251344105429066,
          null,
          null,
          null,
          null,
          null,
          null,
          null,
          null,
          null,
          null,
          null,
          null
         ]
        },
        {
         "fill": "tonexty",
         "line": {
          "color": "lightblue"
         },
         "mode": "lines",
         "name": "Confidence Interval Lower (Smoothed)",
         "type": "scatter",
         "x": [
          0,
          1,
          2,
          3,
          4,
          5,
          6,
          7,
          8,
          9,
          10,
          11,
          12,
          13,
          14,
          15,
          16,
          17,
          18,
          19,
          20,
          21,
          22,
          23,
          24,
          25,
          26,
          27,
          28,
          29,
          30,
          31,
          32,
          33,
          34,
          35,
          36,
          37,
          38,
          39,
          40,
          41,
          42,
          43,
          44,
          45,
          46,
          47,
          48,
          49,
          50,
          51,
          52,
          53,
          54,
          55,
          56,
          57,
          58,
          59,
          60,
          61,
          62,
          63,
          64,
          65,
          66,
          67,
          68,
          69,
          70,
          71,
          72,
          73,
          74,
          75,
          76,
          77,
          78,
          79,
          80,
          81,
          82,
          83,
          84,
          85,
          86,
          87,
          88,
          89,
          90,
          91,
          92,
          93,
          94,
          95,
          96,
          97,
          98,
          99,
          100,
          101,
          102,
          103,
          104,
          105,
          106,
          107,
          108,
          109,
          110,
          111,
          112,
          113,
          114,
          115,
          116,
          117,
          118,
          119,
          120,
          121,
          122,
          123,
          124,
          125,
          126,
          127,
          128,
          129,
          130,
          131,
          132,
          133,
          134,
          135,
          136,
          137,
          138,
          139,
          140,
          141,
          142,
          143,
          144,
          145,
          146,
          147,
          148,
          149,
          150,
          151,
          152,
          153,
          154,
          155,
          156,
          157,
          158,
          159,
          160,
          161,
          162,
          163,
          164,
          165,
          166,
          167,
          168,
          169,
          170,
          171,
          172,
          173,
          174,
          175,
          176,
          177,
          178,
          179,
          180,
          181,
          182,
          183,
          184,
          185,
          186,
          187,
          188,
          189,
          190,
          191,
          192,
          193,
          194,
          195,
          196,
          197,
          198,
          199,
          200,
          201,
          202,
          203,
          204,
          205,
          206,
          207,
          208,
          209,
          210,
          211,
          212,
          213,
          214,
          215,
          216,
          217,
          218,
          219,
          220,
          221,
          222,
          223,
          224,
          225,
          226,
          227,
          228,
          229,
          230,
          231,
          232,
          233,
          234,
          235,
          236,
          237,
          238,
          239,
          240,
          241,
          242,
          243,
          244,
          245,
          246,
          247,
          248,
          249,
          250,
          251,
          252,
          253,
          254,
          255,
          256,
          257,
          258,
          259,
          260,
          261,
          263,
          264,
          265,
          266,
          267,
          268,
          269,
          270,
          271,
          272,
          273,
          274,
          275,
          276,
          277,
          278,
          279,
          280,
          281,
          282,
          283,
          284,
          285,
          286,
          287,
          288,
          289,
          290,
          291,
          292,
          293,
          294,
          295,
          296,
          297,
          298,
          299,
          300,
          301,
          302,
          303,
          304,
          305,
          306,
          307,
          308,
          309,
          310,
          311,
          312,
          313,
          314,
          315,
          316,
          317,
          318,
          319,
          320,
          321,
          322,
          323,
          324,
          325,
          326,
          327,
          328,
          329,
          330,
          331,
          332,
          333,
          334,
          335,
          336,
          337,
          338,
          339,
          340,
          341,
          342,
          343,
          344,
          345,
          346,
          347,
          348,
          349,
          350,
          351,
          352,
          353,
          354,
          355,
          356,
          357,
          358,
          359,
          360,
          361,
          362,
          363,
          364,
          365,
          366,
          367,
          368,
          369,
          370,
          371,
          372,
          373,
          374,
          375,
          376,
          377,
          378,
          379,
          380,
          381,
          382,
          383,
          384,
          385,
          386,
          387,
          388,
          389,
          390,
          391,
          392,
          393,
          394,
          395,
          396,
          397,
          398,
          399,
          400,
          401,
          402,
          403,
          404,
          405,
          406,
          407,
          408,
          409,
          410,
          411,
          412,
          413,
          414,
          415,
          416,
          417,
          418,
          419,
          420,
          421,
          422,
          423,
          424,
          425,
          426,
          427,
          428,
          429,
          430,
          431,
          432,
          433,
          434,
          435,
          436,
          437,
          438,
          439,
          440,
          441,
          442,
          443,
          444,
          445,
          446,
          447,
          448,
          449,
          450,
          451,
          452,
          453,
          454,
          455,
          456,
          457,
          458,
          459,
          460,
          461,
          462,
          463,
          464,
          465,
          466,
          467,
          468,
          469,
          470,
          471,
          472,
          473,
          474,
          475,
          476,
          477,
          478,
          479,
          480,
          481,
          482,
          483,
          484,
          485,
          486,
          487,
          488,
          489,
          490,
          491,
          492,
          493,
          494,
          495,
          496,
          497,
          498,
          499,
          500
         ],
         "y": [
          null,
          null,
          null,
          null,
          null,
          null,
          null,
          null,
          null,
          null,
          null,
          null,
          4.175550031833778,
          4.177537458484168,
          4.17996467097275,
          4.180247773169517,
          4.182470102665446,
          4.179217361746769,
          4.175527372780361,
          4.1741668402420515,
          4.170497037972475,
          4.169125531314881,
          4.168876462007604,
          4.163544285947318,
          4.166082263963449,
          4.159114025109705,
          4.165529370605088,
          4.16835125773941,
          4.168230937615239,
          4.172496532296371,
          4.175241174096559,
          4.180836170400404,
          4.181955407399295,
          4.181235828103151,
          4.180416690085092,
          4.189979096350637,
          4.184126111001555,
          4.181210484579732,
          4.181873223830958,
          4.177628586904308,
          4.177329201361201,
          4.173547950965819,
          4.172617623611445,
          4.16799619898281,
          4.167282933685439,
          4.16784380777087,
          4.174283276604388,
          4.173936905724549,
          4.175529728991898,
          4.174469923471501,
          4.1779991692847025,
          4.17513614491802,
          4.173800976508371,
          4.1689646270293,
          4.17367230863103,
          4.1678026982742065,
          4.163716630509296,
          4.157691029921871,
          4.152829422188067,
          4.150862237548011,
          4.140631768309923,
          4.141309169595511,
          4.146214402725619,
          4.150563878263531,
          4.154260191421711,
          4.1514461671203335,
          4.151417243029563,
          4.154021769095592,
          4.158181362430379,
          4.160158302058668,
          4.163016572353321,
          4.15975382302855,
          4.159825640334009,
          4.159831195116089,
          4.15706282558901,
          4.159337060971809,
          4.159479600961314,
          4.159094622939296,
          4.158525710198191,
          4.152557047159372,
          4.151748420661839,
          4.152936766952275,
          4.150315114237303,
          4.150908420853937,
          4.144389623047759,
          4.143860854101723,
          4.144104622037575,
          4.139152426862504,
          4.133496512178075,
          4.138312798073068,
          4.142580887736313,
          4.137584271705245,
          4.1389541779936385,
          4.1365523171448295,
          4.135617520309445,
          4.134327803256357,
          4.137164872594696,
          4.13931896086952,
          4.135435924444979,
          4.140525106598381,
          4.138341499174455,
          4.1402246664664,
          4.137260673689346,
          4.140508831348552,
          4.140685704657748,
          4.14294562621116,
          4.135332527025741,
          4.13543960790826,
          4.138648071157961,
          4.147271159708677,
          4.150532226693324,
          4.151210589650414,
          4.148433109883048,
          4.148660601507262,
          4.146774120240316,
          4.144959162398786,
          4.153548121461356,
          4.151236940961226,
          4.151653843529018,
          4.154993254774659,
          4.156611586702233,
          4.152280776224966,
          4.1491929304205435,
          4.152858746899483,
          4.153794314936852,
          4.154927125524298,
          4.155583917597918,
          4.161938315624203,
          4.160534020487539,
          4.163547646638803,
          4.165173150556193,
          4.170411111352456,
          4.17694479957664,
          4.1737712610984605,
          4.175023542996126,
          4.1758490326241136,
          4.174690461737641,
          4.181280456045098,
          4.181963749482952,
          4.183280672964776,
          4.183910146731636,
          4.183307912900861,
          4.180828576251311,
          4.1819143861906785,
          4.178399915328993,
          4.1745743297179665,
          4.178701123759486,
          4.18377105294519,
          4.186477288532082,
          4.183464194851271,
          4.188386143193556,
          4.185121800511465,
          4.1830936310387274,
          4.186833717135772,
          4.18671102435648,
          4.189423827039388,
          4.189064088372478,
          4.1876907608009875,
          4.18933115370227,
          4.1886804106684465,
          4.192552369788285,
          4.1904910106098345,
          4.193011221336408,
          4.190077392364691,
          4.191851408250078,
          4.189940111232469,
          4.187722520072461,
          4.18863604627883,
          4.191193737238784,
          4.184761161503422,
          4.190219063831098,
          4.192676953542972,
          4.190521911116752,
          4.18692397716279,
          4.185522920860065,
          4.182248455246988,
          4.185952890355452,
          4.181826884547773,
          4.176478649475363,
          4.169943800044222,
          4.163567703587939,
          4.163766096154564,
          4.162771742799939,
          4.164682088156626,
          4.162933286506876,
          4.163477506849748,
          4.158992198843496,
          4.153665882014485,
          4.158402275506898,
          4.154866270819027,
          4.152307321384303,
          4.152705593059766,
          4.156265351902351,
          4.151739074842341,
          4.158214166460978,
          4.155092569769174,
          4.1482052000789125,
          4.142896530233773,
          4.142038593509217,
          4.143588255954864,
          4.139554067953413,
          4.136870496847064,
          4.140418739411285,
          4.138129368615305,
          4.143849224562797,
          4.146949566517922,
          4.143651054646598,
          4.14619992955227,
          4.143557533794672,
          4.145545001981417,
          4.138028185251648,
          4.143211141175878,
          4.145318423417551,
          4.1439973060920625,
          4.13861279935048,
          4.145663143269937,
          4.143974388174206,
          4.145037636012129,
          4.155619566983187,
          4.15986599336896,
          4.153753015406853,
          4.15684349200745,
          4.160364856060357,
          4.161230633513969,
          4.162487987673575,
          4.166948840317605,
          4.1642125937930565,
          4.160351443304964,
          4.166290186397629,
          4.168393093185581,
          4.16881260208626,
          4.175550199604157,
          4.176904555930685,
          4.182595924285093,
          4.1819001909709925,
          4.176814243736616,
          4.179154073203739,
          4.174755895046087,
          4.17614434309286,
          4.179398415061042,
          4.176341788566192,
          4.1761238308280655,
          4.174582112009748,
          4.171611353794672,
          4.172838059728333,
          4.181414688294388,
          4.182188468829182,
          4.185289150408229,
          4.191472677912115,
          4.190304120484812,
          4.188892656603369,
          4.194922630594665,
          4.199150242860151,
          4.19373904896187,
          4.196110857194898,
          4.187228352769171,
          4.185046134003497,
          4.184796731704015,
          4.184390055552814,
          4.1853748557287105,
          4.1954180141454565,
          4.19382453784488,
          4.200329512393133,
          4.2010669395763145,
          4.195238597590848,
          4.193089650051245,
          4.197346440558146,
          4.195697965672763,
          4.195189023558006,
          4.188098388012698,
          4.183397639570565,
          4.184922528407338,
          4.183777083292012,
          4.179095476411429,
          4.184236690961284,
          4.1836878124046395,
          4.177994466649255,
          4.176250387238135,
          4.179785603812859,
          4.174883133354545,
          4.182535404267919,
          4.180092546944756,
          4.17633819821088,
          4.1752906264138,
          4.172284585326474,
          4.17209170875327,
          4.17096651318245,
          4.1713250757927804,
          4.165495048904675,
          4.171793183914069,
          4.165432667330148,
          4.163657507814052,
          4.162393149040369,
          4.158448397029484,
          4.155891668181863,
          4.158366762619008,
          4.154316310488851,
          4.149706527616485,
          4.145596327896422,
          4.137403165376013,
          4.133681733519845,
          4.138189066168734,
          4.139215758183112,
          4.137365680764953,
          4.138150196098405,
          4.14185201611873,
          4.144098257723289,
          4.143586405786825,
          4.138322192083371,
          4.1346440272025315,
          4.130448289674933,
          4.12873130207785,
          4.12542108153082,
          4.127097248600324,
          4.127675237388921,
          4.134877793756397,
          4.132906719382156,
          4.128775452937681,
          4.128252727477428,
          4.125776133907149,
          4.120219527390015,
          4.119439837747013,
          4.116906791562323,
          4.123679247435168,
          4.125075382910746,
          4.128603671340815,
          4.130567126904637,
          4.1270683762600955,
          4.1280168065827585,
          4.127315623349348,
          4.122121916431065,
          4.124719418745076,
          4.118512354538124,
          4.126135115520816,
          4.133677890025685,
          4.133747327775795,
          4.133575622992601,
          4.133069278947369,
          4.137559343669427,
          4.132233380410011,
          4.136235896981358,
          4.1346171745327345,
          4.140253055476045,
          4.143000994013053,
          4.147402105963396,
          4.151628209720039,
          4.153856208859682,
          4.15804047328118,
          4.156670950098455,
          4.158395862166754,
          4.1554798124585846,
          4.150606117148775,
          4.155455500082282,
          4.157692211068986,
          4.154735682272187,
          4.156225244491719,
          4.148056982744512,
          4.155225286520204,
          4.152839186645342,
          4.150219735927275,
          4.150510739600065,
          4.149819360429824,
          4.150229176789293,
          4.139134129067008,
          4.146455452523915,
          4.1459297154698405,
          4.144364537281835,
          4.144862464126731,
          4.141647127854857,
          4.1399963534048,
          4.1352448449029335,
          4.1346964319177095,
          4.133681806139972,
          4.131983541748166,
          4.1315235796338605,
          4.136233905620907,
          4.136572715160433,
          4.130208047692336,
          4.126768435981037,
          4.122977126924244,
          4.117350067852186,
          4.126077990952736,
          4.125441739482613,
          4.126754168359166,
          4.128120156567405,
          4.125794904723788,
          4.127802915844152,
          4.130031254556765,
          4.13876223494794,
          4.134305547975993,
          4.128983425672082,
          4.132715290055953,
          4.133443602432153,
          4.137377423783171,
          4.139271374634667,
          4.146452644245094,
          4.152606284472762,
          4.151045330804671,
          4.151895406219543,
          4.1555982753267475,
          4.151500045926124,
          4.14927368484397,
          4.1494352011400215,
          4.150226187090209,
          4.155979483937854,
          4.156322408577588,
          4.149387078193189,
          4.14384992144547,
          4.135936124149969,
          4.133560547268498,
          4.131565512438147,
          4.127071199297053,
          4.1273213846202985,
          4.126094392157026,
          4.123832762141371,
          4.126637221128469,
          4.123695765628233,
          4.115809815520297,
          4.109688840126533,
          4.110512267940569,
          4.1094279512097405,
          4.103026464520685,
          4.106703533559459,
          4.105800127077918,
          4.100801519938854,
          4.101307076913016,
          4.100441755374705,
          4.105209614245373,
          4.104372532686192,
          4.100014428428018,
          4.101512259653785,
          4.1028610347736,
          4.1029437213719575,
          4.105209714797947,
          4.100774928064636,
          4.1040028434070654,
          4.111196995881783,
          4.106328543629978,
          4.103198622101898,
          4.10146998750688,
          4.104009238317214,
          4.106614300951713,
          4.1068714024511355,
          4.10849020285374,
          4.105773117913498,
          4.099771290225852,
          4.097390597123191,
          4.088862704182642,
          4.090581309211848,
          4.088818687562312,
          4.091793869664509,
          4.094113341282515,
          4.091801135325392,
          4.093438499255017,
          4.0984218289222,
          4.096838573115331,
          4.094910134164817,
          4.0994365667218045,
          4.096968078669159,
          4.098921630915363,
          4.1017002656175805,
          4.099283491360273,
          4.103203587014817,
          4.107413863866782,
          4.113614068865607,
          4.1157752817345195,
          4.117171417088886,
          4.121997351230161,
          4.124653903149717,
          4.125912287738243,
          4.127761363551422,
          4.129446549275789,
          4.134287514741517,
          4.135317080689392,
          4.138668114679535,
          4.137877412599965,
          4.143859341396611,
          4.145337153066348,
          4.14371491400394,
          4.145913409397669,
          4.149600952938087,
          4.150254912164645,
          4.145093848621178,
          4.151991811842717,
          4.159413677214198,
          4.16507833173432,
          4.1698033643561025,
          4.169522933794786,
          null,
          null,
          null,
          null,
          null,
          null,
          null,
          null,
          null,
          null,
          null,
          null
         ]
        }
       ],
       "layout": {
        "legend": {
         "title": {
          "text": "Legend"
         }
        },
        "template": {
         "data": {
          "bar": [
           {
            "error_x": {
             "color": "#2a3f5f"
            },
            "error_y": {
             "color": "#2a3f5f"
            },
            "marker": {
             "line": {
              "color": "#E5ECF6",
              "width": 0.5
             },
             "pattern": {
              "fillmode": "overlay",
              "size": 10,
              "solidity": 0.2
             }
            },
            "type": "bar"
           }
          ],
          "barpolar": [
           {
            "marker": {
             "line": {
              "color": "#E5ECF6",
              "width": 0.5
             },
             "pattern": {
              "fillmode": "overlay",
              "size": 10,
              "solidity": 0.2
             }
            },
            "type": "barpolar"
           }
          ],
          "carpet": [
           {
            "aaxis": {
             "endlinecolor": "#2a3f5f",
             "gridcolor": "white",
             "linecolor": "white",
             "minorgridcolor": "white",
             "startlinecolor": "#2a3f5f"
            },
            "baxis": {
             "endlinecolor": "#2a3f5f",
             "gridcolor": "white",
             "linecolor": "white",
             "minorgridcolor": "white",
             "startlinecolor": "#2a3f5f"
            },
            "type": "carpet"
           }
          ],
          "choropleth": [
           {
            "colorbar": {
             "outlinewidth": 0,
             "ticks": ""
            },
            "type": "choropleth"
           }
          ],
          "contour": [
           {
            "colorbar": {
             "outlinewidth": 0,
             "ticks": ""
            },
            "colorscale": [
             [
              0,
              "#0d0887"
             ],
             [
              0.1111111111111111,
              "#46039f"
             ],
             [
              0.2222222222222222,
              "#7201a8"
             ],
             [
              0.3333333333333333,
              "#9c179e"
             ],
             [
              0.4444444444444444,
              "#bd3786"
             ],
             [
              0.5555555555555556,
              "#d8576b"
             ],
             [
              0.6666666666666666,
              "#ed7953"
             ],
             [
              0.7777777777777778,
              "#fb9f3a"
             ],
             [
              0.8888888888888888,
              "#fdca26"
             ],
             [
              1,
              "#f0f921"
             ]
            ],
            "type": "contour"
           }
          ],
          "contourcarpet": [
           {
            "colorbar": {
             "outlinewidth": 0,
             "ticks": ""
            },
            "type": "contourcarpet"
           }
          ],
          "heatmap": [
           {
            "colorbar": {
             "outlinewidth": 0,
             "ticks": ""
            },
            "colorscale": [
             [
              0,
              "#0d0887"
             ],
             [
              0.1111111111111111,
              "#46039f"
             ],
             [
              0.2222222222222222,
              "#7201a8"
             ],
             [
              0.3333333333333333,
              "#9c179e"
             ],
             [
              0.4444444444444444,
              "#bd3786"
             ],
             [
              0.5555555555555556,
              "#d8576b"
             ],
             [
              0.6666666666666666,
              "#ed7953"
             ],
             [
              0.7777777777777778,
              "#fb9f3a"
             ],
             [
              0.8888888888888888,
              "#fdca26"
             ],
             [
              1,
              "#f0f921"
             ]
            ],
            "type": "heatmap"
           }
          ],
          "heatmapgl": [
           {
            "colorbar": {
             "outlinewidth": 0,
             "ticks": ""
            },
            "colorscale": [
             [
              0,
              "#0d0887"
             ],
             [
              0.1111111111111111,
              "#46039f"
             ],
             [
              0.2222222222222222,
              "#7201a8"
             ],
             [
              0.3333333333333333,
              "#9c179e"
             ],
             [
              0.4444444444444444,
              "#bd3786"
             ],
             [
              0.5555555555555556,
              "#d8576b"
             ],
             [
              0.6666666666666666,
              "#ed7953"
             ],
             [
              0.7777777777777778,
              "#fb9f3a"
             ],
             [
              0.8888888888888888,
              "#fdca26"
             ],
             [
              1,
              "#f0f921"
             ]
            ],
            "type": "heatmapgl"
           }
          ],
          "histogram": [
           {
            "marker": {
             "pattern": {
              "fillmode": "overlay",
              "size": 10,
              "solidity": 0.2
             }
            },
            "type": "histogram"
           }
          ],
          "histogram2d": [
           {
            "colorbar": {
             "outlinewidth": 0,
             "ticks": ""
            },
            "colorscale": [
             [
              0,
              "#0d0887"
             ],
             [
              0.1111111111111111,
              "#46039f"
             ],
             [
              0.2222222222222222,
              "#7201a8"
             ],
             [
              0.3333333333333333,
              "#9c179e"
             ],
             [
              0.4444444444444444,
              "#bd3786"
             ],
             [
              0.5555555555555556,
              "#d8576b"
             ],
             [
              0.6666666666666666,
              "#ed7953"
             ],
             [
              0.7777777777777778,
              "#fb9f3a"
             ],
             [
              0.8888888888888888,
              "#fdca26"
             ],
             [
              1,
              "#f0f921"
             ]
            ],
            "type": "histogram2d"
           }
          ],
          "histogram2dcontour": [
           {
            "colorbar": {
             "outlinewidth": 0,
             "ticks": ""
            },
            "colorscale": [
             [
              0,
              "#0d0887"
             ],
             [
              0.1111111111111111,
              "#46039f"
             ],
             [
              0.2222222222222222,
              "#7201a8"
             ],
             [
              0.3333333333333333,
              "#9c179e"
             ],
             [
              0.4444444444444444,
              "#bd3786"
             ],
             [
              0.5555555555555556,
              "#d8576b"
             ],
             [
              0.6666666666666666,
              "#ed7953"
             ],
             [
              0.7777777777777778,
              "#fb9f3a"
             ],
             [
              0.8888888888888888,
              "#fdca26"
             ],
             [
              1,
              "#f0f921"
             ]
            ],
            "type": "histogram2dcontour"
           }
          ],
          "mesh3d": [
           {
            "colorbar": {
             "outlinewidth": 0,
             "ticks": ""
            },
            "type": "mesh3d"
           }
          ],
          "parcoords": [
           {
            "line": {
             "colorbar": {
              "outlinewidth": 0,
              "ticks": ""
             }
            },
            "type": "parcoords"
           }
          ],
          "pie": [
           {
            "automargin": true,
            "type": "pie"
           }
          ],
          "scatter": [
           {
            "fillpattern": {
             "fillmode": "overlay",
             "size": 10,
             "solidity": 0.2
            },
            "type": "scatter"
           }
          ],
          "scatter3d": [
           {
            "line": {
             "colorbar": {
              "outlinewidth": 0,
              "ticks": ""
             }
            },
            "marker": {
             "colorbar": {
              "outlinewidth": 0,
              "ticks": ""
             }
            },
            "type": "scatter3d"
           }
          ],
          "scattercarpet": [
           {
            "marker": {
             "colorbar": {
              "outlinewidth": 0,
              "ticks": ""
             }
            },
            "type": "scattercarpet"
           }
          ],
          "scattergeo": [
           {
            "marker": {
             "colorbar": {
              "outlinewidth": 0,
              "ticks": ""
             }
            },
            "type": "scattergeo"
           }
          ],
          "scattergl": [
           {
            "marker": {
             "colorbar": {
              "outlinewidth": 0,
              "ticks": ""
             }
            },
            "type": "scattergl"
           }
          ],
          "scattermapbox": [
           {
            "marker": {
             "colorbar": {
              "outlinewidth": 0,
              "ticks": ""
             }
            },
            "type": "scattermapbox"
           }
          ],
          "scatterpolar": [
           {
            "marker": {
             "colorbar": {
              "outlinewidth": 0,
              "ticks": ""
             }
            },
            "type": "scatterpolar"
           }
          ],
          "scatterpolargl": [
           {
            "marker": {
             "colorbar": {
              "outlinewidth": 0,
              "ticks": ""
             }
            },
            "type": "scatterpolargl"
           }
          ],
          "scatterternary": [
           {
            "marker": {
             "colorbar": {
              "outlinewidth": 0,
              "ticks": ""
             }
            },
            "type": "scatterternary"
           }
          ],
          "surface": [
           {
            "colorbar": {
             "outlinewidth": 0,
             "ticks": ""
            },
            "colorscale": [
             [
              0,
              "#0d0887"
             ],
             [
              0.1111111111111111,
              "#46039f"
             ],
             [
              0.2222222222222222,
              "#7201a8"
             ],
             [
              0.3333333333333333,
              "#9c179e"
             ],
             [
              0.4444444444444444,
              "#bd3786"
             ],
             [
              0.5555555555555556,
              "#d8576b"
             ],
             [
              0.6666666666666666,
              "#ed7953"
             ],
             [
              0.7777777777777778,
              "#fb9f3a"
             ],
             [
              0.8888888888888888,
              "#fdca26"
             ],
             [
              1,
              "#f0f921"
             ]
            ],
            "type": "surface"
           }
          ],
          "table": [
           {
            "cells": {
             "fill": {
              "color": "#EBF0F8"
             },
             "line": {
              "color": "white"
             }
            },
            "header": {
             "fill": {
              "color": "#C8D4E3"
             },
             "line": {
              "color": "white"
             }
            },
            "type": "table"
           }
          ]
         },
         "layout": {
          "annotationdefaults": {
           "arrowcolor": "#2a3f5f",
           "arrowhead": 0,
           "arrowwidth": 1
          },
          "autotypenumbers": "strict",
          "coloraxis": {
           "colorbar": {
            "outlinewidth": 0,
            "ticks": ""
           }
          },
          "colorscale": {
           "diverging": [
            [
             0,
             "#8e0152"
            ],
            [
             0.1,
             "#c51b7d"
            ],
            [
             0.2,
             "#de77ae"
            ],
            [
             0.3,
             "#f1b6da"
            ],
            [
             0.4,
             "#fde0ef"
            ],
            [
             0.5,
             "#f7f7f7"
            ],
            [
             0.6,
             "#e6f5d0"
            ],
            [
             0.7,
             "#b8e186"
            ],
            [
             0.8,
             "#7fbc41"
            ],
            [
             0.9,
             "#4d9221"
            ],
            [
             1,
             "#276419"
            ]
           ],
           "sequential": [
            [
             0,
             "#0d0887"
            ],
            [
             0.1111111111111111,
             "#46039f"
            ],
            [
             0.2222222222222222,
             "#7201a8"
            ],
            [
             0.3333333333333333,
             "#9c179e"
            ],
            [
             0.4444444444444444,
             "#bd3786"
            ],
            [
             0.5555555555555556,
             "#d8576b"
            ],
            [
             0.6666666666666666,
             "#ed7953"
            ],
            [
             0.7777777777777778,
             "#fb9f3a"
            ],
            [
             0.8888888888888888,
             "#fdca26"
            ],
            [
             1,
             "#f0f921"
            ]
           ],
           "sequentialminus": [
            [
             0,
             "#0d0887"
            ],
            [
             0.1111111111111111,
             "#46039f"
            ],
            [
             0.2222222222222222,
             "#7201a8"
            ],
            [
             0.3333333333333333,
             "#9c179e"
            ],
            [
             0.4444444444444444,
             "#bd3786"
            ],
            [
             0.5555555555555556,
             "#d8576b"
            ],
            [
             0.6666666666666666,
             "#ed7953"
            ],
            [
             0.7777777777777778,
             "#fb9f3a"
            ],
            [
             0.8888888888888888,
             "#fdca26"
            ],
            [
             1,
             "#f0f921"
            ]
           ]
          },
          "colorway": [
           "#636efa",
           "#EF553B",
           "#00cc96",
           "#ab63fa",
           "#FFA15A",
           "#19d3f3",
           "#FF6692",
           "#B6E880",
           "#FF97FF",
           "#FECB52"
          ],
          "font": {
           "color": "#2a3f5f"
          },
          "geo": {
           "bgcolor": "white",
           "lakecolor": "white",
           "landcolor": "#E5ECF6",
           "showlakes": true,
           "showland": true,
           "subunitcolor": "white"
          },
          "hoverlabel": {
           "align": "left"
          },
          "hovermode": "closest",
          "mapbox": {
           "style": "light"
          },
          "paper_bgcolor": "white",
          "plot_bgcolor": "#E5ECF6",
          "polar": {
           "angularaxis": {
            "gridcolor": "white",
            "linecolor": "white",
            "ticks": ""
           },
           "bgcolor": "#E5ECF6",
           "radialaxis": {
            "gridcolor": "white",
            "linecolor": "white",
            "ticks": ""
           }
          },
          "scene": {
           "xaxis": {
            "backgroundcolor": "#E5ECF6",
            "gridcolor": "white",
            "gridwidth": 2,
            "linecolor": "white",
            "showbackground": true,
            "ticks": "",
            "zerolinecolor": "white"
           },
           "yaxis": {
            "backgroundcolor": "#E5ECF6",
            "gridcolor": "white",
            "gridwidth": 2,
            "linecolor": "white",
            "showbackground": true,
            "ticks": "",
            "zerolinecolor": "white"
           },
           "zaxis": {
            "backgroundcolor": "#E5ECF6",
            "gridcolor": "white",
            "gridwidth": 2,
            "linecolor": "white",
            "showbackground": true,
            "ticks": "",
            "zerolinecolor": "white"
           }
          },
          "shapedefaults": {
           "line": {
            "color": "#2a3f5f"
           }
          },
          "ternary": {
           "aaxis": {
            "gridcolor": "white",
            "linecolor": "white",
            "ticks": ""
           },
           "baxis": {
            "gridcolor": "white",
            "linecolor": "white",
            "ticks": ""
           },
           "bgcolor": "#E5ECF6",
           "caxis": {
            "gridcolor": "white",
            "linecolor": "white",
            "ticks": ""
           }
          },
          "title": {
           "x": 0.05
          },
          "xaxis": {
           "automargin": true,
           "gridcolor": "white",
           "linecolor": "white",
           "ticks": "",
           "title": {
            "standoff": 15
           },
           "zerolinecolor": "white",
           "zerolinewidth": 2
          },
          "yaxis": {
           "automargin": true,
           "gridcolor": "white",
           "linecolor": "white",
           "ticks": "",
           "title": {
            "standoff": 15
           },
           "zerolinecolor": "white",
           "zerolinewidth": 2
          }
         }
        },
        "title": {
         "text": "Mean and Confidence Interval of Hydrophobic.distance across PDB Files (Smoothed)"
        },
        "xaxis": {
         "title": {
          "text": "PDB File"
         }
        },
        "yaxis": {
         "title": {
          "text": "Hydrophobic.distance"
         }
        }
       }
      }
     },
     "metadata": {},
     "output_type": "display_data"
    },
    {
     "data": {
      "application/vnd.jupyter.widget-view+json": {
       "model_id": "9350258631124dbbab67d2b470f723f3",
       "version_major": 2,
       "version_minor": 0
      },
      "text/plain": [
       "interactive(children=(Dropdown(description='column', options=('Hydrophobic.distance', 'VdWContact.distance', '…"
      ]
     },
     "metadata": {},
     "output_type": "display_data"
    },
    {
     "data": {
      "application/vnd.plotly.v1+json": {
       "config": {
        "plotlyServerURL": "https://plot.ly"
       },
       "data": [
        {
         "line": {
          "color": "blue"
         },
         "mode": "lines+markers",
         "name": "Mean (Smoothed)",
         "type": "scatter",
         "x": [
          0,
          1,
          2,
          3,
          4,
          5,
          6,
          7,
          8,
          9,
          10,
          11,
          12,
          13,
          14,
          15,
          16,
          17,
          18,
          19,
          20,
          21,
          22,
          23,
          24,
          25,
          26,
          27,
          28,
          29,
          30,
          31,
          32,
          33,
          34,
          35,
          36,
          37,
          38,
          39,
          40,
          41,
          42,
          43,
          44,
          45,
          46,
          47,
          48,
          49,
          50,
          51,
          52,
          53,
          54,
          55,
          56,
          57,
          58,
          59,
          60,
          61,
          62,
          63,
          64,
          65,
          66,
          67,
          68,
          69,
          70,
          71,
          72,
          73,
          74,
          75,
          76,
          77,
          78,
          79,
          80,
          81,
          82,
          83,
          84,
          85,
          86,
          87,
          88,
          89,
          90,
          91,
          92,
          93,
          94,
          95,
          96,
          97,
          98,
          99,
          100,
          101,
          102,
          103,
          104,
          105,
          106,
          107,
          108,
          109,
          110,
          111,
          112,
          113,
          114,
          115,
          116,
          117,
          118,
          119,
          120,
          121,
          122,
          123,
          124,
          125,
          126,
          127,
          128,
          129,
          130,
          131,
          132,
          133,
          134,
          135,
          136,
          137,
          138,
          139,
          140,
          141,
          142,
          143,
          144,
          145,
          146,
          147,
          148,
          149,
          150,
          151,
          152,
          153,
          154,
          155,
          156,
          157,
          158,
          159,
          160,
          161,
          162,
          163,
          164,
          165,
          166,
          167,
          168,
          169,
          170,
          171,
          172,
          173,
          174,
          175,
          176,
          177,
          178,
          179,
          180,
          181,
          182,
          183,
          184,
          185,
          186,
          187,
          188,
          189,
          190,
          191,
          192,
          193,
          194,
          195,
          196,
          197,
          198,
          199,
          200,
          201,
          202,
          203,
          204,
          205,
          206,
          207,
          208,
          209,
          210,
          211,
          212,
          213,
          214,
          215,
          216,
          217,
          218,
          219,
          220,
          221,
          222,
          223,
          224,
          225,
          226,
          227,
          228,
          229,
          230,
          231,
          232,
          233,
          234,
          235,
          236,
          237,
          238,
          239,
          240,
          241,
          242,
          243,
          244,
          245,
          246,
          247,
          248,
          249,
          250,
          251,
          252,
          253,
          254,
          255,
          256,
          257,
          258,
          259,
          260,
          261,
          263,
          264,
          265,
          266,
          267,
          268,
          269,
          270,
          271,
          272,
          273,
          274,
          275,
          276,
          277,
          278,
          279,
          280,
          281,
          282,
          283,
          284,
          285,
          286,
          287,
          288,
          289,
          290,
          291,
          292,
          293,
          294,
          295,
          296,
          297,
          298,
          299,
          300,
          301,
          302,
          303,
          304,
          305,
          306,
          307,
          308,
          309,
          310,
          311,
          312,
          313,
          314,
          315,
          316,
          317,
          318,
          319,
          320,
          321,
          322,
          323,
          324,
          325,
          326,
          327,
          328,
          329,
          330,
          331,
          332,
          333,
          334,
          335,
          336,
          337,
          338,
          339,
          340,
          341,
          342,
          343,
          344,
          345,
          346,
          347,
          348,
          349,
          350,
          351,
          352,
          353,
          354,
          355,
          356,
          357,
          358,
          359,
          360,
          361,
          362,
          363,
          364,
          365,
          366,
          367,
          368,
          369,
          370,
          371,
          372,
          373,
          374,
          375,
          376,
          377,
          378,
          379,
          380,
          381,
          382,
          383,
          384,
          385,
          386,
          387,
          388,
          389,
          390,
          391,
          392,
          393,
          394,
          395,
          396,
          397,
          398,
          399,
          400,
          401,
          402,
          403,
          404,
          405,
          406,
          407,
          408,
          409,
          410,
          411,
          412,
          413,
          414,
          415,
          416,
          417,
          418,
          419,
          420,
          421,
          422,
          423,
          424,
          425,
          426,
          427,
          428,
          429,
          430,
          431,
          432,
          433,
          434,
          435,
          436,
          437,
          438,
          439,
          440,
          441,
          442,
          443,
          444,
          445,
          446,
          447,
          448,
          449,
          450,
          451,
          452,
          453,
          454,
          455,
          456,
          457,
          458,
          459,
          460,
          461,
          462,
          463,
          464,
          465,
          466,
          467,
          468,
          469,
          470,
          471,
          472,
          473,
          474,
          475,
          476,
          477,
          478,
          479,
          480,
          481,
          482,
          483,
          484,
          485,
          486,
          487,
          488,
          489,
          490,
          491,
          492,
          493,
          494,
          495,
          496,
          497,
          498,
          499,
          500
         ],
         "y": [
          null,
          null,
          null,
          null,
          null,
          null,
          null,
          null,
          null,
          null,
          null,
          null,
          2.8269754608947055,
          2.826090002483379,
          2.82342990404964,
          2.820610249778881,
          2.8192834556295536,
          2.805512964917568,
          2.808611652006365,
          2.80937487354602,
          2.813399612764274,
          2.8090857960956748,
          2.8116863192263692,
          2.80375019104743,
          2.806407586124395,
          2.79997450080738,
          2.7998546613140203,
          2.7932948208190114,
          2.8004623978402554,
          2.8041686844229554,
          2.8054412354439506,
          2.8110020552376485,
          2.817553070230289,
          2.8199581683493644,
          2.8234748261760494,
          2.819395205055062,
          2.81862433733783,
          2.8234194061522304,
          2.81977510418057,
          2.823067925998343,
          2.82444293131975,
          2.8290283695283263,
          2.8375705817497088,
          2.8369663468823645,
          2.82975085617578,
          2.8214854476685196,
          2.828828976938157,
          2.825932409331695,
          2.8367399188414866,
          2.826575855001565,
          2.8297010652048926,
          2.8276278433975284,
          2.828169222593,
          2.8284223929806496,
          2.8278116147533354,
          2.8335596193981467,
          2.832074615785041,
          2.8282358695758645,
          2.8329723523067143,
          2.8363227329755802,
          2.8314541415042367,
          2.830321858717809,
          2.8304729907608475,
          2.838840702825661,
          2.8382591745477637,
          2.839233533277957,
          2.8345638101682407,
          2.8377351232446033,
          2.834513957082538,
          2.8441207842222838,
          2.854865553139444,
          2.852242055382275,
          2.8518347125274577,
          2.8495146567901726,
          2.855364123500085,
          2.861910587065486,
          2.868235474778355,
          2.868843503100436,
          2.8674582318850614,
          2.858798102021455,
          2.857030942826809,
          2.851772988818982,
          2.8476119968265725,
          2.8400598359847375,
          2.841950664551693,
          2.8558888472138197,
          2.8509589361601333,
          2.8463570132883764,
          2.844183901874102,
          2.847159908735195,
          2.8455882496015734,
          2.844709791999508,
          2.8416263780646758,
          2.836471665922427,
          2.827814681514454,
          2.8229522854597997,
          2.8255191791091097,
          2.8264705915706365,
          2.822964062387656,
          2.8235117270945667,
          2.8148965871081035,
          2.8081691864665066,
          2.80988011871623,
          2.814347860510064,
          2.8208154334528297,
          2.814497669949517,
          2.8181297926344886,
          2.826377583422383,
          2.8325503974967035,
          2.8292835592901895,
          2.8235849102702613,
          2.827296537960677,
          2.831884960108091,
          2.8312887459382883,
          2.8275263445363032,
          2.834301845411898,
          2.840795675142606,
          2.8408211318036938,
          2.847978219335553,
          2.851067188173871,
          2.847773667224775,
          2.8472036671095116,
          2.845723938047824,
          2.848237144787642,
          2.844410663823959,
          2.8497909996480204,
          2.8592474857942727,
          2.8641680951783086,
          2.8635866910002266,
          2.867651777496432,
          2.8704823203088647,
          2.874622650972446,
          2.875257015026217,
          2.872697391798318,
          2.875298616701097,
          2.8780692551191347,
          2.8839687364170405,
          2.8809942928480594,
          2.875163546033607,
          2.879050722830978,
          2.8743471439272135,
          2.8724772227184276,
          2.873568016072706,
          2.8770712071947258,
          2.875976407193087,
          2.8770469552671454,
          2.8739568421144965,
          2.87697163527663,
          2.8723362941862933,
          2.8761474409439787,
          2.875115071149697,
          2.8666694734775318,
          2.862234177244559,
          2.8568022007898306,
          2.855814035050094,
          2.8569086959169114,
          2.8540742787529036,
          2.8502916063108903,
          2.853523610771651,
          2.8504563747246836,
          2.8518461331265725,
          2.8484862443856684,
          2.850515412606874,
          2.851036541139459,
          2.8495948847104176,
          2.8501713013976104,
          2.854797417522397,
          2.8608525792769965,
          2.8550500900547706,
          2.855746486610306,
          2.8582772913118744,
          2.858092535560453,
          2.8607989702271173,
          2.865167490107589,
          2.8633204127799026,
          2.86023803483982,
          2.866027798328371,
          2.8672265498153404,
          2.868835144273765,
          2.8606491419462503,
          2.8590635759829133,
          2.8564464838071473,
          2.8565306512336934,
          2.8577139525144237,
          2.8541630767280872,
          2.851941506844761,
          2.84783809729204,
          2.8454057069071506,
          2.8472533699657765,
          2.848600696816781,
          2.8495354026194737,
          2.8430908249749707,
          2.833690371707976,
          2.8392610867462094,
          2.8350916265850685,
          2.832893588253606,
          2.8383241875349636,
          2.832154924952683,
          2.8285568341765686,
          2.828819941234524,
          2.833307659404734,
          2.8275292410323067,
          2.8236025785064824,
          2.8256604043712223,
          2.828891718317251,
          2.8315237548248633,
          2.8344976729647287,
          2.831202598611948,
          2.8303877155205233,
          2.8325655265840988,
          2.835314075476107,
          2.8371757400804416,
          2.8385548025932836,
          2.8341132871374386,
          2.8310218666068003,
          2.826798653381995,
          2.8259427278709404,
          2.8267550592117305,
          2.827136561445106,
          2.8322127152686187,
          2.8371449529400623,
          2.831849410876613,
          2.832132861507099,
          2.835690285250713,
          2.834030171303545,
          2.8334017035052224,
          2.8328332381623635,
          2.8368869515368,
          2.8357618307910424,
          2.8368334202818475,
          2.8349821077352373,
          2.8388377158001528,
          2.839590719138434,
          2.8345651733920887,
          2.8382048627882455,
          2.8318192594285665,
          2.8321856002342685,
          2.836466210891873,
          2.846938381537362,
          2.8499994051086492,
          2.8509564156381644,
          2.855034576379495,
          2.857592279126731,
          2.85566069840512,
          2.853516036940435,
          2.8520795433775077,
          2.853427313440988,
          2.853505022419632,
          2.8552952753349894,
          2.8532088890408516,
          2.8577014934027694,
          2.8612254831970403,
          2.865772365792261,
          2.869585524014287,
          2.8688252006870347,
          2.867259373594385,
          2.8597032797736146,
          2.8692982411509105,
          2.86957503974407,
          2.863744558459249,
          2.8657872282569854,
          2.8627873133079476,
          2.8592379007332944,
          2.851725458968572,
          2.853091184310888,
          2.8522320769202416,
          2.850213826643097,
          2.846106463259464,
          2.8439024229860013,
          2.847149366470174,
          2.842277585933685,
          2.8419195318290447,
          2.840866896314082,
          2.83527425050115,
          2.836152477115686,
          2.83162012020165,
          2.831712084473436,
          2.8191974830807753,
          2.815072099010018,
          2.81361390847856,
          2.8100144777927243,
          2.8101938532507797,
          2.798773049862149,
          2.7964327523927004,
          2.8009008775449367,
          2.801962516559761,
          2.80949218174002,
          2.8080478005258995,
          2.803752390178609,
          2.7960926473854357,
          2.7966641085133785,
          2.8027965970595017,
          2.8110358605008456,
          2.8088933834849668,
          2.808268323220737,
          2.8100831258611123,
          2.8021782494265755,
          2.8073004072763,
          2.8080838338501946,
          2.811015920538552,
          2.8122320197013817,
          2.8136562134276932,
          2.825784765995301,
          2.824166167937007,
          2.8246187301327392,
          2.82036850245327,
          2.82589044478099,
          2.8291991260539984,
          2.829257682306894,
          2.8271862357067072,
          2.829334251187914,
          2.8199475453789464,
          2.823959588668083,
          2.836338790582449,
          2.834553155068591,
          2.8346682907826937,
          2.8263444631327146,
          2.813211972527008,
          2.8150768102460426,
          2.809751821880909,
          2.8075884221643257,
          2.8133433105362355,
          2.8067419403702343,
          2.8061540229613176,
          2.808656361271795,
          2.808770589331413,
          2.8027914346732157,
          2.7932854232664432,
          2.7980055669546484,
          2.8046871822058352,
          2.8071126496525785,
          2.803930574204612,
          2.806940568503646,
          2.808285292712348,
          2.8112717161492333,
          2.8070735772354194,
          2.813414681139609,
          2.814108127167704,
          2.813547060075391,
          2.8143680893583105,
          2.8138270499510494,
          2.8149925004874436,
          2.8230436206792193,
          2.8221887059375126,
          2.819740526790254,
          2.8236538524206436,
          2.8252163859204047,
          2.8337591651347163,
          2.83725071528005,
          2.835116135858891,
          2.8273836280039832,
          2.8378499799930363,
          2.8356579655299456,
          2.8356823483739237,
          2.8347320192549548,
          2.8368175794898,
          2.842869123151035,
          2.8402439734047404,
          2.841641984097349,
          2.8403976131919713,
          2.8405640935193834,
          2.8473790182878247,
          2.8433696786423184,
          2.842320735359999,
          2.846396887614455,
          2.8461789780051117,
          2.8476450956832378,
          2.8453485398797422,
          2.844008584198173,
          2.8483367858292636,
          2.8490280960810828,
          2.853685384267803,
          2.850265384128993,
          2.8466937600658975,
          2.844716080632448,
          2.849518556440022,
          2.8399468890791435,
          2.8430129925079455,
          2.8443194792290996,
          2.843152005912294,
          2.8427308081679286,
          2.8409250307144718,
          2.836323072998358,
          2.838078864187738,
          2.839592870841434,
          2.8376509813189266,
          2.8314998802508393,
          2.830354760830018,
          2.831222749709578,
          2.8293639473084524,
          2.8294753219681197,
          2.8322584040455143,
          2.8333329830716356,
          2.834117662726052,
          2.8297882829230274,
          2.8302913595991863,
          2.8204764443155197,
          2.8138683975513046,
          2.8134682418097032,
          2.816135244766968,
          2.8171267257348336,
          2.821956699328418,
          2.8187396290133067,
          2.814778937428413,
          2.813491354950619,
          2.823681834585384,
          2.8201244704080075,
          2.8239905766553743,
          2.8182387679730145,
          2.816954223122995,
          2.820440469230401,
          2.8193705343094666,
          2.8153642696654213,
          2.808941052609512,
          2.8132004404388335,
          2.812052043135655,
          2.80896855882628,
          2.8075932426904133,
          2.8168949405227472,
          2.82605766032287,
          2.8258094271601326,
          2.835245026679885,
          2.8428337773521384,
          2.846104721088594,
          2.847771988474773,
          2.850958005956268,
          2.8457754815291145,
          2.8542065544340436,
          2.8521452932647318,
          2.851015966571596,
          2.8480806133209247,
          2.8470827217533694,
          2.851033156474918,
          2.8578791019865615,
          2.860016826684867,
          2.8636271427158397,
          2.8561942833914173,
          2.8595166637137974,
          2.863118004355066,
          2.8581349879417304,
          2.859562543078149,
          2.8563145987633307,
          2.861129835579663,
          2.8479935988976206,
          2.8475169154603766,
          2.8428193208726107,
          2.8403436048277495,
          2.834593609831005,
          2.8316482435933805,
          2.821399739520876,
          2.816755013336889,
          2.8140777745110985,
          2.8122952021749428,
          2.8129202456648392,
          2.8199129391537743,
          2.8175023012195526,
          2.8131135110545107,
          2.80648028142343,
          2.8067007885229476,
          2.8020340755480726,
          2.8060271603520444,
          2.8130328681182113,
          2.814494345897475,
          2.8085937721491248,
          2.805407433268897,
          2.803552558027553,
          2.804605256105008,
          2.8016847502244144,
          2.8123793663085506,
          2.8101985568923213,
          2.8123883951367996,
          2.8099987602869216,
          2.8126791337453385,
          2.8096695914246266,
          2.8190165833873446,
          2.822010851706118,
          2.824309174958897,
          2.8207654867442393,
          2.8239677140572765,
          2.815550631208126,
          2.8179249028429725,
          2.8203125968614553,
          2.8241932432685672,
          2.822770949936102,
          2.8238385100780663,
          2.822623837259852,
          2.8215594193560447,
          2.819046823524417,
          null,
          null,
          null,
          null,
          null,
          null,
          null,
          null,
          null,
          null,
          null,
          null
         ]
        },
        {
         "line": {
          "color": "lightblue"
         },
         "mode": "lines",
         "name": "Confidence Interval Upper (Smoothed)",
         "showlegend": true,
         "type": "scatter",
         "x": [
          0,
          1,
          2,
          3,
          4,
          5,
          6,
          7,
          8,
          9,
          10,
          11,
          12,
          13,
          14,
          15,
          16,
          17,
          18,
          19,
          20,
          21,
          22,
          23,
          24,
          25,
          26,
          27,
          28,
          29,
          30,
          31,
          32,
          33,
          34,
          35,
          36,
          37,
          38,
          39,
          40,
          41,
          42,
          43,
          44,
          45,
          46,
          47,
          48,
          49,
          50,
          51,
          52,
          53,
          54,
          55,
          56,
          57,
          58,
          59,
          60,
          61,
          62,
          63,
          64,
          65,
          66,
          67,
          68,
          69,
          70,
          71,
          72,
          73,
          74,
          75,
          76,
          77,
          78,
          79,
          80,
          81,
          82,
          83,
          84,
          85,
          86,
          87,
          88,
          89,
          90,
          91,
          92,
          93,
          94,
          95,
          96,
          97,
          98,
          99,
          100,
          101,
          102,
          103,
          104,
          105,
          106,
          107,
          108,
          109,
          110,
          111,
          112,
          113,
          114,
          115,
          116,
          117,
          118,
          119,
          120,
          121,
          122,
          123,
          124,
          125,
          126,
          127,
          128,
          129,
          130,
          131,
          132,
          133,
          134,
          135,
          136,
          137,
          138,
          139,
          140,
          141,
          142,
          143,
          144,
          145,
          146,
          147,
          148,
          149,
          150,
          151,
          152,
          153,
          154,
          155,
          156,
          157,
          158,
          159,
          160,
          161,
          162,
          163,
          164,
          165,
          166,
          167,
          168,
          169,
          170,
          171,
          172,
          173,
          174,
          175,
          176,
          177,
          178,
          179,
          180,
          181,
          182,
          183,
          184,
          185,
          186,
          187,
          188,
          189,
          190,
          191,
          192,
          193,
          194,
          195,
          196,
          197,
          198,
          199,
          200,
          201,
          202,
          203,
          204,
          205,
          206,
          207,
          208,
          209,
          210,
          211,
          212,
          213,
          214,
          215,
          216,
          217,
          218,
          219,
          220,
          221,
          222,
          223,
          224,
          225,
          226,
          227,
          228,
          229,
          230,
          231,
          232,
          233,
          234,
          235,
          236,
          237,
          238,
          239,
          240,
          241,
          242,
          243,
          244,
          245,
          246,
          247,
          248,
          249,
          250,
          251,
          252,
          253,
          254,
          255,
          256,
          257,
          258,
          259,
          260,
          261,
          263,
          264,
          265,
          266,
          267,
          268,
          269,
          270,
          271,
          272,
          273,
          274,
          275,
          276,
          277,
          278,
          279,
          280,
          281,
          282,
          283,
          284,
          285,
          286,
          287,
          288,
          289,
          290,
          291,
          292,
          293,
          294,
          295,
          296,
          297,
          298,
          299,
          300,
          301,
          302,
          303,
          304,
          305,
          306,
          307,
          308,
          309,
          310,
          311,
          312,
          313,
          314,
          315,
          316,
          317,
          318,
          319,
          320,
          321,
          322,
          323,
          324,
          325,
          326,
          327,
          328,
          329,
          330,
          331,
          332,
          333,
          334,
          335,
          336,
          337,
          338,
          339,
          340,
          341,
          342,
          343,
          344,
          345,
          346,
          347,
          348,
          349,
          350,
          351,
          352,
          353,
          354,
          355,
          356,
          357,
          358,
          359,
          360,
          361,
          362,
          363,
          364,
          365,
          366,
          367,
          368,
          369,
          370,
          371,
          372,
          373,
          374,
          375,
          376,
          377,
          378,
          379,
          380,
          381,
          382,
          383,
          384,
          385,
          386,
          387,
          388,
          389,
          390,
          391,
          392,
          393,
          394,
          395,
          396,
          397,
          398,
          399,
          400,
          401,
          402,
          403,
          404,
          405,
          406,
          407,
          408,
          409,
          410,
          411,
          412,
          413,
          414,
          415,
          416,
          417,
          418,
          419,
          420,
          421,
          422,
          423,
          424,
          425,
          426,
          427,
          428,
          429,
          430,
          431,
          432,
          433,
          434,
          435,
          436,
          437,
          438,
          439,
          440,
          441,
          442,
          443,
          444,
          445,
          446,
          447,
          448,
          449,
          450,
          451,
          452,
          453,
          454,
          455,
          456,
          457,
          458,
          459,
          460,
          461,
          462,
          463,
          464,
          465,
          466,
          467,
          468,
          469,
          470,
          471,
          472,
          473,
          474,
          475,
          476,
          477,
          478,
          479,
          480,
          481,
          482,
          483,
          484,
          485,
          486,
          487,
          488,
          489,
          490,
          491,
          492,
          493,
          494,
          495,
          496,
          497,
          498,
          499,
          500
         ],
         "y": [
          null,
          null,
          null,
          null,
          null,
          null,
          null,
          null,
          null,
          null,
          null,
          null,
          2.8984471401310317,
          2.897165110862807,
          2.894261989186357,
          2.891506111460481,
          2.889873600471428,
          2.875663463704422,
          2.878689197279765,
          2.878429144967591,
          2.8812718928707466,
          2.876412373918285,
          2.8784797070900163,
          2.8708120229881944,
          2.873130487554066,
          2.8661655808671647,
          2.8655541615503,
          2.857859901774161,
          2.8645489334872254,
          2.867950902178699,
          2.868557440927402,
          2.8734079568066226,
          2.8804335487255206,
          2.882492656375898,
          2.885837824739679,
          2.881676192594656,
          2.8796216196051616,
          2.8846993990748278,
          2.8808210998452046,
          2.884836239129059,
          2.8866218452262626,
          2.891166598684796,
          2.899382156459516,
          2.898359160207393,
          2.890864358596894,
          2.8830084969215966,
          2.8907191830144474,
          2.8879363362918298,
          2.8984697847393552,
          2.888888666901694,
          2.8920828302980137,
          2.8914331416475534,
          2.892768226321485,
          2.8930887427250256,
          2.8937618806164402,
          2.9010583666626104,
          2.899200958806111,
          2.8954362716413504,
          2.9010040823267103,
          2.9047232648100563,
          2.9003197661534603,
          2.8986431408356275,
          2.899458635591441,
          2.908054296805281,
          2.906723016381919,
          2.9073843441270526,
          2.903248007140076,
          2.906177865830504,
          2.9038589779906214,
          2.913917071886091,
          2.9247476476088967,
          2.9216932967255422,
          2.921323942924384,
          2.9183179522565728,
          2.923958882222587,
          2.9305202238079007,
          2.9361090931898572,
          2.9364132449608604,
          2.93433401729899,
          2.924586933660121,
          2.9213143954703913,
          2.915883602107408,
          2.91192781269825,
          2.9032100987718015,
          2.904245690446331,
          2.917472922945275,
          2.912647772460303,
          2.907461927042519,
          2.9051603313639216,
          2.908315376249793,
          2.90694612977954,
          2.9053585296065676,
          2.902928495257328,
          2.8975849051335216,
          2.8887513685223176,
          2.8841192942650618,
          2.8871819192704025,
          2.8885837561686345,
          2.8859119622509,
          2.886954425990916,
          2.8782037903390494,
          2.8710394378535025,
          2.8735770097413496,
          2.8785858907162516,
          2.8850690588401644,
          2.8791291380112285,
          2.8830987414889084,
          2.891409868911096,
          2.8974955941986145,
          2.8940592360723003,
          2.888866118510266,
          2.8933995677130238,
          2.89873708021015,
          2.897507983655597,
          2.8937331317091024,
          2.8995519953854005,
          2.9054765613691056,
          2.904824285247829,
          2.9113649392201375,
          2.9155634008242726,
          2.9125130315773347,
          2.9116801437388755,
          2.909651821546585,
          2.912131540072159,
          2.908382297951408,
          2.914222815006927,
          2.9233828664121773,
          2.9268866688673087,
          2.926578386990172,
          2.929827121762851,
          2.9327704742571656,
          2.9369202165672226,
          2.937214781512578,
          2.9351079931440403,
          2.9395054027307275,
          2.941391988760641,
          2.9462691509528662,
          2.9412808531658543,
          2.93610533578684,
          2.9398563479690325,
          2.935624974240776,
          2.935045191782385,
          2.9365975235755473,
          2.940599504749579,
          2.9387645375299125,
          2.9387526555676726,
          2.9358239756596056,
          2.9390865395772368,
          2.93417245436825,
          2.937354644133174,
          2.9361786830930576,
          2.9275280140056945,
          2.9243338187764345,
          2.918552146834939,
          2.91839415196946,
          2.9192832070963504,
          2.9162744691071123,
          2.9119596018074647,
          2.9152851163619875,
          2.9102777430600377,
          2.9128590763998505,
          2.9104103793883316,
          2.913565865408753,
          2.9142399226450686,
          2.9123630619434744,
          2.9127512079705067,
          2.9172780823641107,
          2.9225638890201524,
          2.91756807175937,
          2.919141675058979,
          2.9222507844793997,
          2.9225006428815057,
          2.925694942231607,
          2.930654087985878,
          2.929346592143073,
          2.926596198835709,
          2.932987671694478,
          2.933582818111715,
          2.9356384360450987,
          2.927420307709359,
          2.92563289005589,
          2.9228209345543363,
          2.923354234655169,
          2.9251953511800277,
          2.9228537285533878,
          2.921324804598504,
          2.917303377960932,
          2.915355601984276,
          2.9179623078067336,
          2.919707824917828,
          2.9209356334124648,
          2.9146402637101234,
          2.906799966657068,
          2.911536167689289,
          2.906239722427731,
          2.9045893671736125,
          2.910408516498224,
          2.9043187666447694,
          2.90014216638407,
          2.899636995386973,
          2.9033511311785944,
          2.8975411649125973,
          2.8949988286049955,
          2.897010355441218,
          2.8990442840207318,
          2.9010687205428156,
          2.903462427082772,
          2.900212153106045,
          2.898518489301724,
          2.90042615505831,
          2.9018498818670757,
          2.902683327838961,
          2.9040165706038072,
          2.8984644487448072,
          2.8962315775520215,
          2.8928025758885467,
          2.890427928612686,
          2.890225300134775,
          2.8903864433258986,
          2.8957722450782035,
          2.90042861294835,
          2.894384173227017,
          2.8948140598686622,
          2.8987929705091737,
          2.8977972917864956,
          2.898534076904702,
          2.898705881493066,
          2.9009778772040447,
          2.8998965815010287,
          2.903119686452934,
          2.902103649612909,
          2.9073775562314057,
          2.908739295568925,
          2.903772682394157,
          2.9071613556499964,
          2.9004764020487728,
          2.901711791227575,
          2.906740065011542,
          2.918332887207726,
          2.9205471405778916,
          2.922257390413269,
          2.9277044895689044,
          2.930495696457912,
          2.92839962870198,
          2.9256265183282038,
          2.9235362438954877,
          2.9245902999889797,
          2.9237512924455262,
          2.9259833249492213,
          2.9242178585751906,
          2.9275671522952136,
          2.930584552677025,
          2.9353270047307496,
          2.9389599058384404,
          2.937637164477741,
          2.9372633487882696,
          2.929127713223109,
          2.9379308680673586,
          2.9378636256775406,
          2.931144887752922,
          2.9336503881104155,
          2.9312044910149337,
          2.925856481327865,
          2.917646155515775,
          2.9187138287764993,
          2.9172640237320597,
          2.9155646746577797,
          2.911232856236852,
          2.9096279411487003,
          2.9131147737146508,
          2.910094006795363,
          2.909662159458175,
          2.9079716480432474,
          2.901259967077538,
          2.901612581624834,
          2.8968274540790753,
          2.89654007854268,
          2.885117851521249,
          2.8811817242399047,
          2.8795861125808324,
          2.8741818080125396,
          2.8757292571934197,
          2.864984528763402,
          2.8632856583131763,
          2.869438016362468,
          2.8703096805431176,
          2.877221218207932,
          2.8760272763494505,
          2.8717365751822026,
          2.8653948190893157,
          2.8644879955012095,
          2.8693349365830447,
          2.8785540248027637,
          2.876502478443691,
          2.875836021439887,
          2.8759268396519015,
          2.8681756339028084,
          2.8747050854043765,
          2.8752566979196588,
          2.877960307951659,
          2.879638159537292,
          2.8809464179631283,
          2.8915376602773595,
          2.889872656576141,
          2.8899968607275697,
          2.8855082038955397,
          2.8903387572674575,
          2.8929859387943413,
          2.8932782768255714,
          2.890134290499982,
          2.892814466732113,
          2.884139970845257,
          2.8885760932911673,
          2.9001521471670433,
          2.897717438155652,
          2.898765289531627,
          2.8907467878736157,
          2.8772160509181277,
          2.878688580201553,
          2.87363538738412,
          2.8720683922332184,
          2.8782950848706537,
          2.8708823210479255,
          2.8699958883134142,
          2.8719706438958585,
          2.8717895116702423,
          2.866218855610069,
          2.8571127708852275,
          2.861324008291607,
          2.8686676502063837,
          2.87195345948213,
          2.8680691934365035,
          2.871122989824312,
          2.8725515711673517,
          2.8754653863979343,
          2.8709085392471274,
          2.8769707039639574,
          2.8786248943429786,
          2.8788067357579656,
          2.879549676686645,
          2.879797735793909,
          2.8807075905541852,
          2.888087876291107,
          2.887475160630886,
          2.8857398659938407,
          2.8890008372249905,
          2.8900108021917306,
          2.898506821143577,
          2.9030229937043486,
          2.9015086117026168,
          2.8940363870531627,
          2.904667862742526,
          2.9027759778960167,
          2.902689502299445,
          2.9005294220200777,
          2.902757964661846,
          2.908499668891366,
          2.9064275720097754,
          2.906881474535912,
          2.9059226965144576,
          2.906001786560511,
          2.912017466698978,
          2.907455461355803,
          2.9061127631355816,
          2.9100319378108166,
          2.909262784847347,
          2.9115496557845546,
          2.9093570417006083,
          2.9074184566293098,
          2.911408264813608,
          2.913174239342506,
          2.9174148025456197,
          2.9143528449267633,
          2.9102226608545205,
          2.9079935816884266,
          2.9129664263493704,
          2.9039195804863893,
          2.9065392156198784,
          2.908701458269292,
          2.9078700497662,
          2.90721189140727,
          2.9063222082456583,
          2.90130060051178,
          2.9027232668614458,
          2.9036973458977116,
          2.901238181862096,
          2.8949922990017836,
          2.8931824093652194,
          2.894096330714457,
          2.891714203781671,
          2.8909370530189387,
          2.893226640519813,
          2.8942344725904787,
          2.8955098435412627,
          2.891125866006381,
          2.88989368218931,
          2.880540849356101,
          2.8739923675595134,
          2.8740614147984136,
          2.876488275514977,
          2.876904892108841,
          2.880985645148524,
          2.877525626072588,
          2.8723840838411445,
          2.8716113731609294,
          2.8812811769211053,
          2.8767149126902036,
          2.8803287130027253,
          2.875233770387403,
          2.8739800524097303,
          2.878079286212367,
          2.877290521096334,
          2.8738967483970885,
          2.8671229723596974,
          2.871565714107852,
          2.870321211632369,
          2.8673539495164464,
          2.8660963224369893,
          2.8758015133109853,
          2.8844653676333007,
          2.885246371436015,
          2.8947559871709205,
          2.901773710259201,
          2.904706045680052,
          2.9067853496600957,
          2.9100599364014688,
          2.904451404776653,
          2.9142171304797837,
          2.9128725270034335,
          2.9113309683699025,
          2.908034235579489,
          2.9092639793036654,
          2.9136351022262414,
          2.920715772390268,
          2.9238770571068744,
          2.9273999988160013,
          2.9200042010074583,
          2.9221711291524652,
          2.9264673821270213,
          2.921895047749999,
          2.9234174496104894,
          2.919770827587425,
          2.9239869518372705,
          2.9100914396336477,
          2.9097166907719743,
          2.904447838922685,
          2.9011272945932927,
          2.896367256324173,
          2.89364197305125,
          2.8832950962814783,
          2.878941468542117,
          2.8767106318029123,
          2.8750045804981363,
          2.8752283901594944,
          2.8819582773331303,
          2.881966846552522,
          2.875968897152647,
          2.8696231068191596,
          2.8691294988612315,
          2.864889885986551,
          2.868577354789356,
          2.875825013090519,
          2.8791260965991956,
          2.872538066982693,
          2.868698658262707,
          2.867806986388591,
          2.8691054436817187,
          2.8679832840090502,
          2.878765689940968,
          2.877569775834478,
          2.880744814548604,
          2.878768103829235,
          2.8812627335887395,
          2.8780831119946075,
          2.887246936125108,
          2.890505073842592,
          2.8938714359132036,
          2.8895258467431266,
          2.8930110901236334,
          2.884464233600592,
          2.885389147786812,
          2.887355771074484,
          2.8915073918865737,
          2.8907124657493513,
          2.8907111367284624,
          2.889596743204959,
          2.8884832071018938,
          2.8847092560288736,
          null,
          null,
          null,
          null,
          null,
          null,
          null,
          null,
          null,
          null,
          null,
          null
         ]
        },
        {
         "fill": "tonexty",
         "line": {
          "color": "lightblue"
         },
         "mode": "lines",
         "name": "Confidence Interval Lower (Smoothed)",
         "type": "scatter",
         "x": [
          0,
          1,
          2,
          3,
          4,
          5,
          6,
          7,
          8,
          9,
          10,
          11,
          12,
          13,
          14,
          15,
          16,
          17,
          18,
          19,
          20,
          21,
          22,
          23,
          24,
          25,
          26,
          27,
          28,
          29,
          30,
          31,
          32,
          33,
          34,
          35,
          36,
          37,
          38,
          39,
          40,
          41,
          42,
          43,
          44,
          45,
          46,
          47,
          48,
          49,
          50,
          51,
          52,
          53,
          54,
          55,
          56,
          57,
          58,
          59,
          60,
          61,
          62,
          63,
          64,
          65,
          66,
          67,
          68,
          69,
          70,
          71,
          72,
          73,
          74,
          75,
          76,
          77,
          78,
          79,
          80,
          81,
          82,
          83,
          84,
          85,
          86,
          87,
          88,
          89,
          90,
          91,
          92,
          93,
          94,
          95,
          96,
          97,
          98,
          99,
          100,
          101,
          102,
          103,
          104,
          105,
          106,
          107,
          108,
          109,
          110,
          111,
          112,
          113,
          114,
          115,
          116,
          117,
          118,
          119,
          120,
          121,
          122,
          123,
          124,
          125,
          126,
          127,
          128,
          129,
          130,
          131,
          132,
          133,
          134,
          135,
          136,
          137,
          138,
          139,
          140,
          141,
          142,
          143,
          144,
          145,
          146,
          147,
          148,
          149,
          150,
          151,
          152,
          153,
          154,
          155,
          156,
          157,
          158,
          159,
          160,
          161,
          162,
          163,
          164,
          165,
          166,
          167,
          168,
          169,
          170,
          171,
          172,
          173,
          174,
          175,
          176,
          177,
          178,
          179,
          180,
          181,
          182,
          183,
          184,
          185,
          186,
          187,
          188,
          189,
          190,
          191,
          192,
          193,
          194,
          195,
          196,
          197,
          198,
          199,
          200,
          201,
          202,
          203,
          204,
          205,
          206,
          207,
          208,
          209,
          210,
          211,
          212,
          213,
          214,
          215,
          216,
          217,
          218,
          219,
          220,
          221,
          222,
          223,
          224,
          225,
          226,
          227,
          228,
          229,
          230,
          231,
          232,
          233,
          234,
          235,
          236,
          237,
          238,
          239,
          240,
          241,
          242,
          243,
          244,
          245,
          246,
          247,
          248,
          249,
          250,
          251,
          252,
          253,
          254,
          255,
          256,
          257,
          258,
          259,
          260,
          261,
          263,
          264,
          265,
          266,
          267,
          268,
          269,
          270,
          271,
          272,
          273,
          274,
          275,
          276,
          277,
          278,
          279,
          280,
          281,
          282,
          283,
          284,
          285,
          286,
          287,
          288,
          289,
          290,
          291,
          292,
          293,
          294,
          295,
          296,
          297,
          298,
          299,
          300,
          301,
          302,
          303,
          304,
          305,
          306,
          307,
          308,
          309,
          310,
          311,
          312,
          313,
          314,
          315,
          316,
          317,
          318,
          319,
          320,
          321,
          322,
          323,
          324,
          325,
          326,
          327,
          328,
          329,
          330,
          331,
          332,
          333,
          334,
          335,
          336,
          337,
          338,
          339,
          340,
          341,
          342,
          343,
          344,
          345,
          346,
          347,
          348,
          349,
          350,
          351,
          352,
          353,
          354,
          355,
          356,
          357,
          358,
          359,
          360,
          361,
          362,
          363,
          364,
          365,
          366,
          367,
          368,
          369,
          370,
          371,
          372,
          373,
          374,
          375,
          376,
          377,
          378,
          379,
          380,
          381,
          382,
          383,
          384,
          385,
          386,
          387,
          388,
          389,
          390,
          391,
          392,
          393,
          394,
          395,
          396,
          397,
          398,
          399,
          400,
          401,
          402,
          403,
          404,
          405,
          406,
          407,
          408,
          409,
          410,
          411,
          412,
          413,
          414,
          415,
          416,
          417,
          418,
          419,
          420,
          421,
          422,
          423,
          424,
          425,
          426,
          427,
          428,
          429,
          430,
          431,
          432,
          433,
          434,
          435,
          436,
          437,
          438,
          439,
          440,
          441,
          442,
          443,
          444,
          445,
          446,
          447,
          448,
          449,
          450,
          451,
          452,
          453,
          454,
          455,
          456,
          457,
          458,
          459,
          460,
          461,
          462,
          463,
          464,
          465,
          466,
          467,
          468,
          469,
          470,
          471,
          472,
          473,
          474,
          475,
          476,
          477,
          478,
          479,
          480,
          481,
          482,
          483,
          484,
          485,
          486,
          487,
          488,
          489,
          490,
          491,
          492,
          493,
          494,
          495,
          496,
          497,
          498,
          499,
          500
         ],
         "y": [
          null,
          null,
          null,
          null,
          null,
          null,
          null,
          null,
          null,
          null,
          null,
          null,
          2.75550378165838,
          2.7550148941039505,
          2.752597818912923,
          2.749714388097281,
          2.74869331078768,
          2.7353624661307148,
          2.738534106732966,
          2.7403206021244495,
          2.7455273326578014,
          2.7417592182730655,
          2.744892931362722,
          2.7366883591066657,
          2.7396846846947245,
          2.7337834207475957,
          2.734155161077741,
          2.7287297398638604,
          2.736375862193285,
          2.7403864666672124,
          2.7423250299604978,
          2.748596153668675,
          2.754672591735057,
          2.7574236803228316,
          2.76111182761242,
          2.7571142175154684,
          2.7576270550704987,
          2.762139413229633,
          2.758729108515935,
          2.761299612867628,
          2.7622640174132385,
          2.766890140371857,
          2.7757590070399005,
          2.7755735335573353,
          2.7686373537546642,
          2.7599623984154427,
          2.7669387708618665,
          2.763928482371561,
          2.775010052943618,
          2.7642630431014363,
          2.7673193001117715,
          2.763822545147504,
          2.763570218864515,
          2.763756043236274,
          2.7618613488902293,
          2.766060872133683,
          2.764948272763972,
          2.7610354675103777,
          2.764940622286718,
          2.767922201141104,
          2.7625885168550126,
          2.7620005765999904,
          2.761487345930254,
          2.76962710884604,
          2.7697953327136076,
          2.771082722428862,
          2.765879613196405,
          2.7692923806587033,
          2.765168936174455,
          2.774324496558478,
          2.784983458669991,
          2.782790814039008,
          2.782345482130532,
          2.780711361323773,
          2.7867693647775824,
          2.7933009503230704,
          2.800361856366852,
          2.801273761240012,
          2.8005824464711333,
          2.7930092703827905,
          2.792747490183227,
          2.787662375530555,
          2.7832961809548946,
          2.776909573197673,
          2.779655638657054,
          2.794304771482366,
          2.7892700998599627,
          2.7852520995342345,
          2.783207472384284,
          2.7860044412205967,
          2.7842303694236055,
          2.784061054392449,
          2.7803242608720224,
          2.775358426711332,
          2.76687799450659,
          2.761785276654537,
          2.7638564389478173,
          2.76435742697264,
          2.760016162524412,
          2.760069028198217,
          2.751589383877158,
          2.7452989350795116,
          2.7461832276911093,
          2.750109830303876,
          2.7565618080654946,
          2.7498662018878046,
          2.753160843780069,
          2.7613452979336706,
          2.767605200794792,
          2.764507882508079,
          2.758303702030256,
          2.7611935082083296,
          2.765032840006031,
          2.7650695082209786,
          2.761319557363503,
          2.769051695438394,
          2.7761147889161055,
          2.7768179783595595,
          2.7845914994509697,
          2.7865709755234684,
          2.783034302872215,
          2.7827271904801485,
          2.7817960545490616,
          2.784342749503125,
          2.7804390296965096,
          2.785359184289114,
          2.7951121051763685,
          2.8014495214893094,
          2.8005949950102815,
          2.8054764332300137,
          2.8081941663605643,
          2.81232508537767,
          2.8132992485398565,
          2.810286790452596,
          2.8110918306714665,
          2.814746521477627,
          2.8216683218812157,
          2.820707732530265,
          2.8142217562803733,
          2.8182450976929245,
          2.813069313613651,
          2.8099092536544696,
          2.810538508569865,
          2.8135429096398723,
          2.8131882768562617,
          2.815341254966618,
          2.8120897085693866,
          2.8148567309760244,
          2.810500134004337,
          2.814940237754783,
          2.8140514592063357,
          2.805810932949368,
          2.800134535712684,
          2.795052254744722,
          2.793233918130728,
          2.7945341847374725,
          2.791874088398694,
          2.7886236108143168,
          2.7917621051813137,
          2.7906350063893286,
          2.7908331898532954,
          2.786562109383006,
          2.7874649598049954,
          2.78783315963385,
          2.786826707477361,
          2.7875913948247146,
          2.792316752680683,
          2.7991412695338407,
          2.79253210835017,
          2.7923512981616336,
          2.7943037981443486,
          2.7936844282394,
          2.795902998222627,
          2.7996808922292997,
          2.7972942334167317,
          2.7938798708439303,
          2.799067924962265,
          2.8008702815189657,
          2.8020318525024313,
          2.793877976183142,
          2.792494261909937,
          2.7900720330599573,
          2.7897070678122167,
          2.79023255384882,
          2.785472424902787,
          2.7825582090910164,
          2.7783728166231483,
          2.7754558118300254,
          2.77654443212482,
          2.7774935687157347,
          2.7781351718264817,
          2.7715413862398166,
          2.7605807767588844,
          2.7669860058031297,
          2.763943530742406,
          2.761197809333601,
          2.7662398585717027,
          2.7599910832605956,
          2.7569715019690673,
          2.7580028870820747,
          2.7632641876308734,
          2.7575173171520158,
          2.7522063284079685,
          2.754310453301227,
          2.7587391526137703,
          2.7619787891069096,
          2.765532918846686,
          2.7621930441178506,
          2.762256941739322,
          2.7647048981098874,
          2.7687782690851384,
          2.771668152321921,
          2.7730930345827596,
          2.7697621255300704,
          2.7658121556615787,
          2.760794730875442,
          2.7614575271291955,
          2.763284818288686,
          2.7638866795643136,
          2.7686531854590335,
          2.7738612929317736,
          2.7693146485262092,
          2.769451663145536,
          2.772587599992252,
          2.770263050820594,
          2.7682693301057424,
          2.766960594831661,
          2.772796025869555,
          2.7716270800810565,
          2.770547154110762,
          2.7678605658575663,
          2.7702978753688994,
          2.770442142707943,
          2.76535766439002,
          2.7692483699264954,
          2.76316211680836,
          2.7626594092409618,
          2.766192356772204,
          2.775543875866997,
          2.7794516696394065,
          2.7796554408630607,
          2.782364663190086,
          2.784688861795551,
          2.7829217681082605,
          2.781405555552666,
          2.7806228428595285,
          2.782264326892996,
          2.7832587523937384,
          2.784607225720758,
          2.7821999195065126,
          2.7878358345103247,
          2.791866413717056,
          2.7962177268537722,
          2.8002111421901326,
          2.800013236896328,
          2.797255398400501,
          2.79027884632412,
          2.8006656142344615,
          2.8012864538106,
          2.796344229165575,
          2.797924068403556,
          2.7943701356009614,
          2.792619320138723,
          2.7858047624213693,
          2.787468539845277,
          2.7872001301084235,
          2.7848629786284147,
          2.7809800702820757,
          2.778176904823302,
          2.7811839592256975,
          2.7744611650720064,
          2.7741769041999147,
          2.773762144584916,
          2.7692885339247626,
          2.7706923726065384,
          2.7664127863242243,
          2.766884090404192,
          2.753277114640302,
          2.7489624737801317,
          2.7476417043762877,
          2.7458471475729085,
          2.74465844930814,
          2.7325615709608964,
          2.729579846472225,
          2.732363738727406,
          2.733615352576405,
          2.741763145272108,
          2.740068324702348,
          2.7357682051750163,
          2.7267904756815553,
          2.728840221525547,
          2.7362582575359577,
          2.743517696198927,
          2.7412842885262436,
          2.7407006250015864,
          2.744239412070323,
          2.7361808649503434,
          2.7398957291482247,
          2.74091096978073,
          2.7440715331254455,
          2.7448258798654717,
          2.7463660088922586,
          2.760031871713242,
          2.758459679297873,
          2.7592405995379097,
          2.7552288010110004,
          2.761442132294523,
          2.7654123133136554,
          2.7652370877882153,
          2.764238180913432,
          2.7658540356437142,
          2.7557551199126364,
          2.7593430840449997,
          2.772525433997854,
          2.771388871981531,
          2.77057129203376,
          2.7619421383918143,
          2.749207894135888,
          2.751465040290532,
          2.7458682563776993,
          2.743108452095434,
          2.7483915362018165,
          2.7426015596925417,
          2.7423121576092213,
          2.7453420786477314,
          2.745751666992583,
          2.739364013736361,
          2.72945807564766,
          2.73468712561769,
          2.7407067142052868,
          2.742271839823027,
          2.7397919549727217,
          2.7427581471829785,
          2.744019014257345,
          2.7470780459005333,
          2.7432386152237114,
          2.749858658315261,
          2.7495913599924298,
          2.748287384392816,
          2.7491865020299753,
          2.74785636410819,
          2.7492774104207016,
          2.7579993650673322,
          2.7569022512441395,
          2.7537411875866677,
          2.758306867616296,
          2.7604219696490793,
          2.769011509125856,
          2.7714784368557512,
          2.7687236600151657,
          2.7607308689548034,
          2.7710320972435465,
          2.768539953163875,
          2.768675194448403,
          2.76893461648983,
          2.7708771943177544,
          2.777238577410704,
          2.774060374799705,
          2.7764024936587854,
          2.774872529869485,
          2.775126400478255,
          2.782740569876671,
          2.7792838959288337,
          2.778528707584416,
          2.7827618374180947,
          2.7830951711628757,
          2.783740535581921,
          2.7813400380588744,
          2.780598711767037,
          2.7852653068449196,
          2.7848819528196596,
          2.7899559659899853,
          2.786177923331223,
          2.7831648592772744,
          2.781438579576469,
          2.7860706865306737,
          2.7759741976718977,
          2.779486769396013,
          2.779937500188906,
          2.778433962058389,
          2.778249724928587,
          2.775527853183285,
          2.7713455454849365,
          2.773434461514031,
          2.775488395785156,
          2.7740637807757578,
          2.7680074614998955,
          2.767527112294817,
          2.7683491687047,
          2.767013690835232,
          2.7680135909173007,
          2.771290167571215,
          2.772431493552793,
          2.772725481910841,
          2.768450699839674,
          2.7706890370090616,
          2.760412039274939,
          2.753744427543096,
          2.752875068820993,
          2.7557822140189585,
          2.7573485593608256,
          2.762927753508311,
          2.7599536319540254,
          2.757173791015683,
          2.7553713367403083,
          2.766082492249663,
          2.763534028125812,
          2.767652440308024,
          2.7612437655586257,
          2.75992839383626,
          2.762801652248435,
          2.761450547522598,
          2.7568317909337536,
          2.7507591328593257,
          2.7548351667698148,
          2.753782874638941,
          2.750583168136115,
          2.7490901629438365,
          2.7579883677345083,
          2.76764995301244,
          2.7663724828842517,
          2.7757340661888485,
          2.7838938444450747,
          2.7875033964971356,
          2.78875862728945,
          2.7918560755110677,
          2.787099558281576,
          2.7941959783883044,
          2.791418059526029,
          2.790700964773288,
          2.78812699106236,
          2.784901464203074,
          2.7884312107235947,
          2.7950424315828557,
          2.7961565962628594,
          2.7998542866156777,
          2.792384365775377,
          2.7968621982751305,
          2.799768626583111,
          2.794374928133462,
          2.7957076365458082,
          2.792858369939235,
          2.7982727193220556,
          2.7858957581615935,
          2.7853171401487793,
          2.781190802822536,
          2.7795599150622077,
          2.7728199633378376,
          2.769654514135512,
          2.759504382760274,
          2.7545685581316603,
          2.751444917219284,
          2.7495858238517483,
          2.750612101170184,
          2.7578676009744187,
          2.7530377558865826,
          2.7502581249563747,
          2.7433374560277013,
          2.7442720781846632,
          2.739178265109594,
          2.743476965914732,
          2.750240723145903,
          2.7498625951957547,
          2.7446494773155554,
          2.7421162082750863,
          2.7392981296665138,
          2.740105068528298,
          2.735386216439778,
          2.7459930426761345,
          2.742827337950164,
          2.7440319757249956,
          2.7412294167446074,
          2.7440955339019375,
          2.7412560708546447,
          2.750786230649581,
          2.753516629569644,
          2.7547469140045924,
          2.752005126745351,
          2.7549243379909196,
          2.7466370288156607,
          2.7504606578991324,
          2.753269422648426,
          2.7568790946505595,
          2.7548294341228523,
          2.7569658834276702,
          2.755650931314746,
          2.7546356316101956,
          2.75338439101996,
          null,
          null,
          null,
          null,
          null,
          null,
          null,
          null,
          null,
          null,
          null,
          null
         ]
        }
       ],
       "layout": {
        "legend": {
         "title": {
          "text": "Legend"
         }
        },
        "template": {
         "data": {
          "bar": [
           {
            "error_x": {
             "color": "#2a3f5f"
            },
            "error_y": {
             "color": "#2a3f5f"
            },
            "marker": {
             "line": {
              "color": "#E5ECF6",
              "width": 0.5
             },
             "pattern": {
              "fillmode": "overlay",
              "size": 10,
              "solidity": 0.2
             }
            },
            "type": "bar"
           }
          ],
          "barpolar": [
           {
            "marker": {
             "line": {
              "color": "#E5ECF6",
              "width": 0.5
             },
             "pattern": {
              "fillmode": "overlay",
              "size": 10,
              "solidity": 0.2
             }
            },
            "type": "barpolar"
           }
          ],
          "carpet": [
           {
            "aaxis": {
             "endlinecolor": "#2a3f5f",
             "gridcolor": "white",
             "linecolor": "white",
             "minorgridcolor": "white",
             "startlinecolor": "#2a3f5f"
            },
            "baxis": {
             "endlinecolor": "#2a3f5f",
             "gridcolor": "white",
             "linecolor": "white",
             "minorgridcolor": "white",
             "startlinecolor": "#2a3f5f"
            },
            "type": "carpet"
           }
          ],
          "choropleth": [
           {
            "colorbar": {
             "outlinewidth": 0,
             "ticks": ""
            },
            "type": "choropleth"
           }
          ],
          "contour": [
           {
            "colorbar": {
             "outlinewidth": 0,
             "ticks": ""
            },
            "colorscale": [
             [
              0,
              "#0d0887"
             ],
             [
              0.1111111111111111,
              "#46039f"
             ],
             [
              0.2222222222222222,
              "#7201a8"
             ],
             [
              0.3333333333333333,
              "#9c179e"
             ],
             [
              0.4444444444444444,
              "#bd3786"
             ],
             [
              0.5555555555555556,
              "#d8576b"
             ],
             [
              0.6666666666666666,
              "#ed7953"
             ],
             [
              0.7777777777777778,
              "#fb9f3a"
             ],
             [
              0.8888888888888888,
              "#fdca26"
             ],
             [
              1,
              "#f0f921"
             ]
            ],
            "type": "contour"
           }
          ],
          "contourcarpet": [
           {
            "colorbar": {
             "outlinewidth": 0,
             "ticks": ""
            },
            "type": "contourcarpet"
           }
          ],
          "heatmap": [
           {
            "colorbar": {
             "outlinewidth": 0,
             "ticks": ""
            },
            "colorscale": [
             [
              0,
              "#0d0887"
             ],
             [
              0.1111111111111111,
              "#46039f"
             ],
             [
              0.2222222222222222,
              "#7201a8"
             ],
             [
              0.3333333333333333,
              "#9c179e"
             ],
             [
              0.4444444444444444,
              "#bd3786"
             ],
             [
              0.5555555555555556,
              "#d8576b"
             ],
             [
              0.6666666666666666,
              "#ed7953"
             ],
             [
              0.7777777777777778,
              "#fb9f3a"
             ],
             [
              0.8888888888888888,
              "#fdca26"
             ],
             [
              1,
              "#f0f921"
             ]
            ],
            "type": "heatmap"
           }
          ],
          "heatmapgl": [
           {
            "colorbar": {
             "outlinewidth": 0,
             "ticks": ""
            },
            "colorscale": [
             [
              0,
              "#0d0887"
             ],
             [
              0.1111111111111111,
              "#46039f"
             ],
             [
              0.2222222222222222,
              "#7201a8"
             ],
             [
              0.3333333333333333,
              "#9c179e"
             ],
             [
              0.4444444444444444,
              "#bd3786"
             ],
             [
              0.5555555555555556,
              "#d8576b"
             ],
             [
              0.6666666666666666,
              "#ed7953"
             ],
             [
              0.7777777777777778,
              "#fb9f3a"
             ],
             [
              0.8888888888888888,
              "#fdca26"
             ],
             [
              1,
              "#f0f921"
             ]
            ],
            "type": "heatmapgl"
           }
          ],
          "histogram": [
           {
            "marker": {
             "pattern": {
              "fillmode": "overlay",
              "size": 10,
              "solidity": 0.2
             }
            },
            "type": "histogram"
           }
          ],
          "histogram2d": [
           {
            "colorbar": {
             "outlinewidth": 0,
             "ticks": ""
            },
            "colorscale": [
             [
              0,
              "#0d0887"
             ],
             [
              0.1111111111111111,
              "#46039f"
             ],
             [
              0.2222222222222222,
              "#7201a8"
             ],
             [
              0.3333333333333333,
              "#9c179e"
             ],
             [
              0.4444444444444444,
              "#bd3786"
             ],
             [
              0.5555555555555556,
              "#d8576b"
             ],
             [
              0.6666666666666666,
              "#ed7953"
             ],
             [
              0.7777777777777778,
              "#fb9f3a"
             ],
             [
              0.8888888888888888,
              "#fdca26"
             ],
             [
              1,
              "#f0f921"
             ]
            ],
            "type": "histogram2d"
           }
          ],
          "histogram2dcontour": [
           {
            "colorbar": {
             "outlinewidth": 0,
             "ticks": ""
            },
            "colorscale": [
             [
              0,
              "#0d0887"
             ],
             [
              0.1111111111111111,
              "#46039f"
             ],
             [
              0.2222222222222222,
              "#7201a8"
             ],
             [
              0.3333333333333333,
              "#9c179e"
             ],
             [
              0.4444444444444444,
              "#bd3786"
             ],
             [
              0.5555555555555556,
              "#d8576b"
             ],
             [
              0.6666666666666666,
              "#ed7953"
             ],
             [
              0.7777777777777778,
              "#fb9f3a"
             ],
             [
              0.8888888888888888,
              "#fdca26"
             ],
             [
              1,
              "#f0f921"
             ]
            ],
            "type": "histogram2dcontour"
           }
          ],
          "mesh3d": [
           {
            "colorbar": {
             "outlinewidth": 0,
             "ticks": ""
            },
            "type": "mesh3d"
           }
          ],
          "parcoords": [
           {
            "line": {
             "colorbar": {
              "outlinewidth": 0,
              "ticks": ""
             }
            },
            "type": "parcoords"
           }
          ],
          "pie": [
           {
            "automargin": true,
            "type": "pie"
           }
          ],
          "scatter": [
           {
            "fillpattern": {
             "fillmode": "overlay",
             "size": 10,
             "solidity": 0.2
            },
            "type": "scatter"
           }
          ],
          "scatter3d": [
           {
            "line": {
             "colorbar": {
              "outlinewidth": 0,
              "ticks": ""
             }
            },
            "marker": {
             "colorbar": {
              "outlinewidth": 0,
              "ticks": ""
             }
            },
            "type": "scatter3d"
           }
          ],
          "scattercarpet": [
           {
            "marker": {
             "colorbar": {
              "outlinewidth": 0,
              "ticks": ""
             }
            },
            "type": "scattercarpet"
           }
          ],
          "scattergeo": [
           {
            "marker": {
             "colorbar": {
              "outlinewidth": 0,
              "ticks": ""
             }
            },
            "type": "scattergeo"
           }
          ],
          "scattergl": [
           {
            "marker": {
             "colorbar": {
              "outlinewidth": 0,
              "ticks": ""
             }
            },
            "type": "scattergl"
           }
          ],
          "scattermapbox": [
           {
            "marker": {
             "colorbar": {
              "outlinewidth": 0,
              "ticks": ""
             }
            },
            "type": "scattermapbox"
           }
          ],
          "scatterpolar": [
           {
            "marker": {
             "colorbar": {
              "outlinewidth": 0,
              "ticks": ""
             }
            },
            "type": "scatterpolar"
           }
          ],
          "scatterpolargl": [
           {
            "marker": {
             "colorbar": {
              "outlinewidth": 0,
              "ticks": ""
             }
            },
            "type": "scatterpolargl"
           }
          ],
          "scatterternary": [
           {
            "marker": {
             "colorbar": {
              "outlinewidth": 0,
              "ticks": ""
             }
            },
            "type": "scatterternary"
           }
          ],
          "surface": [
           {
            "colorbar": {
             "outlinewidth": 0,
             "ticks": ""
            },
            "colorscale": [
             [
              0,
              "#0d0887"
             ],
             [
              0.1111111111111111,
              "#46039f"
             ],
             [
              0.2222222222222222,
              "#7201a8"
             ],
             [
              0.3333333333333333,
              "#9c179e"
             ],
             [
              0.4444444444444444,
              "#bd3786"
             ],
             [
              0.5555555555555556,
              "#d8576b"
             ],
             [
              0.6666666666666666,
              "#ed7953"
             ],
             [
              0.7777777777777778,
              "#fb9f3a"
             ],
             [
              0.8888888888888888,
              "#fdca26"
             ],
             [
              1,
              "#f0f921"
             ]
            ],
            "type": "surface"
           }
          ],
          "table": [
           {
            "cells": {
             "fill": {
              "color": "#EBF0F8"
             },
             "line": {
              "color": "white"
             }
            },
            "header": {
             "fill": {
              "color": "#C8D4E3"
             },
             "line": {
              "color": "white"
             }
            },
            "type": "table"
           }
          ]
         },
         "layout": {
          "annotationdefaults": {
           "arrowcolor": "#2a3f5f",
           "arrowhead": 0,
           "arrowwidth": 1
          },
          "autotypenumbers": "strict",
          "coloraxis": {
           "colorbar": {
            "outlinewidth": 0,
            "ticks": ""
           }
          },
          "colorscale": {
           "diverging": [
            [
             0,
             "#8e0152"
            ],
            [
             0.1,
             "#c51b7d"
            ],
            [
             0.2,
             "#de77ae"
            ],
            [
             0.3,
             "#f1b6da"
            ],
            [
             0.4,
             "#fde0ef"
            ],
            [
             0.5,
             "#f7f7f7"
            ],
            [
             0.6,
             "#e6f5d0"
            ],
            [
             0.7,
             "#b8e186"
            ],
            [
             0.8,
             "#7fbc41"
            ],
            [
             0.9,
             "#4d9221"
            ],
            [
             1,
             "#276419"
            ]
           ],
           "sequential": [
            [
             0,
             "#0d0887"
            ],
            [
             0.1111111111111111,
             "#46039f"
            ],
            [
             0.2222222222222222,
             "#7201a8"
            ],
            [
             0.3333333333333333,
             "#9c179e"
            ],
            [
             0.4444444444444444,
             "#bd3786"
            ],
            [
             0.5555555555555556,
             "#d8576b"
            ],
            [
             0.6666666666666666,
             "#ed7953"
            ],
            [
             0.7777777777777778,
             "#fb9f3a"
            ],
            [
             0.8888888888888888,
             "#fdca26"
            ],
            [
             1,
             "#f0f921"
            ]
           ],
           "sequentialminus": [
            [
             0,
             "#0d0887"
            ],
            [
             0.1111111111111111,
             "#46039f"
            ],
            [
             0.2222222222222222,
             "#7201a8"
            ],
            [
             0.3333333333333333,
             "#9c179e"
            ],
            [
             0.4444444444444444,
             "#bd3786"
            ],
            [
             0.5555555555555556,
             "#d8576b"
            ],
            [
             0.6666666666666666,
             "#ed7953"
            ],
            [
             0.7777777777777778,
             "#fb9f3a"
            ],
            [
             0.8888888888888888,
             "#fdca26"
            ],
            [
             1,
             "#f0f921"
            ]
           ]
          },
          "colorway": [
           "#636efa",
           "#EF553B",
           "#00cc96",
           "#ab63fa",
           "#FFA15A",
           "#19d3f3",
           "#FF6692",
           "#B6E880",
           "#FF97FF",
           "#FECB52"
          ],
          "font": {
           "color": "#2a3f5f"
          },
          "geo": {
           "bgcolor": "white",
           "lakecolor": "white",
           "landcolor": "#E5ECF6",
           "showlakes": true,
           "showland": true,
           "subunitcolor": "white"
          },
          "hoverlabel": {
           "align": "left"
          },
          "hovermode": "closest",
          "mapbox": {
           "style": "light"
          },
          "paper_bgcolor": "white",
          "plot_bgcolor": "#E5ECF6",
          "polar": {
           "angularaxis": {
            "gridcolor": "white",
            "linecolor": "white",
            "ticks": ""
           },
           "bgcolor": "#E5ECF6",
           "radialaxis": {
            "gridcolor": "white",
            "linecolor": "white",
            "ticks": ""
           }
          },
          "scene": {
           "xaxis": {
            "backgroundcolor": "#E5ECF6",
            "gridcolor": "white",
            "gridwidth": 2,
            "linecolor": "white",
            "showbackground": true,
            "ticks": "",
            "zerolinecolor": "white"
           },
           "yaxis": {
            "backgroundcolor": "#E5ECF6",
            "gridcolor": "white",
            "gridwidth": 2,
            "linecolor": "white",
            "showbackground": true,
            "ticks": "",
            "zerolinecolor": "white"
           },
           "zaxis": {
            "backgroundcolor": "#E5ECF6",
            "gridcolor": "white",
            "gridwidth": 2,
            "linecolor": "white",
            "showbackground": true,
            "ticks": "",
            "zerolinecolor": "white"
           }
          },
          "shapedefaults": {
           "line": {
            "color": "#2a3f5f"
           }
          },
          "ternary": {
           "aaxis": {
            "gridcolor": "white",
            "linecolor": "white",
            "ticks": ""
           },
           "baxis": {
            "gridcolor": "white",
            "linecolor": "white",
            "ticks": ""
           },
           "bgcolor": "#E5ECF6",
           "caxis": {
            "gridcolor": "white",
            "linecolor": "white",
            "ticks": ""
           }
          },
          "title": {
           "x": 0.05
          },
          "xaxis": {
           "automargin": true,
           "gridcolor": "white",
           "linecolor": "white",
           "ticks": "",
           "title": {
            "standoff": 15
           },
           "zerolinecolor": "white",
           "zerolinewidth": 2
          },
          "yaxis": {
           "automargin": true,
           "gridcolor": "white",
           "linecolor": "white",
           "ticks": "",
           "title": {
            "standoff": 15
           },
           "zerolinecolor": "white",
           "zerolinewidth": 2
          }
         }
        },
        "title": {
         "text": "Mean and Confidence Interval of VdWContact.distance across PDB Files (Smoothed)"
        },
        "xaxis": {
         "title": {
          "text": "PDB File"
         }
        },
        "yaxis": {
         "title": {
          "text": "VdWContact.distance"
         }
        }
       }
      }
     },
     "metadata": {},
     "output_type": "display_data"
    }
   ],
   "source": [
    "numeric_columns = [\n",
    "    col for col in final_results_df.columns\n",
    "    if col not in ['PDB_File', 'Residue'] and pd.api.types.is_numeric_dtype(final_results_df[col])\n",
    "]\n",
    "\n",
    "# Plot with a default window size for the moving average\n",
    "plot_mean_with_confidence_intervals(final_results_df, numeric_columns, window_size=25)"
   ]
  }
 ],
 "metadata": {
  "kernelspec": {
   "display_name": ".venv",
   "language": "python",
   "name": "python3"
  },
  "language_info": {
   "codemirror_mode": {
    "name": "ipython",
    "version": 3
   },
   "file_extension": ".py",
   "mimetype": "text/x-python",
   "name": "python",
   "nbconvert_exporter": "python",
   "pygments_lexer": "ipython3",
   "version": "3.11.6"
  }
 },
 "nbformat": 4,
 "nbformat_minor": 2
}

{
 "cells": [
  {
   "cell_type": "code",
   "execution_count": 1,
   "metadata": {},
   "outputs": [],
   "source": [
    "import argparse\n",
    "from pathlib import Path\n",
    "import numpy as np\n",
    "from rdkit import Chem\n",
    "from rdkit.Chem.Draw import IPythonConsole\n"
   ]
  },
  {
   "cell_type": "code",
   "execution_count": 2,
   "metadata": {},
   "outputs": [],
   "source": [
    "import pandas as pd\n",
    "from tqdm import tqdm\n",
    "import prolif as plf\n",
    "import MDAnalysis as mda\n",
    "from MDAnalysis.topology.guessers import guess_types\n",
    "from pathlib import Path"
   ]
  },
  {
   "cell_type": "code",
   "execution_count": 3,
   "metadata": {},
   "outputs": [],
   "source": [
    "IPythonConsole.ipython_useSVG = True\n",
    "\n",
    "# Initialize progress bar for pandas\n",
    "tqdm.pandas()"
   ]
  },
  {
   "cell_type": "code",
   "execution_count": 4,
   "metadata": {},
   "outputs": [
    {
     "data": {
      "text/plain": [
       "(34107, 13)"
      ]
     },
     "execution_count": 4,
     "metadata": {},
     "output_type": "execute_result"
    }
   ],
   "source": [
    "final_results_df = pd.read_csv('processed.csv')\n",
    "final_results_df.shape"
   ]
  },
  {
   "cell_type": "code",
   "execution_count": 5,
   "metadata": {},
   "outputs": [
    {
     "data": {
      "text/html": [
       "<div>\n",
       "<style scoped>\n",
       "    .dataframe tbody tr th:only-of-type {\n",
       "        vertical-align: middle;\n",
       "    }\n",
       "\n",
       "    .dataframe tbody tr th {\n",
       "        vertical-align: top;\n",
       "    }\n",
       "\n",
       "    .dataframe thead th {\n",
       "        text-align: right;\n",
       "    }\n",
       "</style>\n",
       "<table border=\"1\" class=\"dataframe\">\n",
       "  <thead>\n",
       "    <tr style=\"text-align: right;\">\n",
       "      <th></th>\n",
       "      <th>Residue</th>\n",
       "      <th>Hydrophobic.distance</th>\n",
       "      <th>VdWContact.distance</th>\n",
       "      <th>HBDonor.distance</th>\n",
       "      <th>HBDonor.DHA_angle</th>\n",
       "      <th>Cationic.distance</th>\n",
       "      <th>HBAcceptor.distance</th>\n",
       "      <th>HBAcceptor.DHA_angle</th>\n",
       "      <th>PiStacking.distance</th>\n",
       "      <th>PiStacking.plane_angle</th>\n",
       "      <th>PiStacking.normal_to_centroid_angle</th>\n",
       "      <th>PiStacking.intersect_distance</th>\n",
       "      <th>PDB_File</th>\n",
       "    </tr>\n",
       "  </thead>\n",
       "  <tbody>\n",
       "    <tr>\n",
       "      <th>0</th>\n",
       "      <td>VAL60.A</td>\n",
       "      <td>4.475821</td>\n",
       "      <td>NaN</td>\n",
       "      <td>NaN</td>\n",
       "      <td>NaN</td>\n",
       "      <td>NaN</td>\n",
       "      <td>NaN</td>\n",
       "      <td>NaN</td>\n",
       "      <td>NaN</td>\n",
       "      <td>NaN</td>\n",
       "      <td>NaN</td>\n",
       "      <td>NaN</td>\n",
       "      <td>0</td>\n",
       "    </tr>\n",
       "    <tr>\n",
       "      <th>1</th>\n",
       "      <td>ASP61.A</td>\n",
       "      <td>NaN</td>\n",
       "      <td>3.103711</td>\n",
       "      <td>NaN</td>\n",
       "      <td>NaN</td>\n",
       "      <td>NaN</td>\n",
       "      <td>NaN</td>\n",
       "      <td>NaN</td>\n",
       "      <td>NaN</td>\n",
       "      <td>NaN</td>\n",
       "      <td>NaN</td>\n",
       "      <td>NaN</td>\n",
       "      <td>0</td>\n",
       "    </tr>\n",
       "    <tr>\n",
       "      <th>2</th>\n",
       "      <td>PHE64.A</td>\n",
       "      <td>4.006420</td>\n",
       "      <td>NaN</td>\n",
       "      <td>NaN</td>\n",
       "      <td>NaN</td>\n",
       "      <td>NaN</td>\n",
       "      <td>NaN</td>\n",
       "      <td>NaN</td>\n",
       "      <td>NaN</td>\n",
       "      <td>NaN</td>\n",
       "      <td>NaN</td>\n",
       "      <td>NaN</td>\n",
       "      <td>0</td>\n",
       "    </tr>\n",
       "    <tr>\n",
       "      <th>3</th>\n",
       "      <td>PHE64.A</td>\n",
       "      <td>NaN</td>\n",
       "      <td>3.348581</td>\n",
       "      <td>NaN</td>\n",
       "      <td>NaN</td>\n",
       "      <td>NaN</td>\n",
       "      <td>NaN</td>\n",
       "      <td>NaN</td>\n",
       "      <td>NaN</td>\n",
       "      <td>NaN</td>\n",
       "      <td>NaN</td>\n",
       "      <td>NaN</td>\n",
       "      <td>0</td>\n",
       "    </tr>\n",
       "    <tr>\n",
       "      <th>4</th>\n",
       "      <td>PHE64.A</td>\n",
       "      <td>4.006420</td>\n",
       "      <td>NaN</td>\n",
       "      <td>NaN</td>\n",
       "      <td>NaN</td>\n",
       "      <td>NaN</td>\n",
       "      <td>NaN</td>\n",
       "      <td>NaN</td>\n",
       "      <td>NaN</td>\n",
       "      <td>NaN</td>\n",
       "      <td>NaN</td>\n",
       "      <td>NaN</td>\n",
       "      <td>0</td>\n",
       "    </tr>\n",
       "  </tbody>\n",
       "</table>\n",
       "</div>"
      ],
      "text/plain": [
       "   Residue  Hydrophobic.distance  VdWContact.distance  HBDonor.distance  \\\n",
       "0  VAL60.A              4.475821                  NaN               NaN   \n",
       "1  ASP61.A                   NaN             3.103711               NaN   \n",
       "2  PHE64.A              4.006420                  NaN               NaN   \n",
       "3  PHE64.A                   NaN             3.348581               NaN   \n",
       "4  PHE64.A              4.006420                  NaN               NaN   \n",
       "\n",
       "   HBDonor.DHA_angle  Cationic.distance  HBAcceptor.distance  \\\n",
       "0                NaN                NaN                  NaN   \n",
       "1                NaN                NaN                  NaN   \n",
       "2                NaN                NaN                  NaN   \n",
       "3                NaN                NaN                  NaN   \n",
       "4                NaN                NaN                  NaN   \n",
       "\n",
       "   HBAcceptor.DHA_angle  PiStacking.distance  PiStacking.plane_angle  \\\n",
       "0                   NaN                  NaN                     NaN   \n",
       "1                   NaN                  NaN                     NaN   \n",
       "2                   NaN                  NaN                     NaN   \n",
       "3                   NaN                  NaN                     NaN   \n",
       "4                   NaN                  NaN                     NaN   \n",
       "\n",
       "   PiStacking.normal_to_centroid_angle  PiStacking.intersect_distance  \\\n",
       "0                                  NaN                            NaN   \n",
       "1                                  NaN                            NaN   \n",
       "2                                  NaN                            NaN   \n",
       "3                                  NaN                            NaN   \n",
       "4                                  NaN                            NaN   \n",
       "\n",
       "   PDB_File  \n",
       "0         0  \n",
       "1         0  \n",
       "2         0  \n",
       "3         0  \n",
       "4         0  "
      ]
     },
     "execution_count": 5,
     "metadata": {},
     "output_type": "execute_result"
    }
   ],
   "source": [
    "final_results_df.head()"
   ]
  },
  {
   "cell_type": "code",
   "execution_count": 11,
   "metadata": {},
   "outputs": [],
   "source": [
    "import plotly.express as px\n",
    "import plotly.graph_objects as go\n",
    "from ipywidgets import interact, widgets\n"
   ]
  },
  {
   "cell_type": "markdown",
   "metadata": {},
   "source": [
    "### Viewing distribution for 1 pdb file (tmp_0.pdb)"
   ]
  },
  {
   "cell_type": "code",
   "execution_count": 9,
   "metadata": {},
   "outputs": [
    {
     "data": {
      "application/vnd.plotly.v1+json": {
       "config": {
        "plotlyServerURL": "https://plot.ly"
       },
       "data": [
        {
         "name": "0",
         "opacity": 0.75,
         "type": "histogram",
         "x": [
          "VAL60.A",
          "ASP61.A",
          "PHE64.A",
          "PHE64.A",
          "PHE64.A",
          "PHE64.A",
          "MET71.A",
          "GLN74.A",
          "LEU75.A",
          "THR92.A",
          "ASP95.A",
          "ASP95.A",
          "ASP95.A",
          "ASP95.A",
          "ASP95.A",
          "ASP95.A",
          "ASP95.A",
          "ASP95.A",
          "ASP95.A",
          "ASP95.A",
          "ASP95.A",
          "ASP95.A",
          "ASP95.A",
          "ASP95.A",
          "ASP95.A",
          "ASP95.A",
          "SER98.A",
          "SER98.A",
          "SER98.A",
          "SER98.A",
          "GLN99.A",
          "GLN99.A",
          "GLN99.A",
          "GLN99.A",
          "SER102.A",
          "PHE237.A",
          "PHE237.A",
          "PHE237.A",
          "PHE237.A",
          "TRP241.A",
          "TRP241.A",
          "TRP241.A",
          "TRP241.A",
          "TRP241.A",
          "TRP241.A",
          "TRP241.A",
          "TRP241.A",
          "TRP241.A",
          "TRP241.A",
          "TRP241.A",
          "TRP241.A",
          "TRP241.A",
          "TRP241.A",
          "TRP241.A",
          "TRP241.A",
          "TYR244.A",
          "TYR244.A",
          "TYR244.A",
          "TYR244.A",
          "TYR245.A",
          "TYR273.A",
          "TYR273.A",
          "TYR273.A",
          "TYR273.A",
          "TYR273.A",
          "TYR273.A",
          "TYR273.A",
          "TYR273.A",
          "TYR273.A",
          "SER276.A"
         ]
        }
       ],
       "layout": {
        "barmode": "overlay",
        "template": {
         "data": {
          "bar": [
           {
            "error_x": {
             "color": "#2a3f5f"
            },
            "error_y": {
             "color": "#2a3f5f"
            },
            "marker": {
             "line": {
              "color": "#E5ECF6",
              "width": 0.5
             },
             "pattern": {
              "fillmode": "overlay",
              "size": 10,
              "solidity": 0.2
             }
            },
            "type": "bar"
           }
          ],
          "barpolar": [
           {
            "marker": {
             "line": {
              "color": "#E5ECF6",
              "width": 0.5
             },
             "pattern": {
              "fillmode": "overlay",
              "size": 10,
              "solidity": 0.2
             }
            },
            "type": "barpolar"
           }
          ],
          "carpet": [
           {
            "aaxis": {
             "endlinecolor": "#2a3f5f",
             "gridcolor": "white",
             "linecolor": "white",
             "minorgridcolor": "white",
             "startlinecolor": "#2a3f5f"
            },
            "baxis": {
             "endlinecolor": "#2a3f5f",
             "gridcolor": "white",
             "linecolor": "white",
             "minorgridcolor": "white",
             "startlinecolor": "#2a3f5f"
            },
            "type": "carpet"
           }
          ],
          "choropleth": [
           {
            "colorbar": {
             "outlinewidth": 0,
             "ticks": ""
            },
            "type": "choropleth"
           }
          ],
          "contour": [
           {
            "colorbar": {
             "outlinewidth": 0,
             "ticks": ""
            },
            "colorscale": [
             [
              0,
              "#0d0887"
             ],
             [
              0.1111111111111111,
              "#46039f"
             ],
             [
              0.2222222222222222,
              "#7201a8"
             ],
             [
              0.3333333333333333,
              "#9c179e"
             ],
             [
              0.4444444444444444,
              "#bd3786"
             ],
             [
              0.5555555555555556,
              "#d8576b"
             ],
             [
              0.6666666666666666,
              "#ed7953"
             ],
             [
              0.7777777777777778,
              "#fb9f3a"
             ],
             [
              0.8888888888888888,
              "#fdca26"
             ],
             [
              1,
              "#f0f921"
             ]
            ],
            "type": "contour"
           }
          ],
          "contourcarpet": [
           {
            "colorbar": {
             "outlinewidth": 0,
             "ticks": ""
            },
            "type": "contourcarpet"
           }
          ],
          "heatmap": [
           {
            "colorbar": {
             "outlinewidth": 0,
             "ticks": ""
            },
            "colorscale": [
             [
              0,
              "#0d0887"
             ],
             [
              0.1111111111111111,
              "#46039f"
             ],
             [
              0.2222222222222222,
              "#7201a8"
             ],
             [
              0.3333333333333333,
              "#9c179e"
             ],
             [
              0.4444444444444444,
              "#bd3786"
             ],
             [
              0.5555555555555556,
              "#d8576b"
             ],
             [
              0.6666666666666666,
              "#ed7953"
             ],
             [
              0.7777777777777778,
              "#fb9f3a"
             ],
             [
              0.8888888888888888,
              "#fdca26"
             ],
             [
              1,
              "#f0f921"
             ]
            ],
            "type": "heatmap"
           }
          ],
          "heatmapgl": [
           {
            "colorbar": {
             "outlinewidth": 0,
             "ticks": ""
            },
            "colorscale": [
             [
              0,
              "#0d0887"
             ],
             [
              0.1111111111111111,
              "#46039f"
             ],
             [
              0.2222222222222222,
              "#7201a8"
             ],
             [
              0.3333333333333333,
              "#9c179e"
             ],
             [
              0.4444444444444444,
              "#bd3786"
             ],
             [
              0.5555555555555556,
              "#d8576b"
             ],
             [
              0.6666666666666666,
              "#ed7953"
             ],
             [
              0.7777777777777778,
              "#fb9f3a"
             ],
             [
              0.8888888888888888,
              "#fdca26"
             ],
             [
              1,
              "#f0f921"
             ]
            ],
            "type": "heatmapgl"
           }
          ],
          "histogram": [
           {
            "marker": {
             "pattern": {
              "fillmode": "overlay",
              "size": 10,
              "solidity": 0.2
             }
            },
            "type": "histogram"
           }
          ],
          "histogram2d": [
           {
            "colorbar": {
             "outlinewidth": 0,
             "ticks": ""
            },
            "colorscale": [
             [
              0,
              "#0d0887"
             ],
             [
              0.1111111111111111,
              "#46039f"
             ],
             [
              0.2222222222222222,
              "#7201a8"
             ],
             [
              0.3333333333333333,
              "#9c179e"
             ],
             [
              0.4444444444444444,
              "#bd3786"
             ],
             [
              0.5555555555555556,
              "#d8576b"
             ],
             [
              0.6666666666666666,
              "#ed7953"
             ],
             [
              0.7777777777777778,
              "#fb9f3a"
             ],
             [
              0.8888888888888888,
              "#fdca26"
             ],
             [
              1,
              "#f0f921"
             ]
            ],
            "type": "histogram2d"
           }
          ],
          "histogram2dcontour": [
           {
            "colorbar": {
             "outlinewidth": 0,
             "ticks": ""
            },
            "colorscale": [
             [
              0,
              "#0d0887"
             ],
             [
              0.1111111111111111,
              "#46039f"
             ],
             [
              0.2222222222222222,
              "#7201a8"
             ],
             [
              0.3333333333333333,
              "#9c179e"
             ],
             [
              0.4444444444444444,
              "#bd3786"
             ],
             [
              0.5555555555555556,
              "#d8576b"
             ],
             [
              0.6666666666666666,
              "#ed7953"
             ],
             [
              0.7777777777777778,
              "#fb9f3a"
             ],
             [
              0.8888888888888888,
              "#fdca26"
             ],
             [
              1,
              "#f0f921"
             ]
            ],
            "type": "histogram2dcontour"
           }
          ],
          "mesh3d": [
           {
            "colorbar": {
             "outlinewidth": 0,
             "ticks": ""
            },
            "type": "mesh3d"
           }
          ],
          "parcoords": [
           {
            "line": {
             "colorbar": {
              "outlinewidth": 0,
              "ticks": ""
             }
            },
            "type": "parcoords"
           }
          ],
          "pie": [
           {
            "automargin": true,
            "type": "pie"
           }
          ],
          "scatter": [
           {
            "fillpattern": {
             "fillmode": "overlay",
             "size": 10,
             "solidity": 0.2
            },
            "type": "scatter"
           }
          ],
          "scatter3d": [
           {
            "line": {
             "colorbar": {
              "outlinewidth": 0,
              "ticks": ""
             }
            },
            "marker": {
             "colorbar": {
              "outlinewidth": 0,
              "ticks": ""
             }
            },
            "type": "scatter3d"
           }
          ],
          "scattercarpet": [
           {
            "marker": {
             "colorbar": {
              "outlinewidth": 0,
              "ticks": ""
             }
            },
            "type": "scattercarpet"
           }
          ],
          "scattergeo": [
           {
            "marker": {
             "colorbar": {
              "outlinewidth": 0,
              "ticks": ""
             }
            },
            "type": "scattergeo"
           }
          ],
          "scattergl": [
           {
            "marker": {
             "colorbar": {
              "outlinewidth": 0,
              "ticks": ""
             }
            },
            "type": "scattergl"
           }
          ],
          "scattermapbox": [
           {
            "marker": {
             "colorbar": {
              "outlinewidth": 0,
              "ticks": ""
             }
            },
            "type": "scattermapbox"
           }
          ],
          "scatterpolar": [
           {
            "marker": {
             "colorbar": {
              "outlinewidth": 0,
              "ticks": ""
             }
            },
            "type": "scatterpolar"
           }
          ],
          "scatterpolargl": [
           {
            "marker": {
             "colorbar": {
              "outlinewidth": 0,
              "ticks": ""
             }
            },
            "type": "scatterpolargl"
           }
          ],
          "scatterternary": [
           {
            "marker": {
             "colorbar": {
              "outlinewidth": 0,
              "ticks": ""
             }
            },
            "type": "scatterternary"
           }
          ],
          "surface": [
           {
            "colorbar": {
             "outlinewidth": 0,
             "ticks": ""
            },
            "colorscale": [
             [
              0,
              "#0d0887"
             ],
             [
              0.1111111111111111,
              "#46039f"
             ],
             [
              0.2222222222222222,
              "#7201a8"
             ],
             [
              0.3333333333333333,
              "#9c179e"
             ],
             [
              0.4444444444444444,
              "#bd3786"
             ],
             [
              0.5555555555555556,
              "#d8576b"
             ],
             [
              0.6666666666666666,
              "#ed7953"
             ],
             [
              0.7777777777777778,
              "#fb9f3a"
             ],
             [
              0.8888888888888888,
              "#fdca26"
             ],
             [
              1,
              "#f0f921"
             ]
            ],
            "type": "surface"
           }
          ],
          "table": [
           {
            "cells": {
             "fill": {
              "color": "#EBF0F8"
             },
             "line": {
              "color": "white"
             }
            },
            "header": {
             "fill": {
              "color": "#C8D4E3"
             },
             "line": {
              "color": "white"
             }
            },
            "type": "table"
           }
          ]
         },
         "layout": {
          "annotationdefaults": {
           "arrowcolor": "#2a3f5f",
           "arrowhead": 0,
           "arrowwidth": 1
          },
          "autotypenumbers": "strict",
          "coloraxis": {
           "colorbar": {
            "outlinewidth": 0,
            "ticks": ""
           }
          },
          "colorscale": {
           "diverging": [
            [
             0,
             "#8e0152"
            ],
            [
             0.1,
             "#c51b7d"
            ],
            [
             0.2,
             "#de77ae"
            ],
            [
             0.3,
             "#f1b6da"
            ],
            [
             0.4,
             "#fde0ef"
            ],
            [
             0.5,
             "#f7f7f7"
            ],
            [
             0.6,
             "#e6f5d0"
            ],
            [
             0.7,
             "#b8e186"
            ],
            [
             0.8,
             "#7fbc41"
            ],
            [
             0.9,
             "#4d9221"
            ],
            [
             1,
             "#276419"
            ]
           ],
           "sequential": [
            [
             0,
             "#0d0887"
            ],
            [
             0.1111111111111111,
             "#46039f"
            ],
            [
             0.2222222222222222,
             "#7201a8"
            ],
            [
             0.3333333333333333,
             "#9c179e"
            ],
            [
             0.4444444444444444,
             "#bd3786"
            ],
            [
             0.5555555555555556,
             "#d8576b"
            ],
            [
             0.6666666666666666,
             "#ed7953"
            ],
            [
             0.7777777777777778,
             "#fb9f3a"
            ],
            [
             0.8888888888888888,
             "#fdca26"
            ],
            [
             1,
             "#f0f921"
            ]
           ],
           "sequentialminus": [
            [
             0,
             "#0d0887"
            ],
            [
             0.1111111111111111,
             "#46039f"
            ],
            [
             0.2222222222222222,
             "#7201a8"
            ],
            [
             0.3333333333333333,
             "#9c179e"
            ],
            [
             0.4444444444444444,
             "#bd3786"
            ],
            [
             0.5555555555555556,
             "#d8576b"
            ],
            [
             0.6666666666666666,
             "#ed7953"
            ],
            [
             0.7777777777777778,
             "#fb9f3a"
            ],
            [
             0.8888888888888888,
             "#fdca26"
            ],
            [
             1,
             "#f0f921"
            ]
           ]
          },
          "colorway": [
           "#636efa",
           "#EF553B",
           "#00cc96",
           "#ab63fa",
           "#FFA15A",
           "#19d3f3",
           "#FF6692",
           "#B6E880",
           "#FF97FF",
           "#FECB52"
          ],
          "font": {
           "color": "#2a3f5f"
          },
          "geo": {
           "bgcolor": "white",
           "lakecolor": "white",
           "landcolor": "#E5ECF6",
           "showlakes": true,
           "showland": true,
           "subunitcolor": "white"
          },
          "hoverlabel": {
           "align": "left"
          },
          "hovermode": "closest",
          "mapbox": {
           "style": "light"
          },
          "paper_bgcolor": "white",
          "plot_bgcolor": "#E5ECF6",
          "polar": {
           "angularaxis": {
            "gridcolor": "white",
            "linecolor": "white",
            "ticks": ""
           },
           "bgcolor": "#E5ECF6",
           "radialaxis": {
            "gridcolor": "white",
            "linecolor": "white",
            "ticks": ""
           }
          },
          "scene": {
           "xaxis": {
            "backgroundcolor": "#E5ECF6",
            "gridcolor": "white",
            "gridwidth": 2,
            "linecolor": "white",
            "showbackground": true,
            "ticks": "",
            "zerolinecolor": "white"
           },
           "yaxis": {
            "backgroundcolor": "#E5ECF6",
            "gridcolor": "white",
            "gridwidth": 2,
            "linecolor": "white",
            "showbackground": true,
            "ticks": "",
            "zerolinecolor": "white"
           },
           "zaxis": {
            "backgroundcolor": "#E5ECF6",
            "gridcolor": "white",
            "gridwidth": 2,
            "linecolor": "white",
            "showbackground": true,
            "ticks": "",
            "zerolinecolor": "white"
           }
          },
          "shapedefaults": {
           "line": {
            "color": "#2a3f5f"
           }
          },
          "ternary": {
           "aaxis": {
            "gridcolor": "white",
            "linecolor": "white",
            "ticks": ""
           },
           "baxis": {
            "gridcolor": "white",
            "linecolor": "white",
            "ticks": ""
           },
           "bgcolor": "#E5ECF6",
           "caxis": {
            "gridcolor": "white",
            "linecolor": "white",
            "ticks": ""
           }
          },
          "title": {
           "x": 0.05
          },
          "xaxis": {
           "automargin": true,
           "gridcolor": "white",
           "linecolor": "white",
           "ticks": "",
           "title": {
            "standoff": 15
           },
           "zerolinecolor": "white",
           "zerolinewidth": 2
          },
          "yaxis": {
           "automargin": true,
           "gridcolor": "white",
           "linecolor": "white",
           "ticks": "",
           "title": {
            "standoff": 15
           },
           "zerolinecolor": "white",
           "zerolinewidth": 2
          }
         }
        },
        "title": {
         "text": "Distribution of Residue"
        },
        "xaxis": {
         "title": {
          "text": "Residue"
         }
        },
        "yaxis": {
         "title": {
          "text": "Count"
         }
        }
       }
      }
     },
     "metadata": {},
     "output_type": "display_data"
    },
    {
     "data": {
      "application/vnd.jupyter.widget-view+json": {
       "model_id": "bd48fbd97c1a4f8594ced9979a0ef0af",
       "version_major": 2,
       "version_minor": 0
      },
      "text/plain": [
       "interactive(children=(Dropdown(description='column', options=('Residue', 'Hydrophobic.distance', 'VdWContact.d…"
      ]
     },
     "metadata": {},
     "output_type": "display_data"
    },
    {
     "data": {
      "application/vnd.plotly.v1+json": {
       "config": {
        "plotlyServerURL": "https://plot.ly"
       },
       "data": [
        {
         "name": "0",
         "opacity": 0.75,
         "type": "histogram",
         "x": [
          4.4758210686249935,
          null,
          4.006420475087627,
          null,
          4.006420475087627,
          null,
          4.233319908982443,
          4.269494198362658,
          4.47345641416507,
          4.377967329368215,
          4.498768531314553,
          null,
          null,
          null,
          4.498768531314553,
          null,
          null,
          null,
          4.498768531314553,
          null,
          null,
          null,
          4.498768531314553,
          null,
          null,
          null,
          null,
          null,
          null,
          null,
          4.190118126127316,
          null,
          4.190118126127316,
          null,
          null,
          4.2589876087427045,
          null,
          4.2589876087427045,
          null,
          4.015922839423581,
          null,
          null,
          null,
          4.015922839423581,
          null,
          null,
          null,
          4.015922839423581,
          null,
          null,
          null,
          4.015922839423581,
          null,
          null,
          null,
          4.112232277222791,
          null,
          4.112232277222791,
          null,
          3.870003557867565,
          3.6908098323251304,
          null,
          null,
          3.6908098323251304,
          null,
          null,
          3.6908098323251304,
          null,
          null,
          null
         ]
        }
       ],
       "layout": {
        "barmode": "overlay",
        "template": {
         "data": {
          "bar": [
           {
            "error_x": {
             "color": "#2a3f5f"
            },
            "error_y": {
             "color": "#2a3f5f"
            },
            "marker": {
             "line": {
              "color": "#E5ECF6",
              "width": 0.5
             },
             "pattern": {
              "fillmode": "overlay",
              "size": 10,
              "solidity": 0.2
             }
            },
            "type": "bar"
           }
          ],
          "barpolar": [
           {
            "marker": {
             "line": {
              "color": "#E5ECF6",
              "width": 0.5
             },
             "pattern": {
              "fillmode": "overlay",
              "size": 10,
              "solidity": 0.2
             }
            },
            "type": "barpolar"
           }
          ],
          "carpet": [
           {
            "aaxis": {
             "endlinecolor": "#2a3f5f",
             "gridcolor": "white",
             "linecolor": "white",
             "minorgridcolor": "white",
             "startlinecolor": "#2a3f5f"
            },
            "baxis": {
             "endlinecolor": "#2a3f5f",
             "gridcolor": "white",
             "linecolor": "white",
             "minorgridcolor": "white",
             "startlinecolor": "#2a3f5f"
            },
            "type": "carpet"
           }
          ],
          "choropleth": [
           {
            "colorbar": {
             "outlinewidth": 0,
             "ticks": ""
            },
            "type": "choropleth"
           }
          ],
          "contour": [
           {
            "colorbar": {
             "outlinewidth": 0,
             "ticks": ""
            },
            "colorscale": [
             [
              0,
              "#0d0887"
             ],
             [
              0.1111111111111111,
              "#46039f"
             ],
             [
              0.2222222222222222,
              "#7201a8"
             ],
             [
              0.3333333333333333,
              "#9c179e"
             ],
             [
              0.4444444444444444,
              "#bd3786"
             ],
             [
              0.5555555555555556,
              "#d8576b"
             ],
             [
              0.6666666666666666,
              "#ed7953"
             ],
             [
              0.7777777777777778,
              "#fb9f3a"
             ],
             [
              0.8888888888888888,
              "#fdca26"
             ],
             [
              1,
              "#f0f921"
             ]
            ],
            "type": "contour"
           }
          ],
          "contourcarpet": [
           {
            "colorbar": {
             "outlinewidth": 0,
             "ticks": ""
            },
            "type": "contourcarpet"
           }
          ],
          "heatmap": [
           {
            "colorbar": {
             "outlinewidth": 0,
             "ticks": ""
            },
            "colorscale": [
             [
              0,
              "#0d0887"
             ],
             [
              0.1111111111111111,
              "#46039f"
             ],
             [
              0.2222222222222222,
              "#7201a8"
             ],
             [
              0.3333333333333333,
              "#9c179e"
             ],
             [
              0.4444444444444444,
              "#bd3786"
             ],
             [
              0.5555555555555556,
              "#d8576b"
             ],
             [
              0.6666666666666666,
              "#ed7953"
             ],
             [
              0.7777777777777778,
              "#fb9f3a"
             ],
             [
              0.8888888888888888,
              "#fdca26"
             ],
             [
              1,
              "#f0f921"
             ]
            ],
            "type": "heatmap"
           }
          ],
          "heatmapgl": [
           {
            "colorbar": {
             "outlinewidth": 0,
             "ticks": ""
            },
            "colorscale": [
             [
              0,
              "#0d0887"
             ],
             [
              0.1111111111111111,
              "#46039f"
             ],
             [
              0.2222222222222222,
              "#7201a8"
             ],
             [
              0.3333333333333333,
              "#9c179e"
             ],
             [
              0.4444444444444444,
              "#bd3786"
             ],
             [
              0.5555555555555556,
              "#d8576b"
             ],
             [
              0.6666666666666666,
              "#ed7953"
             ],
             [
              0.7777777777777778,
              "#fb9f3a"
             ],
             [
              0.8888888888888888,
              "#fdca26"
             ],
             [
              1,
              "#f0f921"
             ]
            ],
            "type": "heatmapgl"
           }
          ],
          "histogram": [
           {
            "marker": {
             "pattern": {
              "fillmode": "overlay",
              "size": 10,
              "solidity": 0.2
             }
            },
            "type": "histogram"
           }
          ],
          "histogram2d": [
           {
            "colorbar": {
             "outlinewidth": 0,
             "ticks": ""
            },
            "colorscale": [
             [
              0,
              "#0d0887"
             ],
             [
              0.1111111111111111,
              "#46039f"
             ],
             [
              0.2222222222222222,
              "#7201a8"
             ],
             [
              0.3333333333333333,
              "#9c179e"
             ],
             [
              0.4444444444444444,
              "#bd3786"
             ],
             [
              0.5555555555555556,
              "#d8576b"
             ],
             [
              0.6666666666666666,
              "#ed7953"
             ],
             [
              0.7777777777777778,
              "#fb9f3a"
             ],
             [
              0.8888888888888888,
              "#fdca26"
             ],
             [
              1,
              "#f0f921"
             ]
            ],
            "type": "histogram2d"
           }
          ],
          "histogram2dcontour": [
           {
            "colorbar": {
             "outlinewidth": 0,
             "ticks": ""
            },
            "colorscale": [
             [
              0,
              "#0d0887"
             ],
             [
              0.1111111111111111,
              "#46039f"
             ],
             [
              0.2222222222222222,
              "#7201a8"
             ],
             [
              0.3333333333333333,
              "#9c179e"
             ],
             [
              0.4444444444444444,
              "#bd3786"
             ],
             [
              0.5555555555555556,
              "#d8576b"
             ],
             [
              0.6666666666666666,
              "#ed7953"
             ],
             [
              0.7777777777777778,
              "#fb9f3a"
             ],
             [
              0.8888888888888888,
              "#fdca26"
             ],
             [
              1,
              "#f0f921"
             ]
            ],
            "type": "histogram2dcontour"
           }
          ],
          "mesh3d": [
           {
            "colorbar": {
             "outlinewidth": 0,
             "ticks": ""
            },
            "type": "mesh3d"
           }
          ],
          "parcoords": [
           {
            "line": {
             "colorbar": {
              "outlinewidth": 0,
              "ticks": ""
             }
            },
            "type": "parcoords"
           }
          ],
          "pie": [
           {
            "automargin": true,
            "type": "pie"
           }
          ],
          "scatter": [
           {
            "fillpattern": {
             "fillmode": "overlay",
             "size": 10,
             "solidity": 0.2
            },
            "type": "scatter"
           }
          ],
          "scatter3d": [
           {
            "line": {
             "colorbar": {
              "outlinewidth": 0,
              "ticks": ""
             }
            },
            "marker": {
             "colorbar": {
              "outlinewidth": 0,
              "ticks": ""
             }
            },
            "type": "scatter3d"
           }
          ],
          "scattercarpet": [
           {
            "marker": {
             "colorbar": {
              "outlinewidth": 0,
              "ticks": ""
             }
            },
            "type": "scattercarpet"
           }
          ],
          "scattergeo": [
           {
            "marker": {
             "colorbar": {
              "outlinewidth": 0,
              "ticks": ""
             }
            },
            "type": "scattergeo"
           }
          ],
          "scattergl": [
           {
            "marker": {
             "colorbar": {
              "outlinewidth": 0,
              "ticks": ""
             }
            },
            "type": "scattergl"
           }
          ],
          "scattermapbox": [
           {
            "marker": {
             "colorbar": {
              "outlinewidth": 0,
              "ticks": ""
             }
            },
            "type": "scattermapbox"
           }
          ],
          "scatterpolar": [
           {
            "marker": {
             "colorbar": {
              "outlinewidth": 0,
              "ticks": ""
             }
            },
            "type": "scatterpolar"
           }
          ],
          "scatterpolargl": [
           {
            "marker": {
             "colorbar": {
              "outlinewidth": 0,
              "ticks": ""
             }
            },
            "type": "scatterpolargl"
           }
          ],
          "scatterternary": [
           {
            "marker": {
             "colorbar": {
              "outlinewidth": 0,
              "ticks": ""
             }
            },
            "type": "scatterternary"
           }
          ],
          "surface": [
           {
            "colorbar": {
             "outlinewidth": 0,
             "ticks": ""
            },
            "colorscale": [
             [
              0,
              "#0d0887"
             ],
             [
              0.1111111111111111,
              "#46039f"
             ],
             [
              0.2222222222222222,
              "#7201a8"
             ],
             [
              0.3333333333333333,
              "#9c179e"
             ],
             [
              0.4444444444444444,
              "#bd3786"
             ],
             [
              0.5555555555555556,
              "#d8576b"
             ],
             [
              0.6666666666666666,
              "#ed7953"
             ],
             [
              0.7777777777777778,
              "#fb9f3a"
             ],
             [
              0.8888888888888888,
              "#fdca26"
             ],
             [
              1,
              "#f0f921"
             ]
            ],
            "type": "surface"
           }
          ],
          "table": [
           {
            "cells": {
             "fill": {
              "color": "#EBF0F8"
             },
             "line": {
              "color": "white"
             }
            },
            "header": {
             "fill": {
              "color": "#C8D4E3"
             },
             "line": {
              "color": "white"
             }
            },
            "type": "table"
           }
          ]
         },
         "layout": {
          "annotationdefaults": {
           "arrowcolor": "#2a3f5f",
           "arrowhead": 0,
           "arrowwidth": 1
          },
          "autotypenumbers": "strict",
          "coloraxis": {
           "colorbar": {
            "outlinewidth": 0,
            "ticks": ""
           }
          },
          "colorscale": {
           "diverging": [
            [
             0,
             "#8e0152"
            ],
            [
             0.1,
             "#c51b7d"
            ],
            [
             0.2,
             "#de77ae"
            ],
            [
             0.3,
             "#f1b6da"
            ],
            [
             0.4,
             "#fde0ef"
            ],
            [
             0.5,
             "#f7f7f7"
            ],
            [
             0.6,
             "#e6f5d0"
            ],
            [
             0.7,
             "#b8e186"
            ],
            [
             0.8,
             "#7fbc41"
            ],
            [
             0.9,
             "#4d9221"
            ],
            [
             1,
             "#276419"
            ]
           ],
           "sequential": [
            [
             0,
             "#0d0887"
            ],
            [
             0.1111111111111111,
             "#46039f"
            ],
            [
             0.2222222222222222,
             "#7201a8"
            ],
            [
             0.3333333333333333,
             "#9c179e"
            ],
            [
             0.4444444444444444,
             "#bd3786"
            ],
            [
             0.5555555555555556,
             "#d8576b"
            ],
            [
             0.6666666666666666,
             "#ed7953"
            ],
            [
             0.7777777777777778,
             "#fb9f3a"
            ],
            [
             0.8888888888888888,
             "#fdca26"
            ],
            [
             1,
             "#f0f921"
            ]
           ],
           "sequentialminus": [
            [
             0,
             "#0d0887"
            ],
            [
             0.1111111111111111,
             "#46039f"
            ],
            [
             0.2222222222222222,
             "#7201a8"
            ],
            [
             0.3333333333333333,
             "#9c179e"
            ],
            [
             0.4444444444444444,
             "#bd3786"
            ],
            [
             0.5555555555555556,
             "#d8576b"
            ],
            [
             0.6666666666666666,
             "#ed7953"
            ],
            [
             0.7777777777777778,
             "#fb9f3a"
            ],
            [
             0.8888888888888888,
             "#fdca26"
            ],
            [
             1,
             "#f0f921"
            ]
           ]
          },
          "colorway": [
           "#636efa",
           "#EF553B",
           "#00cc96",
           "#ab63fa",
           "#FFA15A",
           "#19d3f3",
           "#FF6692",
           "#B6E880",
           "#FF97FF",
           "#FECB52"
          ],
          "font": {
           "color": "#2a3f5f"
          },
          "geo": {
           "bgcolor": "white",
           "lakecolor": "white",
           "landcolor": "#E5ECF6",
           "showlakes": true,
           "showland": true,
           "subunitcolor": "white"
          },
          "hoverlabel": {
           "align": "left"
          },
          "hovermode": "closest",
          "mapbox": {
           "style": "light"
          },
          "paper_bgcolor": "white",
          "plot_bgcolor": "#E5ECF6",
          "polar": {
           "angularaxis": {
            "gridcolor": "white",
            "linecolor": "white",
            "ticks": ""
           },
           "bgcolor": "#E5ECF6",
           "radialaxis": {
            "gridcolor": "white",
            "linecolor": "white",
            "ticks": ""
           }
          },
          "scene": {
           "xaxis": {
            "backgroundcolor": "#E5ECF6",
            "gridcolor": "white",
            "gridwidth": 2,
            "linecolor": "white",
            "showbackground": true,
            "ticks": "",
            "zerolinecolor": "white"
           },
           "yaxis": {
            "backgroundcolor": "#E5ECF6",
            "gridcolor": "white",
            "gridwidth": 2,
            "linecolor": "white",
            "showbackground": true,
            "ticks": "",
            "zerolinecolor": "white"
           },
           "zaxis": {
            "backgroundcolor": "#E5ECF6",
            "gridcolor": "white",
            "gridwidth": 2,
            "linecolor": "white",
            "showbackground": true,
            "ticks": "",
            "zerolinecolor": "white"
           }
          },
          "shapedefaults": {
           "line": {
            "color": "#2a3f5f"
           }
          },
          "ternary": {
           "aaxis": {
            "gridcolor": "white",
            "linecolor": "white",
            "ticks": ""
           },
           "baxis": {
            "gridcolor": "white",
            "linecolor": "white",
            "ticks": ""
           },
           "bgcolor": "#E5ECF6",
           "caxis": {
            "gridcolor": "white",
            "linecolor": "white",
            "ticks": ""
           }
          },
          "title": {
           "x": 0.05
          },
          "xaxis": {
           "automargin": true,
           "gridcolor": "white",
           "linecolor": "white",
           "ticks": "",
           "title": {
            "standoff": 15
           },
           "zerolinecolor": "white",
           "zerolinewidth": 2
          },
          "yaxis": {
           "automargin": true,
           "gridcolor": "white",
           "linecolor": "white",
           "ticks": "",
           "title": {
            "standoff": 15
           },
           "zerolinecolor": "white",
           "zerolinewidth": 2
          }
         }
        },
        "title": {
         "text": "Distribution of Hydrophobic.distance"
        },
        "xaxis": {
         "title": {
          "text": "Hydrophobic.distance"
         }
        },
        "yaxis": {
         "title": {
          "text": "Count"
         }
        }
       }
      }
     },
     "metadata": {},
     "output_type": "display_data"
    }
   ],
   "source": [
    "def plot_distributions(df, pdb_files, columns):\n",
    "    @interact(column=columns)\n",
    "    def make_plot(column):\n",
    "        fig = go.Figure()\n",
    "        \n",
    "        for pdb_file in pdb_files:\n",
    "            filtered_df = df[df['PDB_File'] == pdb_file]\n",
    "            fig.add_trace(go.Histogram(\n",
    "                x=filtered_df[column],\n",
    "                name=pdb_file,\n",
    "                opacity=0.75\n",
    "            ))\n",
    "        \n",
    "        fig.update_layout(\n",
    "            title=f'Distribution of {column}',\n",
    "            xaxis_title=column,\n",
    "            yaxis_title='Count',\n",
    "            barmode='overlay'\n",
    "        )\n",
    "        \n",
    "        fig.show()\n",
    "\n",
    "# Columns to choose from\n",
    "columns = final_results_df.columns.tolist()\n",
    "columns.remove('PDB_File')\n",
    "\n",
    "# Testing distribution for 1 pdb file\n",
    "pdb_files = [0]\n",
    "\n",
    "# Plot\n",
    "plot_distributions(final_results_df, pdb_files, columns)"
   ]
  },
  {
   "cell_type": "markdown",
   "metadata": {},
   "source": [
    "##### Select from dropdown to view other distances/metrics in the above output "
   ]
  },
  {
   "cell_type": "code",
   "execution_count": 14,
   "metadata": {},
   "outputs": [
    {
     "data": {
      "application/vnd.plotly.v1+json": {
       "config": {
        "plotlyServerURL": "https://plot.ly"
       },
       "data": [
        {
         "line": {
          "color": "blue"
         },
         "mode": "lines+markers",
         "name": "Mean",
         "type": "scatter",
         "x": [
          0,
          1,
          2,
          3,
          4,
          5,
          6,
          7,
          8,
          9,
          10,
          11,
          12,
          13,
          14,
          15,
          16,
          17,
          18,
          19,
          20,
          21,
          22,
          23,
          24,
          25,
          26,
          27,
          28,
          29,
          30,
          31,
          32,
          33,
          34,
          35,
          36,
          37,
          38,
          39,
          40,
          41,
          42,
          43,
          44,
          45,
          46,
          47,
          48,
          49,
          50,
          51,
          52,
          53,
          54,
          55,
          56,
          57,
          58,
          59,
          60,
          61,
          62,
          63,
          64,
          65,
          66,
          67,
          68,
          69,
          70,
          71,
          72,
          73,
          74,
          75,
          76,
          77,
          78,
          79,
          80,
          81,
          82,
          83,
          84,
          85,
          86,
          87,
          88,
          89,
          90,
          91,
          92,
          93,
          94,
          95,
          96,
          97,
          98,
          99,
          100,
          101,
          102,
          103,
          104,
          105,
          106,
          107,
          108,
          109,
          110,
          111,
          112,
          113,
          114,
          115,
          116,
          117,
          118,
          119,
          120,
          121,
          122,
          123,
          124,
          125,
          126,
          127,
          128,
          129,
          130,
          131,
          132,
          133,
          134,
          135,
          136,
          137,
          138,
          139,
          140,
          141,
          142,
          143,
          144,
          145,
          146,
          147,
          148,
          149,
          150,
          151,
          152,
          153,
          154,
          155,
          156,
          157,
          158,
          159,
          160,
          161,
          162,
          163,
          164,
          165,
          166,
          167,
          168,
          169,
          170,
          171,
          172,
          173,
          174,
          175,
          176,
          177,
          178,
          179,
          180,
          181,
          182,
          183,
          184,
          185,
          186,
          187,
          188,
          189,
          190,
          191,
          192,
          193,
          194,
          195,
          196,
          197,
          198,
          199,
          200,
          201,
          202,
          203,
          204,
          205,
          206,
          207,
          208,
          209,
          210,
          211,
          212,
          213,
          214,
          215,
          216,
          217,
          218,
          219,
          220,
          221,
          222,
          223,
          224,
          225,
          226,
          227,
          228,
          229,
          230,
          231,
          232,
          233,
          234,
          235,
          236,
          237,
          238,
          239,
          240,
          241,
          242,
          243,
          244,
          245,
          246,
          247,
          248,
          249,
          250,
          251,
          252,
          253,
          254,
          255,
          256,
          257,
          258,
          259,
          260,
          261,
          263,
          264,
          265,
          266,
          267,
          268,
          269,
          270,
          271,
          272,
          273,
          274,
          275,
          276,
          277,
          278,
          279,
          280,
          281,
          282,
          283,
          284,
          285,
          286,
          287,
          288,
          289,
          290,
          291,
          292,
          293,
          294,
          295,
          296,
          297,
          298,
          299,
          300,
          301,
          302,
          303,
          304,
          305,
          306,
          307,
          308,
          309,
          310,
          311,
          312,
          313,
          314,
          315,
          316,
          317,
          318,
          319,
          320,
          321,
          322,
          323,
          324,
          325,
          326,
          327,
          328,
          329,
          330,
          331,
          332,
          333,
          334,
          335,
          336,
          337,
          338,
          339,
          340,
          341,
          342,
          343,
          344,
          345,
          346,
          347,
          348,
          349,
          350,
          351,
          352,
          353,
          354,
          355,
          356,
          357,
          358,
          359,
          360,
          361,
          362,
          363,
          364,
          365,
          366,
          367,
          368,
          369,
          370,
          371,
          372,
          373,
          374,
          375,
          376,
          377,
          378,
          379,
          380,
          381,
          382,
          383,
          384,
          385,
          386,
          387,
          388,
          389,
          390,
          391,
          392,
          393,
          394,
          395,
          396,
          397,
          398,
          399,
          400,
          401,
          402,
          403,
          404,
          405,
          406,
          407,
          408,
          409,
          410,
          411,
          412,
          413,
          414,
          415,
          416,
          417,
          418,
          419,
          420,
          421,
          422,
          423,
          424,
          425,
          426,
          427,
          428,
          429,
          430,
          431,
          432,
          433,
          434,
          435,
          436,
          437,
          438,
          439,
          440,
          441,
          442,
          443,
          444,
          445,
          446,
          447,
          448,
          449,
          450,
          451,
          452,
          453,
          454,
          455,
          456,
          457,
          458,
          459,
          460,
          461,
          462,
          463,
          464,
          465,
          466,
          467,
          468,
          469,
          470,
          471,
          472,
          473,
          474,
          475,
          476,
          477,
          478,
          479,
          480,
          481,
          482,
          483,
          484,
          485,
          486,
          487,
          488,
          489,
          490,
          491,
          492,
          493,
          494,
          495,
          496,
          497,
          498,
          499,
          500
         ],
         "y": [
          4.15867097726639,
          4.138940732000884,
          4.194189831943595,
          4.205683977604556,
          4.291789929421986,
          4.291783985674921,
          4.2418391001827,
          4.246546713609317,
          4.128488662473058,
          4.2268961343497455,
          4.289772063599327,
          4.145948382486566,
          4.247138486674419,
          4.095674964851491,
          4.174401345876158,
          4.309495676039378,
          4.115542071728628,
          4.257429602590394,
          4.192881512204854,
          4.287363737785074,
          4.252140987752974,
          4.232753148794451,
          4.140505827851845,
          4.346986373605569,
          4.225130261478815,
          4.188074108811848,
          4.18253469147779,
          4.190518323010394,
          4.2724203557252185,
          4.209509505570719,
          4.189533084473006,
          4.212990141200527,
          4.1706100149618095,
          4.097497500612164,
          4.221837527467215,
          4.17943400638623,
          4.205787692252376,
          4.084609797921873,
          4.250299718599226,
          4.251070443121131,
          4.303217943061202,
          4.221744019158826,
          4.3277157483836595,
          4.310242642857067,
          4.311959574578273,
          4.2349549315818305,
          4.214815025342354,
          4.363062997189234,
          4.216230861121713,
          4.16110731296997,
          4.215185611278531,
          4.096654907447759,
          4.179883199042996,
          4.1812510866038854,
          4.191429945369751,
          4.095979620424462,
          4.199629441112662,
          4.191358020947001,
          4.2516905062809585,
          4.215126617463057,
          4.220410359559136,
          4.188307288864541,
          4.176801877529864,
          4.1682228823313245,
          4.200219284021665,
          4.1962385965096,
          4.316006961151258,
          4.190638907764947,
          4.23262067540532,
          4.173432104537373,
          4.11256774122301,
          4.168493277163727,
          4.120380225644549,
          4.214604691294774,
          4.27284458812132,
          4.3202510689028095,
          4.178364626000223,
          4.1099301341667935,
          4.17236291336098,
          4.247459507512075,
          4.18819883452704,
          4.23837298012662,
          4.265880978482683,
          4.183577904667706,
          4.233856679314226,
          4.200473600944004,
          4.13739652456517,
          4.217274988283655,
          4.182961447796987,
          4.195997343951769,
          4.1807709816270515,
          4.177231204744976,
          4.178905243642991,
          4.249955722974677,
          4.1301531316210225,
          4.125392831829557,
          4.011887976082748,
          4.110942637010651,
          4.23006711518171,
          4.173402210977209,
          4.185370808951636,
          4.293850085649011,
          4.229289838515197,
          4.0597121509539456,
          4.277815907810306,
          4.135690682054617,
          4.216854225132568,
          4.227100010270661,
          4.237174069945004,
          4.275570504398219,
          4.117544783519603,
          4.236656240994908,
          4.172393609883597,
          4.2198553121137135,
          4.1236878565214905,
          4.251276835716339,
          4.190656704989899,
          4.224019461756753,
          4.074481567156976,
          4.134668497757736,
          4.216053959003738,
          4.210821060369524,
          4.184393381361939,
          4.2341891246944465,
          4.092338065954762,
          4.197466756710571,
          4.245894250357139,
          4.1867771785365395,
          4.269285856389788,
          4.234508641602519,
          4.1386916140505265,
          4.291912034391767,
          4.2526023529346375,
          4.140297204661249,
          4.20321310780263,
          4.19449689122921,
          4.255457172279912,
          4.18598255924737,
          4.2309189490492,
          4.278845220322425,
          4.226103263732023,
          4.248069330783787,
          4.247346823780747,
          4.200354114255325,
          4.285103449562981,
          4.128458221183708,
          4.253357335771341,
          4.2180091938677124,
          4.202782989816469,
          4.244576503936913,
          4.199929097649576,
          4.2723974925275146,
          4.195300428163276,
          4.246710297285384,
          4.167688192724803,
          4.183756767591733,
          4.1991470510368405,
          4.165262404332951,
          4.236578079409596,
          4.315377264060798,
          4.275038870636262,
          4.191759931536603,
          4.299005605687694,
          4.1720001906188156,
          4.221493382609208,
          4.3026885784090245,
          4.25780195111007,
          4.3316238943953005,
          4.184947515815638,
          4.239987690391626,
          4.167060108245227,
          4.218582484947316,
          4.297977278594767,
          4.164810952396536,
          4.305045681088111,
          4.132540910249202,
          4.3156790692646645,
          4.13572017472125,
          4.200532132428864,
          4.196295027713793,
          4.236525586056004,
          4.066106504446583,
          4.2873766649174385,
          4.291297514797055,
          4.25463015754801,
          4.18160924457335,
          4.167282513839586,
          4.230177789646616,
          4.256889435712028,
          4.121080682051294,
          4.178911481838651,
          4.094277265188278,
          4.17688192364238,
          4.192715809316635,
          4.2170886225429145,
          4.237906941228204,
          4.181666324211246,
          4.312361685498125,
          4.0467966302987435,
          4.172872333749768,
          4.246402902292887,
          4.2484593550402545,
          4.086896548870362,
          4.208129484229342,
          4.287393993310074,
          4.117566503573239,
          4.216936127195142,
          4.233573004335555,
          4.139708776859929,
          4.135202699117989,
          4.149302496574221,
          4.202496416164608,
          4.139540247173359,
          4.1819430198983545,
          4.211828929743696,
          4.132520525310302,
          4.221085329094406,
          4.26517815054636,
          4.108796043761406,
          4.276135161790731,
          4.159880368998402,
          4.227144420133869,
          4.120416789462767,
          4.16145353273684,
          4.219857741763657,
          4.2183812916810375,
          4.122317871307384,
          4.255520637951703,
          4.176523156924506,
          4.305938229156829,
          4.357552416098647,
          4.306992953518205,
          4.078765601133795,
          4.193672289294539,
          4.224655060777224,
          4.175783267454618,
          4.23259720602332,
          4.244205699431492,
          4.101197885667944,
          4.107196511346259,
          4.265429693920404,
          4.2801908135327125,
          4.256840646344043,
          4.263643554472903,
          4.31250330899157,
          4.27882473306283,
          4.224116941235707,
          4.007944142269537,
          4.234900319351791,
          4.150916862487782,
          4.253340048273881,
          4.17883404490264,
          4.165797303528969,
          4.140907383070344,
          4.260885345202915,
          4.299086405917292,
          4.3440915050910265,
          4.277674266122963,
          4.215627261483985,
          4.294507516813091,
          4.316246574901419,
          4.204227748834488,
          4.2096853102933744,
          4.264465837451698,
          4.2217243111203215,
          4.147283378576835,
          4.316378116897149,
          4.045298358926437,
          4.223322173978927,
          4.310791911513441,
          4.265166902091059,
          4.222610049332733,
          4.260696526871878,
          4.206163761118531,
          4.271061319360607,
          4.269398727886702,
          4.054841815452461,
          4.138661978510681,
          4.264229403094524,
          4.2331248959844165,
          4.294590491449747,
          4.183393388057453,
          4.183761802733224,
          4.256259882102001,
          4.258253658839832,
          4.218353147554903,
          4.317519416761177,
          4.193721960691237,
          4.136919059360353,
          4.178127023058699,
          4.231088063952527,
          4.217050020294174,
          4.2300186514032205,
          4.157119817825823,
          4.209897890397455,
          4.253371586466047,
          4.16359991089882,
          4.235269221203508,
          4.16942783377966,
          4.275042136758575,
          4.120952192589441,
          4.203127745758221,
          3.9826124633330484,
          4.212327831193774,
          4.196406302783105,
          4.202054666897479,
          4.124280846682296,
          4.229166948614766,
          4.168843881365779,
          4.176524916237799,
          4.1239207661908335,
          4.1243312395768505,
          4.1127309221902575,
          4.2379912577731504,
          4.197641944727189,
          4.1830145330323125,
          4.2283802085803055,
          4.31896650427802,
          4.222401722207996,
          4.19728546245311,
          4.123273443205449,
          4.081892058665968,
          4.157629677002749,
          4.127166426731147,
          4.2244169776774,
          4.173416082761503,
          4.221799622932828,
          4.155797804491622,
          4.173173370889116,
          4.106823903637219,
          4.1673323963845625,
          4.056160428888133,
          4.107906902746174,
          4.144079448974023,
          4.119036565491229,
          4.285442730124234,
          4.155592485596485,
          4.195794797812746,
          4.281097866923446,
          4.121610324210062,
          4.204308320202027,
          4.216898035806678,
          4.203577325585358,
          4.261951312337316,
          4.064964131661112,
          4.3053340540794105,
          4.271140666229527,
          4.146885508368887,
          4.125564775639236,
          4.1889232734723825,
          4.264173159556553,
          4.084996710745866,
          4.232778332496203,
          4.13907796184685,
          4.216977617858348,
          4.2458539095590595,
          4.1695767881018515,
          4.197437833740015,
          4.1917650781661475,
          4.210872057239628,
          4.242882300008086,
          4.208221497579393,
          4.136068162129963,
          4.1604276137585865,
          4.228376002320935,
          4.245703973014923,
          4.145961611785614,
          4.235440863677349,
          4.094968377743379,
          4.227141525423415,
          4.251687645811214,
          4.195616440231412,
          4.152271280049963,
          4.1135912193560085,
          4.206923540482598,
          4.031537353001186,
          4.266817047767785,
          4.231168617336051,
          4.0967874355083795,
          4.238888292683179,
          4.175332676628888,
          4.134594133429014,
          4.0777250988719445,
          4.180614650751035,
          4.174540635646183,
          4.212361433347369,
          4.199606985259035,
          4.227758403610939,
          4.163867897890754,
          4.0811654164760585,
          4.174779974782072,
          4.0613325667480815,
          4.0972155624926705,
          4.2912710401474055,
          4.208320816293372,
          4.282874869866603,
          4.242376411983052,
          4.111276649958238,
          4.15260481979097,
          4.250169292887834,
          4.224936853722006,
          4.163268747015984,
          4.100175305699235,
          4.185251940898903,
          4.251456788448378,
          4.267888212096175,
          4.187282038503619,
          4.255255136979148,
          4.320172216290735,
          4.145729423162591,
          4.227651122406089,
          4.273380033324072,
          4.125961947223253,
          4.101510598900036,
          4.0886806780992435,
          4.196208412376836,
          4.195541408402803,
          4.113634437477943,
          4.131526455021868,
          4.0866952468552435,
          4.094717885207936,
          4.174849169438561,
          4.051915807771404,
          4.058378769871211,
          4.277910841446501,
          4.189426297543844,
          4.0908587633054125,
          4.170182473792145,
          4.106723518971113,
          4.0662059538518225,
          4.110575174389646,
          4.1988914206479695,
          4.227701532861426,
          4.16233588352583,
          4.2189909550937985,
          4.200162591188197,
          4.151881035789488,
          4.148223124714667,
          4.0929547805205075,
          4.193541516384699,
          4.173038743157323,
          4.084167934101352,
          4.133517079112358,
          4.1697268152246325,
          4.090469465020544,
          4.161467599187397,
          4.079692187448548,
          4.130766552109519,
          4.217558472195101,
          4.1517322027167545,
          4.124243165212907,
          4.056894316757438,
          4.231089490499713,
          4.177179875783294,
          4.085807049511167,
          4.158859356386481,
          4.1200068957906435,
          4.094904336789242,
          4.1157123475683495,
          4.026092906320574,
          4.250425744394872,
          4.116354161086705,
          4.214264153797982,
          4.163489862090686,
          4.142510344529477,
          4.215424771070536,
          4.22616406590598,
          4.119226371804704,
          4.119353799728953,
          4.192660669311179,
          4.09448751959316,
          4.11097063232968,
          4.197820036097493,
          4.166310204548867,
          4.258693312266273,
          4.217805931172877,
          4.222652559774175,
          4.289398209007379,
          4.2127964282581285,
          4.19727392882866,
          4.219242195737736,
          4.146151810543662,
          4.114716779895994,
          4.174449663181904,
          4.13950277516661,
          4.266302428006595,
          4.188451520812924,
          4.196217536729509,
          4.294357117399035,
          4.191293334651489,
          4.183799215882917,
          4.2570762015874655,
          4.196292454387374,
          4.131542207702114,
          4.063119503887078,
          4.240571342455062,
          4.281066492304948,
          4.328069162580104,
          4.26659769726911,
          4.242091493075311
         ]
        },
        {
         "line": {
          "color": "lightblue"
         },
         "mode": "lines",
         "showlegend": false,
         "type": "scatter",
         "x": [
          0,
          1,
          2,
          3,
          4,
          5,
          6,
          7,
          8,
          9,
          10,
          11,
          12,
          13,
          14,
          15,
          16,
          17,
          18,
          19,
          20,
          21,
          22,
          23,
          24,
          25,
          26,
          27,
          28,
          29,
          30,
          31,
          32,
          33,
          34,
          35,
          36,
          37,
          38,
          39,
          40,
          41,
          42,
          43,
          44,
          45,
          46,
          47,
          48,
          49,
          50,
          51,
          52,
          53,
          54,
          55,
          56,
          57,
          58,
          59,
          60,
          61,
          62,
          63,
          64,
          65,
          66,
          67,
          68,
          69,
          70,
          71,
          72,
          73,
          74,
          75,
          76,
          77,
          78,
          79,
          80,
          81,
          82,
          83,
          84,
          85,
          86,
          87,
          88,
          89,
          90,
          91,
          92,
          93,
          94,
          95,
          96,
          97,
          98,
          99,
          100,
          101,
          102,
          103,
          104,
          105,
          106,
          107,
          108,
          109,
          110,
          111,
          112,
          113,
          114,
          115,
          116,
          117,
          118,
          119,
          120,
          121,
          122,
          123,
          124,
          125,
          126,
          127,
          128,
          129,
          130,
          131,
          132,
          133,
          134,
          135,
          136,
          137,
          138,
          139,
          140,
          141,
          142,
          143,
          144,
          145,
          146,
          147,
          148,
          149,
          150,
          151,
          152,
          153,
          154,
          155,
          156,
          157,
          158,
          159,
          160,
          161,
          162,
          163,
          164,
          165,
          166,
          167,
          168,
          169,
          170,
          171,
          172,
          173,
          174,
          175,
          176,
          177,
          178,
          179,
          180,
          181,
          182,
          183,
          184,
          185,
          186,
          187,
          188,
          189,
          190,
          191,
          192,
          193,
          194,
          195,
          196,
          197,
          198,
          199,
          200,
          201,
          202,
          203,
          204,
          205,
          206,
          207,
          208,
          209,
          210,
          211,
          212,
          213,
          214,
          215,
          216,
          217,
          218,
          219,
          220,
          221,
          222,
          223,
          224,
          225,
          226,
          227,
          228,
          229,
          230,
          231,
          232,
          233,
          234,
          235,
          236,
          237,
          238,
          239,
          240,
          241,
          242,
          243,
          244,
          245,
          246,
          247,
          248,
          249,
          250,
          251,
          252,
          253,
          254,
          255,
          256,
          257,
          258,
          259,
          260,
          261,
          263,
          264,
          265,
          266,
          267,
          268,
          269,
          270,
          271,
          272,
          273,
          274,
          275,
          276,
          277,
          278,
          279,
          280,
          281,
          282,
          283,
          284,
          285,
          286,
          287,
          288,
          289,
          290,
          291,
          292,
          293,
          294,
          295,
          296,
          297,
          298,
          299,
          300,
          301,
          302,
          303,
          304,
          305,
          306,
          307,
          308,
          309,
          310,
          311,
          312,
          313,
          314,
          315,
          316,
          317,
          318,
          319,
          320,
          321,
          322,
          323,
          324,
          325,
          326,
          327,
          328,
          329,
          330,
          331,
          332,
          333,
          334,
          335,
          336,
          337,
          338,
          339,
          340,
          341,
          342,
          343,
          344,
          345,
          346,
          347,
          348,
          349,
          350,
          351,
          352,
          353,
          354,
          355,
          356,
          357,
          358,
          359,
          360,
          361,
          362,
          363,
          364,
          365,
          366,
          367,
          368,
          369,
          370,
          371,
          372,
          373,
          374,
          375,
          376,
          377,
          378,
          379,
          380,
          381,
          382,
          383,
          384,
          385,
          386,
          387,
          388,
          389,
          390,
          391,
          392,
          393,
          394,
          395,
          396,
          397,
          398,
          399,
          400,
          401,
          402,
          403,
          404,
          405,
          406,
          407,
          408,
          409,
          410,
          411,
          412,
          413,
          414,
          415,
          416,
          417,
          418,
          419,
          420,
          421,
          422,
          423,
          424,
          425,
          426,
          427,
          428,
          429,
          430,
          431,
          432,
          433,
          434,
          435,
          436,
          437,
          438,
          439,
          440,
          441,
          442,
          443,
          444,
          445,
          446,
          447,
          448,
          449,
          450,
          451,
          452,
          453,
          454,
          455,
          456,
          457,
          458,
          459,
          460,
          461,
          462,
          463,
          464,
          465,
          466,
          467,
          468,
          469,
          470,
          471,
          472,
          473,
          474,
          475,
          476,
          477,
          478,
          479,
          480,
          481,
          482,
          483,
          484,
          485,
          486,
          487,
          488,
          489,
          490,
          491,
          492,
          493,
          494,
          495,
          496,
          497,
          498,
          499,
          500
         ],
         "y": [
          4.210673893330162,
          4.187096142409551,
          4.245608818089895,
          4.237869120274435,
          4.334627243456367,
          4.337310850373857,
          4.281691447629038,
          4.271990448309128,
          4.173685751170404,
          4.2603061417223875,
          4.323656380371083,
          4.1853994439673965,
          4.286551016269562,
          4.151171391088756,
          4.225637522732298,
          4.345521291144721,
          4.177638087636233,
          4.28680803820268,
          4.238315760082682,
          4.311516633135842,
          4.297358568080932,
          4.276325765946156,
          4.184969335500924,
          4.391979462712373,
          4.26352962621288,
          4.219794490161328,
          4.2136037491487945,
          4.2311882453043195,
          4.315783639117539,
          4.251384918720762,
          4.225058772130225,
          4.2580068431224305,
          4.21186210775354,
          4.145991093888458,
          4.256415660639266,
          4.236284667452022,
          4.241628613095757,
          4.135699610108046,
          4.300037261199661,
          4.308428538864214,
          4.335973828292617,
          4.283402115468324,
          4.358764284784515,
          4.333163113790981,
          4.332727381749984,
          4.2809759381422285,
          4.2609279694934346,
          4.391023517537091,
          4.27679307147172,
          4.208374389740756,
          4.257449013814044,
          4.147960104254983,
          4.217402635947205,
          4.227976360759418,
          4.238483982178165,
          4.153487459749014,
          4.249117075380979,
          4.2393362675881345,
          4.293390384388106,
          4.251653112626923,
          4.278416792114119,
          4.233162944329995,
          4.231852623994013,
          4.207459197830902,
          4.240105430906505,
          4.242923872166201,
          4.354235959409937,
          4.231350862467678,
          4.280070873010218,
          4.206312456353848,
          4.157741750769671,
          4.2174640891375885,
          4.161419705399915,
          4.256605699678159,
          4.309218111790759,
          4.3588430406147785,
          4.218971712405409,
          4.147847113729256,
          4.2109231165428564,
          4.285429954812097,
          4.233936054584496,
          4.277180662701665,
          4.316925425293176,
          4.23873391428088,
          4.287317803692784,
          4.238404405331846,
          4.200550653908229,
          4.255942960931634,
          4.233372829024591,
          4.2412860013171505,
          4.226211460928734,
          4.225901022567853,
          4.2280991966620745,
          4.28503231088804,
          4.185295828395456,
          4.168559266566909,
          4.06722343213009,
          4.155763751783019,
          4.28143634905575,
          4.234138236879292,
          4.230480387823136,
          4.329535484328179,
          4.279864280844963,
          4.110536992505451,
          4.311895098198726,
          4.1889662708598845,
          4.257513073598182,
          4.271606415196307,
          4.274999511377027,
          4.31689324699014,
          4.169622681096576,
          4.271840532932674,
          4.220770389729655,
          4.260081375359435,
          4.1707668458829295,
          4.2860192276271505,
          4.248330190327819,
          4.261829594054289,
          4.124411478888101,
          4.191649538605929,
          4.269669939672741,
          4.249512386935743,
          4.221138565869421,
          4.272721294153988,
          4.141446941018518,
          4.248984992735664,
          4.280785845418086,
          4.240212906925886,
          4.314960426812879,
          4.283060078286424,
          4.18454557065691,
          4.324143410975539,
          4.2821528023349185,
          4.189516042741181,
          4.249374598909538,
          4.231881484542299,
          4.286053194568453,
          4.21962802377107,
          4.265788847389921,
          4.3222216228276436,
          4.270779462075141,
          4.287814788133971,
          4.267846720167546,
          4.245207553178217,
          4.329177236611828,
          4.173816925987156,
          4.303277890297745,
          4.267732950181278,
          4.2388732965598415,
          4.2811739592964155,
          4.236827338667307,
          4.300869242713229,
          4.241522562007881,
          4.284865154373452,
          4.211402596769721,
          4.247530629255146,
          4.226475215807803,
          4.203112545407201,
          4.27890794119989,
          4.346954681783293,
          4.325309553684091,
          4.233986055102122,
          4.322625408094585,
          4.229559897581433,
          4.258222184219634,
          4.3304479390030295,
          4.310347348268851,
          4.368580794323964,
          4.223387822971576,
          4.273278907556372,
          4.210010877578152,
          4.24999676449528,
          4.330870141639404,
          4.214463201181252,
          4.339107045434461,
          4.175396688159488,
          4.3430819990528535,
          4.170144480564059,
          4.247948603660611,
          4.245778111588476,
          4.289125992184846,
          4.121208516011336,
          4.310893508384297,
          4.326899569177927,
          4.279336529413213,
          4.228398650407337,
          4.220057627276199,
          4.2668314163393655,
          4.306727510056251,
          4.160546928295796,
          4.216599622672523,
          4.1466692122037845,
          4.218499264225206,
          4.233964595807922,
          4.2523396057245915,
          4.3039459096269335,
          4.219884484266902,
          4.346033446874299,
          4.090567257141976,
          4.207918271483051,
          4.284710834936539,
          4.297042687800809,
          4.136470964730378,
          4.253186515375001,
          4.338982071716407,
          4.1643647537195605,
          4.260990471042509,
          4.28132610451564,
          4.195906335560232,
          4.173198358681652,
          4.185233572522968,
          4.251743870785101,
          4.186411031429112,
          4.223923956087633,
          4.25333735957508,
          4.18105197951533,
          4.257288941328699,
          4.317583169155061,
          4.1485878614805864,
          4.306710811578389,
          4.2139526591072975,
          4.2611539714435205,
          4.150064073047805,
          4.190307163912415,
          4.249207031469009,
          4.261695546850053,
          4.179372388874636,
          4.297460544906629,
          4.232192738158594,
          4.349489347461859,
          4.3797883044939026,
          4.334943464044307,
          4.1245357471648285,
          4.226571445414512,
          4.264068980677427,
          4.2165506779434905,
          4.280511596512352,
          4.284220619844641,
          4.13083985074053,
          4.1406012849825276,
          4.298401739418901,
          4.322927240506514,
          4.290420438233429,
          4.289842944956191,
          4.345588197816859,
          4.309557178375938,
          4.272492346499708,
          4.05226745952077,
          4.278705000464223,
          4.221279726858556,
          4.296901858866427,
          4.211052936860572,
          4.194429538432452,
          4.1664101339034145,
          4.297926550011963,
          4.337125239508102,
          4.378472918848423,
          4.307937362991786,
          4.2511368764235655,
          4.326256853272987,
          4.342889105239933,
          4.252986617817259,
          4.250466438604463,
          4.306626404525637,
          4.263966577893514,
          4.197388956188786,
          4.336006641409704,
          4.089398474041383,
          4.263755653110088,
          4.348400460347651,
          4.292408420212427,
          4.244858558296345,
          4.3066932683067956,
          4.261068791512124,
          4.298944276897882,
          4.310583538512526,
          4.108777027596881,
          4.193882576885939,
          4.306634411279276,
          4.283617523709523,
          4.340856963441916,
          4.23434257341402,
          4.237631147265628,
          4.294279896740277,
          4.28238526520961,
          4.264142422561467,
          4.351039589924255,
          4.232261703316309,
          4.19386649222754,
          4.220373987048285,
          4.276617912572065,
          4.259912209661623,
          4.267532286160585,
          4.192422373882954,
          4.240471136462585,
          4.295007083889397,
          4.2019893086116795,
          4.260660571300137,
          4.215726826104888,
          4.2979418464355525,
          4.159441140120661,
          4.247895512973546,
          4.040796461128717,
          4.247210255380148,
          4.241789306648975,
          4.254404114609519,
          4.180035711854195,
          4.266564078100109,
          4.220709198521759,
          4.234172351814702,
          4.178032652834896,
          4.1694922985658085,
          4.163315422718562,
          4.283327572830919,
          4.233736530025815,
          4.226722786185615,
          4.262959702897582,
          4.352882491402052,
          4.266830142533337,
          4.228042578985505,
          4.166416139954531,
          4.130527726166953,
          4.210274921088596,
          4.174128701934921,
          4.279447041948991,
          4.222464743727151,
          4.270789547607841,
          4.207103234258968,
          4.218178194126859,
          4.165906169469081,
          4.198027710089987,
          4.105709715522894,
          4.162959149291259,
          4.190672574813277,
          4.182521804938804,
          4.331765183880594,
          4.197111403715647,
          4.241235963211803,
          4.320454402035939,
          4.169142055105102,
          4.245599602458468,
          4.2575249381855835,
          4.251946806973805,
          4.280991764941703,
          4.118576522575305,
          4.3399683371351765,
          4.320455578672334,
          4.187050640068125,
          4.175218019330944,
          4.221118234669753,
          4.291727279265815,
          4.13033280471931,
          4.261001375984449,
          4.190455437257909,
          4.245316574328589,
          4.286372273013781,
          4.2225146351917475,
          4.236368417362867,
          4.230343854706476,
          4.261586177898123,
          4.28088240321643,
          4.259246625973981,
          4.194683934550476,
          4.200956278451459,
          4.261438837989173,
          4.2724731334166615,
          4.189565310063421,
          4.278434827669489,
          4.151232439434022,
          4.263723715707621,
          4.292328017470317,
          4.234893394627774,
          4.190547091610516,
          4.168555386020534,
          4.24687335970345,
          4.1038318592122085,
          4.310940392340467,
          4.270925372016004,
          4.145003839281088,
          4.276689752855887,
          4.2257132139502716,
          4.193818687097526,
          4.115730660173357,
          4.221753324506854,
          4.214288979154685,
          4.262297279690132,
          4.253516654190898,
          4.260306267836292,
          4.199366608227618,
          4.1261343530018735,
          4.216615429733413,
          4.115089946408173,
          4.1426607021015975,
          4.325639686728321,
          4.2419885842006,
          4.321891743667283,
          4.29426363292507,
          4.166689127517493,
          4.196382308881388,
          4.277656396698578,
          4.272356350874477,
          4.21526096513553,
          4.141991806340142,
          4.228636240465381,
          4.283618934981273,
          4.312478751109406,
          4.251845725959318,
          4.291258996127089,
          4.347027449894548,
          4.195690395889792,
          4.271624772435774,
          4.308491022640848,
          4.159169090076516,
          4.130311037300019,
          4.137126968846966,
          4.239697656168235,
          4.239675208526511,
          4.166925336078788,
          4.1795337760872275,
          4.137166364017322,
          4.143422706737479,
          4.21859856987285,
          4.097843313902574,
          4.120288037569245,
          4.3268848607347765,
          4.232010050099956,
          4.126981748105779,
          4.211894667848515,
          4.14511578411567,
          4.110266018486575,
          4.15087706054045,
          4.254478794897106,
          4.263259706162383,
          4.191391951591111,
          4.250286733782861,
          4.239232872038498,
          4.190458206048291,
          4.191052520705295,
          4.134832438998744,
          4.227652173651169,
          4.2142853567087455,
          4.125880866377938,
          4.169244838703449,
          4.222215118497401,
          4.142647635388979,
          4.220272299046633,
          4.139154274225615,
          4.174846919018077,
          4.258793630349096,
          4.196238889570416,
          4.179891823640065,
          4.1022687198852905,
          4.2702274310052815,
          4.220901931877579,
          4.143040672319694,
          4.206975414469013,
          4.164636868688496,
          4.147711006209166,
          4.1576622072427,
          4.077687959750109,
          4.296794052721684,
          4.163469997881151,
          4.248755026316991,
          4.217915811688933,
          4.183394978868808,
          4.2581233142945605,
          4.285289888307611,
          4.180244819259861,
          4.16968006126891,
          4.233869230045548,
          4.1480243411743185,
          4.152872357832758,
          4.239488019438584,
          4.216716451489306,
          4.312158717305865,
          4.261760434260889,
          4.278780080948138,
          4.332814546297784,
          4.257231652968104,
          4.245326077422812,
          4.2613272951826024,
          4.185467083481403,
          4.141108997093175,
          4.233007195360623,
          4.183483560799021,
          4.302808271248249,
          4.223888867579974,
          4.232429344169321,
          4.33010210238946,
          4.24401566736942,
          4.2354281804795155,
          4.2921517748273645,
          4.242188395914755,
          4.177707896551292,
          4.103813487784015,
          4.267742906359648,
          4.30751744349625,
          4.35836990940077,
          4.29916562138522,
          4.285965842956843
         ]
        },
        {
         "fill": "tonexty",
         "line": {
          "color": "lightblue"
         },
         "mode": "lines",
         "name": "Confidence Interval",
         "type": "scatter",
         "x": [
          0,
          1,
          2,
          3,
          4,
          5,
          6,
          7,
          8,
          9,
          10,
          11,
          12,
          13,
          14,
          15,
          16,
          17,
          18,
          19,
          20,
          21,
          22,
          23,
          24,
          25,
          26,
          27,
          28,
          29,
          30,
          31,
          32,
          33,
          34,
          35,
          36,
          37,
          38,
          39,
          40,
          41,
          42,
          43,
          44,
          45,
          46,
          47,
          48,
          49,
          50,
          51,
          52,
          53,
          54,
          55,
          56,
          57,
          58,
          59,
          60,
          61,
          62,
          63,
          64,
          65,
          66,
          67,
          68,
          69,
          70,
          71,
          72,
          73,
          74,
          75,
          76,
          77,
          78,
          79,
          80,
          81,
          82,
          83,
          84,
          85,
          86,
          87,
          88,
          89,
          90,
          91,
          92,
          93,
          94,
          95,
          96,
          97,
          98,
          99,
          100,
          101,
          102,
          103,
          104,
          105,
          106,
          107,
          108,
          109,
          110,
          111,
          112,
          113,
          114,
          115,
          116,
          117,
          118,
          119,
          120,
          121,
          122,
          123,
          124,
          125,
          126,
          127,
          128,
          129,
          130,
          131,
          132,
          133,
          134,
          135,
          136,
          137,
          138,
          139,
          140,
          141,
          142,
          143,
          144,
          145,
          146,
          147,
          148,
          149,
          150,
          151,
          152,
          153,
          154,
          155,
          156,
          157,
          158,
          159,
          160,
          161,
          162,
          163,
          164,
          165,
          166,
          167,
          168,
          169,
          170,
          171,
          172,
          173,
          174,
          175,
          176,
          177,
          178,
          179,
          180,
          181,
          182,
          183,
          184,
          185,
          186,
          187,
          188,
          189,
          190,
          191,
          192,
          193,
          194,
          195,
          196,
          197,
          198,
          199,
          200,
          201,
          202,
          203,
          204,
          205,
          206,
          207,
          208,
          209,
          210,
          211,
          212,
          213,
          214,
          215,
          216,
          217,
          218,
          219,
          220,
          221,
          222,
          223,
          224,
          225,
          226,
          227,
          228,
          229,
          230,
          231,
          232,
          233,
          234,
          235,
          236,
          237,
          238,
          239,
          240,
          241,
          242,
          243,
          244,
          245,
          246,
          247,
          248,
          249,
          250,
          251,
          252,
          253,
          254,
          255,
          256,
          257,
          258,
          259,
          260,
          261,
          263,
          264,
          265,
          266,
          267,
          268,
          269,
          270,
          271,
          272,
          273,
          274,
          275,
          276,
          277,
          278,
          279,
          280,
          281,
          282,
          283,
          284,
          285,
          286,
          287,
          288,
          289,
          290,
          291,
          292,
          293,
          294,
          295,
          296,
          297,
          298,
          299,
          300,
          301,
          302,
          303,
          304,
          305,
          306,
          307,
          308,
          309,
          310,
          311,
          312,
          313,
          314,
          315,
          316,
          317,
          318,
          319,
          320,
          321,
          322,
          323,
          324,
          325,
          326,
          327,
          328,
          329,
          330,
          331,
          332,
          333,
          334,
          335,
          336,
          337,
          338,
          339,
          340,
          341,
          342,
          343,
          344,
          345,
          346,
          347,
          348,
          349,
          350,
          351,
          352,
          353,
          354,
          355,
          356,
          357,
          358,
          359,
          360,
          361,
          362,
          363,
          364,
          365,
          366,
          367,
          368,
          369,
          370,
          371,
          372,
          373,
          374,
          375,
          376,
          377,
          378,
          379,
          380,
          381,
          382,
          383,
          384,
          385,
          386,
          387,
          388,
          389,
          390,
          391,
          392,
          393,
          394,
          395,
          396,
          397,
          398,
          399,
          400,
          401,
          402,
          403,
          404,
          405,
          406,
          407,
          408,
          409,
          410,
          411,
          412,
          413,
          414,
          415,
          416,
          417,
          418,
          419,
          420,
          421,
          422,
          423,
          424,
          425,
          426,
          427,
          428,
          429,
          430,
          431,
          432,
          433,
          434,
          435,
          436,
          437,
          438,
          439,
          440,
          441,
          442,
          443,
          444,
          445,
          446,
          447,
          448,
          449,
          450,
          451,
          452,
          453,
          454,
          455,
          456,
          457,
          458,
          459,
          460,
          461,
          462,
          463,
          464,
          465,
          466,
          467,
          468,
          469,
          470,
          471,
          472,
          473,
          474,
          475,
          476,
          477,
          478,
          479,
          480,
          481,
          482,
          483,
          484,
          485,
          486,
          487,
          488,
          489,
          490,
          491,
          492,
          493,
          494,
          495,
          496,
          497,
          498,
          499,
          500
         ],
         "y": [
          4.106668061202619,
          4.090785321592216,
          4.142770845797294,
          4.173498834934677,
          4.248952615387605,
          4.246257120975985,
          4.201986752736362,
          4.221102978909506,
          4.083291573775711,
          4.1934861269771035,
          4.255887746827571,
          4.106497321005735,
          4.207725957079275,
          4.040178538614226,
          4.123165169020019,
          4.273470060934035,
          4.053446055821023,
          4.228051166978108,
          4.147447264327027,
          4.263210842434306,
          4.206923407425017,
          4.189180531642746,
          4.096042320202766,
          4.3019932844987645,
          4.186730896744749,
          4.156353727462368,
          4.151465633806786,
          4.149848400716469,
          4.229057072332898,
          4.167634092420676,
          4.154007396815787,
          4.167973439278624,
          4.129357922170079,
          4.0490039073358695,
          4.187259394295164,
          4.122583345320438,
          4.169946771408996,
          4.0335199857357,
          4.200562175998792,
          4.193712347378049,
          4.2704620578297865,
          4.160085922849327,
          4.296667211982804,
          4.287322171923153,
          4.291191767406562,
          4.188933925021432,
          4.168702081191273,
          4.335102476841376,
          4.155668650771706,
          4.113840236199184,
          4.172922208743017,
          4.045349710640535,
          4.142363762138786,
          4.134525812448353,
          4.1443759085613365,
          4.03847178109991,
          4.150141806844345,
          4.143379774305867,
          4.209990628173811,
          4.1786001222991915,
          4.162403927004152,
          4.143451633399088,
          4.121751131065715,
          4.128986566831747,
          4.160333137136824,
          4.149553320852999,
          4.2777779628925785,
          4.149926953062216,
          4.185170477800422,
          4.1405517527208975,
          4.06739373167635,
          4.119522465189866,
          4.0793407458891835,
          4.172603682911388,
          4.23647106445188,
          4.281659097190841,
          4.137757539595038,
          4.072013154604331,
          4.133802710179104,
          4.209489060212054,
          4.1424616144695845,
          4.199565297551575,
          4.214836531672191,
          4.128421895054531,
          4.180395554935667,
          4.162542796556161,
          4.074242395222111,
          4.178607015635675,
          4.132550066569382,
          4.150708686586387,
          4.1353305023253695,
          4.128561386922098,
          4.129711290623908,
          4.214879135061315,
          4.075010434846589,
          4.082226397092205,
          3.956552520035405,
          4.066121522238283,
          4.178697881307671,
          4.112666185075127,
          4.140261230080136,
          4.2581646869698435,
          4.1787153961854315,
          4.00888730940244,
          4.2437367174218865,
          4.082415093249349,
          4.176195376666954,
          4.182593605345015,
          4.199348628512981,
          4.234247761806299,
          4.065466885942629,
          4.201471949057141,
          4.12401683003754,
          4.179629248867992,
          4.0766088671600516,
          4.216534443805527,
          4.13298321965198,
          4.186209329459217,
          4.024551655425851,
          4.077687456909543,
          4.162437978334736,
          4.172129733803304,
          4.147648196854457,
          4.195656955234905,
          4.043229190891006,
          4.145948520685478,
          4.211002655296193,
          4.133341450147193,
          4.223611285966697,
          4.185957204918613,
          4.092837657444143,
          4.259680657807994,
          4.2230519035343566,
          4.091078366581318,
          4.157051616695721,
          4.157112297916122,
          4.224861149991371,
          4.152337094723671,
          4.1960490507084796,
          4.235468817817206,
          4.181427065388905,
          4.208323873433603,
          4.226846927393948,
          4.1555006753324335,
          4.2410296625141335,
          4.08309951638026,
          4.203436781244936,
          4.168285437554147,
          4.166692683073096,
          4.2079790485774105,
          4.163030856631844,
          4.2439257423418,
          4.149078294318671,
          4.208555440197316,
          4.123973788679885,
          4.11998290592832,
          4.171818886265878,
          4.127412263258702,
          4.194248217619302,
          4.283799846338303,
          4.224768187588433,
          4.149533807971084,
          4.275385803280803,
          4.114440483656198,
          4.184764580998782,
          4.2749292178150196,
          4.20525655395129,
          4.294666994466637,
          4.146507208659701,
          4.20669647322688,
          4.1241093389123025,
          4.1871682053993515,
          4.26508441555013,
          4.11515870361182,
          4.270984316741761,
          4.089685132338916,
          4.2882761394764755,
          4.101295868878441,
          4.153115661197117,
          4.1468119438391104,
          4.183925179927162,
          4.011004492881829,
          4.26385982145058,
          4.255695460416183,
          4.229923785682807,
          4.134819838739363,
          4.114507400402974,
          4.193524162953866,
          4.207051361367806,
          4.081614435806792,
          4.141223341004779,
          4.041885318172772,
          4.135264583059555,
          4.151467022825347,
          4.1818376393612375,
          4.171867972829475,
          4.143448164155591,
          4.278689924121951,
          4.003026003455511,
          4.137826396016485,
          4.208094969649236,
          4.1998760222797005,
          4.0373221330103455,
          4.163072453083684,
          4.235805914903741,
          4.070768253426918,
          4.172881783347775,
          4.18581990415547,
          4.083511218159626,
          4.097207039554326,
          4.113371420625475,
          4.153248961544114,
          4.092669462917606,
          4.139962083709076,
          4.170320499912312,
          4.083989071105274,
          4.184881716860113,
          4.212773131937659,
          4.0690042260422254,
          4.245559512003073,
          4.105808078889506,
          4.193134868824218,
          4.090769505877729,
          4.1325999015612656,
          4.190508452058305,
          4.175067036512022,
          4.065263353740132,
          4.213580730996776,
          4.120853575690417,
          4.262387110851799,
          4.335316527703392,
          4.279042442992103,
          4.032995455102761,
          4.160773133174565,
          4.185241140877022,
          4.135015856965745,
          4.184682815534289,
          4.204190779018344,
          4.071555920595358,
          4.07379173770999,
          4.2324576484219065,
          4.237454386558911,
          4.223260854454656,
          4.237444163989616,
          4.27941842016628,
          4.2480922877497225,
          4.175741535971706,
          3.963620825018303,
          4.191095638239359,
          4.080553998117009,
          4.209778237681334,
          4.146615152944708,
          4.137165068625485,
          4.115404632237273,
          4.223844140393867,
          4.261047572326482,
          4.30971009133363,
          4.24741116925414,
          4.180117646544405,
          4.262758180353195,
          4.289604044562906,
          4.155468879851718,
          4.168904181982286,
          4.222305270377759,
          4.179482044347129,
          4.097177800964883,
          4.296749592384594,
          4.001198243811491,
          4.182888694847765,
          4.27318336267923,
          4.237925383969692,
          4.200361540369121,
          4.21469978543696,
          4.151258730724938,
          4.243178361823332,
          4.228213917260877,
          4.0009066033080405,
          4.083441380135423,
          4.221824394909772,
          4.18263226825931,
          4.248324019457578,
          4.132444202700887,
          4.129892458200821,
          4.218239867463725,
          4.234122052470054,
          4.172563872548339,
          4.283999243598098,
          4.155182218066165,
          4.079971626493165,
          4.1358800590691125,
          4.185558215332988,
          4.174187830926725,
          4.192505016645856,
          4.121817261768692,
          4.1793246443323255,
          4.211736089042697,
          4.12521051318596,
          4.209877871106879,
          4.123128841454433,
          4.252142427081598,
          4.0824632450582214,
          4.1583599785428955,
          3.9244284655373796,
          4.177445407007401,
          4.151023298917234,
          4.149705219185439,
          4.068525981510398,
          4.191769819129422,
          4.116978564209799,
          4.118877480660896,
          4.069808879546771,
          4.079170180587893,
          4.062146421661953,
          4.192654942715382,
          4.161547359428563,
          4.13930627987901,
          4.193800714263029,
          4.285050517153988,
          4.1779733018826555,
          4.166528345920716,
          4.080130746456367,
          4.033256391164983,
          4.104984432916902,
          4.080204151527373,
          4.169386913405809,
          4.124367421795855,
          4.172809698257815,
          4.104492374724277,
          4.128168547651374,
          4.047741637805356,
          4.136637082679138,
          4.006611142253372,
          4.052854656201088,
          4.097486323134769,
          4.055551326043655,
          4.239120276367873,
          4.114073567477323,
          4.1503536324136885,
          4.241741331810953,
          4.074078593315022,
          4.163017037945585,
          4.176271133427773,
          4.1552078441969105,
          4.242910859732929,
          4.011351740746919,
          4.2706997710236445,
          4.221825753786719,
          4.1067203766696485,
          4.075911531947528,
          4.156728312275012,
          4.236619039847292,
          4.039660616772422,
          4.204555289007956,
          4.08770048643579,
          4.188638661388106,
          4.205335546104338,
          4.1166389410119555,
          4.158507250117163,
          4.153186301625819,
          4.160157936581133,
          4.204882196799741,
          4.157196369184804,
          4.07745238970945,
          4.119898949065714,
          4.1953131666526975,
          4.218934812613184,
          4.102357913507807,
          4.1924468996852085,
          4.038704316052737,
          4.190559335139208,
          4.2110472741521106,
          4.1563394858350495,
          4.113995468489409,
          4.058627052691483,
          4.166973721261746,
          3.9592428467901626,
          4.222693703195103,
          4.191411862656098,
          4.048571031735671,
          4.201086832510471,
          4.124952139307505,
          4.075369579760503,
          4.039719537570532,
          4.139475976995215,
          4.134792292137681,
          4.1624255870046065,
          4.145697316327173,
          4.195210539385586,
          4.128369187553891,
          4.036196479950243,
          4.132944519830731,
          4.00757518708799,
          4.0517704228837434,
          4.25690239356649,
          4.174653048386144,
          4.243857996065923,
          4.190489191041035,
          4.055864172398982,
          4.108827330700553,
          4.222682189077089,
          4.177517356569534,
          4.111276528896437,
          4.058358805058328,
          4.141867641332425,
          4.219294641915482,
          4.223297673082945,
          4.1227183510479195,
          4.219251277831207,
          4.293316982686922,
          4.095768450435391,
          4.183677472376403,
          4.238269044007295,
          4.0927548043699895,
          4.072710160500054,
          4.040234387351521,
          4.152719168585437,
          4.1514076082790945,
          4.060343538877098,
          4.083519133956509,
          4.036224129693165,
          4.046013063678392,
          4.131099769004272,
          4.005988301640233,
          3.996469502173176,
          4.228936822158226,
          4.146842544987732,
          4.054735778505046,
          4.128470279735774,
          4.068331253826556,
          4.02214588921707,
          4.070273288238841,
          4.143304046398833,
          4.192143359560468,
          4.133279815460549,
          4.187695176404736,
          4.161092310337896,
          4.1133038655306855,
          4.105393728724039,
          4.051077122042271,
          4.159430859118229,
          4.131792129605901,
          4.042455001824766,
          4.097789319521267,
          4.117238511951864,
          4.03829129465211,
          4.10266289932816,
          4.020230100671481,
          4.0866861852009615,
          4.176323314041106,
          4.107225515863093,
          4.068594506785749,
          4.011519913629585,
          4.191951549994144,
          4.133457819689008,
          4.028573426702639,
          4.110743298303949,
          4.075376922892791,
          4.042097667369319,
          4.073762487893999,
          3.9744978528910395,
          4.20405743606806,
          4.069238324292259,
          4.179773281278973,
          4.10906391249244,
          4.101625710190145,
          4.172726227846511,
          4.167038243504349,
          4.058207924349547,
          4.069027538188995,
          4.15145210857681,
          4.040950698012001,
          4.069068906826602,
          4.156152052756402,
          4.1159039576084275,
          4.205227907226682,
          4.173851428084864,
          4.166525038600211,
          4.245981871716974,
          4.168361203548153,
          4.149221780234509,
          4.177157096292869,
          4.106836537605921,
          4.088324562698812,
          4.115892131003185,
          4.095521989534199,
          4.229796584764941,
          4.153014174045874,
          4.160005729289696,
          4.258612132408611,
          4.138571001933557,
          4.132170251286319,
          4.222000628347566,
          4.1503965128599924,
          4.085376518852936,
          4.022425519990142,
          4.2133997785504755,
          4.254615541113646,
          4.297768415759438,
          4.234029773153,
          4.198217143193778
         ]
        }
       ],
       "layout": {
        "template": {
         "data": {
          "bar": [
           {
            "error_x": {
             "color": "#2a3f5f"
            },
            "error_y": {
             "color": "#2a3f5f"
            },
            "marker": {
             "line": {
              "color": "#E5ECF6",
              "width": 0.5
             },
             "pattern": {
              "fillmode": "overlay",
              "size": 10,
              "solidity": 0.2
             }
            },
            "type": "bar"
           }
          ],
          "barpolar": [
           {
            "marker": {
             "line": {
              "color": "#E5ECF6",
              "width": 0.5
             },
             "pattern": {
              "fillmode": "overlay",
              "size": 10,
              "solidity": 0.2
             }
            },
            "type": "barpolar"
           }
          ],
          "carpet": [
           {
            "aaxis": {
             "endlinecolor": "#2a3f5f",
             "gridcolor": "white",
             "linecolor": "white",
             "minorgridcolor": "white",
             "startlinecolor": "#2a3f5f"
            },
            "baxis": {
             "endlinecolor": "#2a3f5f",
             "gridcolor": "white",
             "linecolor": "white",
             "minorgridcolor": "white",
             "startlinecolor": "#2a3f5f"
            },
            "type": "carpet"
           }
          ],
          "choropleth": [
           {
            "colorbar": {
             "outlinewidth": 0,
             "ticks": ""
            },
            "type": "choropleth"
           }
          ],
          "contour": [
           {
            "colorbar": {
             "outlinewidth": 0,
             "ticks": ""
            },
            "colorscale": [
             [
              0,
              "#0d0887"
             ],
             [
              0.1111111111111111,
              "#46039f"
             ],
             [
              0.2222222222222222,
              "#7201a8"
             ],
             [
              0.3333333333333333,
              "#9c179e"
             ],
             [
              0.4444444444444444,
              "#bd3786"
             ],
             [
              0.5555555555555556,
              "#d8576b"
             ],
             [
              0.6666666666666666,
              "#ed7953"
             ],
             [
              0.7777777777777778,
              "#fb9f3a"
             ],
             [
              0.8888888888888888,
              "#fdca26"
             ],
             [
              1,
              "#f0f921"
             ]
            ],
            "type": "contour"
           }
          ],
          "contourcarpet": [
           {
            "colorbar": {
             "outlinewidth": 0,
             "ticks": ""
            },
            "type": "contourcarpet"
           }
          ],
          "heatmap": [
           {
            "colorbar": {
             "outlinewidth": 0,
             "ticks": ""
            },
            "colorscale": [
             [
              0,
              "#0d0887"
             ],
             [
              0.1111111111111111,
              "#46039f"
             ],
             [
              0.2222222222222222,
              "#7201a8"
             ],
             [
              0.3333333333333333,
              "#9c179e"
             ],
             [
              0.4444444444444444,
              "#bd3786"
             ],
             [
              0.5555555555555556,
              "#d8576b"
             ],
             [
              0.6666666666666666,
              "#ed7953"
             ],
             [
              0.7777777777777778,
              "#fb9f3a"
             ],
             [
              0.8888888888888888,
              "#fdca26"
             ],
             [
              1,
              "#f0f921"
             ]
            ],
            "type": "heatmap"
           }
          ],
          "heatmapgl": [
           {
            "colorbar": {
             "outlinewidth": 0,
             "ticks": ""
            },
            "colorscale": [
             [
              0,
              "#0d0887"
             ],
             [
              0.1111111111111111,
              "#46039f"
             ],
             [
              0.2222222222222222,
              "#7201a8"
             ],
             [
              0.3333333333333333,
              "#9c179e"
             ],
             [
              0.4444444444444444,
              "#bd3786"
             ],
             [
              0.5555555555555556,
              "#d8576b"
             ],
             [
              0.6666666666666666,
              "#ed7953"
             ],
             [
              0.7777777777777778,
              "#fb9f3a"
             ],
             [
              0.8888888888888888,
              "#fdca26"
             ],
             [
              1,
              "#f0f921"
             ]
            ],
            "type": "heatmapgl"
           }
          ],
          "histogram": [
           {
            "marker": {
             "pattern": {
              "fillmode": "overlay",
              "size": 10,
              "solidity": 0.2
             }
            },
            "type": "histogram"
           }
          ],
          "histogram2d": [
           {
            "colorbar": {
             "outlinewidth": 0,
             "ticks": ""
            },
            "colorscale": [
             [
              0,
              "#0d0887"
             ],
             [
              0.1111111111111111,
              "#46039f"
             ],
             [
              0.2222222222222222,
              "#7201a8"
             ],
             [
              0.3333333333333333,
              "#9c179e"
             ],
             [
              0.4444444444444444,
              "#bd3786"
             ],
             [
              0.5555555555555556,
              "#d8576b"
             ],
             [
              0.6666666666666666,
              "#ed7953"
             ],
             [
              0.7777777777777778,
              "#fb9f3a"
             ],
             [
              0.8888888888888888,
              "#fdca26"
             ],
             [
              1,
              "#f0f921"
             ]
            ],
            "type": "histogram2d"
           }
          ],
          "histogram2dcontour": [
           {
            "colorbar": {
             "outlinewidth": 0,
             "ticks": ""
            },
            "colorscale": [
             [
              0,
              "#0d0887"
             ],
             [
              0.1111111111111111,
              "#46039f"
             ],
             [
              0.2222222222222222,
              "#7201a8"
             ],
             [
              0.3333333333333333,
              "#9c179e"
             ],
             [
              0.4444444444444444,
              "#bd3786"
             ],
             [
              0.5555555555555556,
              "#d8576b"
             ],
             [
              0.6666666666666666,
              "#ed7953"
             ],
             [
              0.7777777777777778,
              "#fb9f3a"
             ],
             [
              0.8888888888888888,
              "#fdca26"
             ],
             [
              1,
              "#f0f921"
             ]
            ],
            "type": "histogram2dcontour"
           }
          ],
          "mesh3d": [
           {
            "colorbar": {
             "outlinewidth": 0,
             "ticks": ""
            },
            "type": "mesh3d"
           }
          ],
          "parcoords": [
           {
            "line": {
             "colorbar": {
              "outlinewidth": 0,
              "ticks": ""
             }
            },
            "type": "parcoords"
           }
          ],
          "pie": [
           {
            "automargin": true,
            "type": "pie"
           }
          ],
          "scatter": [
           {
            "fillpattern": {
             "fillmode": "overlay",
             "size": 10,
             "solidity": 0.2
            },
            "type": "scatter"
           }
          ],
          "scatter3d": [
           {
            "line": {
             "colorbar": {
              "outlinewidth": 0,
              "ticks": ""
             }
            },
            "marker": {
             "colorbar": {
              "outlinewidth": 0,
              "ticks": ""
             }
            },
            "type": "scatter3d"
           }
          ],
          "scattercarpet": [
           {
            "marker": {
             "colorbar": {
              "outlinewidth": 0,
              "ticks": ""
             }
            },
            "type": "scattercarpet"
           }
          ],
          "scattergeo": [
           {
            "marker": {
             "colorbar": {
              "outlinewidth": 0,
              "ticks": ""
             }
            },
            "type": "scattergeo"
           }
          ],
          "scattergl": [
           {
            "marker": {
             "colorbar": {
              "outlinewidth": 0,
              "ticks": ""
             }
            },
            "type": "scattergl"
           }
          ],
          "scattermapbox": [
           {
            "marker": {
             "colorbar": {
              "outlinewidth": 0,
              "ticks": ""
             }
            },
            "type": "scattermapbox"
           }
          ],
          "scatterpolar": [
           {
            "marker": {
             "colorbar": {
              "outlinewidth": 0,
              "ticks": ""
             }
            },
            "type": "scatterpolar"
           }
          ],
          "scatterpolargl": [
           {
            "marker": {
             "colorbar": {
              "outlinewidth": 0,
              "ticks": ""
             }
            },
            "type": "scatterpolargl"
           }
          ],
          "scatterternary": [
           {
            "marker": {
             "colorbar": {
              "outlinewidth": 0,
              "ticks": ""
             }
            },
            "type": "scatterternary"
           }
          ],
          "surface": [
           {
            "colorbar": {
             "outlinewidth": 0,
             "ticks": ""
            },
            "colorscale": [
             [
              0,
              "#0d0887"
             ],
             [
              0.1111111111111111,
              "#46039f"
             ],
             [
              0.2222222222222222,
              "#7201a8"
             ],
             [
              0.3333333333333333,
              "#9c179e"
             ],
             [
              0.4444444444444444,
              "#bd3786"
             ],
             [
              0.5555555555555556,
              "#d8576b"
             ],
             [
              0.6666666666666666,
              "#ed7953"
             ],
             [
              0.7777777777777778,
              "#fb9f3a"
             ],
             [
              0.8888888888888888,
              "#fdca26"
             ],
             [
              1,
              "#f0f921"
             ]
            ],
            "type": "surface"
           }
          ],
          "table": [
           {
            "cells": {
             "fill": {
              "color": "#EBF0F8"
             },
             "line": {
              "color": "white"
             }
            },
            "header": {
             "fill": {
              "color": "#C8D4E3"
             },
             "line": {
              "color": "white"
             }
            },
            "type": "table"
           }
          ]
         },
         "layout": {
          "annotationdefaults": {
           "arrowcolor": "#2a3f5f",
           "arrowhead": 0,
           "arrowwidth": 1
          },
          "autotypenumbers": "strict",
          "coloraxis": {
           "colorbar": {
            "outlinewidth": 0,
            "ticks": ""
           }
          },
          "colorscale": {
           "diverging": [
            [
             0,
             "#8e0152"
            ],
            [
             0.1,
             "#c51b7d"
            ],
            [
             0.2,
             "#de77ae"
            ],
            [
             0.3,
             "#f1b6da"
            ],
            [
             0.4,
             "#fde0ef"
            ],
            [
             0.5,
             "#f7f7f7"
            ],
            [
             0.6,
             "#e6f5d0"
            ],
            [
             0.7,
             "#b8e186"
            ],
            [
             0.8,
             "#7fbc41"
            ],
            [
             0.9,
             "#4d9221"
            ],
            [
             1,
             "#276419"
            ]
           ],
           "sequential": [
            [
             0,
             "#0d0887"
            ],
            [
             0.1111111111111111,
             "#46039f"
            ],
            [
             0.2222222222222222,
             "#7201a8"
            ],
            [
             0.3333333333333333,
             "#9c179e"
            ],
            [
             0.4444444444444444,
             "#bd3786"
            ],
            [
             0.5555555555555556,
             "#d8576b"
            ],
            [
             0.6666666666666666,
             "#ed7953"
            ],
            [
             0.7777777777777778,
             "#fb9f3a"
            ],
            [
             0.8888888888888888,
             "#fdca26"
            ],
            [
             1,
             "#f0f921"
            ]
           ],
           "sequentialminus": [
            [
             0,
             "#0d0887"
            ],
            [
             0.1111111111111111,
             "#46039f"
            ],
            [
             0.2222222222222222,
             "#7201a8"
            ],
            [
             0.3333333333333333,
             "#9c179e"
            ],
            [
             0.4444444444444444,
             "#bd3786"
            ],
            [
             0.5555555555555556,
             "#d8576b"
            ],
            [
             0.6666666666666666,
             "#ed7953"
            ],
            [
             0.7777777777777778,
             "#fb9f3a"
            ],
            [
             0.8888888888888888,
             "#fdca26"
            ],
            [
             1,
             "#f0f921"
            ]
           ]
          },
          "colorway": [
           "#636efa",
           "#EF553B",
           "#00cc96",
           "#ab63fa",
           "#FFA15A",
           "#19d3f3",
           "#FF6692",
           "#B6E880",
           "#FF97FF",
           "#FECB52"
          ],
          "font": {
           "color": "#2a3f5f"
          },
          "geo": {
           "bgcolor": "white",
           "lakecolor": "white",
           "landcolor": "#E5ECF6",
           "showlakes": true,
           "showland": true,
           "subunitcolor": "white"
          },
          "hoverlabel": {
           "align": "left"
          },
          "hovermode": "closest",
          "mapbox": {
           "style": "light"
          },
          "paper_bgcolor": "white",
          "plot_bgcolor": "#E5ECF6",
          "polar": {
           "angularaxis": {
            "gridcolor": "white",
            "linecolor": "white",
            "ticks": ""
           },
           "bgcolor": "#E5ECF6",
           "radialaxis": {
            "gridcolor": "white",
            "linecolor": "white",
            "ticks": ""
           }
          },
          "scene": {
           "xaxis": {
            "backgroundcolor": "#E5ECF6",
            "gridcolor": "white",
            "gridwidth": 2,
            "linecolor": "white",
            "showbackground": true,
            "ticks": "",
            "zerolinecolor": "white"
           },
           "yaxis": {
            "backgroundcolor": "#E5ECF6",
            "gridcolor": "white",
            "gridwidth": 2,
            "linecolor": "white",
            "showbackground": true,
            "ticks": "",
            "zerolinecolor": "white"
           },
           "zaxis": {
            "backgroundcolor": "#E5ECF6",
            "gridcolor": "white",
            "gridwidth": 2,
            "linecolor": "white",
            "showbackground": true,
            "ticks": "",
            "zerolinecolor": "white"
           }
          },
          "shapedefaults": {
           "line": {
            "color": "#2a3f5f"
           }
          },
          "ternary": {
           "aaxis": {
            "gridcolor": "white",
            "linecolor": "white",
            "ticks": ""
           },
           "baxis": {
            "gridcolor": "white",
            "linecolor": "white",
            "ticks": ""
           },
           "bgcolor": "#E5ECF6",
           "caxis": {
            "gridcolor": "white",
            "linecolor": "white",
            "ticks": ""
           }
          },
          "title": {
           "x": 0.05
          },
          "xaxis": {
           "automargin": true,
           "gridcolor": "white",
           "linecolor": "white",
           "ticks": "",
           "title": {
            "standoff": 15
           },
           "zerolinecolor": "white",
           "zerolinewidth": 2
          },
          "yaxis": {
           "automargin": true,
           "gridcolor": "white",
           "linecolor": "white",
           "ticks": "",
           "title": {
            "standoff": 15
           },
           "zerolinecolor": "white",
           "zerolinewidth": 2
          }
         }
        },
        "title": {
         "text": "Mean and Confidence Interval of Hydrophobic.distance across PDB Files"
        },
        "xaxis": {
         "title": {
          "text": "PDB File"
         }
        },
        "yaxis": {
         "title": {
          "text": "Hydrophobic.distance"
         }
        }
       }
      }
     },
     "metadata": {},
     "output_type": "display_data"
    },
    {
     "data": {
      "application/vnd.jupyter.widget-view+json": {
       "model_id": "6dfbfd1aa98b4b618894a0d2885c466a",
       "version_major": 2,
       "version_minor": 0
      },
      "text/plain": [
       "interactive(children=(Dropdown(description='column', options=('Hydrophobic.distance', 'VdWContact.distance', '…"
      ]
     },
     "metadata": {},
     "output_type": "display_data"
    },
    {
     "data": {
      "application/vnd.plotly.v1+json": {
       "config": {
        "plotlyServerURL": "https://plot.ly"
       },
       "data": [
        {
         "line": {
          "color": "blue"
         },
         "mode": "lines+markers",
         "name": "Mean",
         "type": "scatter",
         "x": [
          0,
          1,
          2,
          3,
          4,
          5,
          6,
          7,
          8,
          9,
          10,
          11,
          12,
          13,
          14,
          15,
          16,
          17,
          18,
          19,
          20,
          21,
          22,
          23,
          24,
          25,
          26,
          27,
          28,
          29,
          30,
          31,
          32,
          33,
          34,
          35,
          36,
          37,
          38,
          39,
          40,
          41,
          42,
          43,
          44,
          45,
          46,
          47,
          48,
          49,
          50,
          51,
          52,
          53,
          54,
          55,
          56,
          57,
          58,
          59,
          60,
          61,
          62,
          63,
          64,
          65,
          66,
          67,
          68,
          69,
          70,
          71,
          72,
          73,
          74,
          75,
          76,
          77,
          78,
          79,
          80,
          81,
          82,
          83,
          84,
          85,
          86,
          87,
          88,
          89,
          90,
          91,
          92,
          93,
          94,
          95,
          96,
          97,
          98,
          99,
          100,
          101,
          102,
          103,
          104,
          105,
          106,
          107,
          108,
          109,
          110,
          111,
          112,
          113,
          114,
          115,
          116,
          117,
          118,
          119,
          120,
          121,
          122,
          123,
          124,
          125,
          126,
          127,
          128,
          129,
          130,
          131,
          132,
          133,
          134,
          135,
          136,
          137,
          138,
          139,
          140,
          141,
          142,
          143,
          144,
          145,
          146,
          147,
          148,
          149,
          150,
          151,
          152,
          153,
          154,
          155,
          156,
          157,
          158,
          159,
          160,
          161,
          162,
          163,
          164,
          165,
          166,
          167,
          168,
          169,
          170,
          171,
          172,
          173,
          174,
          175,
          176,
          177,
          178,
          179,
          180,
          181,
          182,
          183,
          184,
          185,
          186,
          187,
          188,
          189,
          190,
          191,
          192,
          193,
          194,
          195,
          196,
          197,
          198,
          199,
          200,
          201,
          202,
          203,
          204,
          205,
          206,
          207,
          208,
          209,
          210,
          211,
          212,
          213,
          214,
          215,
          216,
          217,
          218,
          219,
          220,
          221,
          222,
          223,
          224,
          225,
          226,
          227,
          228,
          229,
          230,
          231,
          232,
          233,
          234,
          235,
          236,
          237,
          238,
          239,
          240,
          241,
          242,
          243,
          244,
          245,
          246,
          247,
          248,
          249,
          250,
          251,
          252,
          253,
          254,
          255,
          256,
          257,
          258,
          259,
          260,
          261,
          263,
          264,
          265,
          266,
          267,
          268,
          269,
          270,
          271,
          272,
          273,
          274,
          275,
          276,
          277,
          278,
          279,
          280,
          281,
          282,
          283,
          284,
          285,
          286,
          287,
          288,
          289,
          290,
          291,
          292,
          293,
          294,
          295,
          296,
          297,
          298,
          299,
          300,
          301,
          302,
          303,
          304,
          305,
          306,
          307,
          308,
          309,
          310,
          311,
          312,
          313,
          314,
          315,
          316,
          317,
          318,
          319,
          320,
          321,
          322,
          323,
          324,
          325,
          326,
          327,
          328,
          329,
          330,
          331,
          332,
          333,
          334,
          335,
          336,
          337,
          338,
          339,
          340,
          341,
          342,
          343,
          344,
          345,
          346,
          347,
          348,
          349,
          350,
          351,
          352,
          353,
          354,
          355,
          356,
          357,
          358,
          359,
          360,
          361,
          362,
          363,
          364,
          365,
          366,
          367,
          368,
          369,
          370,
          371,
          372,
          373,
          374,
          375,
          376,
          377,
          378,
          379,
          380,
          381,
          382,
          383,
          384,
          385,
          386,
          387,
          388,
          389,
          390,
          391,
          392,
          393,
          394,
          395,
          396,
          397,
          398,
          399,
          400,
          401,
          402,
          403,
          404,
          405,
          406,
          407,
          408,
          409,
          410,
          411,
          412,
          413,
          414,
          415,
          416,
          417,
          418,
          419,
          420,
          421,
          422,
          423,
          424,
          425,
          426,
          427,
          428,
          429,
          430,
          431,
          432,
          433,
          434,
          435,
          436,
          437,
          438,
          439,
          440,
          441,
          442,
          443,
          444,
          445,
          446,
          447,
          448,
          449,
          450,
          451,
          452,
          453,
          454,
          455,
          456,
          457,
          458,
          459,
          460,
          461,
          462,
          463,
          464,
          465,
          466,
          467,
          468,
          469,
          470,
          471,
          472,
          473,
          474,
          475,
          476,
          477,
          478,
          479,
          480,
          481,
          482,
          483,
          484,
          485,
          486,
          487,
          488,
          489,
          490,
          491,
          492,
          493,
          494,
          495,
          496,
          497,
          498,
          499,
          500
         ],
         "y": [
          2.881685011065251,
          2.847108344967797,
          2.882431188345739,
          2.778933848030328,
          2.9944577427709196,
          2.805344032990005,
          2.9410242527845107,
          2.8133401485558767,
          2.8306429189361624,
          2.815098436026485,
          2.8772908060622213,
          2.86149901830268,
          2.8693314250063016,
          2.8195104511300055,
          2.959470321641659,
          2.6431960620907753,
          2.8401015043484548,
          2.7941913122505087,
          2.7547664299956707,
          2.7454256293678787,
          2.754136802534157,
          2.6924530804736007,
          2.826704434993974,
          2.8771386534227696,
          2.7691046662739054,
          2.8595485507820864,
          2.7806058841243204,
          2.811939831576768,
          2.745763994297147,
          2.65019547497128,
          2.8828112102099364,
          2.9601047912758816,
          2.913958629012217,
          2.7227975022211863,
          2.880111514293849,
          2.678887601588745,
          2.9279338952267966,
          2.708504292080933,
          2.816514463796007,
          2.7954743092664267,
          2.822385487621881,
          2.932758668915959,
          2.8260050877753784,
          2.8937869248381354,
          2.909201004183883,
          2.8142642555110466,
          2.7803695261407277,
          2.7247139069692845,
          2.8578669604919815,
          2.888981386633909,
          2.7684410014905625,
          2.862926429568661,
          2.8463149646119454,
          2.8603999495115464,
          2.8637507805058333,
          2.867705338526327,
          2.7797175236112626,
          2.7073234163307243,
          2.9063857339621255,
          2.8076973241322993,
          2.94907533933352,
          2.673832299228769,
          2.7866345471641147,
          2.764683918611913,
          2.8090087891532023,
          2.828714747313132,
          2.9174892132330927,
          2.9697052038956753,
          2.8566618345104904,
          2.8132323489544566,
          2.9326763237823052,
          2.8641290428623676,
          2.6029991201856966,
          2.8295598908312853,
          2.892759687709879,
          2.9776338031108938,
          2.8483882226212227,
          2.8706739328667954,
          2.7436568717686396,
          2.943033607414904,
          2.787176184474683,
          3.019888202104915,
          2.975942639259717,
          2.8407982900329065,
          2.797513752761872,
          2.891073945901389,
          2.8200689669765726,
          2.9502961362991287,
          2.9228061114336463,
          2.8242094972052407,
          2.7940829669287623,
          2.7009859666429366,
          2.925526224029525,
          2.7252129843148083,
          2.709207549144218,
          2.743872302736426,
          2.911399757036258,
          2.951453686738882,
          2.7063121144891022,
          2.7777116159159667,
          2.9233060177540455,
          2.922788394148533,
          2.8313824545262514,
          2.7216954317170168,
          2.8659482590440764,
          2.6583083809184744,
          2.803463591905591,
          2.854382737893361,
          2.9049706312656656,
          2.821299064300053,
          2.8034107163268547,
          2.8337605846493443,
          2.7349176366375545,
          2.754621095393724,
          2.866982803448303,
          2.905776511774627,
          2.8626752902120756,
          2.767582136446704,
          2.8160160514391075,
          2.9154023188415836,
          2.898192654594424,
          2.8297288018734243,
          2.808987461240662,
          2.7991028067494947,
          2.892422169601317,
          2.9084006635089836,
          2.828728359098908,
          3.0007699764161067,
          2.8840411749847217,
          2.86658467557129,
          2.83723556921496,
          2.880687812863517,
          2.772044714165961,
          2.8907206283840923,
          2.784305837757845,
          2.8662408848223273,
          2.7380985605572614,
          2.869426032239088,
          2.9910332490500404,
          2.9899980380492006,
          2.8912414073225676,
          2.9643024526172166,
          2.83834570675752,
          2.919524318028646,
          2.9312614201858542,
          2.83420207389695,
          2.8947594244428974,
          2.878253421691587,
          2.9465898391971677,
          2.8180610803767827,
          2.7626319931476604,
          2.9259077790331895,
          2.8831805038219924,
          2.837293144765073,
          2.893854509428255,
          2.924815347265452,
          2.853317812822553,
          2.798808416017417,
          2.813467799567862,
          2.859675666811203,
          2.750357357563899,
          2.8333772294993866,
          2.843616787382042,
          2.779893307245912,
          2.8791156322248876,
          2.7554419959543557,
          2.939598309123804,
          2.8657122284279604,
          2.848663888928437,
          2.836694609135542,
          2.915002185415948,
          2.8180785232687118,
          2.9129973817388275,
          2.862592620674559,
          2.8687902859069276,
          2.775660206462288,
          2.8898663683071555,
          2.897590921001807,
          2.9529460478847374,
          3.045233553293244,
          2.779753116709787,
          2.870727726710952,
          2.8620785335566157,
          2.8088489057823325,
          2.927336533477805,
          2.8595703545756974,
          2.7872002963072253,
          2.7665573388799833,
          2.9246373944596917,
          2.90908441939912,
          2.7956568574149663,
          2.734948250935945,
          2.826073079344527,
          2.783236584534282,
          2.838798794799189,
          2.9445847174342163,
          2.7293066286103076,
          2.857458134655652,
          2.760007381856545,
          2.8079805262846964,
          2.821851782927928,
          2.9235495395822775,
          2.9209585660691113,
          2.7918316067721576,
          2.81022222161839,
          2.919020992665625,
          2.7664912226824256,
          2.8071275752700724,
          2.9446138878162493,
          2.7731049689207814,
          2.7696180851728474,
          2.7937779727561103,
          2.8787502931352393,
          2.7801769351490013,
          2.8109178562535093,
          2.847102504033474,
          2.815731099586657,
          2.891873992034824,
          2.857584538030939,
          2.756421935979661,
          2.924212640148596,
          2.78375190519969,
          2.9261718569558632,
          2.806548996964907,
          2.8424570891057472,
          2.7108138965318136,
          2.846264026316311,
          2.815378235448971,
          2.770433468995808,
          2.8305305051381446,
          2.9285585485000016,
          2.893395068270242,
          2.9304335170561586,
          2.812225336230026,
          2.7801912346829374,
          2.8585536787631973,
          2.7522751240768972,
          2.863038598177176,
          2.7659653015775363,
          2.9122606906144175,
          2.818974485389538,
          2.84252083685679,
          2.845591178369567,
          2.9539747396538187,
          2.7752470194366907,
          2.7985739964899694,
          2.874744140103618,
          2.7665317729638814,
          2.815707517107448,
          2.9494723555458693,
          2.9726181626690233,
          2.9227896155985054,
          2.8393034986868613,
          2.8723874875290596,
          2.8944730738190514,
          2.880269030459722,
          2.839778531653112,
          2.894521177982987,
          2.8459195878170243,
          2.7821339591490446,
          2.903310001647127,
          2.7001154667234557,
          2.97535370722511,
          2.8540650464343202,
          3.0259327554949307,
          2.914303440940172,
          2.823512753675494,
          2.806445501053333,
          2.765072394134555,
          3.015121053869079,
          2.805493961318965,
          2.72898210798308,
          2.8175985179073044,
          2.740709643381501,
          2.860737041179533,
          2.7848071185509724,
          2.956932749156403,
          2.817825813920702,
          2.82193123060046,
          2.791788989228211,
          2.8251680236231547,
          2.920952118757436,
          2.7727266645707487,
          2.8369682352010295,
          2.755818071274967,
          2.763493856323844,
          2.7220711320868465,
          2.862044784374206,
          2.8563641532289625,
          2.713067720678433,
          2.811168839171244,
          2.7870579903890254,
          2.716459733907448,
          2.7695567805859342,
          2.729600969153319,
          2.7469865245827494,
          2.840685236788986,
          2.8441394932779076,
          2.928951272887979,
          2.824627510826516,
          2.6774218598687223,
          2.765439179327057,
          2.8321123421192773,
          2.9752434442535325,
          2.9977705752618187,
          2.771606098226186,
          2.905325612151675,
          2.8180967305801436,
          2.639346324337612,
          2.883872017518089,
          2.7830795206711922,
          2.7953732992957914,
          2.89244726344495,
          2.8919689963867454,
          3.0162815348686203,
          2.7707038877138936,
          2.7983720452823406,
          2.610204041920709,
          2.907605338778948,
          2.8123180009785145,
          2.7484504309051245,
          2.7888990717843307,
          2.897839880308075,
          2.6942836276637996,
          2.9249285930549367,
          2.986901907727853,
          2.720798291480625,
          2.834990734971837,
          2.767147753004056,
          2.6694583101191474,
          2.81822704120205,
          2.7722009030233523,
          2.764011737665554,
          2.783218533635349,
          2.7188377633680503,
          2.768381585448291,
          2.857931757057722,
          2.8953029649353956,
          2.742490129931804,
          2.778631249699329,
          2.8887074799190153,
          2.9654124265620165,
          2.6708407280892796,
          2.828053452579804,
          2.8875678584543376,
          2.782068536122695,
          2.863559657706463,
          2.7928864074627215,
          2.852811225268547,
          2.942264743757305,
          2.972875230420026,
          2.7413240235536067,
          2.8214647497903154,
          2.796284016413913,
          2.8707363149135383,
          2.796854172659389,
          2.7109964243418903,
          2.861844878425279,
          2.822281871129384,
          2.932407243725842,
          2.8556703390816254,
          2.804567271528756,
          2.7019902685626938,
          3.004148929658138,
          2.7238308881220643,
          2.8893170510184634,
          2.9416541985877798,
          2.7229797339604254,
          2.9793420441106724,
          2.821939114796974,
          2.817018803437913,
          2.8324503850720193,
          2.7970484156480135,
          3.023184344479591,
          2.8420312526196456,
          2.946651648362047,
          2.8432278299150187,
          2.816017009556707,
          2.8329369583670716,
          2.8133224198261337,
          2.7633552806201864,
          2.8192014651191517,
          2.87912763472075,
          2.938714075797382,
          2.846907240255604,
          2.7663797375042387,
          2.755125285692509,
          2.8220521637520535,
          2.7648572456361666,
          2.800483473842119,
          2.921979219047307,
          2.9124673656676556,
          2.7124497903512896,
          2.9341976077742458,
          2.70689017189413,
          2.860913583172427,
          2.8703005514144,
          2.7485011775853434,
          2.8694068177774046,
          2.813403267099114,
          2.9683513703510456,
          2.796757769886859,
          2.8188013760484063,
          2.9025140103019327,
          2.840186895479174,
          2.7829722719805847,
          2.710966970043551,
          2.891704551624709,
          2.6933411937057263,
          2.681706071150221,
          2.756375843964206,
          2.821800359624134,
          2.846839187948679,
          2.8856065854757773,
          2.7200567159643483,
          2.822961929424979,
          2.8802778037227905,
          2.967211781220415,
          2.8452635033398264,
          2.803542828078307,
          2.717118366113424,
          2.838186930163923,
          2.835657330270482,
          2.8426584447540395,
          2.7132466509979896,
          2.8077709439533116,
          2.903242465619899,
          2.7900914434689477,
          2.8254269025675702,
          2.8058039920824775,
          3.015514717788938,
          2.9400349650466353,
          2.8854987225562763,
          2.9292311816995182,
          2.871424837956556,
          2.8381494373756087,
          2.863482044278601,
          2.9264896249860612,
          2.7560434747969342,
          2.93083353858758,
          2.7714304001921684,
          2.852044636394396,
          2.8938279499536397,
          2.820316214150956,
          2.9023036961170194,
          2.8882670039045193,
          2.891630047621551,
          2.9259152310447933,
          2.6568369616434953,
          2.796306159057492,
          2.897804459985022,
          2.7786670552865083,
          2.8257803218794093,
          2.744228294697096,
          2.926184912490801,
          2.6871088007378745,
          2.9281178791155376,
          2.76805885786213,
          2.8673382805779997,
          2.7276749630379395,
          2.7645152814349965,
          2.607269442465977,
          2.810371470386383,
          2.6891125041521717,
          2.8862692301836863,
          2.7870564874395867,
          3.0268619736177746,
          2.8335620015980916,
          2.7105964600249184,
          2.7364729553399942,
          2.893779681392458,
          2.774962223249672,
          3.0257423511440833,
          2.8319796557976704,
          2.8328431035390946,
          2.7502901162762585,
          2.699008583280809,
          2.7794084408458044,
          2.770545746633496,
          2.8531722654759513,
          2.954474202841291,
          2.8735976437097888,
          2.822804813974093,
          2.807597409331038,
          2.794684299498378,
          2.689276723417184,
          2.8409442415339425,
          2.885228178355714,
          2.74657058547166,
          2.797677024817229,
          2.867112170265517,
          2.816434902389018,
          2.8929187924692483,
          2.7702888104869885,
          2.833489115517785,
          2.8582223480808326,
          2.8016512267987816,
          2.9953755306887366,
          2.8053692082024737,
          2.7700282077484037
         ]
        },
        {
         "line": {
          "color": "lightblue"
         },
         "mode": "lines",
         "showlegend": false,
         "type": "scatter",
         "x": [
          0,
          1,
          2,
          3,
          4,
          5,
          6,
          7,
          8,
          9,
          10,
          11,
          12,
          13,
          14,
          15,
          16,
          17,
          18,
          19,
          20,
          21,
          22,
          23,
          24,
          25,
          26,
          27,
          28,
          29,
          30,
          31,
          32,
          33,
          34,
          35,
          36,
          37,
          38,
          39,
          40,
          41,
          42,
          43,
          44,
          45,
          46,
          47,
          48,
          49,
          50,
          51,
          52,
          53,
          54,
          55,
          56,
          57,
          58,
          59,
          60,
          61,
          62,
          63,
          64,
          65,
          66,
          67,
          68,
          69,
          70,
          71,
          72,
          73,
          74,
          75,
          76,
          77,
          78,
          79,
          80,
          81,
          82,
          83,
          84,
          85,
          86,
          87,
          88,
          89,
          90,
          91,
          92,
          93,
          94,
          95,
          96,
          97,
          98,
          99,
          100,
          101,
          102,
          103,
          104,
          105,
          106,
          107,
          108,
          109,
          110,
          111,
          112,
          113,
          114,
          115,
          116,
          117,
          118,
          119,
          120,
          121,
          122,
          123,
          124,
          125,
          126,
          127,
          128,
          129,
          130,
          131,
          132,
          133,
          134,
          135,
          136,
          137,
          138,
          139,
          140,
          141,
          142,
          143,
          144,
          145,
          146,
          147,
          148,
          149,
          150,
          151,
          152,
          153,
          154,
          155,
          156,
          157,
          158,
          159,
          160,
          161,
          162,
          163,
          164,
          165,
          166,
          167,
          168,
          169,
          170,
          171,
          172,
          173,
          174,
          175,
          176,
          177,
          178,
          179,
          180,
          181,
          182,
          183,
          184,
          185,
          186,
          187,
          188,
          189,
          190,
          191,
          192,
          193,
          194,
          195,
          196,
          197,
          198,
          199,
          200,
          201,
          202,
          203,
          204,
          205,
          206,
          207,
          208,
          209,
          210,
          211,
          212,
          213,
          214,
          215,
          216,
          217,
          218,
          219,
          220,
          221,
          222,
          223,
          224,
          225,
          226,
          227,
          228,
          229,
          230,
          231,
          232,
          233,
          234,
          235,
          236,
          237,
          238,
          239,
          240,
          241,
          242,
          243,
          244,
          245,
          246,
          247,
          248,
          249,
          250,
          251,
          252,
          253,
          254,
          255,
          256,
          257,
          258,
          259,
          260,
          261,
          263,
          264,
          265,
          266,
          267,
          268,
          269,
          270,
          271,
          272,
          273,
          274,
          275,
          276,
          277,
          278,
          279,
          280,
          281,
          282,
          283,
          284,
          285,
          286,
          287,
          288,
          289,
          290,
          291,
          292,
          293,
          294,
          295,
          296,
          297,
          298,
          299,
          300,
          301,
          302,
          303,
          304,
          305,
          306,
          307,
          308,
          309,
          310,
          311,
          312,
          313,
          314,
          315,
          316,
          317,
          318,
          319,
          320,
          321,
          322,
          323,
          324,
          325,
          326,
          327,
          328,
          329,
          330,
          331,
          332,
          333,
          334,
          335,
          336,
          337,
          338,
          339,
          340,
          341,
          342,
          343,
          344,
          345,
          346,
          347,
          348,
          349,
          350,
          351,
          352,
          353,
          354,
          355,
          356,
          357,
          358,
          359,
          360,
          361,
          362,
          363,
          364,
          365,
          366,
          367,
          368,
          369,
          370,
          371,
          372,
          373,
          374,
          375,
          376,
          377,
          378,
          379,
          380,
          381,
          382,
          383,
          384,
          385,
          386,
          387,
          388,
          389,
          390,
          391,
          392,
          393,
          394,
          395,
          396,
          397,
          398,
          399,
          400,
          401,
          402,
          403,
          404,
          405,
          406,
          407,
          408,
          409,
          410,
          411,
          412,
          413,
          414,
          415,
          416,
          417,
          418,
          419,
          420,
          421,
          422,
          423,
          424,
          425,
          426,
          427,
          428,
          429,
          430,
          431,
          432,
          433,
          434,
          435,
          436,
          437,
          438,
          439,
          440,
          441,
          442,
          443,
          444,
          445,
          446,
          447,
          448,
          449,
          450,
          451,
          452,
          453,
          454,
          455,
          456,
          457,
          458,
          459,
          460,
          461,
          462,
          463,
          464,
          465,
          466,
          467,
          468,
          469,
          470,
          471,
          472,
          473,
          474,
          475,
          476,
          477,
          478,
          479,
          480,
          481,
          482,
          483,
          484,
          485,
          486,
          487,
          488,
          489,
          490,
          491,
          492,
          493,
          494,
          495,
          496,
          497,
          498,
          499,
          500
         ],
         "y": [
          2.9571800225230502,
          2.917173273107225,
          2.9434192726434527,
          2.849614972678344,
          3.0756427881752693,
          2.873054233921597,
          3.0212819100769783,
          2.889574421923972,
          2.900167730973159,
          2.8805407244813708,
          2.9453952274604425,
          2.925437954306419,
          2.941917985043444,
          2.884435925570394,
          3.0381314315875523,
          2.7231247488254375,
          2.906652666425871,
          2.867588395836164,
          2.8397084150779204,
          2.794117546902003,
          2.8271191010413235,
          2.7673592108148384,
          2.8919920545793913,
          2.971691508590761,
          2.828856980709407,
          2.9251292908174458,
          2.844595231195969,
          2.874522329496543,
          2.808802197952021,
          2.7203893690001193,
          2.9486975733051866,
          3.014780602272615,
          2.960643119502864,
          2.7786797571616133,
          2.9322240537746693,
          2.753703124914893,
          2.983399568453196,
          2.7677953178709167,
          2.8691504426487797,
          2.8457749371840815,
          2.890350541652042,
          2.9917018837126985,
          2.882751864553765,
          2.9609713120584225,
          2.9697573448744556,
          2.87859679230075,
          2.850988419909379,
          2.7879512509537996,
          2.920327183853416,
          2.955801467451059,
          2.828171810076854,
          2.944973713292322,
          2.9191624819266475,
          2.922421034415351,
          2.925778313368138,
          2.9231226670020836,
          2.8274105620101633,
          2.7642465776204186,
          2.971446909482889,
          2.8626528857092195,
          3.017039336103027,
          2.743871622511667,
          2.847649402778908,
          2.852908226387275,
          2.879152054032363,
          2.898363451740567,
          3.008530330998075,
          3.065164015708017,
          2.914536115645926,
          2.8756401657554536,
          3.0177920594347483,
          2.9439679819930107,
          2.6778637845389146,
          2.878411550907582,
          2.976188836346403,
          3.043063340422856,
          2.911691702708268,
          2.9356956755549906,
          2.819012609740949,
          2.9990247806288317,
          2.8651504710050193,
          3.0788629093968836,
          3.0350109706905766,
          2.8950881373990143,
          2.853419040680272,
          2.9418895694077403,
          2.8848948716620324,
          3.011682942411744,
          2.9926299609361973,
          2.8867558483074385,
          2.8463827601938085,
          2.7648532400263366,
          2.983350560964791,
          2.7787662815713468,
          2.776745430526492,
          2.799849211273538,
          2.9698577738562566,
          3.0085445970125,
          2.7577827887832895,
          2.846542700901798,
          2.9855234484579163,
          2.990567824855067,
          2.9014645137986768,
          2.779322605416619,
          2.938273921897851,
          2.7315607179098564,
          2.858024494116785,
          2.919209114259185,
          2.971653762532539,
          2.8884649631360526,
          2.8750947214643903,
          2.9109564651624336,
          2.7929170511150647,
          2.813521148797515,
          2.95019514550363,
          2.9716047845663556,
          2.9269324431241603,
          2.8348525402413918,
          2.8780063685133417,
          2.9845236160811797,
          2.9519923434615056,
          2.8839488206984,
          2.878716657961644,
          2.871119018852232,
          2.9799805133299615,
          2.9547960345941044,
          2.8961965261926954,
          3.04693610570612,
          2.9274367550092486,
          2.9219670188659315,
          2.895077067217567,
          2.9629860342201733,
          2.8429498830857156,
          2.9508315665710696,
          2.8377569083288003,
          2.9370876846037444,
          2.8172254121436526,
          2.9389299775030384,
          3.0425224339287755,
          3.0377902068819043,
          2.9638977376379425,
          3.008150812441127,
          2.908436352599259,
          2.9817499262647784,
          2.9918877397150663,
          2.8993226342480587,
          2.9938840603655867,
          2.9258813087094757,
          2.9930480736578593,
          2.8552730686546677,
          2.8254081001187554,
          2.9899718307474825,
          2.941151762499715,
          2.912942193549481,
          2.9607753136949873,
          2.9951265965683707,
          2.9171118537285006,
          2.8426528340297237,
          2.877614568869386,
          2.9193210062695765,
          2.814235554379071,
          2.8967801562667637,
          2.9095309515001215,
          2.826255706744705,
          2.9579353261504022,
          2.819355939100552,
          3.0042009408041466,
          2.930662730771526,
          2.9065314765338193,
          2.8840160572238838,
          2.982460498111121,
          2.8686997278168516,
          2.990414642204792,
          2.9318306483698797,
          2.934160219165209,
          2.8422595310266434,
          2.943050313207641,
          2.95085541317551,
          3.026114053389585,
          3.0929204800960366,
          2.870231165048808,
          2.956451936218728,
          2.9203805695402223,
          2.8838610289220403,
          2.9991784900221172,
          2.9382141982358423,
          2.864092760196642,
          2.8407711188160323,
          2.986042528213914,
          2.9728139865813414,
          2.8707463874351395,
          2.7987477324106527,
          2.885977289434797,
          2.836232588994993,
          2.897348559744678,
          3.0284884112325963,
          2.810159162150855,
          2.9521915433327024,
          2.8312949824305695,
          2.885465819748817,
          2.9074271765880715,
          2.986688240985005,
          2.9815506255414332,
          2.868729810831052,
          2.8969130537696475,
          2.988636190854333,
          2.8240408046797714,
          2.8791216881872734,
          3.029339762037326,
          2.8469347436857455,
          2.8337991917183616,
          2.8514634852692238,
          2.9336245136065746,
          2.8407933715639704,
          2.909255578891302,
          2.921034558340697,
          2.8495959468984924,
          2.9365882024868983,
          2.896075252493905,
          2.8160917103264955,
          2.9861468161245814,
          2.857850806065489,
          2.98778471355185,
          2.8521311317277114,
          2.9187968888699714,
          2.7686241301130643,
          2.9308664611653654,
          2.895825583954568,
          2.8093636289345247,
          2.891847341821879,
          2.9926647706324205,
          2.958685848487401,
          2.995530884940938,
          2.8782287690039876,
          2.8576819097268875,
          2.933271957731152,
          2.826571517202259,
          2.952044141561726,
          2.845088486273083,
          2.966055471665769,
          2.89400216576529,
          2.9301735706961227,
          2.911187281486281,
          3.0279229179563223,
          2.8501351937644865,
          2.86198148675538,
          2.942567637461468,
          2.8206608735212613,
          2.883015861197767,
          3.0445037334691474,
          3.0584446850176707,
          2.986222795419506,
          2.9385818298389985,
          2.945541107825411,
          2.9616275140470494,
          2.940263076734129,
          2.8893580891429984,
          2.9432740241230375,
          2.9045801713412893,
          2.836706721140548,
          2.9890727703235367,
          2.782434857851497,
          3.0357764845622945,
          2.920523495818369,
          3.0846167730088867,
          2.984824693457545,
          2.897105036678637,
          2.9018418892495026,
          2.8245320288273073,
          3.0702140648707323,
          2.8603004270099204,
          2.7745991893460102,
          2.883298382458592,
          2.821868433810723,
          2.910803491292435,
          2.8531865397154146,
          3.0129146269376075,
          2.902336703728019,
          2.9030573809684177,
          2.853332053523851,
          2.9001401995303344,
          2.976528903291768,
          2.8677548511408224,
          2.893783987911611,
          2.794443935767344,
          2.821280746180816,
          2.791250221533889,
          2.9161482959183362,
          2.9133391074084694,
          2.7990610974731194,
          2.8864215114239498,
          2.857214745201813,
          2.7667342750422015,
          2.8632182583492956,
          2.8015958541202886,
          2.81782866575429,
          2.928408140578294,
          2.9050899869748243,
          2.9946568754310996,
          2.880954944830389,
          2.7459190105342093,
          2.8543707246154426,
          2.879666114025363,
          3.0242309080143057,
          3.0838092590168302,
          2.8488515405534955,
          2.959867478196666,
          2.870025306441198,
          2.7000038441842737,
          2.957680223306561,
          2.8350710590628707,
          2.858840472333894,
          2.958094585559161,
          2.9460455680543687,
          3.063842155328909,
          2.8447964188934773,
          2.860319848987524,
          2.6545178542414547,
          2.983982092647248,
          2.8677753922923706,
          2.825137116535057,
          2.8498084824385614,
          2.972094392778096,
          2.7777944782596973,
          2.9918580059781448,
          3.035320357431114,
          2.7935029993306566,
          2.9058623984247447,
          2.823768366564005,
          2.7455408351296446,
          2.8856647726391276,
          2.8335376577608336,
          2.83085042766865,
          2.8556711601201727,
          2.7723611277383555,
          2.8129102407000928,
          2.908209361894991,
          2.9535662799187667,
          2.806779166550034,
          2.8361900372078632,
          2.9500773540529703,
          3.0439108968569455,
          2.7366630861351022,
          2.8868754415065934,
          2.9441203019875855,
          2.860851650111034,
          2.922653863203123,
          2.8581732140079357,
          2.9293485961804535,
          3.0332127654536616,
          3.0398663928058034,
          2.812076522547632,
          2.912063876106351,
          2.8465147355709104,
          2.9300479785526727,
          2.870346881133615,
          2.7901552918347092,
          2.9123747084473948,
          2.880920284288665,
          2.984761601534512,
          2.9258145547193806,
          2.870349811851698,
          2.7667606636824207,
          3.072566058784121,
          2.7888929160451283,
          2.9479154641386662,
          2.989908889872779,
          2.7923766521793008,
          3.0304180472445936,
          2.892317879947824,
          2.872199213264462,
          2.8986844126667504,
          2.860150465159263,
          3.0797405996421436,
          2.919162631874278,
          3.006298937300279,
          2.910055889428501,
          2.892835052019605,
          2.903686509001104,
          2.875232626454009,
          2.8218822543511526,
          2.889900496442163,
          2.9565240716698478,
          2.986934364366516,
          2.9082126610630956,
          2.822559952913313,
          2.814622832699353,
          2.8910817802060134,
          2.846394912209586,
          2.854383794382353,
          3.001971530374015,
          2.9691236772954617,
          2.7759226932060828,
          3.008175968204284,
          2.766777686600858,
          2.90776587200612,
          2.923036388573394,
          2.7986713642688748,
          2.92359352813433,
          2.8739153909601733,
          3.02914697103121,
          2.850502716108864,
          2.8734062829512927,
          2.96092619652297,
          2.9004284282206494,
          2.8537665281207465,
          2.780301058070136,
          2.9257194762430663,
          2.75311354353628,
          2.744500616148411,
          2.824286133885817,
          2.8752943506134514,
          2.9014971950525905,
          2.948413738201673,
          2.767883317483944,
          2.873432974587927,
          2.949805910290102,
          3.0176677872104594,
          2.894019362431736,
          2.8571226944139125,
          2.7803923066230642,
          2.8916934391315787,
          2.90115220933479,
          2.9038744002335055,
          2.7890710734790436,
          2.859802570096426,
          2.9615712598127355,
          2.8422937210642143,
          2.886744643624899,
          2.8689877512342186,
          3.0963962999706576,
          2.996897416128005,
          2.9452445713109228,
          2.9908539369089264,
          2.9199436933554352,
          2.8975945194070944,
          2.927276950114531,
          2.9833618635869152,
          2.808200447581278,
          3.012026460062207,
          2.8398178876791746,
          2.9112669444518344,
          2.9352494674501246,
          2.9247629555361385,
          2.9664007674783175,
          2.9574090607237284,
          2.970725557046738,
          2.9892257520629633,
          2.718979455019936,
          2.843244277104198,
          2.967208894460335,
          2.8472629003871885,
          2.8803537675764703,
          2.795579093048283,
          2.974390857480351,
          2.749008494880092,
          2.9875286945861705,
          2.813523275078699,
          2.907840328674114,
          2.80094273662744,
          2.829462437584017,
          2.668605030870239,
          2.874521170102881,
          2.752429529101167,
          2.9693751774428083,
          2.84541312921313,
          3.079514123792721,
          2.9354636979349347,
          2.774814220539261,
          2.8077560091411056,
          2.945068861775551,
          2.864735235179716,
          3.0814124721330862,
          2.9001709125490147,
          2.925771364821115,
          2.8025081540477883,
          2.751277682387518,
          2.858061970723578,
          2.8280405253764727,
          2.946336865663639,
          3.018568643178028,
          2.9576308419239297,
          2.8928992429318394,
          2.8584225606898945,
          2.8633084806150615,
          2.749971897730711,
          2.897700634132757,
          2.955974613039983,
          2.836588580866438,
          2.860735448190904,
          2.9325442137257913,
          2.8658427107166813,
          2.958586552590435,
          2.8239798027310585,
          2.9115465294433576,
          2.9251957083449778,
          2.8647020096575018,
          3.0535526340454906,
          2.872332509972391,
          2.8314225879956103
         ]
        },
        {
         "fill": "tonexty",
         "line": {
          "color": "lightblue"
         },
         "mode": "lines",
         "name": "Confidence Interval",
         "type": "scatter",
         "x": [
          0,
          1,
          2,
          3,
          4,
          5,
          6,
          7,
          8,
          9,
          10,
          11,
          12,
          13,
          14,
          15,
          16,
          17,
          18,
          19,
          20,
          21,
          22,
          23,
          24,
          25,
          26,
          27,
          28,
          29,
          30,
          31,
          32,
          33,
          34,
          35,
          36,
          37,
          38,
          39,
          40,
          41,
          42,
          43,
          44,
          45,
          46,
          47,
          48,
          49,
          50,
          51,
          52,
          53,
          54,
          55,
          56,
          57,
          58,
          59,
          60,
          61,
          62,
          63,
          64,
          65,
          66,
          67,
          68,
          69,
          70,
          71,
          72,
          73,
          74,
          75,
          76,
          77,
          78,
          79,
          80,
          81,
          82,
          83,
          84,
          85,
          86,
          87,
          88,
          89,
          90,
          91,
          92,
          93,
          94,
          95,
          96,
          97,
          98,
          99,
          100,
          101,
          102,
          103,
          104,
          105,
          106,
          107,
          108,
          109,
          110,
          111,
          112,
          113,
          114,
          115,
          116,
          117,
          118,
          119,
          120,
          121,
          122,
          123,
          124,
          125,
          126,
          127,
          128,
          129,
          130,
          131,
          132,
          133,
          134,
          135,
          136,
          137,
          138,
          139,
          140,
          141,
          142,
          143,
          144,
          145,
          146,
          147,
          148,
          149,
          150,
          151,
          152,
          153,
          154,
          155,
          156,
          157,
          158,
          159,
          160,
          161,
          162,
          163,
          164,
          165,
          166,
          167,
          168,
          169,
          170,
          171,
          172,
          173,
          174,
          175,
          176,
          177,
          178,
          179,
          180,
          181,
          182,
          183,
          184,
          185,
          186,
          187,
          188,
          189,
          190,
          191,
          192,
          193,
          194,
          195,
          196,
          197,
          198,
          199,
          200,
          201,
          202,
          203,
          204,
          205,
          206,
          207,
          208,
          209,
          210,
          211,
          212,
          213,
          214,
          215,
          216,
          217,
          218,
          219,
          220,
          221,
          222,
          223,
          224,
          225,
          226,
          227,
          228,
          229,
          230,
          231,
          232,
          233,
          234,
          235,
          236,
          237,
          238,
          239,
          240,
          241,
          242,
          243,
          244,
          245,
          246,
          247,
          248,
          249,
          250,
          251,
          252,
          253,
          254,
          255,
          256,
          257,
          258,
          259,
          260,
          261,
          263,
          264,
          265,
          266,
          267,
          268,
          269,
          270,
          271,
          272,
          273,
          274,
          275,
          276,
          277,
          278,
          279,
          280,
          281,
          282,
          283,
          284,
          285,
          286,
          287,
          288,
          289,
          290,
          291,
          292,
          293,
          294,
          295,
          296,
          297,
          298,
          299,
          300,
          301,
          302,
          303,
          304,
          305,
          306,
          307,
          308,
          309,
          310,
          311,
          312,
          313,
          314,
          315,
          316,
          317,
          318,
          319,
          320,
          321,
          322,
          323,
          324,
          325,
          326,
          327,
          328,
          329,
          330,
          331,
          332,
          333,
          334,
          335,
          336,
          337,
          338,
          339,
          340,
          341,
          342,
          343,
          344,
          345,
          346,
          347,
          348,
          349,
          350,
          351,
          352,
          353,
          354,
          355,
          356,
          357,
          358,
          359,
          360,
          361,
          362,
          363,
          364,
          365,
          366,
          367,
          368,
          369,
          370,
          371,
          372,
          373,
          374,
          375,
          376,
          377,
          378,
          379,
          380,
          381,
          382,
          383,
          384,
          385,
          386,
          387,
          388,
          389,
          390,
          391,
          392,
          393,
          394,
          395,
          396,
          397,
          398,
          399,
          400,
          401,
          402,
          403,
          404,
          405,
          406,
          407,
          408,
          409,
          410,
          411,
          412,
          413,
          414,
          415,
          416,
          417,
          418,
          419,
          420,
          421,
          422,
          423,
          424,
          425,
          426,
          427,
          428,
          429,
          430,
          431,
          432,
          433,
          434,
          435,
          436,
          437,
          438,
          439,
          440,
          441,
          442,
          443,
          444,
          445,
          446,
          447,
          448,
          449,
          450,
          451,
          452,
          453,
          454,
          455,
          456,
          457,
          458,
          459,
          460,
          461,
          462,
          463,
          464,
          465,
          466,
          467,
          468,
          469,
          470,
          471,
          472,
          473,
          474,
          475,
          476,
          477,
          478,
          479,
          480,
          481,
          482,
          483,
          484,
          485,
          486,
          487,
          488,
          489,
          490,
          491,
          492,
          493,
          494,
          495,
          496,
          497,
          498,
          499,
          500
         ],
         "y": [
          2.8061899996074517,
          2.777043416828369,
          2.8214431040480252,
          2.708252723382312,
          2.91327269736657,
          2.7376338320584126,
          2.860766595492043,
          2.7371058751877815,
          2.7611181068991657,
          2.7496561475715993,
          2.809186384664,
          2.7975600822989413,
          2.7967448649691593,
          2.754584976689617,
          2.880809211695766,
          2.563267375356113,
          2.7735503422710384,
          2.7207942286648534,
          2.669824444913421,
          2.696733711833754,
          2.68115450402699,
          2.617546950132363,
          2.7614168154085568,
          2.7825857982547784,
          2.7093523518384037,
          2.793967810746727,
          2.716616537052672,
          2.749357333656993,
          2.682725790642273,
          2.580001580942441,
          2.816924847114686,
          2.905428980279148,
          2.86727413852157,
          2.6669152472807593,
          2.827998974813029,
          2.6040720782625972,
          2.872468222000397,
          2.649213266290949,
          2.7638784849432345,
          2.745173681348772,
          2.7544204335917195,
          2.873815454119219,
          2.769258310996992,
          2.8266025376178483,
          2.8486446634933102,
          2.7499317187213435,
          2.7097506323720766,
          2.6614765629847694,
          2.795406737130547,
          2.8221613058167594,
          2.708710192904271,
          2.7808791458449997,
          2.7734674472972434,
          2.798378864607742,
          2.8017232476435288,
          2.8122880100505703,
          2.732024485212362,
          2.65040025504103,
          2.8413245584413622,
          2.752741762555379,
          2.881111342564013,
          2.6037929759458707,
          2.7256196915493214,
          2.676459610836551,
          2.7388655242740416,
          2.759066042885697,
          2.8264480954681104,
          2.8742463920833337,
          2.7987875533750546,
          2.7508245321534597,
          2.8475605881298622,
          2.7842901037317245,
          2.5281344558324785,
          2.7807082307549886,
          2.8093305390733554,
          2.9122042657989313,
          2.7850847425341776,
          2.8056521901786002,
          2.66830113379633,
          2.887042434200976,
          2.709201897944347,
          2.9609134948129463,
          2.9168743078288575,
          2.7865084426667988,
          2.7416084648434715,
          2.840258322395038,
          2.755243062291113,
          2.888909330186513,
          2.8529822619310954,
          2.761663146103043,
          2.741783173663716,
          2.6371186932595365,
          2.8677018870942588,
          2.67165968705827,
          2.641669667761944,
          2.687895394199314,
          2.8529417402162593,
          2.894362776465264,
          2.654841440194915,
          2.7088805309301356,
          2.8610885870501748,
          2.8550089634419993,
          2.761300395253826,
          2.6640682580174144,
          2.7936225961903016,
          2.5850560439270924,
          2.748902689694397,
          2.7895563615275365,
          2.838287499998792,
          2.7541331654640535,
          2.731726711189319,
          2.756564704136255,
          2.6769182221600443,
          2.6957210419899327,
          2.7837704613929763,
          2.8399482389828985,
          2.798418137299991,
          2.7003117326520165,
          2.7540257343648733,
          2.8462810216019876,
          2.844392965727342,
          2.7755087830484486,
          2.7392582645196795,
          2.7270865946467575,
          2.804863825872672,
          2.862005292423863,
          2.7612601920051203,
          2.9546038471260934,
          2.8406455949601948,
          2.8112023322766486,
          2.7793940712123524,
          2.7983895915068606,
          2.701139545246207,
          2.830609690197115,
          2.73085476718689,
          2.7953940850409102,
          2.65897170897087,
          2.799922086975138,
          2.9395440641713053,
          2.942205869216497,
          2.8185850770071927,
          2.9204540927933063,
          2.7682550609157808,
          2.8572987097925138,
          2.870635100656642,
          2.769081513545841,
          2.795634788520208,
          2.830625534673698,
          2.900131604736476,
          2.7808490920988977,
          2.6998558861765654,
          2.8618437273188966,
          2.82520924514427,
          2.761644095980665,
          2.8269337051615224,
          2.8545040979625336,
          2.7895237719166053,
          2.7549639980051106,
          2.7493210302663376,
          2.8000303273528293,
          2.686479160748727,
          2.7699743027320096,
          2.7777026232639628,
          2.7335309077471193,
          2.800295938299373,
          2.6915280528081595,
          2.8749956774434615,
          2.800761726084395,
          2.7907963013230543,
          2.7893731610472003,
          2.8475438727207747,
          2.767457318720572,
          2.835580121272863,
          2.7933545929792385,
          2.8034203526486463,
          2.7090608818979325,
          2.83668242340667,
          2.844326428828104,
          2.8797780423798898,
          2.997546626490452,
          2.6892750683707662,
          2.785003517203176,
          2.803776497573009,
          2.7338367826426246,
          2.8554945769334927,
          2.7809265109155525,
          2.7103078324178087,
          2.6923435589439344,
          2.8632322607054697,
          2.8453548522168983,
          2.720567327394793,
          2.6711487694612375,
          2.766168869254257,
          2.7302405800735707,
          2.7802490298536995,
          2.8606810236358364,
          2.64845409506976,
          2.762724725978601,
          2.6887197812825203,
          2.7304952328205756,
          2.7362763892677844,
          2.86041083817955,
          2.8603665065967894,
          2.714933402713263,
          2.7235313894671322,
          2.849405794476917,
          2.70894164068508,
          2.7351334623528714,
          2.8598880135951728,
          2.6992751941558173,
          2.705436978627333,
          2.736092460242997,
          2.823876072663904,
          2.7195604987340323,
          2.7125801336157167,
          2.7731704497262513,
          2.781866252274822,
          2.8471597815827496,
          2.819093823567973,
          2.6967521616328263,
          2.862278464172611,
          2.709653004333891,
          2.8645590003598764,
          2.7609668622021024,
          2.766117289341523,
          2.653003662950563,
          2.7616615914672566,
          2.7349308869433737,
          2.7315033090570915,
          2.76921366845441,
          2.8644523263675827,
          2.828104288053083,
          2.8653361491713794,
          2.746221903456064,
          2.7027005596389873,
          2.7838353997952425,
          2.6779787309515353,
          2.7740330547926266,
          2.6868421168819894,
          2.858465909563066,
          2.7439468050137865,
          2.7548681030174573,
          2.779995075252853,
          2.880026561351315,
          2.700358845108895,
          2.7351665062245587,
          2.8069206427457676,
          2.7124026724065016,
          2.748399173017129,
          2.854440977622591,
          2.886791640320376,
          2.8593564357775048,
          2.740025167534724,
          2.7992338672327084,
          2.8273186335910534,
          2.820274984185315,
          2.790198974163226,
          2.8457683318429368,
          2.787259004292759,
          2.727561197157541,
          2.8175472329707176,
          2.6177960755954146,
          2.914930929887926,
          2.7876065970502717,
          2.9672487379809747,
          2.8437821884227987,
          2.7499204706723512,
          2.7110491128571637,
          2.705612759441803,
          2.960028042867426,
          2.75068749562801,
          2.68336502662015,
          2.751898653356017,
          2.6595508529522784,
          2.8106705910666308,
          2.7164276973865302,
          2.900950871375198,
          2.733314924113385,
          2.740805080232502,
          2.7302459249325706,
          2.750195847715975,
          2.865375334223104,
          2.677698478000675,
          2.7801524824904478,
          2.71719220678259,
          2.7057069664668716,
          2.652892042639804,
          2.807941272830076,
          2.7993891990494557,
          2.6270743438837467,
          2.735916166918538,
          2.7169012355762376,
          2.6661851927726947,
          2.675895302822573,
          2.6576060841863494,
          2.676144383411209,
          2.7529623329996777,
          2.783188999580991,
          2.8632456703448583,
          2.7683000768226433,
          2.6089247092032353,
          2.6765076340386713,
          2.7845585702131914,
          2.9262559804927593,
          2.911731891506807,
          2.6943606558988766,
          2.8507837461066843,
          2.7661681547190895,
          2.5786888044909504,
          2.810063811729617,
          2.7310879822795138,
          2.7319061262576887,
          2.826799941330739,
          2.837892424719122,
          2.9687209144083315,
          2.69661135653431,
          2.7364242415771574,
          2.5658902295999635,
          2.8312285849106478,
          2.7568606096646584,
          2.671763745275192,
          2.7279896611301,
          2.8235853678380542,
          2.610772777067902,
          2.8579991801317286,
          2.9384834580245918,
          2.648093583630593,
          2.7641190715189294,
          2.710527139444107,
          2.59337578510865,
          2.7507893097649725,
          2.710864148285871,
          2.697173047662458,
          2.7107659071505252,
          2.665314398997745,
          2.723852930196489,
          2.807654152220453,
          2.8370396499520245,
          2.6782010933135743,
          2.721072462190795,
          2.8273376057850603,
          2.8869139562670876,
          2.605018370043457,
          2.7692314636530146,
          2.8310154149210898,
          2.7032854221343556,
          2.804465452209803,
          2.7275996009175074,
          2.7762738543566403,
          2.851316722060948,
          2.9058840680342484,
          2.6705715245595814,
          2.73086562347428,
          2.7460532972569154,
          2.811424651274404,
          2.7233614641851633,
          2.6318375568490713,
          2.811315048403163,
          2.763643457970103,
          2.880052885917172,
          2.78552612344387,
          2.738784731205814,
          2.637219873442967,
          2.935731800532155,
          2.6587688601990003,
          2.8307186378982605,
          2.8933995073027807,
          2.65358281574155,
          2.928266040976751,
          2.751560349646124,
          2.7618383936113644,
          2.7662163574772882,
          2.733946366136764,
          2.9666280893170387,
          2.7648998733650134,
          2.887004359423815,
          2.7763997704015364,
          2.739198967093809,
          2.7621874077330393,
          2.7514122131982583,
          2.7048283068892203,
          2.7485024337961406,
          2.8017311977716526,
          2.8904937872282486,
          2.7856018194481127,
          2.7101995220951642,
          2.6956277386856646,
          2.7530225472980936,
          2.683319579062747,
          2.746583153301885,
          2.8419869077205986,
          2.8558110540398496,
          2.6489768874964965,
          2.8602192473442076,
          2.647002657187402,
          2.8140612943387335,
          2.8175647142554063,
          2.698330990901812,
          2.8152201074204792,
          2.7528911432380547,
          2.907555769670881,
          2.7430128236648543,
          2.76419646914552,
          2.8441018240808953,
          2.7799453627376987,
          2.712178015840423,
          2.6416328820169657,
          2.8576896270063514,
          2.6335688438751728,
          2.618911526152031,
          2.688465554042595,
          2.768306368634817,
          2.7921811808447674,
          2.8227994327498815,
          2.6722301144447527,
          2.772490884262031,
          2.810749697155479,
          2.9167557752303703,
          2.796507644247917,
          2.7499629617427015,
          2.653844425603784,
          2.7846804211962675,
          2.7701624512061738,
          2.7814424892745735,
          2.6374222285169355,
          2.7557393178101974,
          2.844913671427063,
          2.737889165873681,
          2.7641091615102416,
          2.7426202329307365,
          2.9346331356072186,
          2.8831725139652655,
          2.8257528738016298,
          2.86760842649011,
          2.8229059825576766,
          2.778704355344123,
          2.799687138442671,
          2.8696173863852072,
          2.7038865020125904,
          2.849640617112953,
          2.703042912705162,
          2.7928223283369578,
          2.8524064324571548,
          2.7158694727657737,
          2.8382066247557214,
          2.81912494708531,
          2.812534538196364,
          2.8626047100266234,
          2.5946944682670545,
          2.749368041010786,
          2.828400025509709,
          2.710071210185828,
          2.7712068761823483,
          2.6928774963459094,
          2.877978967501251,
          2.625209106595657,
          2.8687070636449046,
          2.7225944406455613,
          2.8268362324818854,
          2.654407189448439,
          2.699568125285976,
          2.5459338540617145,
          2.746221770669885,
          2.6257954792031764,
          2.8031632829245643,
          2.728699845666043,
          2.9742098234428282,
          2.7316603052612485,
          2.6463786995105756,
          2.665189901538883,
          2.842490501009365,
          2.685189211319628,
          2.9700722301550804,
          2.763788399046326,
          2.739914842257074,
          2.6980720785047287,
          2.6467394841741,
          2.7007549109680307,
          2.7130509678905197,
          2.7600076652882635,
          2.8903797625045544,
          2.789564445495648,
          2.752710385016347,
          2.756772257972181,
          2.726060118381694,
          2.628581549103657,
          2.784187848935128,
          2.8144817436714447,
          2.6565525900768825,
          2.734618601443554,
          2.8016801268052425,
          2.7670270940613544,
          2.8272510323480615,
          2.7165978182429185,
          2.755431701592212,
          2.7912489878166875,
          2.7386004439400615,
          2.9371984273319827,
          2.7384059064325563,
          2.708633827501197
         ]
        }
       ],
       "layout": {
        "template": {
         "data": {
          "bar": [
           {
            "error_x": {
             "color": "#2a3f5f"
            },
            "error_y": {
             "color": "#2a3f5f"
            },
            "marker": {
             "line": {
              "color": "#E5ECF6",
              "width": 0.5
             },
             "pattern": {
              "fillmode": "overlay",
              "size": 10,
              "solidity": 0.2
             }
            },
            "type": "bar"
           }
          ],
          "barpolar": [
           {
            "marker": {
             "line": {
              "color": "#E5ECF6",
              "width": 0.5
             },
             "pattern": {
              "fillmode": "overlay",
              "size": 10,
              "solidity": 0.2
             }
            },
            "type": "barpolar"
           }
          ],
          "carpet": [
           {
            "aaxis": {
             "endlinecolor": "#2a3f5f",
             "gridcolor": "white",
             "linecolor": "white",
             "minorgridcolor": "white",
             "startlinecolor": "#2a3f5f"
            },
            "baxis": {
             "endlinecolor": "#2a3f5f",
             "gridcolor": "white",
             "linecolor": "white",
             "minorgridcolor": "white",
             "startlinecolor": "#2a3f5f"
            },
            "type": "carpet"
           }
          ],
          "choropleth": [
           {
            "colorbar": {
             "outlinewidth": 0,
             "ticks": ""
            },
            "type": "choropleth"
           }
          ],
          "contour": [
           {
            "colorbar": {
             "outlinewidth": 0,
             "ticks": ""
            },
            "colorscale": [
             [
              0,
              "#0d0887"
             ],
             [
              0.1111111111111111,
              "#46039f"
             ],
             [
              0.2222222222222222,
              "#7201a8"
             ],
             [
              0.3333333333333333,
              "#9c179e"
             ],
             [
              0.4444444444444444,
              "#bd3786"
             ],
             [
              0.5555555555555556,
              "#d8576b"
             ],
             [
              0.6666666666666666,
              "#ed7953"
             ],
             [
              0.7777777777777778,
              "#fb9f3a"
             ],
             [
              0.8888888888888888,
              "#fdca26"
             ],
             [
              1,
              "#f0f921"
             ]
            ],
            "type": "contour"
           }
          ],
          "contourcarpet": [
           {
            "colorbar": {
             "outlinewidth": 0,
             "ticks": ""
            },
            "type": "contourcarpet"
           }
          ],
          "heatmap": [
           {
            "colorbar": {
             "outlinewidth": 0,
             "ticks": ""
            },
            "colorscale": [
             [
              0,
              "#0d0887"
             ],
             [
              0.1111111111111111,
              "#46039f"
             ],
             [
              0.2222222222222222,
              "#7201a8"
             ],
             [
              0.3333333333333333,
              "#9c179e"
             ],
             [
              0.4444444444444444,
              "#bd3786"
             ],
             [
              0.5555555555555556,
              "#d8576b"
             ],
             [
              0.6666666666666666,
              "#ed7953"
             ],
             [
              0.7777777777777778,
              "#fb9f3a"
             ],
             [
              0.8888888888888888,
              "#fdca26"
             ],
             [
              1,
              "#f0f921"
             ]
            ],
            "type": "heatmap"
           }
          ],
          "heatmapgl": [
           {
            "colorbar": {
             "outlinewidth": 0,
             "ticks": ""
            },
            "colorscale": [
             [
              0,
              "#0d0887"
             ],
             [
              0.1111111111111111,
              "#46039f"
             ],
             [
              0.2222222222222222,
              "#7201a8"
             ],
             [
              0.3333333333333333,
              "#9c179e"
             ],
             [
              0.4444444444444444,
              "#bd3786"
             ],
             [
              0.5555555555555556,
              "#d8576b"
             ],
             [
              0.6666666666666666,
              "#ed7953"
             ],
             [
              0.7777777777777778,
              "#fb9f3a"
             ],
             [
              0.8888888888888888,
              "#fdca26"
             ],
             [
              1,
              "#f0f921"
             ]
            ],
            "type": "heatmapgl"
           }
          ],
          "histogram": [
           {
            "marker": {
             "pattern": {
              "fillmode": "overlay",
              "size": 10,
              "solidity": 0.2
             }
            },
            "type": "histogram"
           }
          ],
          "histogram2d": [
           {
            "colorbar": {
             "outlinewidth": 0,
             "ticks": ""
            },
            "colorscale": [
             [
              0,
              "#0d0887"
             ],
             [
              0.1111111111111111,
              "#46039f"
             ],
             [
              0.2222222222222222,
              "#7201a8"
             ],
             [
              0.3333333333333333,
              "#9c179e"
             ],
             [
              0.4444444444444444,
              "#bd3786"
             ],
             [
              0.5555555555555556,
              "#d8576b"
             ],
             [
              0.6666666666666666,
              "#ed7953"
             ],
             [
              0.7777777777777778,
              "#fb9f3a"
             ],
             [
              0.8888888888888888,
              "#fdca26"
             ],
             [
              1,
              "#f0f921"
             ]
            ],
            "type": "histogram2d"
           }
          ],
          "histogram2dcontour": [
           {
            "colorbar": {
             "outlinewidth": 0,
             "ticks": ""
            },
            "colorscale": [
             [
              0,
              "#0d0887"
             ],
             [
              0.1111111111111111,
              "#46039f"
             ],
             [
              0.2222222222222222,
              "#7201a8"
             ],
             [
              0.3333333333333333,
              "#9c179e"
             ],
             [
              0.4444444444444444,
              "#bd3786"
             ],
             [
              0.5555555555555556,
              "#d8576b"
             ],
             [
              0.6666666666666666,
              "#ed7953"
             ],
             [
              0.7777777777777778,
              "#fb9f3a"
             ],
             [
              0.8888888888888888,
              "#fdca26"
             ],
             [
              1,
              "#f0f921"
             ]
            ],
            "type": "histogram2dcontour"
           }
          ],
          "mesh3d": [
           {
            "colorbar": {
             "outlinewidth": 0,
             "ticks": ""
            },
            "type": "mesh3d"
           }
          ],
          "parcoords": [
           {
            "line": {
             "colorbar": {
              "outlinewidth": 0,
              "ticks": ""
             }
            },
            "type": "parcoords"
           }
          ],
          "pie": [
           {
            "automargin": true,
            "type": "pie"
           }
          ],
          "scatter": [
           {
            "fillpattern": {
             "fillmode": "overlay",
             "size": 10,
             "solidity": 0.2
            },
            "type": "scatter"
           }
          ],
          "scatter3d": [
           {
            "line": {
             "colorbar": {
              "outlinewidth": 0,
              "ticks": ""
             }
            },
            "marker": {
             "colorbar": {
              "outlinewidth": 0,
              "ticks": ""
             }
            },
            "type": "scatter3d"
           }
          ],
          "scattercarpet": [
           {
            "marker": {
             "colorbar": {
              "outlinewidth": 0,
              "ticks": ""
             }
            },
            "type": "scattercarpet"
           }
          ],
          "scattergeo": [
           {
            "marker": {
             "colorbar": {
              "outlinewidth": 0,
              "ticks": ""
             }
            },
            "type": "scattergeo"
           }
          ],
          "scattergl": [
           {
            "marker": {
             "colorbar": {
              "outlinewidth": 0,
              "ticks": ""
             }
            },
            "type": "scattergl"
           }
          ],
          "scattermapbox": [
           {
            "marker": {
             "colorbar": {
              "outlinewidth": 0,
              "ticks": ""
             }
            },
            "type": "scattermapbox"
           }
          ],
          "scatterpolar": [
           {
            "marker": {
             "colorbar": {
              "outlinewidth": 0,
              "ticks": ""
             }
            },
            "type": "scatterpolar"
           }
          ],
          "scatterpolargl": [
           {
            "marker": {
             "colorbar": {
              "outlinewidth": 0,
              "ticks": ""
             }
            },
            "type": "scatterpolargl"
           }
          ],
          "scatterternary": [
           {
            "marker": {
             "colorbar": {
              "outlinewidth": 0,
              "ticks": ""
             }
            },
            "type": "scatterternary"
           }
          ],
          "surface": [
           {
            "colorbar": {
             "outlinewidth": 0,
             "ticks": ""
            },
            "colorscale": [
             [
              0,
              "#0d0887"
             ],
             [
              0.1111111111111111,
              "#46039f"
             ],
             [
              0.2222222222222222,
              "#7201a8"
             ],
             [
              0.3333333333333333,
              "#9c179e"
             ],
             [
              0.4444444444444444,
              "#bd3786"
             ],
             [
              0.5555555555555556,
              "#d8576b"
             ],
             [
              0.6666666666666666,
              "#ed7953"
             ],
             [
              0.7777777777777778,
              "#fb9f3a"
             ],
             [
              0.8888888888888888,
              "#fdca26"
             ],
             [
              1,
              "#f0f921"
             ]
            ],
            "type": "surface"
           }
          ],
          "table": [
           {
            "cells": {
             "fill": {
              "color": "#EBF0F8"
             },
             "line": {
              "color": "white"
             }
            },
            "header": {
             "fill": {
              "color": "#C8D4E3"
             },
             "line": {
              "color": "white"
             }
            },
            "type": "table"
           }
          ]
         },
         "layout": {
          "annotationdefaults": {
           "arrowcolor": "#2a3f5f",
           "arrowhead": 0,
           "arrowwidth": 1
          },
          "autotypenumbers": "strict",
          "coloraxis": {
           "colorbar": {
            "outlinewidth": 0,
            "ticks": ""
           }
          },
          "colorscale": {
           "diverging": [
            [
             0,
             "#8e0152"
            ],
            [
             0.1,
             "#c51b7d"
            ],
            [
             0.2,
             "#de77ae"
            ],
            [
             0.3,
             "#f1b6da"
            ],
            [
             0.4,
             "#fde0ef"
            ],
            [
             0.5,
             "#f7f7f7"
            ],
            [
             0.6,
             "#e6f5d0"
            ],
            [
             0.7,
             "#b8e186"
            ],
            [
             0.8,
             "#7fbc41"
            ],
            [
             0.9,
             "#4d9221"
            ],
            [
             1,
             "#276419"
            ]
           ],
           "sequential": [
            [
             0,
             "#0d0887"
            ],
            [
             0.1111111111111111,
             "#46039f"
            ],
            [
             0.2222222222222222,
             "#7201a8"
            ],
            [
             0.3333333333333333,
             "#9c179e"
            ],
            [
             0.4444444444444444,
             "#bd3786"
            ],
            [
             0.5555555555555556,
             "#d8576b"
            ],
            [
             0.6666666666666666,
             "#ed7953"
            ],
            [
             0.7777777777777778,
             "#fb9f3a"
            ],
            [
             0.8888888888888888,
             "#fdca26"
            ],
            [
             1,
             "#f0f921"
            ]
           ],
           "sequentialminus": [
            [
             0,
             "#0d0887"
            ],
            [
             0.1111111111111111,
             "#46039f"
            ],
            [
             0.2222222222222222,
             "#7201a8"
            ],
            [
             0.3333333333333333,
             "#9c179e"
            ],
            [
             0.4444444444444444,
             "#bd3786"
            ],
            [
             0.5555555555555556,
             "#d8576b"
            ],
            [
             0.6666666666666666,
             "#ed7953"
            ],
            [
             0.7777777777777778,
             "#fb9f3a"
            ],
            [
             0.8888888888888888,
             "#fdca26"
            ],
            [
             1,
             "#f0f921"
            ]
           ]
          },
          "colorway": [
           "#636efa",
           "#EF553B",
           "#00cc96",
           "#ab63fa",
           "#FFA15A",
           "#19d3f3",
           "#FF6692",
           "#B6E880",
           "#FF97FF",
           "#FECB52"
          ],
          "font": {
           "color": "#2a3f5f"
          },
          "geo": {
           "bgcolor": "white",
           "lakecolor": "white",
           "landcolor": "#E5ECF6",
           "showlakes": true,
           "showland": true,
           "subunitcolor": "white"
          },
          "hoverlabel": {
           "align": "left"
          },
          "hovermode": "closest",
          "mapbox": {
           "style": "light"
          },
          "paper_bgcolor": "white",
          "plot_bgcolor": "#E5ECF6",
          "polar": {
           "angularaxis": {
            "gridcolor": "white",
            "linecolor": "white",
            "ticks": ""
           },
           "bgcolor": "#E5ECF6",
           "radialaxis": {
            "gridcolor": "white",
            "linecolor": "white",
            "ticks": ""
           }
          },
          "scene": {
           "xaxis": {
            "backgroundcolor": "#E5ECF6",
            "gridcolor": "white",
            "gridwidth": 2,
            "linecolor": "white",
            "showbackground": true,
            "ticks": "",
            "zerolinecolor": "white"
           },
           "yaxis": {
            "backgroundcolor": "#E5ECF6",
            "gridcolor": "white",
            "gridwidth": 2,
            "linecolor": "white",
            "showbackground": true,
            "ticks": "",
            "zerolinecolor": "white"
           },
           "zaxis": {
            "backgroundcolor": "#E5ECF6",
            "gridcolor": "white",
            "gridwidth": 2,
            "linecolor": "white",
            "showbackground": true,
            "ticks": "",
            "zerolinecolor": "white"
           }
          },
          "shapedefaults": {
           "line": {
            "color": "#2a3f5f"
           }
          },
          "ternary": {
           "aaxis": {
            "gridcolor": "white",
            "linecolor": "white",
            "ticks": ""
           },
           "baxis": {
            "gridcolor": "white",
            "linecolor": "white",
            "ticks": ""
           },
           "bgcolor": "#E5ECF6",
           "caxis": {
            "gridcolor": "white",
            "linecolor": "white",
            "ticks": ""
           }
          },
          "title": {
           "x": 0.05
          },
          "xaxis": {
           "automargin": true,
           "gridcolor": "white",
           "linecolor": "white",
           "ticks": "",
           "title": {
            "standoff": 15
           },
           "zerolinecolor": "white",
           "zerolinewidth": 2
          },
          "yaxis": {
           "automargin": true,
           "gridcolor": "white",
           "linecolor": "white",
           "ticks": "",
           "title": {
            "standoff": 15
           },
           "zerolinecolor": "white",
           "zerolinewidth": 2
          }
         }
        },
        "title": {
         "text": "Mean and Confidence Interval of VdWContact.distance across PDB Files"
        },
        "xaxis": {
         "title": {
          "text": "PDB File"
         }
        },
        "yaxis": {
         "title": {
          "text": "VdWContact.distance"
         }
        }
       }
      }
     },
     "metadata": {},
     "output_type": "display_data"
    }
   ],
   "source": [
    "def plot_mean_with_confidence_intervals(df, numeric_columns):\n",
    "    @interact(column=numeric_columns)\n",
    "    def make_plot(column):\n",
    "        grouped = df.groupby('PDB_File')[column]\n",
    "        means = grouped.mean()\n",
    "        sems = grouped.sem()  # Standard error of the mean\n",
    "\n",
    "        fig = go.Figure()\n",
    "        \n",
    "        # Add mean line\n",
    "        fig.add_trace(go.Scatter(\n",
    "            x=means.index,\n",
    "            y=means.values,\n",
    "            mode='lines+markers',\n",
    "            name='Mean',\n",
    "            line=dict(color='blue')\n",
    "        ))\n",
    "\n",
    "        # Add confidence interval (mean ± SEM)\n",
    "        fig.add_trace(go.Scatter(\n",
    "            x=means.index,\n",
    "            y=means.values + sems.values,\n",
    "            fill=None,\n",
    "            mode='lines',\n",
    "            line=dict(color='lightblue'),\n",
    "            showlegend=False\n",
    "        ))\n",
    "\n",
    "        fig.add_trace(go.Scatter(\n",
    "            x=means.index,\n",
    "            y=means.values - sems.values,\n",
    "            fill='tonexty',  # Fill the area between this trace and the previous one\n",
    "            mode='lines',\n",
    "            line=dict(color='lightblue'),\n",
    "            name='Confidence Interval'\n",
    "        ))\n",
    "        \n",
    "        fig.update_layout(\n",
    "            title=f'Mean and Confidence Interval of {column} across PDB Files',\n",
    "            xaxis_title='PDB File',\n",
    "            yaxis_title=column\n",
    "        )\n",
    "        \n",
    "        fig.show()\n",
    "\n",
    "# Numeric columns to choose from\n",
    "numeric_columns = [\n",
    "    col for col in final_results_df.columns\n",
    "    if col not in ['PDB_File', 'Residue'] and pd.api.types.is_numeric_dtype(final_results_df[col])\n",
    "]\n",
    "\n",
    "# Plot\n",
    "plot_mean_with_confidence_intervals(final_results_df, numeric_columns)"
   ]
  }
 ],
 "metadata": {
  "kernelspec": {
   "display_name": ".venv",
   "language": "python",
   "name": "python3"
  },
  "language_info": {
   "codemirror_mode": {
    "name": "ipython",
    "version": 3
   },
   "file_extension": ".py",
   "mimetype": "text/x-python",
   "name": "python",
   "nbconvert_exporter": "python",
   "pygments_lexer": "ipython3",
   "version": "3.11.2"
  }
 },
 "nbformat": 4,
 "nbformat_minor": 2
}

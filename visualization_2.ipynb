{
 "cells": [
  {
   "cell_type": "code",
   "execution_count": 49,
   "metadata": {},
   "outputs": [],
   "source": [
    "import argparse\n",
    "from pathlib import Path\n",
    "import numpy as np\n",
    "from rdkit import Chem\n",
    "from rdkit.Chem.Draw import IPythonConsole\n"
   ]
  },
  {
   "cell_type": "code",
   "execution_count": 50,
   "metadata": {},
   "outputs": [],
   "source": [
    "import pandas as pd\n",
    "from tqdm import tqdm\n",
    "import prolif as plf\n",
    "import MDAnalysis as mda\n",
    "from MDAnalysis.topology.guessers import guess_types\n",
    "from pathlib import Path"
   ]
  },
  {
   "cell_type": "code",
   "execution_count": 51,
   "metadata": {},
   "outputs": [],
   "source": [
    "IPythonConsole.ipython_useSVG = True\n",
    "\n",
    "# Initialize progress bar for pandas\n",
    "tqdm.pandas()"
   ]
  },
  {
   "cell_type": "code",
   "execution_count": 52,
   "metadata": {},
   "outputs": [
    {
     "data": {
      "text/plain": [
       "(34107, 13)"
      ]
     },
     "execution_count": 52,
     "metadata": {},
     "output_type": "execute_result"
    }
   ],
   "source": [
    "final_results_df = pd.read_csv('processed/processed.csv')\n",
    "final_results_df.shape"
   ]
  },
  {
   "cell_type": "code",
   "execution_count": 53,
   "metadata": {},
   "outputs": [
    {
     "data": {
      "text/html": [
       "<div>\n",
       "<style scoped>\n",
       "    .dataframe tbody tr th:only-of-type {\n",
       "        vertical-align: middle;\n",
       "    }\n",
       "\n",
       "    .dataframe tbody tr th {\n",
       "        vertical-align: top;\n",
       "    }\n",
       "\n",
       "    .dataframe thead th {\n",
       "        text-align: right;\n",
       "    }\n",
       "</style>\n",
       "<table border=\"1\" class=\"dataframe\">\n",
       "  <thead>\n",
       "    <tr style=\"text-align: right;\">\n",
       "      <th></th>\n",
       "      <th>Residue</th>\n",
       "      <th>Hydrophobic.distance</th>\n",
       "      <th>VdWContact.distance</th>\n",
       "      <th>HBDonor.distance</th>\n",
       "      <th>HBDonor.DHA_angle</th>\n",
       "      <th>Cationic.distance</th>\n",
       "      <th>HBAcceptor.distance</th>\n",
       "      <th>HBAcceptor.DHA_angle</th>\n",
       "      <th>PiStacking.distance</th>\n",
       "      <th>PiStacking.plane_angle</th>\n",
       "      <th>PiStacking.normal_to_centroid_angle</th>\n",
       "      <th>PiStacking.intersect_distance</th>\n",
       "      <th>PDB_File</th>\n",
       "    </tr>\n",
       "  </thead>\n",
       "  <tbody>\n",
       "    <tr>\n",
       "      <th>0</th>\n",
       "      <td>VAL60.A</td>\n",
       "      <td>4.475821</td>\n",
       "      <td>NaN</td>\n",
       "      <td>NaN</td>\n",
       "      <td>NaN</td>\n",
       "      <td>NaN</td>\n",
       "      <td>NaN</td>\n",
       "      <td>NaN</td>\n",
       "      <td>NaN</td>\n",
       "      <td>NaN</td>\n",
       "      <td>NaN</td>\n",
       "      <td>NaN</td>\n",
       "      <td>0</td>\n",
       "    </tr>\n",
       "    <tr>\n",
       "      <th>1</th>\n",
       "      <td>ASP61.A</td>\n",
       "      <td>NaN</td>\n",
       "      <td>3.103711</td>\n",
       "      <td>NaN</td>\n",
       "      <td>NaN</td>\n",
       "      <td>NaN</td>\n",
       "      <td>NaN</td>\n",
       "      <td>NaN</td>\n",
       "      <td>NaN</td>\n",
       "      <td>NaN</td>\n",
       "      <td>NaN</td>\n",
       "      <td>NaN</td>\n",
       "      <td>0</td>\n",
       "    </tr>\n",
       "    <tr>\n",
       "      <th>2</th>\n",
       "      <td>PHE64.A</td>\n",
       "      <td>4.006420</td>\n",
       "      <td>NaN</td>\n",
       "      <td>NaN</td>\n",
       "      <td>NaN</td>\n",
       "      <td>NaN</td>\n",
       "      <td>NaN</td>\n",
       "      <td>NaN</td>\n",
       "      <td>NaN</td>\n",
       "      <td>NaN</td>\n",
       "      <td>NaN</td>\n",
       "      <td>NaN</td>\n",
       "      <td>0</td>\n",
       "    </tr>\n",
       "    <tr>\n",
       "      <th>3</th>\n",
       "      <td>PHE64.A</td>\n",
       "      <td>NaN</td>\n",
       "      <td>3.348581</td>\n",
       "      <td>NaN</td>\n",
       "      <td>NaN</td>\n",
       "      <td>NaN</td>\n",
       "      <td>NaN</td>\n",
       "      <td>NaN</td>\n",
       "      <td>NaN</td>\n",
       "      <td>NaN</td>\n",
       "      <td>NaN</td>\n",
       "      <td>NaN</td>\n",
       "      <td>0</td>\n",
       "    </tr>\n",
       "    <tr>\n",
       "      <th>4</th>\n",
       "      <td>PHE64.A</td>\n",
       "      <td>4.006420</td>\n",
       "      <td>NaN</td>\n",
       "      <td>NaN</td>\n",
       "      <td>NaN</td>\n",
       "      <td>NaN</td>\n",
       "      <td>NaN</td>\n",
       "      <td>NaN</td>\n",
       "      <td>NaN</td>\n",
       "      <td>NaN</td>\n",
       "      <td>NaN</td>\n",
       "      <td>NaN</td>\n",
       "      <td>0</td>\n",
       "    </tr>\n",
       "  </tbody>\n",
       "</table>\n",
       "</div>"
      ],
      "text/plain": [
       "   Residue  Hydrophobic.distance  VdWContact.distance  HBDonor.distance  \\\n",
       "0  VAL60.A              4.475821                  NaN               NaN   \n",
       "1  ASP61.A                   NaN             3.103711               NaN   \n",
       "2  PHE64.A              4.006420                  NaN               NaN   \n",
       "3  PHE64.A                   NaN             3.348581               NaN   \n",
       "4  PHE64.A              4.006420                  NaN               NaN   \n",
       "\n",
       "   HBDonor.DHA_angle  Cationic.distance  HBAcceptor.distance  \\\n",
       "0                NaN                NaN                  NaN   \n",
       "1                NaN                NaN                  NaN   \n",
       "2                NaN                NaN                  NaN   \n",
       "3                NaN                NaN                  NaN   \n",
       "4                NaN                NaN                  NaN   \n",
       "\n",
       "   HBAcceptor.DHA_angle  PiStacking.distance  PiStacking.plane_angle  \\\n",
       "0                   NaN                  NaN                     NaN   \n",
       "1                   NaN                  NaN                     NaN   \n",
       "2                   NaN                  NaN                     NaN   \n",
       "3                   NaN                  NaN                     NaN   \n",
       "4                   NaN                  NaN                     NaN   \n",
       "\n",
       "   PiStacking.normal_to_centroid_angle  PiStacking.intersect_distance  \\\n",
       "0                                  NaN                            NaN   \n",
       "1                                  NaN                            NaN   \n",
       "2                                  NaN                            NaN   \n",
       "3                                  NaN                            NaN   \n",
       "4                                  NaN                            NaN   \n",
       "\n",
       "   PDB_File  \n",
       "0         0  \n",
       "1         0  \n",
       "2         0  \n",
       "3         0  \n",
       "4         0  "
      ]
     },
     "execution_count": 53,
     "metadata": {},
     "output_type": "execute_result"
    }
   ],
   "source": [
    "final_results_df.head()"
   ]
  },
  {
   "cell_type": "code",
   "execution_count": 54,
   "metadata": {},
   "outputs": [],
   "source": [
    "import plotly.express as px\n",
    "import plotly.graph_objects as go\n",
    "from ipywidgets import interact, widgets\n"
   ]
  },
  {
   "cell_type": "markdown",
   "metadata": {},
   "source": [
    "### Viewing scaled distributions for 501 pdb files\n",
    "\n",
    "##### Select from dropdown to view each of the metric in the output\n",
    "\n",
    "(If you are viewing this in the Constructor Research Platform, the dropdown may not be visible. But it should be visible and clickable if you open the ipynb files in VSCode.\n",
    "\n",
    " "
   ]
  },
  {
   "cell_type": "markdown",
   "metadata": {},
   "source": [
    "Notes:\n",
    "- Previously this was just a simple histogram distribution of each of the metric (scaled)\n",
    "- This updated version smoothes the histogram using a Gaussian distribution based on the instructions in the task https://youtrack.constr.dev/issue/SP-16 on YouTrack."
   ]
  },
  {
   "cell_type": "code",
   "execution_count": 55,
   "metadata": {},
   "outputs": [],
   "source": [
    "import matplotlib.pyplot as plt\n",
    "from scipy.stats import norm\n",
    "import os"
   ]
  },
  {
   "cell_type": "markdown",
   "metadata": {},
   "source": [
    "Function that takes in as arguments\n",
    "- dataframe \n",
    "- group_ids - list of residue labels to consider \n",
    "- columns - list of columns for which we build distributions. For each column we calculate a separate distribution, unless an option \"merge_distributions\" is set to True. By default we consider all columns, except for the residue column.\n",
    "- merge_distributions - a boolean flag to merge the distributions (see above). By default it is False\n",
    "- smooth_distribution - float parameter corresponding to sigma of the gaussian that is applied for each sample. By default is 0 (no smoothening).\n",
    "- smooth_tolerance - float parameter to neglect the gaussian tails, that is at beyond sigma*smooth_tolerance we consider gaussian as 0.\n",
    "- bin_size - float parameter to determine the size of the bin\n",
    "- n_bins - int parameter to determine the number of bins\n",
    "- range - tuple of (left_border, right_border) to determine the interval of the distribution."
   ]
  },
  {
   "cell_type": "code",
   "execution_count": 56,
   "metadata": {},
   "outputs": [],
   "source": [
    "def build_smooth_distribution(dataframe, merge_distributions, group_ids=None, columns=None, smooth_distribution=0, \n",
    "                              smooth_tolerance=3, bin_size=0.1, n_bins=50, range=None):\n",
    "    if group_ids is not None:  \n",
    "        dataframe = dataframe[dataframe['Residue'].isin(group_ids)] # if no group_ids is specified, we calculate distributions across all residues. If specidied, we filter dataframe for only those residues\n",
    "    \n",
    "    if columns is None: # Default case of all columns\n",
    "        columns = [col for col in dataframe.columns if col != 'Residue']\n",
    "    \n",
    "    distributions = {} #Dictionary to store distributions\n",
    "    \n",
    "    for column in columns: # Either default case or list of columns we specify\n",
    "        data = dataframe[column].dropna()\n",
    "        \n",
    "        # If the range is not specified, calculate it from the data\n",
    "        if range is None:\n",
    "            data_range = (data.min(), data.max())\n",
    "        else:\n",
    "            data_range = range\n",
    "            \n",
    "        bins = np.linspace(data_range[0], data_range[1], n_bins + 1)\n",
    "        bin_centers = (bins[:-1] + bins[1:]) / 2\n",
    "        \n",
    "        # Initialize the distribution\n",
    "        dist = np.zeros(n_bins)\n",
    "        \n",
    "        for value in data:\n",
    "            if smooth_distribution > 0:\n",
    "                gaussian_contributions = norm.pdf(bin_centers, loc=value, scale=smooth_distribution)\n",
    "                gaussian_contributions[gaussian_contributions < norm.pdf(smooth_tolerance)] = 0\n",
    "                dist += gaussian_contributions\n",
    "            else:\n",
    "                # Place the value in the appropriate bin without smoothing\n",
    "                bin_index = np.digitize(value, bins) - 1\n",
    "                if 0 <= bin_index < len(dist):\n",
    "                    dist[bin_index] += 1\n",
    "        dist /= dist.sum() * bin_size  # Normalize the distribution\n",
    "        \n",
    "        if merge_distributions: # If we want to merge across columns and multiple columns are specified\n",
    "            if 'Merged' not in distributions: # For 1st merge\n",
    "                distributions['Merged'] = dist\n",
    "            else:\n",
    "                distributions['Merged'] += dist # Adding next column's distribution\n",
    "        else: # If we want the distributions separately for each column, output as a dictionary (append to it) with entries for each column\n",
    "            distributions[column] = dist\n",
    "    \n",
    "    return distributions, bin_centers"
   ]
  },
  {
   "cell_type": "code",
   "execution_count": 57,
   "metadata": {},
   "outputs": [],
   "source": [
    "# Testing for one residue and column in one dataframe\n",
    "# dataframe = final_results_df\n",
    "# group_ids= ['VAL60.A']\n",
    "# columns= ['Hydrophobic.distance']\n",
    "# smooth_distribution=1\n",
    "# smooth_tolerance=0.75\n",
    "# bin_size=0.1\n",
    "# n_bins=50"
   ]
  },
  {
   "cell_type": "code",
   "execution_count": 58,
   "metadata": {},
   "outputs": [],
   "source": [
    "columns = ['Hydrophobic.distance','VdWContact.distance']\n"
   ]
  },
  {
   "cell_type": "code",
   "execution_count": 59,
   "metadata": {},
   "outputs": [],
   "source": [
    "def process_dataframes(folder, columns, merge_distributions, sliding_window=0):\n",
    "    file_list = [f for f in os.listdir(folder) if f.endswith('.csv')]\n",
    "    all_distributions = []\n",
    "    all_bin_centers = []\n",
    "\n",
    "    for file in file_list:\n",
    "        filepath = os.path.join(folder, file)\n",
    "        df = pd.read_csv(filepath)\n",
    "        \n",
    "        distributions, bin_centers = build_smooth_distribution(df, merge_distributions=merge_distributions, columns = columns)\n",
    "        \n",
    "        if merge_distributions:\n",
    "                # Append the merged distribution to the list\n",
    "                all_distributions.append(distributions['Merged'])\n",
    "                # Combine all merged distributions into a single plot\n",
    "                merged_distribution = np.mean(all_distributions, axis=0)\n",
    "                \n",
    "                plt.figure(figsize=(10, 6))\n",
    "                plt.plot(bin_centers, merged_distribution, label='Merged Distribution', color='blue')\n",
    "                plt.fill_between(bin_centers, merged_distribution, color='blue', alpha=0.2)\n",
    "                plt.title('Merged Distribution Across All Dataframes')\n",
    "                plt.xlabel('Value')\n",
    "                plt.ylabel('Density')\n",
    "                plt.legend()\n",
    "                plt.grid(True)\n",
    "                plt.show()\n",
    "\n",
    "\n",
    "        else:\n",
    "            # If not merging, calculate the mean and variance over the distributions\n",
    "            for col in distributions:\n",
    "                    all_distributions.append(distributions[col])\n",
    "                    all_bin_centers.append(bin_centers)\n",
    "    \n",
    "            # mean_distribution = np.mean(all_distributions, axis=0)\n",
    "            # variance_distribution = np.var(all_distributions, axis=0)\n",
    "            \n",
    "            # Plotting the results\n",
    "            for i, col in enumerate(distributions.keys()):\n",
    "                plt.figure(figsize=(10, 6))\n",
    "                \n",
    "                plt.plot(all_bin_centers[i], all_distributions[i], label=f'Distribution of {col}', color='blue')\n",
    "                if sliding_window:\n",
    "                    smoothed_distribution = np.convolve(distributions[col], np.ones(sliding_window)/sliding_window, mode='same')\n",
    "                    plt.plot(all_bin_centers[i], smoothed_distribution, label=f'Smoothed Distribution of {col}', color='orange')\n",
    "                \n",
    "                plt.title(f'Distribution of {col} Across Dataframes')\n",
    "                plt.xlabel('Bins')\n",
    "                plt.ylabel('Value')\n",
    "                plt.legend()\n",
    "                plt.show()\n",
    "\n",
    "        \n"
   ]
  },
  {
   "cell_type": "code",
   "execution_count": 60,
   "metadata": {},
   "outputs": [
    {
     "data": {
      "image/png": "[encoded data removed]",
      "text/plain": [
       "<Figure size 1000x600 with 1 Axes>"
      ]
     },
     "metadata": {},
     "output_type": "display_data"
    }
   ],
   "source": [
    "process_dataframes('/Users/surajkwork/Documents/Projects/ProteinLigand/protein-ligand/protein-ligand/processed', columns, merge_distributions=True, sliding_window=3)"
   ]
  },
  {
   "cell_type": "markdown",
   "metadata": {},
   "source": [
    "# <----------- IGNORE THE CODE BELOW FROM PREVIOUS VERSIONS --------->"
   ]
  },
  {
   "cell_type": "code",
   "execution_count": 8,
   "metadata": {},
   "outputs": [],
   "source": [
    "def plot_normalized_distributions(df, columns):\n",
    "    @interact(column=columns)\n",
    "    def make_plot(column):\n",
    "        all_data = df[column].dropna()\n",
    "        \n",
    "        # Ensure there is data to plot\n",
    "        if all_data.empty:\n",
    "            print(f\"No data available for column {column}\")\n",
    "            return\n",
    "        \n",
    "        num_bins = 50\n",
    "        bin_edges = np.linspace(all_data.min(), all_data.max(), num_bins + 1)\n",
    "        bin_centers = (bin_edges[:-1] + bin_edges[1:]) / 2\n",
    "        bin_width = bin_edges[1] - bin_edges[0]\n",
    "\n",
    "        std_dev = all_data.std()\n",
    "\n",
    "        smoothed_counts = np.zeros(num_bins)\n",
    "\n",
    "        # Gaussian kernel function\n",
    "        def gaussian_kernel(x, mean, std):\n",
    "            return (1 / (std * np.sqrt(2 * np.pi))) * np.exp(-0.5 * ((x - mean) / std) ** 2)\n",
    "        \n",
    "        # Accumulate contributions to each bin from each data point\n",
    "        for data_point in all_data:\n",
    "            contributions = gaussian_kernel(bin_centers, data_point, std_dev)\n",
    "            smoothed_counts += contributions\n",
    "\n",
    "        # Normalize the smoothed counts\n",
    "        smoothed_counts /= (smoothed_counts.sum() * bin_width)\n",
    "\n",
    "\n",
    "        # # Calculate histogram for aggregated data\n",
    "        # counts, bins = np.histogram(all_data, bins=50, density=True)\n",
    "        \n",
    "        # # Normalize the counts by dividing by the number of data points\n",
    "        # total_count = len(all_data)\n",
    "        # normalized_counts = counts / total_count\n",
    "        \n",
    "        # Plotting\n",
    "        fig = go.Figure()\n",
    "        \n",
    "        fig.add_trace(go.Bar(\n",
    "            x=bin_centers,  # Bin centers\n",
    "            y=smoothed_counts,\n",
    "            name='All PDB Files',\n",
    "            opacity=0.75,\n",
    "            marker_color='blue'\n",
    "        ))\n",
    "\n",
    "        # fig.add_trace(go.Bar(\n",
    "        #     x=bins[:-1],  # Bin edges\n",
    "        #     y=normalized_counts,\n",
    "        #     name='All PDB Files',\n",
    "        #     opacity=0.75,\n",
    "        #     marker_color='blue'\n",
    "        # ))\n",
    "        \n",
    "        fig.update_layout(\n",
    "            title=f'Normalized Distribution of {column} across All PDB Files',\n",
    "            xaxis_title=column,\n",
    "            yaxis_title='Normalized Count',\n",
    "            barmode='overlay'\n",
    "        )\n",
    "        \n",
    "        # fig.update_layout(\n",
    "        #     title=f'Normalized Distribution of {column} across All PDB Files',\n",
    "        #     xaxis_title=column,\n",
    "        #     yaxis_title='Normalized Count',\n",
    "        #     barmode='overlay'\n",
    "        # )\n",
    "        \n",
    "        fig.show()"
   ]
  },
  {
   "cell_type": "code",
   "execution_count": 9,
   "metadata": {},
   "outputs": [
    {
     "data": {
      "application/vnd.plotly.v1+json": {
       "config": {
        "plotlyServerURL": "https://plot.ly"
       },
       "data": [
        {
         "marker": {
          "color": "blue"
         },
         "name": "All PDB Files",
         "opacity": 0.75,
         "type": "bar",
         "x": [
          3.2276463508022393,
          3.2533502127923173,
          3.279054074782395,
          3.3047579367724724,
          3.33046179876255,
          3.3561656607526276,
          3.3818695227427056,
          3.407573384732783,
          3.4332772467228607,
          3.4589811087129387,
          3.4846849707030163,
          3.510388832693094,
          3.5360926946831714,
          3.561796556673249,
          3.587500418663327,
          3.6132042806534046,
          3.638908142643482,
          3.66461200463356,
          3.6903158666236378,
          3.7160197286137153,
          3.741723590603793,
          3.7674274525938705,
          3.7931313145839485,
          3.818835176574026,
          3.844539038564104,
          3.8702429005541816,
          3.895946762544259,
          3.9216506245343368,
          3.9473544865244143,
          3.973058348514492,
          3.9987622105045695,
          4.024466072494647,
          4.0501699344847255,
          4.075873796474803,
          4.101577658464881,
          4.127281520454958,
          4.152985382445036,
          4.178689244435113,
          4.204393106425192,
          4.230096968415269,
          4.255800830405347,
          4.2815046923954245,
          4.307208554385502,
          4.33291241637558,
          4.358616278365657,
          4.384320140355735,
          4.410024002345812,
          4.43572786433589,
          4.461431726325968,
          4.487135588316046
         ],
         "y": [
          0.02854366699935494,
          0.03485564127353696,
          0.042292313700451445,
          0.050989737602442534,
          0.0610877060138677,
          0.07272779627277039,
          0.08605134373957683,
          0.10119744998766342,
          0.11830112943967946,
          0.13749168482321417,
          0.15889137534153228,
          0.1826144027917078,
          0.20876619217081668,
          0.23744288817517298,
          0.2687309322143706,
          0.30270653176202417,
          0.33943479101242197,
          0.3789682446452466,
          0.42134452998616867,
          0.46658295073373646,
          0.5146797299130023,
          0.5656018213491789,
          0.6192792465974581,
          0.6755960452139507,
          0.7343800663443218,
          0.7953919832500849,
          0.8583140724775888,
          0.9227394570365035,
          0.9881626572835868,
          1.0539724110337712,
          1.119447800395928,
          1.1837587400137908,
          1.2459718225400498,
          1.3050623667950199,
          1.359933261180725,
          1.409440836227104,
          1.4524275430832227,
          1.4877606799464258,
          1.514375830653157,
          1.5313231070414397,
          1.5378137774116625,
          1.5332644801618127,
          1.5173360242475442,
          1.4899638149188115,
          1.4513772429192595,
          1.402105940270773,
          1.3429716078760052,
          1.275065101169857,
          1.199709535791967,
          1.1184112442334015
         ]
        }
       ],
       "layout": {
        "barmode": "overlay",
        "template": {
         "data": {
          "bar": [
           {
            "error_x": {
             "color": "#2a3f5f"
            },
            "error_y": {
             "color": "#2a3f5f"
            },
            "marker": {
             "line": {
              "color": "#E5ECF6",
              "width": 0.5
             },
             "pattern": {
              "fillmode": "overlay",
              "size": 10,
              "solidity": 0.2
             }
            },
            "type": "bar"
           }
          ],
          "barpolar": [
           {
            "marker": {
             "line": {
              "color": "#E5ECF6",
              "width": 0.5
             },
             "pattern": {
              "fillmode": "overlay",
              "size": 10,
              "solidity": 0.2
             }
            },
            "type": "barpolar"
           }
          ],
          "carpet": [
           {
            "aaxis": {
             "endlinecolor": "#2a3f5f",
             "gridcolor": "white",
             "linecolor": "white",
             "minorgridcolor": "white",
             "startlinecolor": "#2a3f5f"
            },
            "baxis": {
             "endlinecolor": "#2a3f5f",
             "gridcolor": "white",
             "linecolor": "white",
             "minorgridcolor": "white",
             "startlinecolor": "#2a3f5f"
            },
            "type": "carpet"
           }
          ],
          "choropleth": [
           {
            "colorbar": {
             "outlinewidth": 0,
             "ticks": ""
            },
            "type": "choropleth"
           }
          ],
          "contour": [
           {
            "colorbar": {
             "outlinewidth": 0,
             "ticks": ""
            },
            "colorscale": [
             [
              0,
              "#0d0887"
             ],
             [
              0.1111111111111111,
              "#46039f"
             ],
             [
              0.2222222222222222,
              "#7201a8"
             ],
             [
              0.3333333333333333,
              "#9c179e"
             ],
             [
              0.4444444444444444,
              "#bd3786"
             ],
             [
              0.5555555555555556,
              "#d8576b"
             ],
             [
              0.6666666666666666,
              "#ed7953"
             ],
             [
              0.7777777777777778,
              "#fb9f3a"
             ],
             [
              0.8888888888888888,
              "#fdca26"
             ],
             [
              1,
              "#f0f921"
             ]
            ],
            "type": "contour"
           }
          ],
          "contourcarpet": [
           {
            "colorbar": {
             "outlinewidth": 0,
             "ticks": ""
            },
            "type": "contourcarpet"
           }
          ],
          "heatmap": [
           {
            "colorbar": {
             "outlinewidth": 0,
             "ticks": ""
            },
            "colorscale": [
             [
              0,
              "#0d0887"
             ],
             [
              0.1111111111111111,
              "#46039f"
             ],
             [
              0.2222222222222222,
              "#7201a8"
             ],
             [
              0.3333333333333333,
              "#9c179e"
             ],
             [
              0.4444444444444444,
              "#bd3786"
             ],
             [
              0.5555555555555556,
              "#d8576b"
             ],
             [
              0.6666666666666666,
              "#ed7953"
             ],
             [
              0.7777777777777778,
              "#fb9f3a"
             ],
             [
              0.8888888888888888,
              "#fdca26"
             ],
             [
              1,
              "#f0f921"
             ]
            ],
            "type": "heatmap"
           }
          ],
          "heatmapgl": [
           {
            "colorbar": {
             "outlinewidth": 0,
             "ticks": ""
            },
            "colorscale": [
             [
              0,
              "#0d0887"
             ],
             [
              0.1111111111111111,
              "#46039f"
             ],
             [
              0.2222222222222222,
              "#7201a8"
             ],
             [
              0.3333333333333333,
              "#9c179e"
             ],
             [
              0.4444444444444444,
              "#bd3786"
             ],
             [
              0.5555555555555556,
              "#d8576b"
             ],
             [
              0.6666666666666666,
              "#ed7953"
             ],
             [
              0.7777777777777778,
              "#fb9f3a"
             ],
             [
              0.8888888888888888,
              "#fdca26"
             ],
             [
              1,
              "#f0f921"
             ]
            ],
            "type": "heatmapgl"
           }
          ],
          "histogram": [
           {
            "marker": {
             "pattern": {
              "fillmode": "overlay",
              "size": 10,
              "solidity": 0.2
             }
            },
            "type": "histogram"
           }
          ],
          "histogram2d": [
           {
            "colorbar": {
             "outlinewidth": 0,
             "ticks": ""
            },
            "colorscale": [
             [
              0,
              "#0d0887"
             ],
             [
              0.1111111111111111,
              "#46039f"
             ],
             [
              0.2222222222222222,
              "#7201a8"
             ],
             [
              0.3333333333333333,
              "#9c179e"
             ],
             [
              0.4444444444444444,
              "#bd3786"
             ],
             [
              0.5555555555555556,
              "#d8576b"
             ],
             [
              0.6666666666666666,
              "#ed7953"
             ],
             [
              0.7777777777777778,
              "#fb9f3a"
             ],
             [
              0.8888888888888888,
              "#fdca26"
             ],
             [
              1,
              "#f0f921"
             ]
            ],
            "type": "histogram2d"
           }
          ],
          "histogram2dcontour": [
           {
            "colorbar": {
             "outlinewidth": 0,
             "ticks": ""
            },
            "colorscale": [
             [
              0,
              "#0d0887"
             ],
             [
              0.1111111111111111,
              "#46039f"
             ],
             [
              0.2222222222222222,
              "#7201a8"
             ],
             [
              0.3333333333333333,
              "#9c179e"
             ],
             [
              0.4444444444444444,
              "#bd3786"
             ],
             [
              0.5555555555555556,
              "#d8576b"
             ],
             [
              0.6666666666666666,
              "#ed7953"
             ],
             [
              0.7777777777777778,
              "#fb9f3a"
             ],
             [
              0.8888888888888888,
              "#fdca26"
             ],
             [
              1,
              "#f0f921"
             ]
            ],
            "type": "histogram2dcontour"
           }
          ],
          "mesh3d": [
           {
            "colorbar": {
             "outlinewidth": 0,
             "ticks": ""
            },
            "type": "mesh3d"
           }
          ],
          "parcoords": [
           {
            "line": {
             "colorbar": {
              "outlinewidth": 0,
              "ticks": ""
             }
            },
            "type": "parcoords"
           }
          ],
          "pie": [
           {
            "automargin": true,
            "type": "pie"
           }
          ],
          "scatter": [
           {
            "fillpattern": {
             "fillmode": "overlay",
             "size": 10,
             "solidity": 0.2
            },
            "type": "scatter"
           }
          ],
          "scatter3d": [
           {
            "line": {
             "colorbar": {
              "outlinewidth": 0,
              "ticks": ""
             }
            },
            "marker": {
             "colorbar": {
              "outlinewidth": 0,
              "ticks": ""
             }
            },
            "type": "scatter3d"
           }
          ],
          "scattercarpet": [
           {
            "marker": {
             "colorbar": {
              "outlinewidth": 0,
              "ticks": ""
             }
            },
            "type": "scattercarpet"
           }
          ],
          "scattergeo": [
           {
            "marker": {
             "colorbar": {
              "outlinewidth": 0,
              "ticks": ""
             }
            },
            "type": "scattergeo"
           }
          ],
          "scattergl": [
           {
            "marker": {
             "colorbar": {
              "outlinewidth": 0,
              "ticks": ""
             }
            },
            "type": "scattergl"
           }
          ],
          "scattermapbox": [
           {
            "marker": {
             "colorbar": {
              "outlinewidth": 0,
              "ticks": ""
             }
            },
            "type": "scattermapbox"
           }
          ],
          "scatterpolar": [
           {
            "marker": {
             "colorbar": {
              "outlinewidth": 0,
              "ticks": ""
             }
            },
            "type": "scatterpolar"
           }
          ],
          "scatterpolargl": [
           {
            "marker": {
             "colorbar": {
              "outlinewidth": 0,
              "ticks": ""
             }
            },
            "type": "scatterpolargl"
           }
          ],
          "scatterternary": [
           {
            "marker": {
             "colorbar": {
              "outlinewidth": 0,
              "ticks": ""
             }
            },
            "type": "scatterternary"
           }
          ],
          "surface": [
           {
            "colorbar": {
             "outlinewidth": 0,
             "ticks": ""
            },
            "colorscale": [
             [
              0,
              "#0d0887"
             ],
             [
              0.1111111111111111,
              "#46039f"
             ],
             [
              0.2222222222222222,
              "#7201a8"
             ],
             [
              0.3333333333333333,
              "#9c179e"
             ],
             [
              0.4444444444444444,
              "#bd3786"
             ],
             [
              0.5555555555555556,
              "#d8576b"
             ],
             [
              0.6666666666666666,
              "#ed7953"
             ],
             [
              0.7777777777777778,
              "#fb9f3a"
             ],
             [
              0.8888888888888888,
              "#fdca26"
             ],
             [
              1,
              "#f0f921"
             ]
            ],
            "type": "surface"
           }
          ],
          "table": [
           {
            "cells": {
             "fill": {
              "color": "#EBF0F8"
             },
             "line": {
              "color": "white"
             }
            },
            "header": {
             "fill": {
              "color": "#C8D4E3"
             },
             "line": {
              "color": "white"
             }
            },
            "type": "table"
           }
          ]
         },
         "layout": {
          "annotationdefaults": {
           "arrowcolor": "#2a3f5f",
           "arrowhead": 0,
           "arrowwidth": 1
          },
          "autotypenumbers": "strict",
          "coloraxis": {
           "colorbar": {
            "outlinewidth": 0,
            "ticks": ""
           }
          },
          "colorscale": {
           "diverging": [
            [
             0,
             "#8e0152"
            ],
            [
             0.1,
             "#c51b7d"
            ],
            [
             0.2,
             "#de77ae"
            ],
            [
             0.3,
             "#f1b6da"
            ],
            [
             0.4,
             "#fde0ef"
            ],
            [
             0.5,
             "#f7f7f7"
            ],
            [
             0.6,
             "#e6f5d0"
            ],
            [
             0.7,
             "#b8e186"
            ],
            [
             0.8,
             "#7fbc41"
            ],
            [
             0.9,
             "#4d9221"
            ],
            [
             1,
             "#276419"
            ]
           ],
           "sequential": [
            [
             0,
             "#0d0887"
            ],
            [
             0.1111111111111111,
             "#46039f"
            ],
            [
             0.2222222222222222,
             "#7201a8"
            ],
            [
             0.3333333333333333,
             "#9c179e"
            ],
            [
             0.4444444444444444,
             "#bd3786"
            ],
            [
             0.5555555555555556,
             "#d8576b"
            ],
            [
             0.6666666666666666,
             "#ed7953"
            ],
            [
             0.7777777777777778,
             "#fb9f3a"
            ],
            [
             0.8888888888888888,
             "#fdca26"
            ],
            [
             1,
             "#f0f921"
            ]
           ],
           "sequentialminus": [
            [
             0,
             "#0d0887"
            ],
            [
             0.1111111111111111,
             "#46039f"
            ],
            [
             0.2222222222222222,
             "#7201a8"
            ],
            [
             0.3333333333333333,
             "#9c179e"
            ],
            [
             0.4444444444444444,
             "#bd3786"
            ],
            [
             0.5555555555555556,
             "#d8576b"
            ],
            [
             0.6666666666666666,
             "#ed7953"
            ],
            [
             0.7777777777777778,
             "#fb9f3a"
            ],
            [
             0.8888888888888888,
             "#fdca26"
            ],
            [
             1,
             "#f0f921"
            ]
           ]
          },
          "colorway": [
           "#636efa",
           "#EF553B",
           "#00cc96",
           "#ab63fa",
           "#FFA15A",
           "#19d3f3",
           "#FF6692",
           "#B6E880",
           "#FF97FF",
           "#FECB52"
          ],
          "font": {
           "color": "#2a3f5f"
          },
          "geo": {
           "bgcolor": "white",
           "lakecolor": "white",
           "landcolor": "#E5ECF6",
           "showlakes": true,
           "showland": true,
           "subunitcolor": "white"
          },
          "hoverlabel": {
           "align": "left"
          },
          "hovermode": "closest",
          "mapbox": {
           "style": "light"
          },
          "paper_bgcolor": "white",
          "plot_bgcolor": "#E5ECF6",
          "polar": {
           "angularaxis": {
            "gridcolor": "white",
            "linecolor": "white",
            "ticks": ""
           },
           "bgcolor": "#E5ECF6",
           "radialaxis": {
            "gridcolor": "white",
            "linecolor": "white",
            "ticks": ""
           }
          },
          "scene": {
           "xaxis": {
            "backgroundcolor": "#E5ECF6",
            "gridcolor": "white",
            "gridwidth": 2,
            "linecolor": "white",
            "showbackground": true,
            "ticks": "",
            "zerolinecolor": "white"
           },
           "yaxis": {
            "backgroundcolor": "#E5ECF6",
            "gridcolor": "white",
            "gridwidth": 2,
            "linecolor": "white",
            "showbackground": true,
            "ticks": "",
            "zerolinecolor": "white"
           },
           "zaxis": {
            "backgroundcolor": "#E5ECF6",
            "gridcolor": "white",
            "gridwidth": 2,
            "linecolor": "white",
            "showbackground": true,
            "ticks": "",
            "zerolinecolor": "white"
           }
          },
          "shapedefaults": {
           "line": {
            "color": "#2a3f5f"
           }
          },
          "ternary": {
           "aaxis": {
            "gridcolor": "white",
            "linecolor": "white",
            "ticks": ""
           },
           "baxis": {
            "gridcolor": "white",
            "linecolor": "white",
            "ticks": ""
           },
           "bgcolor": "#E5ECF6",
           "caxis": {
            "gridcolor": "white",
            "linecolor": "white",
            "ticks": ""
           }
          },
          "title": {
           "x": 0.05
          },
          "xaxis": {
           "automargin": true,
           "gridcolor": "white",
           "linecolor": "white",
           "ticks": "",
           "title": {
            "standoff": 15
           },
           "zerolinecolor": "white",
           "zerolinewidth": 2
          },
          "yaxis": {
           "automargin": true,
           "gridcolor": "white",
           "linecolor": "white",
           "ticks": "",
           "title": {
            "standoff": 15
           },
           "zerolinecolor": "white",
           "zerolinewidth": 2
          }
         }
        },
        "title": {
         "text": "Normalized Distribution of Hydrophobic.distance across All PDB Files"
        },
        "xaxis": {
         "title": {
          "text": "Hydrophobic.distance"
         }
        },
        "yaxis": {
         "title": {
          "text": "Normalized Count"
         }
        }
       }
      }
     },
     "metadata": {},
     "output_type": "display_data"
    },
    {
     "data": {
      "application/vnd.jupyter.widget-view+json": {
       "model_id": "d5f8653d71704e1d92b7ee2d48a52d90",
       "version_major": 2,
       "version_minor": 0
      },
      "text/plain": [
       "interactive(children=(Dropdown(description='column', options=('Hydrophobic.distance', 'VdWContact.distance', '…"
      ]
     },
     "metadata": {},
     "output_type": "display_data"
    }
   ],
   "source": [
    "# columns = [col for col in final_results_df.columns if col not in ['PDB_File', 'Residue']]\n",
    "# plot_normalized_distributions(final_results_df, columns)\n",
    "\n",
    "numeric_columns = [\n",
    "    col for col in final_results_df.columns\n",
    "    if col not in ['PDB_File', 'Residue'] and pd.api.types.is_numeric_dtype(final_results_df[col])\n",
    "]\n",
    "\n",
    "plot_normalized_distributions(final_results_df, numeric_columns)"
   ]
  },
  {
   "cell_type": "markdown",
   "metadata": {},
   "source": [
    "# Distributions for 2nd and 3rd sets of frames"
   ]
  },
  {
   "cell_type": "code",
   "execution_count": 10,
   "metadata": {},
   "outputs": [
    {
     "data": {
      "application/vnd.plotly.v1+json": {
       "config": {
        "plotlyServerURL": "https://plot.ly"
       },
       "data": [
        {
         "marker": {
          "color": "blue"
         },
         "name": "All PDB Files",
         "opacity": 0.75,
         "type": "bar",
         "x": [
          3.2675802223238852,
          3.292476219179587,
          3.3173722160352885,
          3.3422682128909904,
          3.3671642097466923,
          3.3920602066023937,
          3.4169562034580956,
          3.4418522003137975,
          3.4667481971694993,
          3.491644194025201,
          3.5165401908809026,
          3.5414361877366045,
          3.5663321845923064,
          3.591228181448008,
          3.6161241783037097,
          3.6410201751594116,
          3.6659161720151134,
          3.6908121688708153,
          3.7157081657265167,
          3.7406041625822186,
          3.7655001594379205,
          3.790396156293622,
          3.815292153149324,
          3.8401881500050257,
          3.8650841468607275,
          3.889980143716429,
          3.914876140572131,
          3.9397721374278327,
          3.9646681342835346,
          3.9895641311392365,
          4.014460127994939,
          4.03935612485064,
          4.064252121706341,
          4.0891481185620435,
          4.1140441154177445,
          4.138940112273447,
          4.163836109129148,
          4.188732105984851,
          4.213628102840552,
          4.238524099696253,
          4.263420096551956,
          4.288316093407657,
          4.3132120902633595,
          4.3381080871190605,
          4.363004083974763,
          4.387900080830464,
          4.412796077686166,
          4.437692074541868,
          4.462588071397569,
          4.487484068253272
         ],
         "y": [
          0.05646272518524176,
          0.0673871949256228,
          0.0799644408863455,
          0.09434832858149651,
          0.11068924998720443,
          0.1291306232286384,
          0.1498051805579281,
          0.17283114809986047,
          0.19830843212386592,
          0.22631493225279242,
          0.25690310131880434,
          0.2900968641980158,
          0.3258889940013739,
          0.3642390240037667,
          0.4050717485987614,
          0.44827633768641,
          0.49370605787538724,
          0.5411785626281376,
          0.5904766841528819,
          0.6413496347851437,
          0.6935145072465775,
          0.7466579539590615,
          0.8004379277917312,
          0.8544853820814788,
          0.9084058576325085,
          0.9617809287367508,
          1.0141695377057967,
          1.0651093148648432,
          1.114118053408372,
          1.1606955790297564,
          1.2043263142854517,
          1.2444828777166217,
          1.2806310682446784,
          1.3122365578282897,
          1.3387735438330168,
          1.3597354948346072,
          1.3746479623693304,
          1.383083234763629,
          1.384676391571172,
          1.3791420972375572,
          1.366291272819706,
          1.3460466286656765,
          1.3184559513272855,
          1.2837020328363693,
          1.2421082211170182,
          1.194138758978384,
          1.1403933578428342,
          1.0815958028651647,
          1.018576781166487,
          0.9522515308405815
         ]
        }
       ],
       "layout": {
        "barmode": "overlay",
        "template": {
         "data": {
          "bar": [
           {
            "error_x": {
             "color": "#2a3f5f"
            },
            "error_y": {
             "color": "#2a3f5f"
            },
            "marker": {
             "line": {
              "color": "#E5ECF6",
              "width": 0.5
             },
             "pattern": {
              "fillmode": "overlay",
              "size": 10,
              "solidity": 0.2
             }
            },
            "type": "bar"
           }
          ],
          "barpolar": [
           {
            "marker": {
             "line": {
              "color": "#E5ECF6",
              "width": 0.5
             },
             "pattern": {
              "fillmode": "overlay",
              "size": 10,
              "solidity": 0.2
             }
            },
            "type": "barpolar"
           }
          ],
          "carpet": [
           {
            "aaxis": {
             "endlinecolor": "#2a3f5f",
             "gridcolor": "white",
             "linecolor": "white",
             "minorgridcolor": "white",
             "startlinecolor": "#2a3f5f"
            },
            "baxis": {
             "endlinecolor": "#2a3f5f",
             "gridcolor": "white",
             "linecolor": "white",
             "minorgridcolor": "white",
             "startlinecolor": "#2a3f5f"
            },
            "type": "carpet"
           }
          ],
          "choropleth": [
           {
            "colorbar": {
             "outlinewidth": 0,
             "ticks": ""
            },
            "type": "choropleth"
           }
          ],
          "contour": [
           {
            "colorbar": {
             "outlinewidth": 0,
             "ticks": ""
            },
            "colorscale": [
             [
              0,
              "#0d0887"
             ],
             [
              0.1111111111111111,
              "#46039f"
             ],
             [
              0.2222222222222222,
              "#7201a8"
             ],
             [
              0.3333333333333333,
              "#9c179e"
             ],
             [
              0.4444444444444444,
              "#bd3786"
             ],
             [
              0.5555555555555556,
              "#d8576b"
             ],
             [
              0.6666666666666666,
              "#ed7953"
             ],
             [
              0.7777777777777778,
              "#fb9f3a"
             ],
             [
              0.8888888888888888,
              "#fdca26"
             ],
             [
              1,
              "#f0f921"
             ]
            ],
            "type": "contour"
           }
          ],
          "contourcarpet": [
           {
            "colorbar": {
             "outlinewidth": 0,
             "ticks": ""
            },
            "type": "contourcarpet"
           }
          ],
          "heatmap": [
           {
            "colorbar": {
             "outlinewidth": 0,
             "ticks": ""
            },
            "colorscale": [
             [
              0,
              "#0d0887"
             ],
             [
              0.1111111111111111,
              "#46039f"
             ],
             [
              0.2222222222222222,
              "#7201a8"
             ],
             [
              0.3333333333333333,
              "#9c179e"
             ],
             [
              0.4444444444444444,
              "#bd3786"
             ],
             [
              0.5555555555555556,
              "#d8576b"
             ],
             [
              0.6666666666666666,
              "#ed7953"
             ],
             [
              0.7777777777777778,
              "#fb9f3a"
             ],
             [
              0.8888888888888888,
              "#fdca26"
             ],
             [
              1,
              "#f0f921"
             ]
            ],
            "type": "heatmap"
           }
          ],
          "heatmapgl": [
           {
            "colorbar": {
             "outlinewidth": 0,
             "ticks": ""
            },
            "colorscale": [
             [
              0,
              "#0d0887"
             ],
             [
              0.1111111111111111,
              "#46039f"
             ],
             [
              0.2222222222222222,
              "#7201a8"
             ],
             [
              0.3333333333333333,
              "#9c179e"
             ],
             [
              0.4444444444444444,
              "#bd3786"
             ],
             [
              0.5555555555555556,
              "#d8576b"
             ],
             [
              0.6666666666666666,
              "#ed7953"
             ],
             [
              0.7777777777777778,
              "#fb9f3a"
             ],
             [
              0.8888888888888888,
              "#fdca26"
             ],
             [
              1,
              "#f0f921"
             ]
            ],
            "type": "heatmapgl"
           }
          ],
          "histogram": [
           {
            "marker": {
             "pattern": {
              "fillmode": "overlay",
              "size": 10,
              "solidity": 0.2
             }
            },
            "type": "histogram"
           }
          ],
          "histogram2d": [
           {
            "colorbar": {
             "outlinewidth": 0,
             "ticks": ""
            },
            "colorscale": [
             [
              0,
              "#0d0887"
             ],
             [
              0.1111111111111111,
              "#46039f"
             ],
             [
              0.2222222222222222,
              "#7201a8"
             ],
             [
              0.3333333333333333,
              "#9c179e"
             ],
             [
              0.4444444444444444,
              "#bd3786"
             ],
             [
              0.5555555555555556,
              "#d8576b"
             ],
             [
              0.6666666666666666,
              "#ed7953"
             ],
             [
              0.7777777777777778,
              "#fb9f3a"
             ],
             [
              0.8888888888888888,
              "#fdca26"
             ],
             [
              1,
              "#f0f921"
             ]
            ],
            "type": "histogram2d"
           }
          ],
          "histogram2dcontour": [
           {
            "colorbar": {
             "outlinewidth": 0,
             "ticks": ""
            },
            "colorscale": [
             [
              0,
              "#0d0887"
             ],
             [
              0.1111111111111111,
              "#46039f"
             ],
             [
              0.2222222222222222,
              "#7201a8"
             ],
             [
              0.3333333333333333,
              "#9c179e"
             ],
             [
              0.4444444444444444,
              "#bd3786"
             ],
             [
              0.5555555555555556,
              "#d8576b"
             ],
             [
              0.6666666666666666,
              "#ed7953"
             ],
             [
              0.7777777777777778,
              "#fb9f3a"
             ],
             [
              0.8888888888888888,
              "#fdca26"
             ],
             [
              1,
              "#f0f921"
             ]
            ],
            "type": "histogram2dcontour"
           }
          ],
          "mesh3d": [
           {
            "colorbar": {
             "outlinewidth": 0,
             "ticks": ""
            },
            "type": "mesh3d"
           }
          ],
          "parcoords": [
           {
            "line": {
             "colorbar": {
              "outlinewidth": 0,
              "ticks": ""
             }
            },
            "type": "parcoords"
           }
          ],
          "pie": [
           {
            "automargin": true,
            "type": "pie"
           }
          ],
          "scatter": [
           {
            "fillpattern": {
             "fillmode": "overlay",
             "size": 10,
             "solidity": 0.2
            },
            "type": "scatter"
           }
          ],
          "scatter3d": [
           {
            "line": {
             "colorbar": {
              "outlinewidth": 0,
              "ticks": ""
             }
            },
            "marker": {
             "colorbar": {
              "outlinewidth": 0,
              "ticks": ""
             }
            },
            "type": "scatter3d"
           }
          ],
          "scattercarpet": [
           {
            "marker": {
             "colorbar": {
              "outlinewidth": 0,
              "ticks": ""
             }
            },
            "type": "scattercarpet"
           }
          ],
          "scattergeo": [
           {
            "marker": {
             "colorbar": {
              "outlinewidth": 0,
              "ticks": ""
             }
            },
            "type": "scattergeo"
           }
          ],
          "scattergl": [
           {
            "marker": {
             "colorbar": {
              "outlinewidth": 0,
              "ticks": ""
             }
            },
            "type": "scattergl"
           }
          ],
          "scattermapbox": [
           {
            "marker": {
             "colorbar": {
              "outlinewidth": 0,
              "ticks": ""
             }
            },
            "type": "scattermapbox"
           }
          ],
          "scatterpolar": [
           {
            "marker": {
             "colorbar": {
              "outlinewidth": 0,
              "ticks": ""
             }
            },
            "type": "scatterpolar"
           }
          ],
          "scatterpolargl": [
           {
            "marker": {
             "colorbar": {
              "outlinewidth": 0,
              "ticks": ""
             }
            },
            "type": "scatterpolargl"
           }
          ],
          "scatterternary": [
           {
            "marker": {
             "colorbar": {
              "outlinewidth": 0,
              "ticks": ""
             }
            },
            "type": "scatterternary"
           }
          ],
          "surface": [
           {
            "colorbar": {
             "outlinewidth": 0,
             "ticks": ""
            },
            "colorscale": [
             [
              0,
              "#0d0887"
             ],
             [
              0.1111111111111111,
              "#46039f"
             ],
             [
              0.2222222222222222,
              "#7201a8"
             ],
             [
              0.3333333333333333,
              "#9c179e"
             ],
             [
              0.4444444444444444,
              "#bd3786"
             ],
             [
              0.5555555555555556,
              "#d8576b"
             ],
             [
              0.6666666666666666,
              "#ed7953"
             ],
             [
              0.7777777777777778,
              "#fb9f3a"
             ],
             [
              0.8888888888888888,
              "#fdca26"
             ],
             [
              1,
              "#f0f921"
             ]
            ],
            "type": "surface"
           }
          ],
          "table": [
           {
            "cells": {
             "fill": {
              "color": "#EBF0F8"
             },
             "line": {
              "color": "white"
             }
            },
            "header": {
             "fill": {
              "color": "#C8D4E3"
             },
             "line": {
              "color": "white"
             }
            },
            "type": "table"
           }
          ]
         },
         "layout": {
          "annotationdefaults": {
           "arrowcolor": "#2a3f5f",
           "arrowhead": 0,
           "arrowwidth": 1
          },
          "autotypenumbers": "strict",
          "coloraxis": {
           "colorbar": {
            "outlinewidth": 0,
            "ticks": ""
           }
          },
          "colorscale": {
           "diverging": [
            [
             0,
             "#8e0152"
            ],
            [
             0.1,
             "#c51b7d"
            ],
            [
             0.2,
             "#de77ae"
            ],
            [
             0.3,
             "#f1b6da"
            ],
            [
             0.4,
             "#fde0ef"
            ],
            [
             0.5,
             "#f7f7f7"
            ],
            [
             0.6,
             "#e6f5d0"
            ],
            [
             0.7,
             "#b8e186"
            ],
            [
             0.8,
             "#7fbc41"
            ],
            [
             0.9,
             "#4d9221"
            ],
            [
             1,
             "#276419"
            ]
           ],
           "sequential": [
            [
             0,
             "#0d0887"
            ],
            [
             0.1111111111111111,
             "#46039f"
            ],
            [
             0.2222222222222222,
             "#7201a8"
            ],
            [
             0.3333333333333333,
             "#9c179e"
            ],
            [
             0.4444444444444444,
             "#bd3786"
            ],
            [
             0.5555555555555556,
             "#d8576b"
            ],
            [
             0.6666666666666666,
             "#ed7953"
            ],
            [
             0.7777777777777778,
             "#fb9f3a"
            ],
            [
             0.8888888888888888,
             "#fdca26"
            ],
            [
             1,
             "#f0f921"
            ]
           ],
           "sequentialminus": [
            [
             0,
             "#0d0887"
            ],
            [
             0.1111111111111111,
             "#46039f"
            ],
            [
             0.2222222222222222,
             "#7201a8"
            ],
            [
             0.3333333333333333,
             "#9c179e"
            ],
            [
             0.4444444444444444,
             "#bd3786"
            ],
            [
             0.5555555555555556,
             "#d8576b"
            ],
            [
             0.6666666666666666,
             "#ed7953"
            ],
            [
             0.7777777777777778,
             "#fb9f3a"
            ],
            [
             0.8888888888888888,
             "#fdca26"
            ],
            [
             1,
             "#f0f921"
            ]
           ]
          },
          "colorway": [
           "#636efa",
           "#EF553B",
           "#00cc96",
           "#ab63fa",
           "#FFA15A",
           "#19d3f3",
           "#FF6692",
           "#B6E880",
           "#FF97FF",
           "#FECB52"
          ],
          "font": {
           "color": "#2a3f5f"
          },
          "geo": {
           "bgcolor": "white",
           "lakecolor": "white",
           "landcolor": "#E5ECF6",
           "showlakes": true,
           "showland": true,
           "subunitcolor": "white"
          },
          "hoverlabel": {
           "align": "left"
          },
          "hovermode": "closest",
          "mapbox": {
           "style": "light"
          },
          "paper_bgcolor": "white",
          "plot_bgcolor": "#E5ECF6",
          "polar": {
           "angularaxis": {
            "gridcolor": "white",
            "linecolor": "white",
            "ticks": ""
           },
           "bgcolor": "#E5ECF6",
           "radialaxis": {
            "gridcolor": "white",
            "linecolor": "white",
            "ticks": ""
           }
          },
          "scene": {
           "xaxis": {
            "backgroundcolor": "#E5ECF6",
            "gridcolor": "white",
            "gridwidth": 2,
            "linecolor": "white",
            "showbackground": true,
            "ticks": "",
            "zerolinecolor": "white"
           },
           "yaxis": {
            "backgroundcolor": "#E5ECF6",
            "gridcolor": "white",
            "gridwidth": 2,
            "linecolor": "white",
            "showbackground": true,
            "ticks": "",
            "zerolinecolor": "white"
           },
           "zaxis": {
            "backgroundcolor": "#E5ECF6",
            "gridcolor": "white",
            "gridwidth": 2,
            "linecolor": "white",
            "showbackground": true,
            "ticks": "",
            "zerolinecolor": "white"
           }
          },
          "shapedefaults": {
           "line": {
            "color": "#2a3f5f"
           }
          },
          "ternary": {
           "aaxis": {
            "gridcolor": "white",
            "linecolor": "white",
            "ticks": ""
           },
           "baxis": {
            "gridcolor": "white",
            "linecolor": "white",
            "ticks": ""
           },
           "bgcolor": "#E5ECF6",
           "caxis": {
            "gridcolor": "white",
            "linecolor": "white",
            "ticks": ""
           }
          },
          "title": {
           "x": 0.05
          },
          "xaxis": {
           "automargin": true,
           "gridcolor": "white",
           "linecolor": "white",
           "ticks": "",
           "title": {
            "standoff": 15
           },
           "zerolinecolor": "white",
           "zerolinewidth": 2
          },
          "yaxis": {
           "automargin": true,
           "gridcolor": "white",
           "linecolor": "white",
           "ticks": "",
           "title": {
            "standoff": 15
           },
           "zerolinecolor": "white",
           "zerolinewidth": 2
          }
         }
        },
        "title": {
         "text": "Normalized Distribution of Hydrophobic.distance across All PDB Files"
        },
        "xaxis": {
         "title": {
          "text": "Hydrophobic.distance"
         }
        },
        "yaxis": {
         "title": {
          "text": "Normalized Count"
         }
        }
       }
      }
     },
     "metadata": {},
     "output_type": "display_data"
    },
    {
     "data": {
      "application/vnd.jupyter.widget-view+json": {
       "model_id": "7930a69cc07e49f192c691d17234d165",
       "version_major": 2,
       "version_minor": 0
      },
      "text/plain": [
       "interactive(children=(Dropdown(description='column', options=('Hydrophobic.distance', 'VdWContact.distance', '…"
      ]
     },
     "metadata": {},
     "output_type": "display_data"
    }
   ],
   "source": [
    "df2 = pd.read_csv('md_conf_snap_2_processed.csv')\n",
    "numeric_columns2 = [\n",
    "    col for col in df2.columns\n",
    "    if col not in ['PDB_File', 'Residue'] and pd.api.types.is_numeric_dtype(df2[col])\n",
    "]\n",
    "plot_normalized_distributions(df2, numeric_columns2)"
   ]
  },
  {
   "cell_type": "code",
   "execution_count": 11,
   "metadata": {},
   "outputs": [
    {
     "data": {
      "application/vnd.plotly.v1+json": {
       "config": {
        "plotlyServerURL": "https://plot.ly"
       },
       "data": [
        {
         "marker": {
          "color": "blue"
         },
         "name": "All PDB Files",
         "opacity": 0.75,
         "type": "bar",
         "x": [
          3.2675802223238852,
          3.292476219179587,
          3.3173722160352885,
          3.3422682128909904,
          3.3671642097466923,
          3.3920602066023937,
          3.4169562034580956,
          3.4418522003137975,
          3.4667481971694993,
          3.491644194025201,
          3.5165401908809026,
          3.5414361877366045,
          3.5663321845923064,
          3.591228181448008,
          3.6161241783037097,
          3.6410201751594116,
          3.6659161720151134,
          3.6908121688708153,
          3.7157081657265167,
          3.7406041625822186,
          3.7655001594379205,
          3.790396156293622,
          3.815292153149324,
          3.8401881500050257,
          3.8650841468607275,
          3.889980143716429,
          3.914876140572131,
          3.9397721374278327,
          3.9646681342835346,
          3.9895641311392365,
          4.014460127994939,
          4.03935612485064,
          4.064252121706341,
          4.0891481185620435,
          4.1140441154177445,
          4.138940112273447,
          4.163836109129148,
          4.188732105984851,
          4.213628102840552,
          4.238524099696253,
          4.263420096551956,
          4.288316093407657,
          4.3132120902633595,
          4.3381080871190605,
          4.363004083974763,
          4.387900080830464,
          4.412796077686166,
          4.437692074541868,
          4.462588071397569,
          4.487484068253272
         ],
         "y": [
          0.05646272518524176,
          0.0673871949256228,
          0.0799644408863455,
          0.09434832858149651,
          0.11068924998720443,
          0.1291306232286384,
          0.1498051805579281,
          0.17283114809986047,
          0.19830843212386592,
          0.22631493225279242,
          0.25690310131880434,
          0.2900968641980158,
          0.3258889940013739,
          0.3642390240037667,
          0.4050717485987614,
          0.44827633768641,
          0.49370605787538724,
          0.5411785626281376,
          0.5904766841528819,
          0.6413496347851437,
          0.6935145072465775,
          0.7466579539590615,
          0.8004379277917312,
          0.8544853820814788,
          0.9084058576325085,
          0.9617809287367508,
          1.0141695377057967,
          1.0651093148648432,
          1.114118053408372,
          1.1606955790297564,
          1.2043263142854517,
          1.2444828777166217,
          1.2806310682446784,
          1.3122365578282897,
          1.3387735438330168,
          1.3597354948346072,
          1.3746479623693304,
          1.383083234763629,
          1.384676391571172,
          1.3791420972375572,
          1.366291272819706,
          1.3460466286656765,
          1.3184559513272855,
          1.2837020328363693,
          1.2421082211170182,
          1.194138758978384,
          1.1403933578428342,
          1.0815958028651647,
          1.018576781166487,
          0.9522515308405815
         ]
        }
       ],
       "layout": {
        "barmode": "overlay",
        "template": {
         "data": {
          "bar": [
           {
            "error_x": {
             "color": "#2a3f5f"
            },
            "error_y": {
             "color": "#2a3f5f"
            },
            "marker": {
             "line": {
              "color": "#E5ECF6",
              "width": 0.5
             },
             "pattern": {
              "fillmode": "overlay",
              "size": 10,
              "solidity": 0.2
             }
            },
            "type": "bar"
           }
          ],
          "barpolar": [
           {
            "marker": {
             "line": {
              "color": "#E5ECF6",
              "width": 0.5
             },
             "pattern": {
              "fillmode": "overlay",
              "size": 10,
              "solidity": 0.2
             }
            },
            "type": "barpolar"
           }
          ],
          "carpet": [
           {
            "aaxis": {
             "endlinecolor": "#2a3f5f",
             "gridcolor": "white",
             "linecolor": "white",
             "minorgridcolor": "white",
             "startlinecolor": "#2a3f5f"
            },
            "baxis": {
             "endlinecolor": "#2a3f5f",
             "gridcolor": "white",
             "linecolor": "white",
             "minorgridcolor": "white",
             "startlinecolor": "#2a3f5f"
            },
            "type": "carpet"
           }
          ],
          "choropleth": [
           {
            "colorbar": {
             "outlinewidth": 0,
             "ticks": ""
            },
            "type": "choropleth"
           }
          ],
          "contour": [
           {
            "colorbar": {
             "outlinewidth": 0,
             "ticks": ""
            },
            "colorscale": [
             [
              0,
              "#0d0887"
             ],
             [
              0.1111111111111111,
              "#46039f"
             ],
             [
              0.2222222222222222,
              "#7201a8"
             ],
             [
              0.3333333333333333,
              "#9c179e"
             ],
             [
              0.4444444444444444,
              "#bd3786"
             ],
             [
              0.5555555555555556,
              "#d8576b"
             ],
             [
              0.6666666666666666,
              "#ed7953"
             ],
             [
              0.7777777777777778,
              "#fb9f3a"
             ],
             [
              0.8888888888888888,
              "#fdca26"
             ],
             [
              1,
              "#f0f921"
             ]
            ],
            "type": "contour"
           }
          ],
          "contourcarpet": [
           {
            "colorbar": {
             "outlinewidth": 0,
             "ticks": ""
            },
            "type": "contourcarpet"
           }
          ],
          "heatmap": [
           {
            "colorbar": {
             "outlinewidth": 0,
             "ticks": ""
            },
            "colorscale": [
             [
              0,
              "#0d0887"
             ],
             [
              0.1111111111111111,
              "#46039f"
             ],
             [
              0.2222222222222222,
              "#7201a8"
             ],
             [
              0.3333333333333333,
              "#9c179e"
             ],
             [
              0.4444444444444444,
              "#bd3786"
             ],
             [
              0.5555555555555556,
              "#d8576b"
             ],
             [
              0.6666666666666666,
              "#ed7953"
             ],
             [
              0.7777777777777778,
              "#fb9f3a"
             ],
             [
              0.8888888888888888,
              "#fdca26"
             ],
             [
              1,
              "#f0f921"
             ]
            ],
            "type": "heatmap"
           }
          ],
          "heatmapgl": [
           {
            "colorbar": {
             "outlinewidth": 0,
             "ticks": ""
            },
            "colorscale": [
             [
              0,
              "#0d0887"
             ],
             [
              0.1111111111111111,
              "#46039f"
             ],
             [
              0.2222222222222222,
              "#7201a8"
             ],
             [
              0.3333333333333333,
              "#9c179e"
             ],
             [
              0.4444444444444444,
              "#bd3786"
             ],
             [
              0.5555555555555556,
              "#d8576b"
             ],
             [
              0.6666666666666666,
              "#ed7953"
             ],
             [
              0.7777777777777778,
              "#fb9f3a"
             ],
             [
              0.8888888888888888,
              "#fdca26"
             ],
             [
              1,
              "#f0f921"
             ]
            ],
            "type": "heatmapgl"
           }
          ],
          "histogram": [
           {
            "marker": {
             "pattern": {
              "fillmode": "overlay",
              "size": 10,
              "solidity": 0.2
             }
            },
            "type": "histogram"
           }
          ],
          "histogram2d": [
           {
            "colorbar": {
             "outlinewidth": 0,
             "ticks": ""
            },
            "colorscale": [
             [
              0,
              "#0d0887"
             ],
             [
              0.1111111111111111,
              "#46039f"
             ],
             [
              0.2222222222222222,
              "#7201a8"
             ],
             [
              0.3333333333333333,
              "#9c179e"
             ],
             [
              0.4444444444444444,
              "#bd3786"
             ],
             [
              0.5555555555555556,
              "#d8576b"
             ],
             [
              0.6666666666666666,
              "#ed7953"
             ],
             [
              0.7777777777777778,
              "#fb9f3a"
             ],
             [
              0.8888888888888888,
              "#fdca26"
             ],
             [
              1,
              "#f0f921"
             ]
            ],
            "type": "histogram2d"
           }
          ],
          "histogram2dcontour": [
           {
            "colorbar": {
             "outlinewidth": 0,
             "ticks": ""
            },
            "colorscale": [
             [
              0,
              "#0d0887"
             ],
             [
              0.1111111111111111,
              "#46039f"
             ],
             [
              0.2222222222222222,
              "#7201a8"
             ],
             [
              0.3333333333333333,
              "#9c179e"
             ],
             [
              0.4444444444444444,
              "#bd3786"
             ],
             [
              0.5555555555555556,
              "#d8576b"
             ],
             [
              0.6666666666666666,
              "#ed7953"
             ],
             [
              0.7777777777777778,
              "#fb9f3a"
             ],
             [
              0.8888888888888888,
              "#fdca26"
             ],
             [
              1,
              "#f0f921"
             ]
            ],
            "type": "histogram2dcontour"
           }
          ],
          "mesh3d": [
           {
            "colorbar": {
             "outlinewidth": 0,
             "ticks": ""
            },
            "type": "mesh3d"
           }
          ],
          "parcoords": [
           {
            "line": {
             "colorbar": {
              "outlinewidth": 0,
              "ticks": ""
             }
            },
            "type": "parcoords"
           }
          ],
          "pie": [
           {
            "automargin": true,
            "type": "pie"
           }
          ],
          "scatter": [
           {
            "fillpattern": {
             "fillmode": "overlay",
             "size": 10,
             "solidity": 0.2
            },
            "type": "scatter"
           }
          ],
          "scatter3d": [
           {
            "line": {
             "colorbar": {
              "outlinewidth": 0,
              "ticks": ""
             }
            },
            "marker": {
             "colorbar": {
              "outlinewidth": 0,
              "ticks": ""
             }
            },
            "type": "scatter3d"
           }
          ],
          "scattercarpet": [
           {
            "marker": {
             "colorbar": {
              "outlinewidth": 0,
              "ticks": ""
             }
            },
            "type": "scattercarpet"
           }
          ],
          "scattergeo": [
           {
            "marker": {
             "colorbar": {
              "outlinewidth": 0,
              "ticks": ""
             }
            },
            "type": "scattergeo"
           }
          ],
          "scattergl": [
           {
            "marker": {
             "colorbar": {
              "outlinewidth": 0,
              "ticks": ""
             }
            },
            "type": "scattergl"
           }
          ],
          "scattermapbox": [
           {
            "marker": {
             "colorbar": {
              "outlinewidth": 0,
              "ticks": ""
             }
            },
            "type": "scattermapbox"
           }
          ],
          "scatterpolar": [
           {
            "marker": {
             "colorbar": {
              "outlinewidth": 0,
              "ticks": ""
             }
            },
            "type": "scatterpolar"
           }
          ],
          "scatterpolargl": [
           {
            "marker": {
             "colorbar": {
              "outlinewidth": 0,
              "ticks": ""
             }
            },
            "type": "scatterpolargl"
           }
          ],
          "scatterternary": [
           {
            "marker": {
             "colorbar": {
              "outlinewidth": 0,
              "ticks": ""
             }
            },
            "type": "scatterternary"
           }
          ],
          "surface": [
           {
            "colorbar": {
             "outlinewidth": 0,
             "ticks": ""
            },
            "colorscale": [
             [
              0,
              "#0d0887"
             ],
             [
              0.1111111111111111,
              "#46039f"
             ],
             [
              0.2222222222222222,
              "#7201a8"
             ],
             [
              0.3333333333333333,
              "#9c179e"
             ],
             [
              0.4444444444444444,
              "#bd3786"
             ],
             [
              0.5555555555555556,
              "#d8576b"
             ],
             [
              0.6666666666666666,
              "#ed7953"
             ],
             [
              0.7777777777777778,
              "#fb9f3a"
             ],
             [
              0.8888888888888888,
              "#fdca26"
             ],
             [
              1,
              "#f0f921"
             ]
            ],
            "type": "surface"
           }
          ],
          "table": [
           {
            "cells": {
             "fill": {
              "color": "#EBF0F8"
             },
             "line": {
              "color": "white"
             }
            },
            "header": {
             "fill": {
              "color": "#C8D4E3"
             },
             "line": {
              "color": "white"
             }
            },
            "type": "table"
           }
          ]
         },
         "layout": {
          "annotationdefaults": {
           "arrowcolor": "#2a3f5f",
           "arrowhead": 0,
           "arrowwidth": 1
          },
          "autotypenumbers": "strict",
          "coloraxis": {
           "colorbar": {
            "outlinewidth": 0,
            "ticks": ""
           }
          },
          "colorscale": {
           "diverging": [
            [
             0,
             "#8e0152"
            ],
            [
             0.1,
             "#c51b7d"
            ],
            [
             0.2,
             "#de77ae"
            ],
            [
             0.3,
             "#f1b6da"
            ],
            [
             0.4,
             "#fde0ef"
            ],
            [
             0.5,
             "#f7f7f7"
            ],
            [
             0.6,
             "#e6f5d0"
            ],
            [
             0.7,
             "#b8e186"
            ],
            [
             0.8,
             "#7fbc41"
            ],
            [
             0.9,
             "#4d9221"
            ],
            [
             1,
             "#276419"
            ]
           ],
           "sequential": [
            [
             0,
             "#0d0887"
            ],
            [
             0.1111111111111111,
             "#46039f"
            ],
            [
             0.2222222222222222,
             "#7201a8"
            ],
            [
             0.3333333333333333,
             "#9c179e"
            ],
            [
             0.4444444444444444,
             "#bd3786"
            ],
            [
             0.5555555555555556,
             "#d8576b"
            ],
            [
             0.6666666666666666,
             "#ed7953"
            ],
            [
             0.7777777777777778,
             "#fb9f3a"
            ],
            [
             0.8888888888888888,
             "#fdca26"
            ],
            [
             1,
             "#f0f921"
            ]
           ],
           "sequentialminus": [
            [
             0,
             "#0d0887"
            ],
            [
             0.1111111111111111,
             "#46039f"
            ],
            [
             0.2222222222222222,
             "#7201a8"
            ],
            [
             0.3333333333333333,
             "#9c179e"
            ],
            [
             0.4444444444444444,
             "#bd3786"
            ],
            [
             0.5555555555555556,
             "#d8576b"
            ],
            [
             0.6666666666666666,
             "#ed7953"
            ],
            [
             0.7777777777777778,
             "#fb9f3a"
            ],
            [
             0.8888888888888888,
             "#fdca26"
            ],
            [
             1,
             "#f0f921"
            ]
           ]
          },
          "colorway": [
           "#636efa",
           "#EF553B",
           "#00cc96",
           "#ab63fa",
           "#FFA15A",
           "#19d3f3",
           "#FF6692",
           "#B6E880",
           "#FF97FF",
           "#FECB52"
          ],
          "font": {
           "color": "#2a3f5f"
          },
          "geo": {
           "bgcolor": "white",
           "lakecolor": "white",
           "landcolor": "#E5ECF6",
           "showlakes": true,
           "showland": true,
           "subunitcolor": "white"
          },
          "hoverlabel": {
           "align": "left"
          },
          "hovermode": "closest",
          "mapbox": {
           "style": "light"
          },
          "paper_bgcolor": "white",
          "plot_bgcolor": "#E5ECF6",
          "polar": {
           "angularaxis": {
            "gridcolor": "white",
            "linecolor": "white",
            "ticks": ""
           },
           "bgcolor": "#E5ECF6",
           "radialaxis": {
            "gridcolor": "white",
            "linecolor": "white",
            "ticks": ""
           }
          },
          "scene": {
           "xaxis": {
            "backgroundcolor": "#E5ECF6",
            "gridcolor": "white",
            "gridwidth": 2,
            "linecolor": "white",
            "showbackground": true,
            "ticks": "",
            "zerolinecolor": "white"
           },
           "yaxis": {
            "backgroundcolor": "#E5ECF6",
            "gridcolor": "white",
            "gridwidth": 2,
            "linecolor": "white",
            "showbackground": true,
            "ticks": "",
            "zerolinecolor": "white"
           },
           "zaxis": {
            "backgroundcolor": "#E5ECF6",
            "gridcolor": "white",
            "gridwidth": 2,
            "linecolor": "white",
            "showbackground": true,
            "ticks": "",
            "zerolinecolor": "white"
           }
          },
          "shapedefaults": {
           "line": {
            "color": "#2a3f5f"
           }
          },
          "ternary": {
           "aaxis": {
            "gridcolor": "white",
            "linecolor": "white",
            "ticks": ""
           },
           "baxis": {
            "gridcolor": "white",
            "linecolor": "white",
            "ticks": ""
           },
           "bgcolor": "#E5ECF6",
           "caxis": {
            "gridcolor": "white",
            "linecolor": "white",
            "ticks": ""
           }
          },
          "title": {
           "x": 0.05
          },
          "xaxis": {
           "automargin": true,
           "gridcolor": "white",
           "linecolor": "white",
           "ticks": "",
           "title": {
            "standoff": 15
           },
           "zerolinecolor": "white",
           "zerolinewidth": 2
          },
          "yaxis": {
           "automargin": true,
           "gridcolor": "white",
           "linecolor": "white",
           "ticks": "",
           "title": {
            "standoff": 15
           },
           "zerolinecolor": "white",
           "zerolinewidth": 2
          }
         }
        },
        "title": {
         "text": "Normalized Distribution of Hydrophobic.distance across All PDB Files"
        },
        "xaxis": {
         "title": {
          "text": "Hydrophobic.distance"
         }
        },
        "yaxis": {
         "title": {
          "text": "Normalized Count"
         }
        }
       }
      }
     },
     "metadata": {},
     "output_type": "display_data"
    },
    {
     "data": {
      "application/vnd.jupyter.widget-view+json": {
       "model_id": "36fb2f8c45084bb69470568fb2c840c2",
       "version_major": 2,
       "version_minor": 0
      },
      "text/plain": [
       "interactive(children=(Dropdown(description='column', options=('Hydrophobic.distance', 'VdWContact.distance', '…"
      ]
     },
     "metadata": {},
     "output_type": "display_data"
    }
   ],
   "source": [
    "df3 = pd.read_csv('md_conf_snap_4_processed.csv')\n",
    "numeric_columns3 = [\n",
    "    col for col in df3.columns\n",
    "    if col not in ['PDB_File', 'Residue'] and pd.api.types.is_numeric_dtype(df3[col])\n",
    "]\n",
    "plot_normalized_distributions(df3, numeric_columns3)"
   ]
  },
  {
   "cell_type": "markdown",
   "metadata": {},
   "source": [
    "#### Mean and confidence interval \n",
    "##### Smoothed with a rolling window of 25 "
   ]
  },
  {
   "cell_type": "code",
   "execution_count": 12,
   "metadata": {},
   "outputs": [],
   "source": [
    "def plot_mean_with_confidence_intervals(df, numeric_columns, window_size=5):\n",
    "    @interact(column=numeric_columns)\n",
    "    def make_plot(column):\n",
    "        grouped = df.groupby('PDB_File')[column]\n",
    "        means = grouped.mean()\n",
    "        sems = grouped.sem()  # Standard error of the mean\n",
    "\n",
    "        # Apply moving average to smooth the mean and confidence intervals\n",
    "        smoothed_means = means.rolling(window=window_size, center=True).mean()\n",
    "        smoothed_upper = (means + sems).rolling(window=window_size, center=True).mean()\n",
    "        smoothed_lower = (means - sems).rolling(window=window_size, center=True).mean()\n",
    "\n",
    "        fig = go.Figure()\n",
    "\n",
    "        # Add smoothed mean line\n",
    "        fig.add_trace(go.Scatter(\n",
    "            x=smoothed_means.index,\n",
    "            y=smoothed_means.values,\n",
    "            mode='lines+markers',\n",
    "            name='Mean (Smoothed)',\n",
    "            line=dict(color='blue')\n",
    "        ))\n",
    "\n",
    "        # Add smoothed confidence interval\n",
    "        fig.add_trace(go.Scatter(\n",
    "            x=smoothed_upper.index,\n",
    "            y=smoothed_upper.values,\n",
    "            fill=None,\n",
    "            mode='lines',\n",
    "            line=dict(color='lightblue'),\n",
    "            showlegend=True,\n",
    "            name='Confidence Interval Upper (Smoothed)'\n",
    "        ))\n",
    "\n",
    "        fig.add_trace(go.Scatter(\n",
    "            x=smoothed_lower.index,\n",
    "            y=smoothed_lower.values,\n",
    "            fill='tonexty',  # Fill the area between this trace and the previous one\n",
    "            mode='lines',\n",
    "            line=dict(color='lightblue'),\n",
    "            name='Confidence Interval Lower (Smoothed)'\n",
    "        ))\n",
    "\n",
    "        fig.update_layout(\n",
    "            title=f'Mean and Confidence Interval of {column} across PDB Files (Smoothed)',\n",
    "            xaxis_title='PDB File',\n",
    "            yaxis_title=column,\n",
    "            legend_title='Legend'\n",
    "        )\n",
    "\n",
    "        fig.show()"
   ]
  },
  {
   "cell_type": "code",
   "execution_count": 13,
   "metadata": {},
   "outputs": [
    {
     "data": {
      "application/vnd.plotly.v1+json": {
       "config": {
        "plotlyServerURL": "https://plot.ly"
       },
       "data": [
        {
         "line": {
          "color": "blue"
         },
         "mode": "lines+markers",
         "name": "Mean (Smoothed)",
         "type": "scatter",
         "x": [
          0,
          1,
          2,
          3,
          4,
          5,
          6,
          7,
          8,
          9,
          10,
          11,
          12,
          13,
          14,
          15,
          16,
          17,
          18,
          19,
          20,
          21,
          22,
          23,
          24,
          25,
          26,
          27,
          28,
          29,
          30,
          31,
          32,
          33,
          34,
          35,
          36,
          37,
          38,
          39,
          40,
          41,
          42,
          43,
          44,
          45,
          46,
          47,
          48,
          49,
          50,
          51,
          52,
          53,
          54,
          55,
          56,
          57,
          58,
          59,
          60,
          61,
          62,
          63,
          64,
          65,
          66,
          67,
          68,
          69,
          70,
          71,
          72,
          73,
          74,
          75,
          76,
          77,
          78,
          79,
          80,
          81,
          82,
          83,
          84,
          85,
          86,
          87,
          88,
          89,
          90,
          91,
          92,
          93,
          94,
          95,
          96,
          97,
          98,
          99,
          100,
          101,
          102,
          103,
          104,
          105,
          106,
          107,
          108,
          109,
          110,
          111,
          112,
          113,
          114,
          115,
          116,
          117,
          118,
          119,
          120,
          121,
          122,
          123,
          124,
          125,
          126,
          127,
          128,
          129,
          130,
          131,
          132,
          133,
          134,
          135,
          136,
          137,
          138,
          139,
          140,
          141,
          142,
          143,
          144,
          145,
          146,
          147,
          148,
          149,
          150,
          151,
          152,
          153,
          154,
          155,
          156,
          157,
          158,
          159,
          160,
          161,
          162,
          163,
          164,
          165,
          166,
          167,
          168,
          169,
          170,
          171,
          172,
          173,
          174,
          175,
          176,
          177,
          178,
          179,
          180,
          181,
          182,
          183,
          184,
          185,
          186,
          187,
          188,
          189,
          190,
          191,
          192,
          193,
          194,
          195,
          196,
          197,
          198,
          199,
          200,
          201,
          202,
          203,
          204,
          205,
          206,
          207,
          208,
          209,
          210,
          211,
          212,
          213,
          214,
          215,
          216,
          217,
          218,
          219,
          220,
          221,
          222,
          223,
          224,
          225,
          226,
          227,
          228,
          229,
          230,
          231,
          232,
          233,
          234,
          235,
          236,
          237,
          238,
          239,
          240,
          241,
          242,
          243,
          244,
          245,
          246,
          247,
          248,
          249,
          250,
          251,
          252,
          253,
          254,
          255,
          256,
          257,
          258,
          259,
          260,
          261,
          263,
          264,
          265,
          266,
          267,
          268,
          269,
          270,
          271,
          272,
          273,
          274,
          275,
          276,
          277,
          278,
          279,
          280,
          281,
          282,
          283,
          284,
          285,
          286,
          287,
          288,
          289,
          290,
          291,
          292,
          293,
          294,
          295,
          296,
          297,
          298,
          299,
          300,
          301,
          302,
          303,
          304,
          305,
          306,
          307,
          308,
          309,
          310,
          311,
          312,
          313,
          314,
          315,
          316,
          317,
          318,
          319,
          320,
          321,
          322,
          323,
          324,
          325,
          326,
          327,
          328,
          329,
          330,
          331,
          332,
          333,
          334,
          335,
          336,
          337,
          338,
          339,
          340,
          341,
          342,
          343,
          344,
          345,
          346,
          347,
          348,
          349,
          350,
          351,
          352,
          353,
          354,
          355,
          356,
          357,
          358,
          359,
          360,
          361,
          362,
          363,
          364,
          365,
          366,
          367,
          368,
          369,
          370,
          371,
          372,
          373,
          374,
          375,
          376,
          377,
          378,
          379,
          380,
          381,
          382,
          383,
          384,
          385,
          386,
          387,
          388,
          389,
          390,
          391,
          392,
          393,
          394,
          395,
          396,
          397,
          398,
          399,
          400,
          401,
          402,
          403,
          404,
          405,
          406,
          407,
          408,
          409,
          410,
          411,
          412,
          413,
          414,
          415,
          416,
          417,
          418,
          419,
          420,
          421,
          422,
          423,
          424,
          425,
          426,
          427,
          428,
          429,
          430,
          431,
          432,
          433,
          434,
          435,
          436,
          437,
          438,
          439,
          440,
          441,
          442,
          443,
          444,
          445,
          446,
          447,
          448,
          449,
          450,
          451,
          452,
          453,
          454,
          455,
          456,
          457,
          458,
          459,
          460,
          461,
          462,
          463,
          464,
          465,
          466,
          467,
          468,
          469,
          470,
          471,
          472,
          473,
          474,
          475,
          476,
          477,
          478,
          479,
          480,
          481,
          482,
          483,
          484,
          485,
          486,
          487,
          488,
          489,
          490,
          491,
          492,
          493,
          494,
          495,
          496,
          497,
          498,
          499,
          500
         ],
         "y": [
          null,
          null,
          null,
          null,
          null,
          null,
          null,
          null,
          null,
          null,
          null,
          null,
          4.217519779513884,
          4.218695904775702,
          4.220439663154779,
          4.2202928027974504,
          4.222962257922277,
          4.219671040968226,
          4.21558100492015,
          4.214427046560862,
          4.211389578614963,
          4.210149932140527,
          4.2099475878652255,
          4.205534065576702,
          4.207927637967334,
          4.201426490417232,
          4.207611480567142,
          4.210678244456941,
          4.210427135137813,
          4.214675213035021,
          4.217486658866752,
          4.22218110409284,
          4.223164937564569,
          4.222477495317722,
          4.2217599703796385,
          4.230662257153135,
          4.22543203665378,
          4.222871118713426,
          4.2239555788120935,
          4.220520387450892,
          4.2200949824921965,
          4.216448211727343,
          4.215725029319304,
          4.211982890757363,
          4.2114484627538475,
          4.212278382993255,
          4.218446103220007,
          4.218177666819841,
          4.219816720946757,
          4.219117504811244,
          4.222805187995564,
          4.219522114544848,
          4.217488068180868,
          4.213208894318805,
          4.216979411998502,
          4.211496338373753,
          4.208391459675684,
          4.202850360874047,
          4.197954873259695,
          4.19610200333255,
          4.186394692470762,
          4.186329645677685,
          4.190799136683739,
          4.19500175498871,
          4.1982701437308085,
          4.19547202113576,
          4.195116494206045,
          4.1973576766917375,
          4.20104644525584,
          4.202596186816399,
          4.205577105117826,
          4.202852601053295,
          4.203601803527342,
          4.202804333182738,
          4.200767902610762,
          4.202386827040914,
          4.202976369659541,
          4.2028074920567455,
          4.202188787461443,
          4.196637757205192,
          4.196168410640313,
          4.196861812543088,
          4.195130653626433,
          4.195643657250695,
          4.1893794452074555,
          4.1890019416621005,
          4.1896204386175775,
          4.1856427435318135,
          4.180247533133767,
          4.184866951519718,
          4.1896413396936545,
          4.185135309197372,
          4.1863495652093015,
          4.184249239110405,
          4.1833884889106425,
          4.181837250182162,
          4.1839810967932545,
          4.185649649796614,
          4.182332497099638,
          4.186302885756827,
          4.184507630620825,
          4.185983385193494,
          4.183091005696283,
          4.185911239859854,
          4.1864482598696515,
          4.188252828594202,
          4.181233862361494,
          4.181414477006962,
          4.18504092209393,
          4.1929982454654,
          4.195936275239452,
          4.196101155619962,
          4.192858589819064,
          4.193342427729421,
          4.191424194317746,
          4.189723687918599,
          4.198106636136034,
          4.1963743454877225,
          4.1964943827675585,
          4.199496695137927,
          4.200516788844485,
          4.196641714233135,
          4.193747418369312,
          4.196825502677696,
          4.197577539929096,
          4.1981210979036465,
          4.198563643381067,
          4.204769937933104,
          4.203762995053731,
          4.206059500085487,
          4.206992594566446,
          4.21202749645038,
          4.21804489452259,
          4.214541065009788,
          4.216242516025861,
          4.217587148526093,
          4.216330903130974,
          4.222420440650259,
          4.2225189342878195,
          4.2235790639746345,
          4.223919993959704,
          4.223016971595528,
          4.220344153640419,
          4.222146759782067,
          4.218436160447871,
          4.214942562503803,
          4.218793797493737,
          4.223280363744064,
          4.2265020429203455,
          4.223954153290613,
          4.228475075148227,
          4.2261183248110115,
          4.223824251302483,
          4.2268876638895625,
          4.227276968702614,
          4.230648051527196,
          4.230031787589609,
          4.228227157222754,
          4.2297712327052155,
          4.228380238672255,
          4.231578962061336,
          4.230060080564539,
          4.232478847650587,
          4.2297833201545725,
          4.231514583224058,
          4.229131373086377,
          4.227284246492116,
          4.228428519891676,
          4.230539272630247,
          4.225217650766636,
          4.230102221190016,
          4.232290998605514,
          4.2298611143450024,
          4.226123929302486,
          4.225144832594605,
          4.222391719952962,
          4.22578728975669,
          4.221770781734374,
          4.21681969787156,
          4.210278710434688,
          4.20408903160457,
          4.20439976334461,
          4.203483800630662,
          4.2063176739499815,
          4.204841027520539,
          4.205416403796673,
          4.200695830912761,
          4.195408897019227,
          4.199963376700975,
          4.197274588131998,
          4.195321643097963,
          4.195625537169982,
          4.199269495793834,
          4.194511132494522,
          4.200544317404465,
          4.198392170981189,
          4.192328621463704,
          4.187551523126504,
          4.186259253206539,
          4.18766780929954,
          4.18404230760061,
          4.181044450968063,
          4.184674380875759,
          4.182818742614624,
          4.187891065170869,
          4.1914229142470285,
          4.18806612362482,
          4.190427985194732,
          4.18730692230554,
          4.189126046142445,
          4.181448250301031,
          4.186034526398554,
          4.18791394271911,
          4.186793078294636,
          4.181747418945322,
          4.188492382508574,
          4.187228129416382,
          4.187969898850252,
          4.197569335351268,
          4.201171608404191,
          4.1949793122761205,
          4.197137852773505,
          4.200715947239874,
          4.201775178075089,
          4.202979209669438,
          4.207165827759764,
          4.203936022390547,
          4.19975072565465,
          4.205067092399053,
          4.207431311776586,
          4.207097811608493,
          4.213291712036953,
          4.214746437924987,
          4.219504212487564,
          4.219383113331637,
          4.214884207443908,
          4.217822078908506,
          4.215064443737472,
          4.216462794001185,
          4.218723440944995,
          4.215134507568086,
          4.213709876613919,
          4.2119077612557625,
          4.209569120848509,
          4.211053062911422,
          4.2190094095109885,
          4.219887608398566,
          4.22268170664,
          4.228300238937873,
          4.227165460650319,
          4.225784645084795,
          4.232315363156145,
          4.236896475147107,
          4.232170622533365,
          4.233618114667942,
          4.225156423171239,
          4.223543567951479,
          4.223475112052354,
          4.222928798813483,
          4.222868523137364,
          4.232978618521457,
          4.231829156192127,
          4.23663493446704,
          4.237277281651553,
          4.232317592473546,
          4.231232179472815,
          4.236165060273782,
          4.235054642305042,
          4.2348748057263395,
          4.228446881044997,
          4.224690382509407,
          4.226315687334128,
          4.224865533015198,
          4.220949795921337,
          4.225481462638404,
          4.2248429286543185,
          4.2197410575306655,
          4.2179971660082005,
          4.221349353423228,
          4.217376229559109,
          4.22476504125818,
          4.222116947012056,
          4.218081186167417,
          4.217609373542416,
          4.21524896800506,
          4.214231875778325,
          4.21276243868477,
          4.2129216713806885,
          4.206983809968798,
          4.212915247181029,
          4.206673266573924,
          4.204597203697894,
          4.203128459969841,
          4.199427026987751,
          4.197062525332744,
          4.198878731168006,
          4.195382091138557,
          4.192112941434475,
          4.188335646179913,
          4.18060811909254,
          4.1773684775525,
          4.181411365489012,
          4.182191962355752,
          4.180269021118943,
          4.180722228650389,
          4.184280142765381,
          4.186891418940668,
          4.186386921822894,
          4.1811829960924705,
          4.177914682003156,
          4.174809100235126,
          4.173118643953185,
          4.171093637589938,
          4.1731921931968206,
          4.173939068283804,
          4.180866481930147,
          4.1793003035179614,
          4.175717007552126,
          4.174328116731608,
          4.171603300019842,
          4.1667528981850985,
          4.165762320889429,
          4.163462786859566,
          4.169923665416902,
          4.1711741152576876,
          4.174496670282586,
          4.176220934648598,
          4.173179669827913,
          4.1740314213147025,
          4.1735721344037575,
          4.168956567256051,
          4.170538550861223,
          4.165245697629543,
          4.172528122064502,
          4.180098066367044,
          4.17966829962169,
          4.179604233578013,
          4.178184485409813,
          4.1818147684816145,
          4.176342651994136,
          4.179421873114319,
          4.178058056752628,
          4.182464205321473,
          4.185605065848454,
          4.190141720217003,
          4.193722957456756,
          4.195630382624441,
          4.199303802294377,
          4.197601385089731,
          4.199706545569047,
          4.197317480141737,
          4.192490670015142,
          4.1967612971395765,
          4.198417123252092,
          4.195579666291249,
          4.19685420781493,
          4.190174890431172,
          4.196661986181664,
          4.194516129850936,
          4.191495160811012,
          4.191710591678255,
          4.191231649426926,
          4.1919516601073346,
          4.18264622784512,
          4.189919041325997,
          4.18985465271959,
          4.188163031666051,
          4.189039458659044,
          4.186218609341838,
          4.184819303154924,
          4.180030793760201,
          4.179584776663598,
          4.17813151979986,
          4.17691068513343,
          4.176566104640616,
          4.180233714299855,
          4.180371325665142,
          4.174482902231348,
          4.171645942302033,
          4.168260780500532,
          4.162731768453145,
          4.170583874949305,
          4.169831046584104,
          4.17107853554632,
          4.172948934416385,
          4.171309149212716,
          4.172869693230115,
          4.174599523326324,
          4.182335503355157,
          4.178193571325084,
          4.172953838859612,
          4.176492419075234,
          4.176995158905841,
          4.180697380324532,
          4.182804896527517,
          4.189906098051805,
          4.195488400673392,
          4.194335952174049,
          4.194947539736398,
          4.197898461658999,
          4.193826603403492,
          4.191332311443864,
          4.19163292190879,
          4.192490059412581,
          4.19785841307877,
          4.198515168078181,
          4.19212538467316,
          4.1872603618956346,
          4.179734082509287,
          4.177032992807508,
          4.174658559120035,
          4.1708895171232445,
          4.171999179065591,
          4.170578756818465,
          4.167682357470041,
          4.170482644193758,
          4.167341507316646,
          4.159931473932784,
          4.153638952424523,
          4.154103327710297,
          4.153001183545588,
          4.1466877302349925,
          4.149618191512241,
          4.148518650263525,
          4.143658690362141,
          4.144549137461798,
          4.144206904726617,
          4.148401338258035,
          4.147474551489254,
          4.143019612517197,
          4.1438149181825725,
          4.145342932590683,
          4.145493901317296,
          4.148163889876474,
          4.144357610596874,
          4.147511640370398,
          4.153878828463354,
          4.148831682914164,
          4.146224357620926,
          4.144865779759007,
          4.14730206042731,
          4.150120314699797,
          4.150904358526171,
          4.152835725806044,
          4.149680344811752,
          4.144368456968864,
          4.1425035155305645,
          4.134787593579635,
          4.136798119707903,
          4.1353770447197915,
          4.138018685883124,
          4.140840089145931,
          4.138798842271722,
          4.140494283388251,
          4.146174128660436,
          4.14560250036813,
          4.143587579748303,
          4.147675227919928,
          4.144996024736159,
          4.146247162531404,
          4.148929301890923,
          4.146879371185074,
          4.151157815567054,
          4.154900326205453,
          4.161530655926123,
          4.163863004666429,
          4.165287666765423,
          4.169746341938122,
          4.1721616555121726,
          4.173207452102293,
          4.173999949826563,
          4.176349442451105,
          4.180885837204947,
          4.181520904549416,
          4.1844047989384645,
          4.183682934255725,
          4.1889176244680595,
          4.190868944072941,
          4.1896039218654355,
          4.190840407292694,
          4.193923050596002,
          4.194410586914928,
          4.189228940297964,
          4.19507229321244,
          4.201876127611451,
          4.207086092670755,
          4.211097592379565,
          4.210433519611926,
          null,
          null,
          null,
          null,
          null,
          null,
          null,
          null,
          null,
          null,
          null,
          null
         ]
        },
        {
         "line": {
          "color": "lightblue"
         },
         "mode": "lines",
         "name": "Confidence Interval Upper (Smoothed)",
         "showlegend": true,
         "type": "scatter",
         "x": [
          0,
          1,
          2,
          3,
          4,
          5,
          6,
          7,
          8,
          9,
          10,
          11,
          12,
          13,
          14,
          15,
          16,
          17,
          18,
          19,
          20,
          21,
          22,
          23,
          24,
          25,
          26,
          27,
          28,
          29,
          30,
          31,
          32,
          33,
          34,
          35,
          36,
          37,
          38,
          39,
          40,
          41,
          42,
          43,
          44,
          45,
          46,
          47,
          48,
          49,
          50,
          51,
          52,
          53,
          54,
          55,
          56,
          57,
          58,
          59,
          60,
          61,
          62,
          63,
          64,
          65,
          66,
          67,
          68,
          69,
          70,
          71,
          72,
          73,
          74,
          75,
          76,
          77,
          78,
          79,
          80,
          81,
          82,
          83,
          84,
          85,
          86,
          87,
          88,
          89,
          90,
          91,
          92,
          93,
          94,
          95,
          96,
          97,
          98,
          99,
          100,
          101,
          102,
          103,
          104,
          105,
          106,
          107,
          108,
          109,
          110,
          111,
          112,
          113,
          114,
          115,
          116,
          117,
          118,
          119,
          120,
          121,
          122,
          123,
          124,
          125,
          126,
          127,
          128,
          129,
          130,
          131,
          132,
          133,
          134,
          135,
          136,
          137,
          138,
          139,
          140,
          141,
          142,
          143,
          144,
          145,
          146,
          147,
          148,
          149,
          150,
          151,
          152,
          153,
          154,
          155,
          156,
          157,
          158,
          159,
          160,
          161,
          162,
          163,
          164,
          165,
          166,
          167,
          168,
          169,
          170,
          171,
          172,
          173,
          174,
          175,
          176,
          177,
          178,
          179,
          180,
          181,
          182,
          183,
          184,
          185,
          186,
          187,
          188,
          189,
          190,
          191,
          192,
          193,
          194,
          195,
          196,
          197,
          198,
          199,
          200,
          201,
          202,
          203,
          204,
          205,
          206,
          207,
          208,
          209,
          210,
          211,
          212,
          213,
          214,
          215,
          216,
          217,
          218,
          219,
          220,
          221,
          222,
          223,
          224,
          225,
          226,
          227,
          228,
          229,
          230,
          231,
          232,
          233,
          234,
          235,
          236,
          237,
          238,
          239,
          240,
          241,
          242,
          243,
          244,
          245,
          246,
          247,
          248,
          249,
          250,
          251,
          252,
          253,
          254,
          255,
          256,
          257,
          258,
          259,
          260,
          261,
          263,
          264,
          265,
          266,
          267,
          268,
          269,
          270,
          271,
          272,
          273,
          274,
          275,
          276,
          277,
          278,
          279,
          280,
          281,
          282,
          283,
          284,
          285,
          286,
          287,
          288,
          289,
          290,
          291,
          292,
          293,
          294,
          295,
          296,
          297,
          298,
          299,
          300,
          301,
          302,
          303,
          304,
          305,
          306,
          307,
          308,
          309,
          310,
          311,
          312,
          313,
          314,
          315,
          316,
          317,
          318,
          319,
          320,
          321,
          322,
          323,
          324,
          325,
          326,
          327,
          328,
          329,
          330,
          331,
          332,
          333,
          334,
          335,
          336,
          337,
          338,
          339,
          340,
          341,
          342,
          343,
          344,
          345,
          346,
          347,
          348,
          349,
          350,
          351,
          352,
          353,
          354,
          355,
          356,
          357,
          358,
          359,
          360,
          361,
          362,
          363,
          364,
          365,
          366,
          367,
          368,
          369,
          370,
          371,
          372,
          373,
          374,
          375,
          376,
          377,
          378,
          379,
          380,
          381,
          382,
          383,
          384,
          385,
          386,
          387,
          388,
          389,
          390,
          391,
          392,
          393,
          394,
          395,
          396,
          397,
          398,
          399,
          400,
          401,
          402,
          403,
          404,
          405,
          406,
          407,
          408,
          409,
          410,
          411,
          412,
          413,
          414,
          415,
          416,
          417,
          418,
          419,
          420,
          421,
          422,
          423,
          424,
          425,
          426,
          427,
          428,
          429,
          430,
          431,
          432,
          433,
          434,
          435,
          436,
          437,
          438,
          439,
          440,
          441,
          442,
          443,
          444,
          445,
          446,
          447,
          448,
          449,
          450,
          451,
          452,
          453,
          454,
          455,
          456,
          457,
          458,
          459,
          460,
          461,
          462,
          463,
          464,
          465,
          466,
          467,
          468,
          469,
          470,
          471,
          472,
          473,
          474,
          475,
          476,
          477,
          478,
          479,
          480,
          481,
          482,
          483,
          484,
          485,
          486,
          487,
          488,
          489,
          490,
          491,
          492,
          493,
          494,
          495,
          496,
          497,
          498,
          499,
          500
         ],
         "y": [
          null,
          null,
          null,
          null,
          null,
          null,
          null,
          null,
          null,
          null,
          null,
          null,
          4.259489527193989,
          4.259854351067236,
          4.260914655336806,
          4.2603378324253836,
          4.263454413179107,
          4.260124720189683,
          4.255634637059938,
          4.254687252879673,
          4.25228211925745,
          4.251174332966172,
          4.251018713722847,
          4.247523845206085,
          4.24977301197122,
          4.2437389557247585,
          4.249693590529194,
          4.2530052311744715,
          4.252623332660388,
          4.256853893773671,
          4.259732143636944,
          4.263526037785276,
          4.264374467729842,
          4.263719162532294,
          4.2631032506741855,
          4.271345417955632,
          4.2667379623060055,
          4.2645317528471205,
          4.266037933793229,
          4.263412187997477,
          4.262860763623192,
          4.259348472488868,
          4.258832435027164,
          4.255969582531915,
          4.255613991822257,
          4.25671295821564,
          4.2626089298356264,
          4.262418427915133,
          4.264103712901616,
          4.263765086150986,
          4.267611206706425,
          4.263908084171675,
          4.261175159853367,
          4.25745316160831,
          4.260286515365974,
          4.2551899784733,
          4.25306628884207,
          4.2480096918262245,
          4.243080324331322,
          4.2413417691170885,
          4.232157616631602,
          4.231350121759859,
          4.23538387064186,
          4.239439631713889,
          4.242280096039905,
          4.239497875151188,
          4.238815745382525,
          4.240693584287882,
          4.243911528081302,
          4.245034071574129,
          4.248137637882331,
          4.245951379078042,
          4.247377966720676,
          4.245777471249386,
          4.244472979632515,
          4.2454365931100195,
          4.246473138357768,
          4.246520361174193,
          4.245851864724694,
          4.2407184672510105,
          4.240588400618787,
          4.240786858133899,
          4.239946193015564,
          4.240378893647454,
          4.234369267367153,
          4.234143029222477,
          4.235136255197581,
          4.2321330602011225,
          4.226998554089457,
          4.231421104966368,
          4.236701791650996,
          4.2326863466894995,
          4.233744952424965,
          4.231946161075981,
          4.231159457511842,
          4.2293466971079665,
          4.230797320991813,
          4.231980338723707,
          4.229229069754296,
          4.232080664915274,
          4.230673762067195,
          4.231742103920588,
          4.228921337703219,
          4.231313648371156,
          4.2322108150815545,
          4.233560030977243,
          4.227135197697246,
          4.227389346105665,
          4.231433773029898,
          4.238725331222124,
          4.24134032378558,
          4.24099172158951,
          4.237284069755079,
          4.23802425395158,
          4.236074268395176,
          4.234488213438413,
          4.24266515081071,
          4.241511750014218,
          4.241334922006099,
          4.244000135501193,
          4.244421990986738,
          4.241002652241304,
          4.23830190631808,
          4.240792258455909,
          4.24136076492134,
          4.2413150702829965,
          4.241543369164216,
          4.247601560242004,
          4.246991969619924,
          4.24857135353217,
          4.248812038576701,
          4.253643881548305,
          4.259144989468541,
          4.255310868921118,
          4.257461489055598,
          4.259325264428072,
          4.257971344524306,
          4.263560425255422,
          4.263074119092687,
          4.2638774549844936,
          4.263929841187773,
          4.262726030290196,
          4.259859731029528,
          4.262379133373457,
          4.258472405566748,
          4.255310795289639,
          4.258886471227988,
          4.262789674542939,
          4.26652679730861,
          4.264444111729957,
          4.2685640071028965,
          4.267114849110558,
          4.264554871566237,
          4.266941610643353,
          4.267842913048748,
          4.271872276015005,
          4.270999486806739,
          4.26876355364452,
          4.27021131170816,
          4.268080066676061,
          4.270605554334387,
          4.269629150519243,
          4.271946473964765,
          4.269489247944453,
          4.2711777581980375,
          4.268322634940285,
          4.266845972911771,
          4.268220993504521,
          4.269884808021709,
          4.265674140029851,
          4.269985378548935,
          4.271905043668056,
          4.269200317573253,
          4.265323881442182,
          4.264766744329146,
          4.262534984658936,
          4.265621689157929,
          4.261714678920976,
          4.257160746267756,
          4.250613620825153,
          4.244610359621203,
          4.245033430534656,
          4.244195858461385,
          4.247953259743337,
          4.246748768534201,
          4.247355300743597,
          4.242399462982027,
          4.23715191202397,
          4.241524477895052,
          4.23968290544497,
          4.238335964811623,
          4.238545481280198,
          4.242273639685315,
          4.237283190146703,
          4.242874468347951,
          4.241691772193204,
          4.236452042848497,
          4.232206516019234,
          4.23047991290386,
          4.231747362644216,
          4.228530547247805,
          4.225218405089061,
          4.228930022340233,
          4.2275081166139445,
          4.231932905778941,
          4.235896261976135,
          4.232481192603042,
          4.234656040837194,
          4.231056310816409,
          4.232707090303474,
          4.224868315350413,
          4.228857911621231,
          4.2305094620206685,
          4.22958885049721,
          4.224882038540162,
          4.231321621747213,
          4.230481870658557,
          4.230902161688374,
          4.239519103719348,
          4.24247722343942,
          4.236205609145388,
          4.2374322135395595,
          4.2410670384193905,
          4.2423197226362115,
          4.243470431665301,
          4.247382815201922,
          4.243659450988038,
          4.239150008004336,
          4.243843998400479,
          4.246469530367592,
          4.245383021130726,
          4.25103322446975,
          4.2525883199192895,
          4.256412500690035,
          4.2568660356922825,
          4.252954171151202,
          4.256490084613273,
          4.255372992428855,
          4.25678124490951,
          4.2580484668289476,
          4.253927226569981,
          4.251295922399773,
          4.249233410501778,
          4.247526887902346,
          4.24926806609451,
          4.256604130727588,
          4.257586747967951,
          4.260074262871773,
          4.265127799963631,
          4.264026800815826,
          4.26267663356622,
          4.269708095717624,
          4.274642707434063,
          4.270602196104859,
          4.271125372140987,
          4.263084493573305,
          4.262041001899461,
          4.262153492400692,
          4.2614675420741515,
          4.260362190546017,
          4.270539222897458,
          4.269833774539375,
          4.272940356540947,
          4.273487623726791,
          4.269396587356244,
          4.269374708894383,
          4.274983679989417,
          4.27441131893732,
          4.274560587894673,
          4.268795374077297,
          4.26598312544825,
          4.267708846260919,
          4.265953982738384,
          4.262804115431245,
          4.266726234315525,
          4.2659980449039985,
          4.261487648412075,
          4.259743944778266,
          4.262913103033597,
          4.259869325763673,
          4.266994678248442,
          4.264141347079356,
          4.2598241741239535,
          4.259928120671033,
          4.258213350683645,
          4.256372042803379,
          4.25455836418709,
          4.2545182669685975,
          4.248472571032923,
          4.2540373104479885,
          4.2479138658177,
          4.245536899581734,
          4.2438637708993125,
          4.240405656946017,
          4.2382333824836245,
          4.239390699717003,
          4.236447871788262,
          4.234519355252466,
          4.231074964463403,
          4.223813072809065,
          4.221055221585155,
          4.224633664809291,
          4.225168166528392,
          4.223172361472934,
          4.223294261202373,
          4.226708269412031,
          4.229684580158047,
          4.229187437858963,
          4.224043800101568,
          4.22118533680378,
          4.219169910795318,
          4.217505985828518,
          4.216766193649057,
          4.219287137793316,
          4.220202899178688,
          4.226855170103898,
          4.225693887653767,
          4.222658562166571,
          4.220403505985789,
          4.217430466132537,
          4.213286268980183,
          4.212084804031844,
          4.210018782156808,
          4.216168083398636,
          4.2172728476046295,
          4.220389669224359,
          4.22187474239256,
          4.219290963395732,
          4.220046036046646,
          4.219828645458166,
          4.215791218081036,
          4.216357682977371,
          4.211979040720963,
          4.218921128608188,
          4.226518242708404,
          4.225589271467585,
          4.225632844163425,
          4.223299691872256,
          4.226070193293803,
          4.220451923578262,
          4.2226078492472805,
          4.221498938972522,
          4.224675355166903,
          4.228209137683855,
          4.232881334470608,
          4.235817705193473,
          4.237404556389201,
          4.240567131307574,
          4.238531820081008,
          4.241017228971341,
          4.239155147824888,
          4.234375222881508,
          4.238067094196872,
          4.239142035435199,
          4.2364236503103125,
          4.23748317113814,
          4.232292798117832,
          4.238098685843125,
          4.236193073056531,
          4.232770585694748,
          4.2329104437564435,
          4.232643938424028,
          4.233674143425375,
          4.226158326623231,
          4.2333826301280775,
          4.23377958996934,
          4.231961526050267,
          4.233216453191359,
          4.230790090828819,
          4.229642252905049,
          4.2248167426174685,
          4.224473121409485,
          4.222581233459747,
          4.221837828518695,
          4.221608629647371,
          4.224233522978804,
          4.224169936169851,
          4.218757756770359,
          4.216523448623029,
          4.21354443407682,
          4.208113469054103,
          4.215089758945876,
          4.214220353685594,
          4.215402902733473,
          4.217777712265365,
          4.216823393701644,
          4.217936470616078,
          4.219167792095884,
          4.2259087717623744,
          4.222081594674177,
          4.216924252047142,
          4.220269548094514,
          4.2205467153795295,
          4.224017336865895,
          4.226338418420366,
          4.233359551858515,
          4.238370516874023,
          4.237626573543427,
          4.237999673253253,
          4.240198647991251,
          4.23615316088086,
          4.2333909380437555,
          4.233830642677559,
          4.234753931734953,
          4.239737342219686,
          4.240707927578773,
          4.23486369115313,
          4.2306708023457995,
          4.223532040868608,
          4.220505438346518,
          4.217751605801921,
          4.214707834949436,
          4.216676973510883,
          4.215063121479902,
          4.211531952798713,
          4.214328067259047,
          4.2109872490050595,
          4.204053132345271,
          4.1975890647225125,
          4.197694387480024,
          4.196574415881436,
          4.190348995949298,
          4.192532849465022,
          4.19123717344913,
          4.186515860785429,
          4.187791198010579,
          4.187972054078529,
          4.191593062270696,
          4.190576570292317,
          4.186024796606374,
          4.186117576711361,
          4.187824830407767,
          4.188044081262634,
          4.191118064955,
          4.1879402931291105,
          4.191020437333731,
          4.196560661044924,
          4.19133482219835,
          4.189250093139954,
          4.188261572011134,
          4.190594882537406,
          4.193626328447881,
          4.194937314601207,
          4.1971812487583495,
          4.193587571710005,
          4.188965623711876,
          4.18761643393794,
          4.18071248297663,
          4.1830149302039565,
          4.181935401877271,
          4.184243502101739,
          4.187566837009347,
          4.185796549218052,
          4.187550067521485,
          4.193926428398672,
          4.1943664276209285,
          4.192265025331789,
          4.195913889118051,
          4.193023970803159,
          4.193572694147445,
          4.196158338164265,
          4.194475251009874,
          4.199112044119292,
          4.202386788544125,
          4.209447242986639,
          4.211950727598339,
          4.213403916441959,
          4.217495332646084,
          4.219669407874628,
          4.220502616466344,
          4.2202385361017045,
          4.223252335626421,
          4.227484159668378,
          4.227724728409441,
          4.230141483197393,
          4.229488455911486,
          4.233975907539508,
          4.236400735079532,
          4.23549292972693,
          4.23576740518772,
          4.238245148253916,
          4.238566261665212,
          4.23336403197475,
          4.238152774582163,
          4.244338578008703,
          4.24909385360719,
          4.252391820403027,
          4.251344105429066,
          null,
          null,
          null,
          null,
          null,
          null,
          null,
          null,
          null,
          null,
          null,
          null
         ]
        },
        {
         "fill": "tonexty",
         "line": {
          "color": "lightblue"
         },
         "mode": "lines",
         "name": "Confidence Interval Lower (Smoothed)",
         "type": "scatter",
         "x": [
          0,
          1,
          2,
          3,
          4,
          5,
          6,
          7,
          8,
          9,
          10,
          11,
          12,
          13,
          14,
          15,
          16,
          17,
          18,
          19,
          20,
          21,
          22,
          23,
          24,
          25,
          26,
          27,
          28,
          29,
          30,
          31,
          32,
          33,
          34,
          35,
          36,
          37,
          38,
          39,
          40,
          41,
          42,
          43,
          44,
          45,
          46,
          47,
          48,
          49,
          50,
          51,
          52,
          53,
          54,
          55,
          56,
          57,
          58,
          59,
          60,
          61,
          62,
          63,
          64,
          65,
          66,
          67,
          68,
          69,
          70,
          71,
          72,
          73,
          74,
          75,
          76,
          77,
          78,
          79,
          80,
          81,
          82,
          83,
          84,
          85,
          86,
          87,
          88,
          89,
          90,
          91,
          92,
          93,
          94,
          95,
          96,
          97,
          98,
          99,
          100,
          101,
          102,
          103,
          104,
          105,
          106,
          107,
          108,
          109,
          110,
          111,
          112,
          113,
          114,
          115,
          116,
          117,
          118,
          119,
          120,
          121,
          122,
          123,
          124,
          125,
          126,
          127,
          128,
          129,
          130,
          131,
          132,
          133,
          134,
          135,
          136,
          137,
          138,
          139,
          140,
          141,
          142,
          143,
          144,
          145,
          146,
          147,
          148,
          149,
          150,
          151,
          152,
          153,
          154,
          155,
          156,
          157,
          158,
          159,
          160,
          161,
          162,
          163,
          164,
          165,
          166,
          167,
          168,
          169,
          170,
          171,
          172,
          173,
          174,
          175,
          176,
          177,
          178,
          179,
          180,
          181,
          182,
          183,
          184,
          185,
          186,
          187,
          188,
          189,
          190,
          191,
          192,
          193,
          194,
          195,
          196,
          197,
          198,
          199,
          200,
          201,
          202,
          203,
          204,
          205,
          206,
          207,
          208,
          209,
          210,
          211,
          212,
          213,
          214,
          215,
          216,
          217,
          218,
          219,
          220,
          221,
          222,
          223,
          224,
          225,
          226,
          227,
          228,
          229,
          230,
          231,
          232,
          233,
          234,
          235,
          236,
          237,
          238,
          239,
          240,
          241,
          242,
          243,
          244,
          245,
          246,
          247,
          248,
          249,
          250,
          251,
          252,
          253,
          254,
          255,
          256,
          257,
          258,
          259,
          260,
          261,
          263,
          264,
          265,
          266,
          267,
          268,
          269,
          270,
          271,
          272,
          273,
          274,
          275,
          276,
          277,
          278,
          279,
          280,
          281,
          282,
          283,
          284,
          285,
          286,
          287,
          288,
          289,
          290,
          291,
          292,
          293,
          294,
          295,
          296,
          297,
          298,
          299,
          300,
          301,
          302,
          303,
          304,
          305,
          306,
          307,
          308,
          309,
          310,
          311,
          312,
          313,
          314,
          315,
          316,
          317,
          318,
          319,
          320,
          321,
          322,
          323,
          324,
          325,
          326,
          327,
          328,
          329,
          330,
          331,
          332,
          333,
          334,
          335,
          336,
          337,
          338,
          339,
          340,
          341,
          342,
          343,
          344,
          345,
          346,
          347,
          348,
          349,
          350,
          351,
          352,
          353,
          354,
          355,
          356,
          357,
          358,
          359,
          360,
          361,
          362,
          363,
          364,
          365,
          366,
          367,
          368,
          369,
          370,
          371,
          372,
          373,
          374,
          375,
          376,
          377,
          378,
          379,
          380,
          381,
          382,
          383,
          384,
          385,
          386,
          387,
          388,
          389,
          390,
          391,
          392,
          393,
          394,
          395,
          396,
          397,
          398,
          399,
          400,
          401,
          402,
          403,
          404,
          405,
          406,
          407,
          408,
          409,
          410,
          411,
          412,
          413,
          414,
          415,
          416,
          417,
          418,
          419,
          420,
          421,
          422,
          423,
          424,
          425,
          426,
          427,
          428,
          429,
          430,
          431,
          432,
          433,
          434,
          435,
          436,
          437,
          438,
          439,
          440,
          441,
          442,
          443,
          444,
          445,
          446,
          447,
          448,
          449,
          450,
          451,
          452,
          453,
          454,
          455,
          456,
          457,
          458,
          459,
          460,
          461,
          462,
          463,
          464,
          465,
          466,
          467,
          468,
          469,
          470,
          471,
          472,
          473,
          474,
          475,
          476,
          477,
          478,
          479,
          480,
          481,
          482,
          483,
          484,
          485,
          486,
          487,
          488,
          489,
          490,
          491,
          492,
          493,
          494,
          495,
          496,
          497,
          498,
          499,
          500
         ],
         "y": [
          null,
          null,
          null,
          null,
          null,
          null,
          null,
          null,
          null,
          null,
          null,
          null,
          4.175550031833778,
          4.177537458484168,
          4.17996467097275,
          4.180247773169517,
          4.182470102665446,
          4.179217361746769,
          4.175527372780361,
          4.1741668402420515,
          4.170497037972475,
          4.169125531314881,
          4.168876462007604,
          4.163544285947318,
          4.166082263963449,
          4.159114025109705,
          4.165529370605088,
          4.16835125773941,
          4.168230937615239,
          4.172496532296371,
          4.175241174096559,
          4.180836170400404,
          4.181955407399295,
          4.181235828103151,
          4.180416690085092,
          4.189979096350637,
          4.184126111001555,
          4.181210484579732,
          4.181873223830958,
          4.177628586904308,
          4.177329201361201,
          4.173547950965819,
          4.172617623611445,
          4.16799619898281,
          4.167282933685439,
          4.16784380777087,
          4.174283276604388,
          4.173936905724549,
          4.175529728991898,
          4.174469923471501,
          4.1779991692847025,
          4.17513614491802,
          4.173800976508371,
          4.1689646270293,
          4.17367230863103,
          4.1678026982742065,
          4.163716630509296,
          4.157691029921871,
          4.152829422188067,
          4.150862237548011,
          4.140631768309923,
          4.141309169595511,
          4.146214402725619,
          4.150563878263531,
          4.154260191421711,
          4.1514461671203335,
          4.151417243029563,
          4.154021769095592,
          4.158181362430379,
          4.160158302058668,
          4.163016572353321,
          4.15975382302855,
          4.159825640334009,
          4.159831195116089,
          4.15706282558901,
          4.159337060971809,
          4.159479600961314,
          4.159094622939296,
          4.158525710198191,
          4.152557047159372,
          4.151748420661839,
          4.152936766952275,
          4.150315114237303,
          4.150908420853937,
          4.144389623047759,
          4.143860854101723,
          4.144104622037575,
          4.139152426862504,
          4.133496512178075,
          4.138312798073068,
          4.142580887736313,
          4.137584271705245,
          4.1389541779936385,
          4.1365523171448295,
          4.135617520309445,
          4.134327803256357,
          4.137164872594696,
          4.13931896086952,
          4.135435924444979,
          4.140525106598381,
          4.138341499174455,
          4.1402246664664,
          4.137260673689346,
          4.140508831348552,
          4.140685704657748,
          4.14294562621116,
          4.135332527025741,
          4.13543960790826,
          4.138648071157961,
          4.147271159708677,
          4.150532226693324,
          4.151210589650414,
          4.148433109883048,
          4.148660601507262,
          4.146774120240316,
          4.144959162398786,
          4.153548121461356,
          4.151236940961226,
          4.151653843529018,
          4.154993254774659,
          4.156611586702233,
          4.152280776224966,
          4.1491929304205435,
          4.152858746899483,
          4.153794314936852,
          4.154927125524298,
          4.155583917597918,
          4.161938315624203,
          4.160534020487539,
          4.163547646638803,
          4.165173150556193,
          4.170411111352456,
          4.17694479957664,
          4.1737712610984605,
          4.175023542996126,
          4.1758490326241136,
          4.174690461737641,
          4.181280456045098,
          4.181963749482952,
          4.183280672964776,
          4.183910146731636,
          4.183307912900861,
          4.180828576251311,
          4.1819143861906785,
          4.178399915328993,
          4.1745743297179665,
          4.178701123759486,
          4.18377105294519,
          4.186477288532082,
          4.183464194851271,
          4.188386143193556,
          4.185121800511465,
          4.1830936310387274,
          4.186833717135772,
          4.18671102435648,
          4.189423827039388,
          4.189064088372478,
          4.1876907608009875,
          4.18933115370227,
          4.1886804106684465,
          4.192552369788285,
          4.1904910106098345,
          4.193011221336408,
          4.190077392364691,
          4.191851408250078,
          4.189940111232469,
          4.187722520072461,
          4.18863604627883,
          4.191193737238784,
          4.184761161503422,
          4.190219063831098,
          4.192676953542972,
          4.190521911116752,
          4.18692397716279,
          4.185522920860065,
          4.182248455246988,
          4.185952890355452,
          4.181826884547773,
          4.176478649475363,
          4.169943800044222,
          4.163567703587939,
          4.163766096154564,
          4.162771742799939,
          4.164682088156626,
          4.162933286506876,
          4.163477506849748,
          4.158992198843496,
          4.153665882014485,
          4.158402275506898,
          4.154866270819027,
          4.152307321384303,
          4.152705593059766,
          4.156265351902351,
          4.151739074842341,
          4.158214166460978,
          4.155092569769174,
          4.1482052000789125,
          4.142896530233773,
          4.142038593509217,
          4.143588255954864,
          4.139554067953413,
          4.136870496847064,
          4.140418739411285,
          4.138129368615305,
          4.143849224562797,
          4.146949566517922,
          4.143651054646598,
          4.14619992955227,
          4.143557533794672,
          4.145545001981417,
          4.138028185251648,
          4.143211141175878,
          4.145318423417551,
          4.1439973060920625,
          4.13861279935048,
          4.145663143269937,
          4.143974388174206,
          4.145037636012129,
          4.155619566983187,
          4.15986599336896,
          4.153753015406853,
          4.15684349200745,
          4.160364856060357,
          4.161230633513969,
          4.162487987673575,
          4.166948840317605,
          4.1642125937930565,
          4.160351443304964,
          4.166290186397629,
          4.168393093185581,
          4.16881260208626,
          4.175550199604157,
          4.176904555930685,
          4.182595924285093,
          4.1819001909709925,
          4.176814243736616,
          4.179154073203739,
          4.174755895046087,
          4.17614434309286,
          4.179398415061042,
          4.176341788566192,
          4.1761238308280655,
          4.174582112009748,
          4.171611353794672,
          4.172838059728333,
          4.181414688294388,
          4.182188468829182,
          4.185289150408229,
          4.191472677912115,
          4.190304120484812,
          4.188892656603369,
          4.194922630594665,
          4.199150242860151,
          4.19373904896187,
          4.196110857194898,
          4.187228352769171,
          4.185046134003497,
          4.184796731704015,
          4.184390055552814,
          4.1853748557287105,
          4.1954180141454565,
          4.19382453784488,
          4.200329512393133,
          4.2010669395763145,
          4.195238597590848,
          4.193089650051245,
          4.197346440558146,
          4.195697965672763,
          4.195189023558006,
          4.188098388012698,
          4.183397639570565,
          4.184922528407338,
          4.183777083292012,
          4.179095476411429,
          4.184236690961284,
          4.1836878124046395,
          4.177994466649255,
          4.176250387238135,
          4.179785603812859,
          4.174883133354545,
          4.182535404267919,
          4.180092546944756,
          4.17633819821088,
          4.1752906264138,
          4.172284585326474,
          4.17209170875327,
          4.17096651318245,
          4.1713250757927804,
          4.165495048904675,
          4.171793183914069,
          4.165432667330148,
          4.163657507814052,
          4.162393149040369,
          4.158448397029484,
          4.155891668181863,
          4.158366762619008,
          4.154316310488851,
          4.149706527616485,
          4.145596327896422,
          4.137403165376013,
          4.133681733519845,
          4.138189066168734,
          4.139215758183112,
          4.137365680764953,
          4.138150196098405,
          4.14185201611873,
          4.144098257723289,
          4.143586405786825,
          4.138322192083371,
          4.1346440272025315,
          4.130448289674933,
          4.12873130207785,
          4.12542108153082,
          4.127097248600324,
          4.127675237388921,
          4.134877793756397,
          4.132906719382156,
          4.128775452937681,
          4.128252727477428,
          4.125776133907149,
          4.120219527390015,
          4.119439837747013,
          4.116906791562323,
          4.123679247435168,
          4.125075382910746,
          4.128603671340815,
          4.130567126904637,
          4.1270683762600955,
          4.1280168065827585,
          4.127315623349348,
          4.122121916431065,
          4.124719418745076,
          4.118512354538124,
          4.126135115520816,
          4.133677890025685,
          4.133747327775795,
          4.133575622992601,
          4.133069278947369,
          4.137559343669427,
          4.132233380410011,
          4.136235896981358,
          4.1346171745327345,
          4.140253055476045,
          4.143000994013053,
          4.147402105963396,
          4.151628209720039,
          4.153856208859682,
          4.15804047328118,
          4.156670950098455,
          4.158395862166754,
          4.1554798124585846,
          4.150606117148775,
          4.155455500082282,
          4.157692211068986,
          4.154735682272187,
          4.156225244491719,
          4.148056982744512,
          4.155225286520204,
          4.152839186645342,
          4.150219735927275,
          4.150510739600065,
          4.149819360429824,
          4.150229176789293,
          4.139134129067008,
          4.146455452523915,
          4.1459297154698405,
          4.144364537281835,
          4.144862464126731,
          4.141647127854857,
          4.1399963534048,
          4.1352448449029335,
          4.1346964319177095,
          4.133681806139972,
          4.131983541748166,
          4.1315235796338605,
          4.136233905620907,
          4.136572715160433,
          4.130208047692336,
          4.126768435981037,
          4.122977126924244,
          4.117350067852186,
          4.126077990952736,
          4.125441739482613,
          4.126754168359166,
          4.128120156567405,
          4.125794904723788,
          4.127802915844152,
          4.130031254556765,
          4.13876223494794,
          4.134305547975993,
          4.128983425672082,
          4.132715290055953,
          4.133443602432153,
          4.137377423783171,
          4.139271374634667,
          4.146452644245094,
          4.152606284472762,
          4.151045330804671,
          4.151895406219543,
          4.1555982753267475,
          4.151500045926124,
          4.14927368484397,
          4.1494352011400215,
          4.150226187090209,
          4.155979483937854,
          4.156322408577588,
          4.149387078193189,
          4.14384992144547,
          4.135936124149969,
          4.133560547268498,
          4.131565512438147,
          4.127071199297053,
          4.1273213846202985,
          4.126094392157026,
          4.123832762141371,
          4.126637221128469,
          4.123695765628233,
          4.115809815520297,
          4.109688840126533,
          4.110512267940569,
          4.1094279512097405,
          4.103026464520685,
          4.106703533559459,
          4.105800127077918,
          4.100801519938854,
          4.101307076913016,
          4.100441755374705,
          4.105209614245373,
          4.104372532686192,
          4.100014428428018,
          4.101512259653785,
          4.1028610347736,
          4.1029437213719575,
          4.105209714797947,
          4.100774928064636,
          4.1040028434070654,
          4.111196995881783,
          4.106328543629978,
          4.103198622101898,
          4.10146998750688,
          4.104009238317214,
          4.106614300951713,
          4.1068714024511355,
          4.10849020285374,
          4.105773117913498,
          4.099771290225852,
          4.097390597123191,
          4.088862704182642,
          4.090581309211848,
          4.088818687562312,
          4.091793869664509,
          4.094113341282515,
          4.091801135325392,
          4.093438499255017,
          4.0984218289222,
          4.096838573115331,
          4.094910134164817,
          4.0994365667218045,
          4.096968078669159,
          4.098921630915363,
          4.1017002656175805,
          4.099283491360273,
          4.103203587014817,
          4.107413863866782,
          4.113614068865607,
          4.1157752817345195,
          4.117171417088886,
          4.121997351230161,
          4.124653903149717,
          4.125912287738243,
          4.127761363551422,
          4.129446549275789,
          4.134287514741517,
          4.135317080689392,
          4.138668114679535,
          4.137877412599965,
          4.143859341396611,
          4.145337153066348,
          4.14371491400394,
          4.145913409397669,
          4.149600952938087,
          4.150254912164645,
          4.145093848621178,
          4.151991811842717,
          4.159413677214198,
          4.16507833173432,
          4.1698033643561025,
          4.169522933794786,
          null,
          null,
          null,
          null,
          null,
          null,
          null,
          null,
          null,
          null,
          null,
          null
         ]
        }
       ],
       "layout": {
        "legend": {
         "title": {
          "text": "Legend"
         }
        },
        "template": {
         "data": {
          "bar": [
           {
            "error_x": {
             "color": "#2a3f5f"
            },
            "error_y": {
             "color": "#2a3f5f"
            },
            "marker": {
             "line": {
              "color": "#E5ECF6",
              "width": 0.5
             },
             "pattern": {
              "fillmode": "overlay",
              "size": 10,
              "solidity": 0.2
             }
            },
            "type": "bar"
           }
          ],
          "barpolar": [
           {
            "marker": {
             "line": {
              "color": "#E5ECF6",
              "width": 0.5
             },
             "pattern": {
              "fillmode": "overlay",
              "size": 10,
              "solidity": 0.2
             }
            },
            "type": "barpolar"
           }
          ],
          "carpet": [
           {
            "aaxis": {
             "endlinecolor": "#2a3f5f",
             "gridcolor": "white",
             "linecolor": "white",
             "minorgridcolor": "white",
             "startlinecolor": "#2a3f5f"
            },
            "baxis": {
             "endlinecolor": "#2a3f5f",
             "gridcolor": "white",
             "linecolor": "white",
             "minorgridcolor": "white",
             "startlinecolor": "#2a3f5f"
            },
            "type": "carpet"
           }
          ],
          "choropleth": [
           {
            "colorbar": {
             "outlinewidth": 0,
             "ticks": ""
            },
            "type": "choropleth"
           }
          ],
          "contour": [
           {
            "colorbar": {
             "outlinewidth": 0,
             "ticks": ""
            },
            "colorscale": [
             [
              0,
              "#0d0887"
             ],
             [
              0.1111111111111111,
              "#46039f"
             ],
             [
              0.2222222222222222,
              "#7201a8"
             ],
             [
              0.3333333333333333,
              "#9c179e"
             ],
             [
              0.4444444444444444,
              "#bd3786"
             ],
             [
              0.5555555555555556,
              "#d8576b"
             ],
             [
              0.6666666666666666,
              "#ed7953"
             ],
             [
              0.7777777777777778,
              "#fb9f3a"
             ],
             [
              0.8888888888888888,
              "#fdca26"
             ],
             [
              1,
              "#f0f921"
             ]
            ],
            "type": "contour"
           }
          ],
          "contourcarpet": [
           {
            "colorbar": {
             "outlinewidth": 0,
             "ticks": ""
            },
            "type": "contourcarpet"
           }
          ],
          "heatmap": [
           {
            "colorbar": {
             "outlinewidth": 0,
             "ticks": ""
            },
            "colorscale": [
             [
              0,
              "#0d0887"
             ],
             [
              0.1111111111111111,
              "#46039f"
             ],
             [
              0.2222222222222222,
              "#7201a8"
             ],
             [
              0.3333333333333333,
              "#9c179e"
             ],
             [
              0.4444444444444444,
              "#bd3786"
             ],
             [
              0.5555555555555556,
              "#d8576b"
             ],
             [
              0.6666666666666666,
              "#ed7953"
             ],
             [
              0.7777777777777778,
              "#fb9f3a"
             ],
             [
              0.8888888888888888,
              "#fdca26"
             ],
             [
              1,
              "#f0f921"
             ]
            ],
            "type": "heatmap"
           }
          ],
          "heatmapgl": [
           {
            "colorbar": {
             "outlinewidth": 0,
             "ticks": ""
            },
            "colorscale": [
             [
              0,
              "#0d0887"
             ],
             [
              0.1111111111111111,
              "#46039f"
             ],
             [
              0.2222222222222222,
              "#7201a8"
             ],
             [
              0.3333333333333333,
              "#9c179e"
             ],
             [
              0.4444444444444444,
              "#bd3786"
             ],
             [
              0.5555555555555556,
              "#d8576b"
             ],
             [
              0.6666666666666666,
              "#ed7953"
             ],
             [
              0.7777777777777778,
              "#fb9f3a"
             ],
             [
              0.8888888888888888,
              "#fdca26"
             ],
             [
              1,
              "#f0f921"
             ]
            ],
            "type": "heatmapgl"
           }
          ],
          "histogram": [
           {
            "marker": {
             "pattern": {
              "fillmode": "overlay",
              "size": 10,
              "solidity": 0.2
             }
            },
            "type": "histogram"
           }
          ],
          "histogram2d": [
           {
            "colorbar": {
             "outlinewidth": 0,
             "ticks": ""
            },
            "colorscale": [
             [
              0,
              "#0d0887"
             ],
             [
              0.1111111111111111,
              "#46039f"
             ],
             [
              0.2222222222222222,
              "#7201a8"
             ],
             [
              0.3333333333333333,
              "#9c179e"
             ],
             [
              0.4444444444444444,
              "#bd3786"
             ],
             [
              0.5555555555555556,
              "#d8576b"
             ],
             [
              0.6666666666666666,
              "#ed7953"
             ],
             [
              0.7777777777777778,
              "#fb9f3a"
             ],
             [
              0.8888888888888888,
              "#fdca26"
             ],
             [
              1,
              "#f0f921"
             ]
            ],
            "type": "histogram2d"
           }
          ],
          "histogram2dcontour": [
           {
            "colorbar": {
             "outlinewidth": 0,
             "ticks": ""
            },
            "colorscale": [
             [
              0,
              "#0d0887"
             ],
             [
              0.1111111111111111,
              "#46039f"
             ],
             [
              0.2222222222222222,
              "#7201a8"
             ],
             [
              0.3333333333333333,
              "#9c179e"
             ],
             [
              0.4444444444444444,
              "#bd3786"
             ],
             [
              0.5555555555555556,
              "#d8576b"
             ],
             [
              0.6666666666666666,
              "#ed7953"
             ],
             [
              0.7777777777777778,
              "#fb9f3a"
             ],
             [
              0.8888888888888888,
              "#fdca26"
             ],
             [
              1,
              "#f0f921"
             ]
            ],
            "type": "histogram2dcontour"
           }
          ],
          "mesh3d": [
           {
            "colorbar": {
             "outlinewidth": 0,
             "ticks": ""
            },
            "type": "mesh3d"
           }
          ],
          "parcoords": [
           {
            "line": {
             "colorbar": {
              "outlinewidth": 0,
              "ticks": ""
             }
            },
            "type": "parcoords"
           }
          ],
          "pie": [
           {
            "automargin": true,
            "type": "pie"
           }
          ],
          "scatter": [
           {
            "fillpattern": {
             "fillmode": "overlay",
             "size": 10,
             "solidity": 0.2
            },
            "type": "scatter"
           }
          ],
          "scatter3d": [
           {
            "line": {
             "colorbar": {
              "outlinewidth": 0,
              "ticks": ""
             }
            },
            "marker": {
             "colorbar": {
              "outlinewidth": 0,
              "ticks": ""
             }
            },
            "type": "scatter3d"
           }
          ],
          "scattercarpet": [
           {
            "marker": {
             "colorbar": {
              "outlinewidth": 0,
              "ticks": ""
             }
            },
            "type": "scattercarpet"
           }
          ],
          "scattergeo": [
           {
            "marker": {
             "colorbar": {
              "outlinewidth": 0,
              "ticks": ""
             }
            },
            "type": "scattergeo"
           }
          ],
          "scattergl": [
           {
            "marker": {
             "colorbar": {
              "outlinewidth": 0,
              "ticks": ""
             }
            },
            "type": "scattergl"
           }
          ],
          "scattermapbox": [
           {
            "marker": {
             "colorbar": {
              "outlinewidth": 0,
              "ticks": ""
             }
            },
            "type": "scattermapbox"
           }
          ],
          "scatterpolar": [
           {
            "marker": {
             "colorbar": {
              "outlinewidth": 0,
              "ticks": ""
             }
            },
            "type": "scatterpolar"
           }
          ],
          "scatterpolargl": [
           {
            "marker": {
             "colorbar": {
              "outlinewidth": 0,
              "ticks": ""
             }
            },
            "type": "scatterpolargl"
           }
          ],
          "scatterternary": [
           {
            "marker": {
             "colorbar": {
              "outlinewidth": 0,
              "ticks": ""
             }
            },
            "type": "scatterternary"
           }
          ],
          "surface": [
           {
            "colorbar": {
             "outlinewidth": 0,
             "ticks": ""
            },
            "colorscale": [
             [
              0,
              "#0d0887"
             ],
             [
              0.1111111111111111,
              "#46039f"
             ],
             [
              0.2222222222222222,
              "#7201a8"
             ],
             [
              0.3333333333333333,
              "#9c179e"
             ],
             [
              0.4444444444444444,
              "#bd3786"
             ],
             [
              0.5555555555555556,
              "#d8576b"
             ],
             [
              0.6666666666666666,
              "#ed7953"
             ],
             [
              0.7777777777777778,
              "#fb9f3a"
             ],
             [
              0.8888888888888888,
              "#fdca26"
             ],
             [
              1,
              "#f0f921"
             ]
            ],
            "type": "surface"
           }
          ],
          "table": [
           {
            "cells": {
             "fill": {
              "color": "#EBF0F8"
             },
             "line": {
              "color": "white"
             }
            },
            "header": {
             "fill": {
              "color": "#C8D4E3"
             },
             "line": {
              "color": "white"
             }
            },
            "type": "table"
           }
          ]
         },
         "layout": {
          "annotationdefaults": {
           "arrowcolor": "#2a3f5f",
           "arrowhead": 0,
           "arrowwidth": 1
          },
          "autotypenumbers": "strict",
          "coloraxis": {
           "colorbar": {
            "outlinewidth": 0,
            "ticks": ""
           }
          },
          "colorscale": {
           "diverging": [
            [
             0,
             "#8e0152"
            ],
            [
             0.1,
             "#c51b7d"
            ],
            [
             0.2,
             "#de77ae"
            ],
            [
             0.3,
             "#f1b6da"
            ],
            [
             0.4,
             "#fde0ef"
            ],
            [
             0.5,
             "#f7f7f7"
            ],
            [
             0.6,
             "#e6f5d0"
            ],
            [
             0.7,
             "#b8e186"
            ],
            [
             0.8,
             "#7fbc41"
            ],
            [
             0.9,
             "#4d9221"
            ],
            [
             1,
             "#276419"
            ]
           ],
           "sequential": [
            [
             0,
             "#0d0887"
            ],
            [
             0.1111111111111111,
             "#46039f"
            ],
            [
             0.2222222222222222,
             "#7201a8"
            ],
            [
             0.3333333333333333,
             "#9c179e"
            ],
            [
             0.4444444444444444,
             "#bd3786"
            ],
            [
             0.5555555555555556,
             "#d8576b"
            ],
            [
             0.6666666666666666,
             "#ed7953"
            ],
            [
             0.7777777777777778,
             "#fb9f3a"
            ],
            [
             0.8888888888888888,
             "#fdca26"
            ],
            [
             1,
             "#f0f921"
            ]
           ],
           "sequentialminus": [
            [
             0,
             "#0d0887"
            ],
            [
             0.1111111111111111,
             "#46039f"
            ],
            [
             0.2222222222222222,
             "#7201a8"
            ],
            [
             0.3333333333333333,
             "#9c179e"
            ],
            [
             0.4444444444444444,
             "#bd3786"
            ],
            [
             0.5555555555555556,
             "#d8576b"
            ],
            [
             0.6666666666666666,
             "#ed7953"
            ],
            [
             0.7777777777777778,
             "#fb9f3a"
            ],
            [
             0.8888888888888888,
             "#fdca26"
            ],
            [
             1,
             "#f0f921"
            ]
           ]
          },
          "colorway": [
           "#636efa",
           "#EF553B",
           "#00cc96",
           "#ab63fa",
           "#FFA15A",
           "#19d3f3",
           "#FF6692",
           "#B6E880",
           "#FF97FF",
           "#FECB52"
          ],
          "font": {
           "color": "#2a3f5f"
          },
          "geo": {
           "bgcolor": "white",
           "lakecolor": "white",
           "landcolor": "#E5ECF6",
           "showlakes": true,
           "showland": true,
           "subunitcolor": "white"
          },
          "hoverlabel": {
           "align": "left"
          },
          "hovermode": "closest",
          "mapbox": {
           "style": "light"
          },
          "paper_bgcolor": "white",
          "plot_bgcolor": "#E5ECF6",
          "polar": {
           "angularaxis": {
            "gridcolor": "white",
            "linecolor": "white",
            "ticks": ""
           },
           "bgcolor": "#E5ECF6",
           "radialaxis": {
            "gridcolor": "white",
            "linecolor": "white",
            "ticks": ""
           }
          },
          "scene": {
           "xaxis": {
            "backgroundcolor": "#E5ECF6",
            "gridcolor": "white",
            "gridwidth": 2,
            "linecolor": "white",
            "showbackground": true,
            "ticks": "",
            "zerolinecolor": "white"
           },
           "yaxis": {
            "backgroundcolor": "#E5ECF6",
            "gridcolor": "white",
            "gridwidth": 2,
            "linecolor": "white",
            "showbackground": true,
            "ticks": "",
            "zerolinecolor": "white"
           },
           "zaxis": {
            "backgroundcolor": "#E5ECF6",
            "gridcolor": "white",
            "gridwidth": 2,
            "linecolor": "white",
            "showbackground": true,
            "ticks": "",
            "zerolinecolor": "white"
           }
          },
          "shapedefaults": {
           "line": {
            "color": "#2a3f5f"
           }
          },
          "ternary": {
           "aaxis": {
            "gridcolor": "white",
            "linecolor": "white",
            "ticks": ""
           },
           "baxis": {
            "gridcolor": "white",
            "linecolor": "white",
            "ticks": ""
           },
           "bgcolor": "#E5ECF6",
           "caxis": {
            "gridcolor": "white",
            "linecolor": "white",
            "ticks": ""
           }
          },
          "title": {
           "x": 0.05
          },
          "xaxis": {
           "automargin": true,
           "gridcolor": "white",
           "linecolor": "white",
           "ticks": "",
           "title": {
            "standoff": 15
           },
           "zerolinecolor": "white",
           "zerolinewidth": 2
          },
          "yaxis": {
           "automargin": true,
           "gridcolor": "white",
           "linecolor": "white",
           "ticks": "",
           "title": {
            "standoff": 15
           },
           "zerolinecolor": "white",
           "zerolinewidth": 2
          }
         }
        },
        "title": {
         "text": "Mean and Confidence Interval of Hydrophobic.distance across PDB Files (Smoothed)"
        },
        "xaxis": {
         "title": {
          "text": "PDB File"
         }
        },
        "yaxis": {
         "title": {
          "text": "Hydrophobic.distance"
         }
        }
       }
      }
     },
     "metadata": {},
     "output_type": "display_data"
    },
    {
     "data": {
      "application/vnd.jupyter.widget-view+json": {
       "model_id": "fdcb6654e4b0445c940032fdb81a0824",
       "version_major": 2,
       "version_minor": 0
      },
      "text/plain": [
       "interactive(children=(Dropdown(description='column', options=('Hydrophobic.distance', 'VdWContact.distance', '…"
      ]
     },
     "metadata": {},
     "output_type": "display_data"
    }
   ],
   "source": [
    "numeric_columns = [\n",
    "    col for col in final_results_df.columns\n",
    "    if col not in ['PDB_File', 'Residue'] and pd.api.types.is_numeric_dtype(final_results_df[col])\n",
    "]\n",
    "\n",
    "# Plot with a default window size for the moving average\n",
    "plot_mean_with_confidence_intervals(final_results_df, numeric_columns, window_size=25)"
   ]
  }
 ],
 "metadata": {
  "kernelspec": {
   "display_name": ".venv",
   "language": "python",
   "name": "python3"
  },
  "language_info": {
   "codemirror_mode": {
    "name": "ipython",
    "version": 3
   },
   "file_extension": ".py",
   "mimetype": "text/x-python",
   "name": "python",
   "nbconvert_exporter": "python",
   "pygments_lexer": "ipython3",
   "version": "3.11.6"
  }
 },
 "nbformat": 4,
 "nbformat_minor": 2
}

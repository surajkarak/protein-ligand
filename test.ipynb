{
 "cells": [
  {
   "cell_type": "code",
   "execution_count": 5,
   "metadata": {},
   "outputs": [],
   "source": [
    "import argparse\n",
    "from pathlib import Path\n",
    "import numpy as np\n",
    "from rdkit import Chem\n",
    "from rdkit.Chem.Draw import IPythonConsole\n",
    "import pandas as pd\n",
    "from tqdm import tqdm\n",
    "import prolif as plf\n",
    "import MDAnalysis as mda\n",
    "from MDAnalysis.topology.guessers import guess_types\n",
    "from pathlib import Path"
   ]
  },
  {
   "cell_type": "code",
   "execution_count": null,
   "metadata": {},
   "outputs": [],
   "source": [
    " "
   ]
  },
  {
   "cell_type": "code",
   "execution_count": null,
   "metadata": {},
   "outputs": [],
   "source": [
    "def prepare_complex(complex_path, box_size, ligand_name) -> tuple[plf.Molecule, list[plf.Molecule]]:\n",
    "    \"\"\"\n",
    "    When the input is based only on the Path to complex (PDB) without sdf file with ligands.\n",
    "\n",
    "    Parameters\n",
    "    ----------\n",
    "   --complex_path : Path or str\n",
    "        Path or str to individual PDB file (complex of protein + ligand).\n",
    "    --box_size : float\n",
    "        Value in Angstroems defining protein area around ligand\n",
    "    --ligand_name : str\n",
    "        Name of the residue of ligand in PDB complex.\n",
    "\n",
    "    Returns\n",
    "    -------\n",
    "    tuple[plf.Molecule, list[plf.Molecule]]\n",
    "        Two prolif Molecule objects: selected protein and ligands from sdf file.\n",
    "    \"\"\"\n",
    "    complex = mda.Universe(complex_path, guess_bonds=True) \n",
    "    elements = guess_types(complex.atoms.names)\n",
    "    complex.add_TopologyAttr(\"elements\", elements)\n",
    "    ligand_selection = complex.select_atoms(f\"resname {ligand_name}\")\n",
    "    if len(ligand_selection) == 0:\n",
    "        raise ValueError(f\"Ligand {ligand_name} is not detected in the protein.\")\n",
    "    protein_selection = complex.select_atoms(\n",
    "        f\"protein and byres around {box_size} group ligand\", ligand=ligand_selection\n",
    "    )\n",
    "    protein_mol = plf.Molecule.from_mda(protein_selection) #Converts selected protein atoms to a prolif Molecule object.\n",
    "    ligand_mol = plf.Molecule.from_mda(ligand_selection) #Converts selected ligand atoms to a prolif Molecule object.\n",
    "    ligand_path = Path(\"ligand.sdf\")\n",
    "    writer = Chem.SDWriter(ligand_path)\n",
    "    writer.write(ligand_mol)\n",
    "    writer.close()\n",
    "    lig_suppl = list(plf.sdf_supplier(ligand_path))\n",
    "    return protein_mol, lig_suppl"
   ]
  },
  {
   "cell_type": "code",
   "execution_count": null,
   "metadata": {},
   "outputs": [],
   "source": [
    "def process_multiple_pdb_files(pdb_files, box_size, ligand_name, ligand_path=None):\n",
    "    results = []\n",
    "    \n",
    "    for pdb_file in pdb_files:\n",
    "        #print(f\"Processing {pdb_file}\")\n",
    "        try:\n",
    "            protein_mol, lig_suppl = prepare_complex(complex_path= pdb_file, box_size =box_size, ligand_name =ligand_name) \n",
    "\n",
    "            result_df = calculate_ifp(protein_mol, lig_suppl, flag_save)\n",
    "            if result_df is not None and not result_df.empty:\n",
    "                result_df['PDB_File'] = pdb_file  # Add a column to identify the source PDB file\n",
    "                results.append(result_df)\n",
    "            else:\n",
    "                print(f\"No data returned for {pdb_file}\")\n",
    "        except Exception as e:\n",
    "            print(f\"Error processing {pdb_file}: {e}\")\n",
    "    \n",
    "    if results:\n",
    "        return pd.concat(results, ignore_index=True)\n",
    "    else:\n",
    "        print(\"No results to concatenate\")\n",
    "        return pd.DataFrame()  # Return an empty dataframe if there are no results\n",
    "\n",
    "\n"
   ]
  },
  {
   "cell_type": "code",
   "execution_count": null,
   "metadata": {},
   "outputs": [],
   "source": [
    "def calculate_ifp(protein_mol, lig_suppl, flag_save: bool = True) -> pd.DataFrame:\n",
    "    \"\"\"\n",
    "    Calculate interaction fingerprint with all bonds parameters (angle, length, DHAngel etc.)\n",
    "    for two prolif objects: selected protein and ligand.\n",
    "\n",
    "    Parameters\n",
    "    ----------\n",
    "   --protein_mol : plf.Molecule\n",
    "        Selected area of protein for IFP calculation as prolif Molecule object.\n",
    "        --lig_suppl : list[plf.Molecule]\n",
    "        Ligand object for IFP calculation as prolif Molecule object.\n",
    "\n",
    "    Returns\n",
    "    -------\n",
    "    Union[pd.DataFrame, None]\n",
    "        pd.DataFrame with individual interaction fingerprint per one ligand with one specific residue and calculated parameters for bonds.\n",
    "    \"\"\"\n",
    "    fp = plf.Fingerprint()\n",
    "    fp.run_from_iterable(lig_suppl, protein_mol)\n",
    "    df = fp.to_dataframe()\n",
    "    dfs = []\n",
    "    residues_list = get_aminoacids_df(df)\n",
    "    for residue in residues_list:\n",
    "        fp1 = fp.ifp[0][('UNL1', residue)]  # In individual IFP (interaction fingerprint), name of ligand and frame are fixed\n",
    "        df = get_df_from_fp(fp1, residue)\n",
    "        dfs.append(df)\n",
    "    final_df = pd.concat(dfs, ignore_index=True)\n",
    "    if flag_save:\n",
    "        final_df.to_csv('IFP_test.csv', index=False)\n",
    "    return final_df"
   ]
  },
  {
   "cell_type": "code",
   "execution_count": 8,
   "metadata": {},
   "outputs": [],
   "source": [
    "pdb_files = \"/Users/surajkwork/Documents/Projects/ProteinLigand/protein-ligand/frames/tmp_0.pdb\" \n",
    "box_size = 10.0\n",
    "ligand_name = \"LLM\"\n",
    "ligand_path = None  # If you have a common ligand file, otherwise set to None\n",
    "\n",
    "#final_results_df = process_pdb_file(pdb_files, box_size, ligand_name, ligand_path)"
   ]
  },
  {
   "cell_type": "code",
   "execution_count": 9,
   "metadata": {},
   "outputs": [],
   "source": [
    "complex_path= pdb_files"
   ]
  },
  {
   "cell_type": "code",
   "execution_count": 10,
   "metadata": {},
   "outputs": [],
   "source": [
    "complex = mda.Universe(complex_path, guess_bonds=True)  # read atoms and coordinates from PDB"
   ]
  },
  {
   "cell_type": "code",
   "execution_count": 11,
   "metadata": {},
   "outputs": [
    {
     "data": {
      "text/plain": [
       "<Universe with 4891 atoms>"
      ]
     },
     "execution_count": 11,
     "metadata": {},
     "output_type": "execute_result"
    }
   ],
   "source": [
    "complex"
   ]
  },
  {
   "cell_type": "code",
   "execution_count": 12,
   "metadata": {},
   "outputs": [],
   "source": [
    "elements = guess_types(complex.atoms.names)\n"
   ]
  },
  {
   "cell_type": "code",
   "execution_count": 13,
   "metadata": {},
   "outputs": [
    {
     "data": {
      "text/plain": [
       "array(['N', 'H', 'H', ..., 'H', 'H', 'H'], dtype=object)"
      ]
     },
     "execution_count": 13,
     "metadata": {},
     "output_type": "execute_result"
    }
   ],
   "source": [
    "elements"
   ]
  },
  {
   "cell_type": "code",
   "execution_count": 14,
   "metadata": {},
   "outputs": [
    {
     "data": {
      "text/plain": [
       "4891"
      ]
     },
     "execution_count": 14,
     "metadata": {},
     "output_type": "execute_result"
    }
   ],
   "source": [
    "len(elements)"
   ]
  },
  {
   "cell_type": "code",
   "execution_count": 15,
   "metadata": {},
   "outputs": [],
   "source": [
    "complex.add_TopologyAttr(\"elements\", elements)\n"
   ]
  },
  {
   "cell_type": "code",
   "execution_count": 16,
   "metadata": {},
   "outputs": [],
   "source": [
    "ligand_selection = complex.select_atoms(f\"resname {ligand_name}\")\n",
    "if len(ligand_selection) == 0:\n",
    "    raise ValueError(f\"Ligand {ligand_name} is not detected in the protein.\")\n",
    "protein_selection = complex.select_atoms(\n",
    "    f\"protein and byres around {box_size} group ligand\", ligand=ligand_selection\n",
    ")\n",
    "protein_mol = plf.Molecule.from_mda(protein_selection) #Converts selected protein atoms to a prolif Molecule object.\n",
    "ligand_mol = plf.Molecule.from_mda(ligand_selection) #Converts selected ligand atoms to a prolif Molecule object."
   ]
  },
  {
   "cell_type": "code",
   "execution_count": 17,
   "metadata": {},
   "outputs": [
    {
     "data": {
      "image/png": "[encoded data removed]",
      "text/plain": [
       "<prolif.molecule.Molecule with 135 residues and 2188 atoms at 0x10c1ad030>"
      ]
     },
     "execution_count": 17,
     "metadata": {},
     "output_type": "execute_result"
    }
   ],
   "source": [
    "protein_mol"
   ]
  },
  {
   "cell_type": "code",
   "execution_count": 18,
   "metadata": {},
   "outputs": [
    {
     "data": {
      "image/png": "[encoded data removed]",
      "text/plain": [
       "<prolif.molecule.Molecule with 1 residues and 68 atoms at 0x14eaf0f40>"
      ]
     },
     "execution_count": 18,
     "metadata": {},
     "output_type": "execute_result"
    }
   ],
   "source": [
    "ligand_mol"
   ]
  },
  {
   "cell_type": "code",
   "execution_count": 19,
   "metadata": {},
   "outputs": [
    {
     "data": {
      "text/plain": [
       "<rdkit.Chem.rdmolfiles.SDWriter at 0x14eadd7b0>"
      ]
     },
     "execution_count": 19,
     "metadata": {},
     "output_type": "execute_result"
    }
   ],
   "source": [
    "\n",
    "ligand_path = Path(\"ligand.sdf\")\n",
    "writer = Chem.SDWriter(ligand_path)\n",
    "writer"
   ]
  },
  {
   "cell_type": "code",
   "execution_count": 20,
   "metadata": {},
   "outputs": [],
   "source": [
    "writer.write(ligand_mol)\n",
    "writer.close()\n",
    "lig_suppl = list(plf.sdf_supplier(ligand_path))\n"
   ]
  },
  {
   "cell_type": "code",
   "execution_count": 21,
   "metadata": {},
   "outputs": [
    {
     "data": {
      "application/vnd.jupyter.widget-view+json": {
       "model_id": "8529a2bcc01b4faaa63347d752067889",
       "version_major": 2,
       "version_minor": 0
      },
      "text/plain": [
       "  0%|          | 0/1 [00:00<?, ?it/s]"
      ]
     },
     "metadata": {},
     "output_type": "display_data"
    },
    {
     "data": {
      "text/plain": [
       "<prolif.fingerprint.Fingerprint: 9 interactions: ['Hydrophobic', 'HBAcceptor', 'HBDonor', 'Cationic', 'Anionic', 'CationPi', 'PiCation', 'PiStacking', 'VdWContact'] at 0x14e10ad50>"
      ]
     },
     "execution_count": 21,
     "metadata": {},
     "output_type": "execute_result"
    }
   ],
   "source": [
    "# final_df = calculate_ifp(protein_mol, lig_suppl, flag_save)\n",
    "fp = plf.Fingerprint()\n",
    "fp.run_from_iterable(lig_suppl, protein_mol)"
   ]
  },
  {
   "cell_type": "code",
   "execution_count": 23,
   "metadata": {},
   "outputs": [
    {
     "data": {
      "text/html": [
       "<div>\n",
       "<style scoped>\n",
       "    .dataframe tbody tr th:only-of-type {\n",
       "        vertical-align: middle;\n",
       "    }\n",
       "\n",
       "    .dataframe tbody tr th {\n",
       "        vertical-align: top;\n",
       "    }\n",
       "\n",
       "    .dataframe thead tr th {\n",
       "        text-align: left;\n",
       "    }\n",
       "\n",
       "    .dataframe thead tr:last-of-type th {\n",
       "        text-align: right;\n",
       "    }\n",
       "</style>\n",
       "<table border=\"1\" class=\"dataframe\">\n",
       "  <thead>\n",
       "    <tr>\n",
       "      <th>ligand</th>\n",
       "      <th colspan=\"21\" halign=\"left\">UNL1</th>\n",
       "    </tr>\n",
       "    <tr>\n",
       "      <th>protein</th>\n",
       "      <th>VAL60.A</th>\n",
       "      <th>ASP61.A</th>\n",
       "      <th colspan=\"2\" halign=\"left\">PHE64.A</th>\n",
       "      <th>MET71.A</th>\n",
       "      <th>GLN74.A</th>\n",
       "      <th>LEU75.A</th>\n",
       "      <th>THR92.A</th>\n",
       "      <th colspan=\"2\" halign=\"left\">ASP95.A</th>\n",
       "      <th>...</th>\n",
       "      <th colspan=\"3\" halign=\"left\">TRP241.A</th>\n",
       "      <th colspan=\"2\" halign=\"left\">TYR244.A</th>\n",
       "      <th>TYR245.A</th>\n",
       "      <th colspan=\"3\" halign=\"left\">TYR273.A</th>\n",
       "      <th>SER276.A</th>\n",
       "    </tr>\n",
       "    <tr>\n",
       "      <th>interaction</th>\n",
       "      <th>Hydrophobic</th>\n",
       "      <th>VdWContact</th>\n",
       "      <th>Hydrophobic</th>\n",
       "      <th>VdWContact</th>\n",
       "      <th>Hydrophobic</th>\n",
       "      <th>Hydrophobic</th>\n",
       "      <th>Hydrophobic</th>\n",
       "      <th>Hydrophobic</th>\n",
       "      <th>Hydrophobic</th>\n",
       "      <th>HBDonor</th>\n",
       "      <th>...</th>\n",
       "      <th>HBAcceptor</th>\n",
       "      <th>PiStacking</th>\n",
       "      <th>VdWContact</th>\n",
       "      <th>Hydrophobic</th>\n",
       "      <th>VdWContact</th>\n",
       "      <th>Hydrophobic</th>\n",
       "      <th>Hydrophobic</th>\n",
       "      <th>PiStacking</th>\n",
       "      <th>VdWContact</th>\n",
       "      <th>VdWContact</th>\n",
       "    </tr>\n",
       "    <tr>\n",
       "      <th>Frame</th>\n",
       "      <th></th>\n",
       "      <th></th>\n",
       "      <th></th>\n",
       "      <th></th>\n",
       "      <th></th>\n",
       "      <th></th>\n",
       "      <th></th>\n",
       "      <th></th>\n",
       "      <th></th>\n",
       "      <th></th>\n",
       "      <th></th>\n",
       "      <th></th>\n",
       "      <th></th>\n",
       "      <th></th>\n",
       "      <th></th>\n",
       "      <th></th>\n",
       "      <th></th>\n",
       "      <th></th>\n",
       "      <th></th>\n",
       "      <th></th>\n",
       "      <th></th>\n",
       "    </tr>\n",
       "  </thead>\n",
       "  <tbody>\n",
       "    <tr>\n",
       "      <th>0</th>\n",
       "      <td>True</td>\n",
       "      <td>True</td>\n",
       "      <td>True</td>\n",
       "      <td>True</td>\n",
       "      <td>True</td>\n",
       "      <td>True</td>\n",
       "      <td>True</td>\n",
       "      <td>True</td>\n",
       "      <td>True</td>\n",
       "      <td>True</td>\n",
       "      <td>...</td>\n",
       "      <td>True</td>\n",
       "      <td>True</td>\n",
       "      <td>True</td>\n",
       "      <td>True</td>\n",
       "      <td>True</td>\n",
       "      <td>True</td>\n",
       "      <td>True</td>\n",
       "      <td>True</td>\n",
       "      <td>True</td>\n",
       "      <td>True</td>\n",
       "    </tr>\n",
       "  </tbody>\n",
       "</table>\n",
       "<p>1 rows × 30 columns</p>\n",
       "</div>"
      ],
      "text/plain": [
       "ligand             UNL1                                                \\\n",
       "protein         VAL60.A    ASP61.A     PHE64.A                MET71.A   \n",
       "interaction Hydrophobic VdWContact Hydrophobic VdWContact Hydrophobic   \n",
       "Frame                                                                   \n",
       "0                  True       True        True       True        True   \n",
       "\n",
       "ligand                                                               ...  \\\n",
       "protein         GLN74.A     LEU75.A     THR92.A     ASP95.A          ...   \n",
       "interaction Hydrophobic Hydrophobic Hydrophobic Hydrophobic HBDonor  ...   \n",
       "Frame                                                                ...   \n",
       "0                  True        True        True        True    True  ...   \n",
       "\n",
       "ligand                                                               \\\n",
       "protein       TRP241.A                          TYR244.A              \n",
       "interaction HBAcceptor PiStacking VdWContact Hydrophobic VdWContact   \n",
       "Frame                                                                 \n",
       "0                 True       True       True        True       True   \n",
       "\n",
       "ligand                                                                \n",
       "protein        TYR245.A    TYR273.A                         SER276.A  \n",
       "interaction Hydrophobic Hydrophobic PiStacking VdWContact VdWContact  \n",
       "Frame                                                                 \n",
       "0                  True        True       True       True       True  \n",
       "\n",
       "[1 rows x 30 columns]"
      ]
     },
     "execution_count": 23,
     "metadata": {},
     "output_type": "execute_result"
    }
   ],
   "source": [
    "df = fp.to_dataframe()\n",
    "df"
   ]
  },
  {
   "cell_type": "code",
   "execution_count": 24,
   "metadata": {},
   "outputs": [
    {
     "data": {
      "text/plain": [
       "MultiIndex([('UNL1',  'VAL60.A', 'Hydrophobic'),\n",
       "            ('UNL1',  'ASP61.A',  'VdWContact'),\n",
       "            ('UNL1',  'PHE64.A', 'Hydrophobic'),\n",
       "            ('UNL1',  'PHE64.A',  'VdWContact'),\n",
       "            ('UNL1',  'MET71.A', 'Hydrophobic'),\n",
       "            ('UNL1',  'GLN74.A', 'Hydrophobic'),\n",
       "            ('UNL1',  'LEU75.A', 'Hydrophobic'),\n",
       "            ('UNL1',  'THR92.A', 'Hydrophobic'),\n",
       "            ('UNL1',  'ASP95.A', 'Hydrophobic'),\n",
       "            ('UNL1',  'ASP95.A',     'HBDonor'),\n",
       "            ('UNL1',  'ASP95.A',    'Cationic'),\n",
       "            ('UNL1',  'ASP95.A',  'VdWContact'),\n",
       "            ('UNL1',  'SER98.A',     'HBDonor'),\n",
       "            ('UNL1',  'SER98.A',  'VdWContact'),\n",
       "            ('UNL1',  'GLN99.A', 'Hydrophobic'),\n",
       "            ('UNL1',  'GLN99.A',  'VdWContact'),\n",
       "            ('UNL1', 'SER102.A',  'VdWContact'),\n",
       "            ('UNL1', 'PHE237.A', 'Hydrophobic'),\n",
       "            ('UNL1', 'PHE237.A',  'VdWContact'),\n",
       "            ('UNL1', 'TRP241.A', 'Hydrophobic'),\n",
       "            ('UNL1', 'TRP241.A',  'HBAcceptor'),\n",
       "            ('UNL1', 'TRP241.A',  'PiStacking'),\n",
       "            ('UNL1', 'TRP241.A',  'VdWContact'),\n",
       "            ('UNL1', 'TYR244.A', 'Hydrophobic'),\n",
       "            ('UNL1', 'TYR244.A',  'VdWContact'),\n",
       "            ('UNL1', 'TYR245.A', 'Hydrophobic'),\n",
       "            ('UNL1', 'TYR273.A', 'Hydrophobic'),\n",
       "            ('UNL1', 'TYR273.A',  'PiStacking'),\n",
       "            ('UNL1', 'TYR273.A',  'VdWContact'),\n",
       "            ('UNL1', 'SER276.A',  'VdWContact')],\n",
       "           names=['ligand', 'protein', 'interaction'])"
      ]
     },
     "execution_count": 24,
     "metadata": {},
     "output_type": "execute_result"
    }
   ],
   "source": [
    "dfs = []\n",
    "index = pd.MultiIndex.from_tuples(df.keys(), names=['ligand', 'protein', 'interaction']) #creates a MultiIndex from the keys of the dataframe df\n",
    "index"
   ]
  },
  {
   "cell_type": "code",
   "execution_count": 25,
   "metadata": {},
   "outputs": [
    {
     "data": {
      "text/html": [
       "<div>\n",
       "<style scoped>\n",
       "    .dataframe tbody tr th:only-of-type {\n",
       "        vertical-align: middle;\n",
       "    }\n",
       "\n",
       "    .dataframe tbody tr th {\n",
       "        vertical-align: top;\n",
       "    }\n",
       "\n",
       "    .dataframe thead tr th {\n",
       "        text-align: left;\n",
       "    }\n",
       "\n",
       "    .dataframe thead tr:last-of-type th {\n",
       "        text-align: right;\n",
       "    }\n",
       "</style>\n",
       "<table border=\"1\" class=\"dataframe\">\n",
       "  <thead>\n",
       "    <tr>\n",
       "      <th>ligand</th>\n",
       "      <th colspan=\"21\" halign=\"left\">UNL1</th>\n",
       "    </tr>\n",
       "    <tr>\n",
       "      <th>protein</th>\n",
       "      <th>VAL60.A</th>\n",
       "      <th>ASP61.A</th>\n",
       "      <th colspan=\"2\" halign=\"left\">PHE64.A</th>\n",
       "      <th>MET71.A</th>\n",
       "      <th>GLN74.A</th>\n",
       "      <th>LEU75.A</th>\n",
       "      <th>THR92.A</th>\n",
       "      <th colspan=\"2\" halign=\"left\">ASP95.A</th>\n",
       "      <th>...</th>\n",
       "      <th colspan=\"3\" halign=\"left\">TRP241.A</th>\n",
       "      <th colspan=\"2\" halign=\"left\">TYR244.A</th>\n",
       "      <th>TYR245.A</th>\n",
       "      <th colspan=\"3\" halign=\"left\">TYR273.A</th>\n",
       "      <th>SER276.A</th>\n",
       "    </tr>\n",
       "    <tr>\n",
       "      <th>interaction</th>\n",
       "      <th>Hydrophobic</th>\n",
       "      <th>VdWContact</th>\n",
       "      <th>Hydrophobic</th>\n",
       "      <th>VdWContact</th>\n",
       "      <th>Hydrophobic</th>\n",
       "      <th>Hydrophobic</th>\n",
       "      <th>Hydrophobic</th>\n",
       "      <th>Hydrophobic</th>\n",
       "      <th>Hydrophobic</th>\n",
       "      <th>HBDonor</th>\n",
       "      <th>...</th>\n",
       "      <th>HBAcceptor</th>\n",
       "      <th>PiStacking</th>\n",
       "      <th>VdWContact</th>\n",
       "      <th>Hydrophobic</th>\n",
       "      <th>VdWContact</th>\n",
       "      <th>Hydrophobic</th>\n",
       "      <th>Hydrophobic</th>\n",
       "      <th>PiStacking</th>\n",
       "      <th>VdWContact</th>\n",
       "      <th>VdWContact</th>\n",
       "    </tr>\n",
       "    <tr>\n",
       "      <th>Frame</th>\n",
       "      <th></th>\n",
       "      <th></th>\n",
       "      <th></th>\n",
       "      <th></th>\n",
       "      <th></th>\n",
       "      <th></th>\n",
       "      <th></th>\n",
       "      <th></th>\n",
       "      <th></th>\n",
       "      <th></th>\n",
       "      <th></th>\n",
       "      <th></th>\n",
       "      <th></th>\n",
       "      <th></th>\n",
       "      <th></th>\n",
       "      <th></th>\n",
       "      <th></th>\n",
       "      <th></th>\n",
       "      <th></th>\n",
       "      <th></th>\n",
       "      <th></th>\n",
       "    </tr>\n",
       "  </thead>\n",
       "  <tbody>\n",
       "    <tr>\n",
       "      <th>0</th>\n",
       "      <td>True</td>\n",
       "      <td>True</td>\n",
       "      <td>True</td>\n",
       "      <td>True</td>\n",
       "      <td>True</td>\n",
       "      <td>True</td>\n",
       "      <td>True</td>\n",
       "      <td>True</td>\n",
       "      <td>True</td>\n",
       "      <td>True</td>\n",
       "      <td>...</td>\n",
       "      <td>True</td>\n",
       "      <td>True</td>\n",
       "      <td>True</td>\n",
       "      <td>True</td>\n",
       "      <td>True</td>\n",
       "      <td>True</td>\n",
       "      <td>True</td>\n",
       "      <td>True</td>\n",
       "      <td>True</td>\n",
       "      <td>True</td>\n",
       "    </tr>\n",
       "  </tbody>\n",
       "</table>\n",
       "<p>1 rows × 30 columns</p>\n",
       "</div>"
      ],
      "text/plain": [
       "ligand             UNL1                                                \\\n",
       "protein         VAL60.A    ASP61.A     PHE64.A                MET71.A   \n",
       "interaction Hydrophobic VdWContact Hydrophobic VdWContact Hydrophobic   \n",
       "Frame                                                                   \n",
       "0                  True       True        True       True        True   \n",
       "\n",
       "ligand                                                               ...  \\\n",
       "protein         GLN74.A     LEU75.A     THR92.A     ASP95.A          ...   \n",
       "interaction Hydrophobic Hydrophobic Hydrophobic Hydrophobic HBDonor  ...   \n",
       "Frame                                                                ...   \n",
       "0                  True        True        True        True    True  ...   \n",
       "\n",
       "ligand                                                               \\\n",
       "protein       TRP241.A                          TYR244.A              \n",
       "interaction HBAcceptor PiStacking VdWContact Hydrophobic VdWContact   \n",
       "Frame                                                                 \n",
       "0                 True       True       True        True       True   \n",
       "\n",
       "ligand                                                                \n",
       "protein        TYR245.A    TYR273.A                         SER276.A  \n",
       "interaction Hydrophobic Hydrophobic PiStacking VdWContact VdWContact  \n",
       "Frame                                                                 \n",
       "0                  True        True       True       True       True  \n",
       "\n",
       "[1 rows x 30 columns]"
      ]
     },
     "execution_count": 25,
     "metadata": {},
     "output_type": "execute_result"
    }
   ],
   "source": [
    "df2 = pd.DataFrame(df, columns=index) # new dataframe using  original dataframe df but columns indexed by the ligand, protein, and interaction levels.\n",
    "df2"
   ]
  },
  {
   "cell_type": "code",
   "execution_count": 59,
   "metadata": {},
   "outputs": [
    {
     "data": {
      "text/plain": [
       "['VAL60.A',\n",
       " 'ASP61.A',\n",
       " 'PHE64.A',\n",
       " 'PHE64.A',\n",
       " 'MET71.A',\n",
       " 'GLN74.A',\n",
       " 'LEU75.A',\n",
       " 'THR92.A',\n",
       " 'ASP95.A',\n",
       " 'ASP95.A',\n",
       " 'ASP95.A',\n",
       " 'ASP95.A',\n",
       " 'SER98.A',\n",
       " 'SER98.A',\n",
       " 'GLN99.A',\n",
       " 'GLN99.A',\n",
       " 'SER102.A',\n",
       " 'PHE237.A',\n",
       " 'PHE237.A',\n",
       " 'TRP241.A',\n",
       " 'TRP241.A',\n",
       " 'TRP241.A',\n",
       " 'TRP241.A',\n",
       " 'TYR244.A',\n",
       " 'TYR244.A',\n",
       " 'TYR245.A',\n",
       " 'TYR273.A',\n",
       " 'TYR273.A',\n",
       " 'TYR273.A',\n",
       " 'SER276.A']"
      ]
     },
     "execution_count": 59,
     "metadata": {},
     "output_type": "execute_result"
    }
   ],
   "source": [
    "aas = [col[1] for col in df2.columns] #extracts the second element (protein) from each column's tuple.\n",
    "aas"
   ]
  },
  {
   "cell_type": "code",
   "execution_count": 60,
   "metadata": {},
   "outputs": [],
   "source": [
    "residues_list = aas\n"
   ]
  },
  {
   "cell_type": "code",
   "execution_count": 61,
   "metadata": {},
   "outputs": [],
   "source": [
    "fp1 = []"
   ]
  },
  {
   "cell_type": "code",
   "execution_count": 54,
   "metadata": {},
   "outputs": [
    {
     "data": {
      "text/plain": [
       "{'VdWContact': ({'indices': {'ligand': (31,), 'protein': (5,)},\n",
       "   'parent_indices': {'ligand': (31,), 'protein': (2087,)},\n",
       "   'distance': 2.7215632098004234},)}"
      ]
     },
     "execution_count": 54,
     "metadata": {},
     "output_type": "execute_result"
    }
   ],
   "source": [
    "for residue in residues_list:\n",
    "        fp1 = fp.ifp[0][('UNL1', residue)]  # In individual IFP (interaction fingerprint), name of ligand and frame are fixed\n",
    "        # df = get_df_from_fp(fp1, residue)\n",
    "        # dfs.append(df)\n",
    "\n",
    "fp1  "
   ]
  },
  {
   "cell_type": "code",
   "execution_count": 38,
   "metadata": {},
   "outputs": [],
   "source": [
    "residue = 'VAL60.A'"
   ]
  },
  {
   "cell_type": "code",
   "execution_count": 48,
   "metadata": {},
   "outputs": [],
   "source": [
    "fptest = fp.ifp[0][('UNL1', residue)] "
   ]
  },
  {
   "cell_type": "code",
   "execution_count": 49,
   "metadata": {},
   "outputs": [
    {
     "data": {
      "text/plain": [
       "{'VdWContact': ({'indices': {'ligand': (31,), 'protein': (5,)},\n",
       "   'parent_indices': {'ligand': (31,), 'protein': (2087,)},\n",
       "   'distance': 2.7215632098004234},)}"
      ]
     },
     "execution_count": 49,
     "metadata": {},
     "output_type": "execute_result"
    }
   ],
   "source": [
    "fptest"
   ]
  },
  {
   "cell_type": "code",
   "execution_count": 33,
   "metadata": {},
   "outputs": [
    {
     "data": {
      "text/plain": [
       "dict_items([('Hydrophobic', ({'indices': {'ligand': (30,), 'protein': (6,)}, 'parent_indices': {'ligand': (30,), 'protein': (337,)}, 'distance': 4.4758210686249935},))])"
      ]
     },
     "execution_count": 33,
     "metadata": {},
     "output_type": "execute_result"
    }
   ],
   "source": [
    "fptest.items()"
   ]
  },
  {
   "cell_type": "code",
   "execution_count": 55,
   "metadata": {},
   "outputs": [
    {
     "data": {
      "text/plain": [
       "[{'interaction': 'VdWContact', 'VdWContact.distance': 2.7215632098004234}]"
      ]
     },
     "execution_count": 55,
     "metadata": {},
     "output_type": "execute_result"
    }
   ],
   "source": [
    "rows = []\n",
    "for interaction, details in fptest.items(): \n",
    "    for detail in details:\n",
    "        row = {'interaction': interaction}\n",
    "        for key, value in detail.items():\n",
    "            if key not in ['indices', 'parent_indices']:  # Be careful, we are missing info about interacting indices\n",
    "                row[f'{interaction}.{key}'] = value\n",
    "        rows.append(row)\n",
    "\n",
    "rows"
   ]
  },
  {
   "cell_type": "code",
   "execution_count": 56,
   "metadata": {},
   "outputs": [
    {
     "data": {
      "text/html": [
       "<div>\n",
       "<style scoped>\n",
       "    .dataframe tbody tr th:only-of-type {\n",
       "        vertical-align: middle;\n",
       "    }\n",
       "\n",
       "    .dataframe tbody tr th {\n",
       "        vertical-align: top;\n",
       "    }\n",
       "\n",
       "    .dataframe thead th {\n",
       "        text-align: right;\n",
       "    }\n",
       "</style>\n",
       "<table border=\"1\" class=\"dataframe\">\n",
       "  <thead>\n",
       "    <tr style=\"text-align: right;\">\n",
       "      <th></th>\n",
       "      <th>Residue</th>\n",
       "      <th>VdWContact.distance</th>\n",
       "    </tr>\n",
       "  </thead>\n",
       "  <tbody>\n",
       "    <tr>\n",
       "      <th>0</th>\n",
       "      <td>SER276.A</td>\n",
       "      <td>2.721563</td>\n",
       "    </tr>\n",
       "  </tbody>\n",
       "</table>\n",
       "</div>"
      ],
      "text/plain": [
       "    Residue  VdWContact.distance\n",
       "0  SER276.A             2.721563"
      ]
     },
     "execution_count": 56,
     "metadata": {},
     "output_type": "execute_result"
    }
   ],
   "source": [
    "dftest = pd.DataFrame(rows)\n",
    "dftest.insert(0, 'Residue', residue)\n",
    "dftest = dftest.drop(columns=['interaction'])\n",
    "dftest"
   ]
  },
  {
   "cell_type": "code",
   "execution_count": 57,
   "metadata": {},
   "outputs": [
    {
     "data": {
      "text/plain": [
       "'SER276.A'"
      ]
     },
     "execution_count": 57,
     "metadata": {},
     "output_type": "execute_result"
    }
   ],
   "source": [
    "residue"
   ]
  },
  {
   "cell_type": "code",
   "execution_count": 62,
   "metadata": {},
   "outputs": [
    {
     "data": {
      "text/plain": [
       "[   Residue  Hydrophobic.distance\n",
       " 0  VAL60.A              4.475821,\n",
       "    Residue  VdWContact.distance\n",
       " 0  ASP61.A             3.103711,\n",
       "    Residue  Hydrophobic.distance  VdWContact.distance\n",
       " 0  PHE64.A               4.00642                  NaN\n",
       " 1  PHE64.A                   NaN             3.348581,\n",
       "    Residue  Hydrophobic.distance  VdWContact.distance\n",
       " 0  PHE64.A               4.00642                  NaN\n",
       " 1  PHE64.A                   NaN             3.348581,\n",
       "    Residue  Hydrophobic.distance\n",
       " 0  MET71.A               4.23332,\n",
       "    Residue  Hydrophobic.distance\n",
       " 0  GLN74.A              4.269494,\n",
       "    Residue  Hydrophobic.distance\n",
       " 0  LEU75.A              4.473456,\n",
       "    Residue  Hydrophobic.distance\n",
       " 0  THR92.A              4.377967,\n",
       "    Residue  Hydrophobic.distance  HBDonor.distance  HBDonor.DHA_angle  \\\n",
       " 0  ASP95.A              4.498769               NaN                NaN   \n",
       " 1  ASP95.A                   NaN          2.687845         165.849765   \n",
       " 2  ASP95.A                   NaN               NaN                NaN   \n",
       " 3  ASP95.A                   NaN               NaN                NaN   \n",
       " \n",
       "    Cationic.distance  VdWContact.distance  \n",
       " 0                NaN                  NaN  \n",
       " 1                NaN                  NaN  \n",
       " 2           2.687845                  NaN  \n",
       " 3                NaN             3.069498  ,\n",
       "    Residue  Hydrophobic.distance  HBDonor.distance  HBDonor.DHA_angle  \\\n",
       " 0  ASP95.A              4.498769               NaN                NaN   \n",
       " 1  ASP95.A                   NaN          2.687845         165.849765   \n",
       " 2  ASP95.A                   NaN               NaN                NaN   \n",
       " 3  ASP95.A                   NaN               NaN                NaN   \n",
       " \n",
       "    Cationic.distance  VdWContact.distance  \n",
       " 0                NaN                  NaN  \n",
       " 1                NaN                  NaN  \n",
       " 2           2.687845                  NaN  \n",
       " 3                NaN             3.069498  ,\n",
       "    Residue  Hydrophobic.distance  HBDonor.distance  HBDonor.DHA_angle  \\\n",
       " 0  ASP95.A              4.498769               NaN                NaN   \n",
       " 1  ASP95.A                   NaN          2.687845         165.849765   \n",
       " 2  ASP95.A                   NaN               NaN                NaN   \n",
       " 3  ASP95.A                   NaN               NaN                NaN   \n",
       " \n",
       "    Cationic.distance  VdWContact.distance  \n",
       " 0                NaN                  NaN  \n",
       " 1                NaN                  NaN  \n",
       " 2           2.687845                  NaN  \n",
       " 3                NaN             3.069498  ,\n",
       "    Residue  Hydrophobic.distance  HBDonor.distance  HBDonor.DHA_angle  \\\n",
       " 0  ASP95.A              4.498769               NaN                NaN   \n",
       " 1  ASP95.A                   NaN          2.687845         165.849765   \n",
       " 2  ASP95.A                   NaN               NaN                NaN   \n",
       " 3  ASP95.A                   NaN               NaN                NaN   \n",
       " \n",
       "    Cationic.distance  VdWContact.distance  \n",
       " 0                NaN                  NaN  \n",
       " 1                NaN                  NaN  \n",
       " 2           2.687845                  NaN  \n",
       " 3                NaN             3.069498  ,\n",
       "    Residue  HBDonor.distance  HBDonor.DHA_angle  VdWContact.distance\n",
       " 0  SER98.A          3.173125          162.46601                  NaN\n",
       " 1  SER98.A               NaN                NaN             2.198103,\n",
       "    Residue  HBDonor.distance  HBDonor.DHA_angle  VdWContact.distance\n",
       " 0  SER98.A          3.173125          162.46601                  NaN\n",
       " 1  SER98.A               NaN                NaN             2.198103,\n",
       "    Residue  Hydrophobic.distance  VdWContact.distance\n",
       " 0  GLN99.A              4.190118                  NaN\n",
       " 1  GLN99.A                   NaN             2.736952,\n",
       "    Residue  Hydrophobic.distance  VdWContact.distance\n",
       " 0  GLN99.A              4.190118                  NaN\n",
       " 1  GLN99.A                   NaN             2.736952,\n",
       "     Residue  VdWContact.distance\n",
       " 0  SER102.A             2.153014,\n",
       "     Residue  Hydrophobic.distance  VdWContact.distance\n",
       " 0  PHE237.A              4.258988                  NaN\n",
       " 1  PHE237.A                   NaN             2.532867,\n",
       "     Residue  Hydrophobic.distance  VdWContact.distance\n",
       " 0  PHE237.A              4.258988                  NaN\n",
       " 1  PHE237.A                   NaN             2.532867,\n",
       "     Residue  Hydrophobic.distance  HBAcceptor.distance  HBAcceptor.DHA_angle  \\\n",
       " 0  TRP241.A              4.015923                  NaN                   NaN   \n",
       " 1  TRP241.A                   NaN             2.976997            139.267214   \n",
       " 2  TRP241.A                   NaN                  NaN                   NaN   \n",
       " 3  TRP241.A                   NaN                  NaN                   NaN   \n",
       " \n",
       "    PiStacking.distance  PiStacking.plane_angle  \\\n",
       " 0                  NaN                     NaN   \n",
       " 1                  NaN                     NaN   \n",
       " 2             3.406147                4.469366   \n",
       " 3                  NaN                     NaN   \n",
       " \n",
       "    PiStacking.normal_to_centroid_angle  VdWContact.distance  \n",
       " 0                                  NaN                  NaN  \n",
       " 1                                  NaN                  NaN  \n",
       " 2                            25.646414                  NaN  \n",
       " 3                                  NaN             3.272332  ,\n",
       "     Residue  Hydrophobic.distance  HBAcceptor.distance  HBAcceptor.DHA_angle  \\\n",
       " 0  TRP241.A              4.015923                  NaN                   NaN   \n",
       " 1  TRP241.A                   NaN             2.976997            139.267214   \n",
       " 2  TRP241.A                   NaN                  NaN                   NaN   \n",
       " 3  TRP241.A                   NaN                  NaN                   NaN   \n",
       " \n",
       "    PiStacking.distance  PiStacking.plane_angle  \\\n",
       " 0                  NaN                     NaN   \n",
       " 1                  NaN                     NaN   \n",
       " 2             3.406147                4.469366   \n",
       " 3                  NaN                     NaN   \n",
       " \n",
       "    PiStacking.normal_to_centroid_angle  VdWContact.distance  \n",
       " 0                                  NaN                  NaN  \n",
       " 1                                  NaN                  NaN  \n",
       " 2                            25.646414                  NaN  \n",
       " 3                                  NaN             3.272332  ,\n",
       "     Residue  Hydrophobic.distance  HBAcceptor.distance  HBAcceptor.DHA_angle  \\\n",
       " 0  TRP241.A              4.015923                  NaN                   NaN   \n",
       " 1  TRP241.A                   NaN             2.976997            139.267214   \n",
       " 2  TRP241.A                   NaN                  NaN                   NaN   \n",
       " 3  TRP241.A                   NaN                  NaN                   NaN   \n",
       " \n",
       "    PiStacking.distance  PiStacking.plane_angle  \\\n",
       " 0                  NaN                     NaN   \n",
       " 1                  NaN                     NaN   \n",
       " 2             3.406147                4.469366   \n",
       " 3                  NaN                     NaN   \n",
       " \n",
       "    PiStacking.normal_to_centroid_angle  VdWContact.distance  \n",
       " 0                                  NaN                  NaN  \n",
       " 1                                  NaN                  NaN  \n",
       " 2                            25.646414                  NaN  \n",
       " 3                                  NaN             3.272332  ,\n",
       "     Residue  Hydrophobic.distance  HBAcceptor.distance  HBAcceptor.DHA_angle  \\\n",
       " 0  TRP241.A              4.015923                  NaN                   NaN   \n",
       " 1  TRP241.A                   NaN             2.976997            139.267214   \n",
       " 2  TRP241.A                   NaN                  NaN                   NaN   \n",
       " 3  TRP241.A                   NaN                  NaN                   NaN   \n",
       " \n",
       "    PiStacking.distance  PiStacking.plane_angle  \\\n",
       " 0                  NaN                     NaN   \n",
       " 1                  NaN                     NaN   \n",
       " 2             3.406147                4.469366   \n",
       " 3                  NaN                     NaN   \n",
       " \n",
       "    PiStacking.normal_to_centroid_angle  VdWContact.distance  \n",
       " 0                                  NaN                  NaN  \n",
       " 1                                  NaN                  NaN  \n",
       " 2                            25.646414                  NaN  \n",
       " 3                                  NaN             3.272332  ,\n",
       "     Residue  Hydrophobic.distance  VdWContact.distance\n",
       " 0  TYR244.A              4.112232                  NaN\n",
       " 1  TYR244.A                   NaN             3.028182,\n",
       "     Residue  Hydrophobic.distance  VdWContact.distance\n",
       " 0  TYR244.A              4.112232                  NaN\n",
       " 1  TYR244.A                   NaN             3.028182,\n",
       "     Residue  Hydrophobic.distance\n",
       " 0  TYR245.A              3.870004,\n",
       "     Residue  Hydrophobic.distance  PiStacking.distance  \\\n",
       " 0  TYR273.A               3.69081                  NaN   \n",
       " 1  TYR273.A                   NaN             6.063417   \n",
       " 2  TYR273.A                   NaN                  NaN   \n",
       " \n",
       "    PiStacking.plane_angle  PiStacking.normal_to_centroid_angle  \\\n",
       " 0                     NaN                                  NaN   \n",
       " 1               79.011757                              5.49861   \n",
       " 2                     NaN                                  NaN   \n",
       " \n",
       "    PiStacking.intersect_distance  VdWContact.distance  \n",
       " 0                            NaN                  NaN  \n",
       " 1                       0.741864                  NaN  \n",
       " 2                            NaN             2.708488  ,\n",
       "     Residue  Hydrophobic.distance  PiStacking.distance  \\\n",
       " 0  TYR273.A               3.69081                  NaN   \n",
       " 1  TYR273.A                   NaN             6.063417   \n",
       " 2  TYR273.A                   NaN                  NaN   \n",
       " \n",
       "    PiStacking.plane_angle  PiStacking.normal_to_centroid_angle  \\\n",
       " 0                     NaN                                  NaN   \n",
       " 1               79.011757                              5.49861   \n",
       " 2                     NaN                                  NaN   \n",
       " \n",
       "    PiStacking.intersect_distance  VdWContact.distance  \n",
       " 0                            NaN                  NaN  \n",
       " 1                       0.741864                  NaN  \n",
       " 2                            NaN             2.708488  ,\n",
       "     Residue  Hydrophobic.distance  PiStacking.distance  \\\n",
       " 0  TYR273.A               3.69081                  NaN   \n",
       " 1  TYR273.A                   NaN             6.063417   \n",
       " 2  TYR273.A                   NaN                  NaN   \n",
       " \n",
       "    PiStacking.plane_angle  PiStacking.normal_to_centroid_angle  \\\n",
       " 0                     NaN                                  NaN   \n",
       " 1               79.011757                              5.49861   \n",
       " 2                     NaN                                  NaN   \n",
       " \n",
       "    PiStacking.intersect_distance  VdWContact.distance  \n",
       " 0                            NaN                  NaN  \n",
       " 1                       0.741864                  NaN  \n",
       " 2                            NaN             2.708488  ,\n",
       "     Residue  VdWContact.distance\n",
       " 0  SER276.A             2.721563]"
      ]
     },
     "execution_count": 62,
     "metadata": {},
     "output_type": "execute_result"
    }
   ],
   "source": [
    "dfs = []\n",
    "for residue in residues_list:\n",
    "        fp1 = fp.ifp[0][('UNL1', residue)]  # In individual IFP (interaction fingerprint), name of ligand and frame are fixed\n",
    "        rows = []\n",
    "        for interaction, details in fp1.items(): \n",
    "                for detail in details:\n",
    "                        row = {'interaction': interaction}\n",
    "                        for key, value in detail.items():\n",
    "                                if key not in ['indices', 'parent_indices']:  # Be careful, we are missing info about interacting indices\n",
    "                                        row[f'{interaction}.{key}'] = value\n",
    "                        rows.append(row)\n",
    "        df1 = pd.DataFrame(rows)\n",
    "        df1.insert(0, 'Residue', residue)\n",
    "        df1 = df1.drop(columns=['interaction'])\n",
    "        dfs.append(df1)\n",
    "\n",
    "dfs"
   ]
  },
  {
   "cell_type": "code",
   "execution_count": 63,
   "metadata": {},
   "outputs": [
    {
     "data": {
      "text/html": [
       "<div>\n",
       "<style scoped>\n",
       "    .dataframe tbody tr th:only-of-type {\n",
       "        vertical-align: middle;\n",
       "    }\n",
       "\n",
       "    .dataframe tbody tr th {\n",
       "        vertical-align: top;\n",
       "    }\n",
       "\n",
       "    .dataframe thead th {\n",
       "        text-align: right;\n",
       "    }\n",
       "</style>\n",
       "<table border=\"1\" class=\"dataframe\">\n",
       "  <thead>\n",
       "    <tr style=\"text-align: right;\">\n",
       "      <th></th>\n",
       "      <th>Residue</th>\n",
       "      <th>Hydrophobic.distance</th>\n",
       "      <th>VdWContact.distance</th>\n",
       "      <th>HBDonor.distance</th>\n",
       "      <th>HBDonor.DHA_angle</th>\n",
       "      <th>Cationic.distance</th>\n",
       "      <th>HBAcceptor.distance</th>\n",
       "      <th>HBAcceptor.DHA_angle</th>\n",
       "      <th>PiStacking.distance</th>\n",
       "      <th>PiStacking.plane_angle</th>\n",
       "      <th>PiStacking.normal_to_centroid_angle</th>\n",
       "      <th>PiStacking.intersect_distance</th>\n",
       "    </tr>\n",
       "  </thead>\n",
       "  <tbody>\n",
       "    <tr>\n",
       "      <th>0</th>\n",
       "      <td>VAL60.A</td>\n",
       "      <td>4.475821</td>\n",
       "      <td>NaN</td>\n",
       "      <td>NaN</td>\n",
       "      <td>NaN</td>\n",
       "      <td>NaN</td>\n",
       "      <td>NaN</td>\n",
       "      <td>NaN</td>\n",
       "      <td>NaN</td>\n",
       "      <td>NaN</td>\n",
       "      <td>NaN</td>\n",
       "      <td>NaN</td>\n",
       "    </tr>\n",
       "    <tr>\n",
       "      <th>1</th>\n",
       "      <td>ASP61.A</td>\n",
       "      <td>NaN</td>\n",
       "      <td>3.103711</td>\n",
       "      <td>NaN</td>\n",
       "      <td>NaN</td>\n",
       "      <td>NaN</td>\n",
       "      <td>NaN</td>\n",
       "      <td>NaN</td>\n",
       "      <td>NaN</td>\n",
       "      <td>NaN</td>\n",
       "      <td>NaN</td>\n",
       "      <td>NaN</td>\n",
       "    </tr>\n",
       "    <tr>\n",
       "      <th>2</th>\n",
       "      <td>PHE64.A</td>\n",
       "      <td>4.006420</td>\n",
       "      <td>NaN</td>\n",
       "      <td>NaN</td>\n",
       "      <td>NaN</td>\n",
       "      <td>NaN</td>\n",
       "      <td>NaN</td>\n",
       "      <td>NaN</td>\n",
       "      <td>NaN</td>\n",
       "      <td>NaN</td>\n",
       "      <td>NaN</td>\n",
       "      <td>NaN</td>\n",
       "    </tr>\n",
       "    <tr>\n",
       "      <th>3</th>\n",
       "      <td>PHE64.A</td>\n",
       "      <td>NaN</td>\n",
       "      <td>3.348581</td>\n",
       "      <td>NaN</td>\n",
       "      <td>NaN</td>\n",
       "      <td>NaN</td>\n",
       "      <td>NaN</td>\n",
       "      <td>NaN</td>\n",
       "      <td>NaN</td>\n",
       "      <td>NaN</td>\n",
       "      <td>NaN</td>\n",
       "      <td>NaN</td>\n",
       "    </tr>\n",
       "    <tr>\n",
       "      <th>4</th>\n",
       "      <td>PHE64.A</td>\n",
       "      <td>4.006420</td>\n",
       "      <td>NaN</td>\n",
       "      <td>NaN</td>\n",
       "      <td>NaN</td>\n",
       "      <td>NaN</td>\n",
       "      <td>NaN</td>\n",
       "      <td>NaN</td>\n",
       "      <td>NaN</td>\n",
       "      <td>NaN</td>\n",
       "      <td>NaN</td>\n",
       "      <td>NaN</td>\n",
       "    </tr>\n",
       "    <tr>\n",
       "      <th>...</th>\n",
       "      <td>...</td>\n",
       "      <td>...</td>\n",
       "      <td>...</td>\n",
       "      <td>...</td>\n",
       "      <td>...</td>\n",
       "      <td>...</td>\n",
       "      <td>...</td>\n",
       "      <td>...</td>\n",
       "      <td>...</td>\n",
       "      <td>...</td>\n",
       "      <td>...</td>\n",
       "      <td>...</td>\n",
       "    </tr>\n",
       "    <tr>\n",
       "      <th>65</th>\n",
       "      <td>TYR273.A</td>\n",
       "      <td>NaN</td>\n",
       "      <td>2.708488</td>\n",
       "      <td>NaN</td>\n",
       "      <td>NaN</td>\n",
       "      <td>NaN</td>\n",
       "      <td>NaN</td>\n",
       "      <td>NaN</td>\n",
       "      <td>NaN</td>\n",
       "      <td>NaN</td>\n",
       "      <td>NaN</td>\n",
       "      <td>NaN</td>\n",
       "    </tr>\n",
       "    <tr>\n",
       "      <th>66</th>\n",
       "      <td>TYR273.A</td>\n",
       "      <td>3.690810</td>\n",
       "      <td>NaN</td>\n",
       "      <td>NaN</td>\n",
       "      <td>NaN</td>\n",
       "      <td>NaN</td>\n",
       "      <td>NaN</td>\n",
       "      <td>NaN</td>\n",
       "      <td>NaN</td>\n",
       "      <td>NaN</td>\n",
       "      <td>NaN</td>\n",
       "      <td>NaN</td>\n",
       "    </tr>\n",
       "    <tr>\n",
       "      <th>67</th>\n",
       "      <td>TYR273.A</td>\n",
       "      <td>NaN</td>\n",
       "      <td>NaN</td>\n",
       "      <td>NaN</td>\n",
       "      <td>NaN</td>\n",
       "      <td>NaN</td>\n",
       "      <td>NaN</td>\n",
       "      <td>NaN</td>\n",
       "      <td>6.063417</td>\n",
       "      <td>79.011757</td>\n",
       "      <td>5.49861</td>\n",
       "      <td>0.741864</td>\n",
       "    </tr>\n",
       "    <tr>\n",
       "      <th>68</th>\n",
       "      <td>TYR273.A</td>\n",
       "      <td>NaN</td>\n",
       "      <td>2.708488</td>\n",
       "      <td>NaN</td>\n",
       "      <td>NaN</td>\n",
       "      <td>NaN</td>\n",
       "      <td>NaN</td>\n",
       "      <td>NaN</td>\n",
       "      <td>NaN</td>\n",
       "      <td>NaN</td>\n",
       "      <td>NaN</td>\n",
       "      <td>NaN</td>\n",
       "    </tr>\n",
       "    <tr>\n",
       "      <th>69</th>\n",
       "      <td>SER276.A</td>\n",
       "      <td>NaN</td>\n",
       "      <td>2.721563</td>\n",
       "      <td>NaN</td>\n",
       "      <td>NaN</td>\n",
       "      <td>NaN</td>\n",
       "      <td>NaN</td>\n",
       "      <td>NaN</td>\n",
       "      <td>NaN</td>\n",
       "      <td>NaN</td>\n",
       "      <td>NaN</td>\n",
       "      <td>NaN</td>\n",
       "    </tr>\n",
       "  </tbody>\n",
       "</table>\n",
       "<p>70 rows × 12 columns</p>\n",
       "</div>"
      ],
      "text/plain": [
       "     Residue  Hydrophobic.distance  VdWContact.distance  HBDonor.distance  \\\n",
       "0    VAL60.A              4.475821                  NaN               NaN   \n",
       "1    ASP61.A                   NaN             3.103711               NaN   \n",
       "2    PHE64.A              4.006420                  NaN               NaN   \n",
       "3    PHE64.A                   NaN             3.348581               NaN   \n",
       "4    PHE64.A              4.006420                  NaN               NaN   \n",
       "..       ...                   ...                  ...               ...   \n",
       "65  TYR273.A                   NaN             2.708488               NaN   \n",
       "66  TYR273.A              3.690810                  NaN               NaN   \n",
       "67  TYR273.A                   NaN                  NaN               NaN   \n",
       "68  TYR273.A                   NaN             2.708488               NaN   \n",
       "69  SER276.A                   NaN             2.721563               NaN   \n",
       "\n",
       "    HBDonor.DHA_angle  Cationic.distance  HBAcceptor.distance  \\\n",
       "0                 NaN                NaN                  NaN   \n",
       "1                 NaN                NaN                  NaN   \n",
       "2                 NaN                NaN                  NaN   \n",
       "3                 NaN                NaN                  NaN   \n",
       "4                 NaN                NaN                  NaN   \n",
       "..                ...                ...                  ...   \n",
       "65                NaN                NaN                  NaN   \n",
       "66                NaN                NaN                  NaN   \n",
       "67                NaN                NaN                  NaN   \n",
       "68                NaN                NaN                  NaN   \n",
       "69                NaN                NaN                  NaN   \n",
       "\n",
       "    HBAcceptor.DHA_angle  PiStacking.distance  PiStacking.plane_angle  \\\n",
       "0                    NaN                  NaN                     NaN   \n",
       "1                    NaN                  NaN                     NaN   \n",
       "2                    NaN                  NaN                     NaN   \n",
       "3                    NaN                  NaN                     NaN   \n",
       "4                    NaN                  NaN                     NaN   \n",
       "..                   ...                  ...                     ...   \n",
       "65                   NaN                  NaN                     NaN   \n",
       "66                   NaN                  NaN                     NaN   \n",
       "67                   NaN             6.063417               79.011757   \n",
       "68                   NaN                  NaN                     NaN   \n",
       "69                   NaN                  NaN                     NaN   \n",
       "\n",
       "    PiStacking.normal_to_centroid_angle  PiStacking.intersect_distance  \n",
       "0                                   NaN                            NaN  \n",
       "1                                   NaN                            NaN  \n",
       "2                                   NaN                            NaN  \n",
       "3                                   NaN                            NaN  \n",
       "4                                   NaN                            NaN  \n",
       "..                                  ...                            ...  \n",
       "65                                  NaN                            NaN  \n",
       "66                                  NaN                            NaN  \n",
       "67                              5.49861                       0.741864  \n",
       "68                                  NaN                            NaN  \n",
       "69                                  NaN                            NaN  \n",
       "\n",
       "[70 rows x 12 columns]"
      ]
     },
     "execution_count": 63,
     "metadata": {},
     "output_type": "execute_result"
    }
   ],
   "source": [
    "final_df = pd.concat(dfs, ignore_index=True)\n",
    "final_df"
   ]
  },
  {
   "cell_type": "code",
   "execution_count": null,
   "metadata": {},
   "outputs": [],
   "source": [
    "rows = []\n",
    "for interaction, details in fp1.items(): \n",
    "    for detail in details:\n",
    "        row = {'interaction': interaction}\n",
    "        for key, value in detail.items():\n",
    "            if key not in ['indices', 'parent_indices']:  # Be careful, we are missing info about interacting indices\n",
    "                row[f'{interaction}.{key}'] = value\n",
    "        rows.append(row)\n",
    "df1 = pd.DataFrame(rows)\n",
    "df1.insert(0, 'Residue', residue)\n",
    "df1 = df1.drop(columns=['interaction'])\n",
    "return df1 \n"
   ]
  },
  {
   "cell_type": "code",
   "execution_count": null,
   "metadata": {},
   "outputs": [],
   "source": [
    "def get_df_from_fp(fp1: dict, residue: str) -> pd.DataFrame:\n",
    "    \"\"\"\n",
    "    Calculation of DataFrame from interaction fingerprint.\n",
    "\n",
    "    Parameters\n",
    "    ----------\n",
    "    fp1 : dict\n",
    "        Individual interaction fingerprint per one ligand with one specific residue.\n",
    "    residue : str\n",
    "        Residue name.\n",
    "\n",
    "    Returns\n",
    "    -------\n",
    "    pd.DataFrame\n",
    "        DataFrame with individual interaction fingerprint per one ligand with one specific residue and calculated parameters for bonds.\n",
    "    \"\"\"\n",
    "    rows = []\n",
    "    for interaction, details in fp1.items(): \n",
    "        for detail in details:\n",
    "            row = {'interaction': interaction}\n",
    "            for key, value in detail.items():\n",
    "                if key not in ['indices', 'parent_indices']:  # Be careful, we are missing info about interacting indices\n",
    "                    row[f'{interaction}.{key}'] = value\n",
    "            rows.append(row)\n",
    "    df1 = pd.DataFrame(rows)\n",
    "    df1.insert(0, 'Residue', residue)\n",
    "    df1 = df1.drop(columns=['interaction'])\n",
    "    return df1 \n"
   ]
  },
  {
   "cell_type": "code",
   "execution_count": null,
   "metadata": {},
   "outputs": [],
   "source": [
    "def calculate_ifp(protein_mol, lig_suppl, flag_save: bool = True) -> pd.DataFrame:\n",
    "    \"\"\"\n",
    "    Calculate interaction fingerprint with all bonds parameters (angle, length, DHAngel etc.)\n",
    "    for two prolif objects: selected protein and ligand.\n",
    "\n",
    "    Parameters\n",
    "    ----------\n",
    "   --protein_mol : plf.Molecule\n",
    "        Selected area of protein for IFP calculation as prolif Molecule object.\n",
    "        --lig_suppl : list[plf.Molecule]\n",
    "        Ligand object for IFP calculation as prolif Molecule object.\n",
    "\n",
    "    Returns\n",
    "    -------\n",
    "    Union[pd.DataFrame, None]\n",
    "        pd.DataFrame with individual interaction fingerprint per one ligand with one specific residue and calculated parameters for bonds.\n",
    "    \"\"\"\n",
    "    fp = plf.Fingerprint()\n",
    "    fp.run_from_iterable(lig_suppl, protein_mol)\n",
    "    df = fp.to_dataframe()\n",
    "    dfs = []\n",
    "    residues_list = get_aminoacids_df(df)\n",
    "    for residue in residues_list:\n",
    "        fp1 = fp.ifp[0][('UNL1', residue)]  # In individual IFP (interaction fingerprint), name of ligand and frame are fixed\n",
    "        df = get_df_from_fp(fp1, residue)\n",
    "        dfs.append(df)\n",
    "    final_df = pd.concat(dfs, ignore_index=True)\n",
    "    if flag_save:\n",
    "        final_df.to_csv('IFP_test.csv', index=False)\n",
    "    return final_df"
   ]
  }
 ],
 "metadata": {
  "kernelspec": {
   "display_name": ".venv",
   "language": "python",
   "name": "python3"
  },
  "language_info": {
   "codemirror_mode": {
    "name": "ipython",
    "version": 3
   },
   "file_extension": ".py",
   "mimetype": "text/x-python",
   "name": "python",
   "nbconvert_exporter": "python",
   "pygments_lexer": "ipython3",
   "version": "3.11.6"
  }
 },
 "nbformat": 4,
 "nbformat_minor": 2
}
